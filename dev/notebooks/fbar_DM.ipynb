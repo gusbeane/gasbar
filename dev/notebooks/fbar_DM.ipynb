{
 "cells": [
  {
   "cell_type": "code",
   "execution_count": 1,
   "id": "55f308c2-c6eb-43dd-8435-7cce2607affc",
   "metadata": {},
   "outputs": [],
   "source": [
    "import numpy as np\n",
    "import arepo\n",
    "import matplotlib.pyplot as plt\n",
    "from scipy.stats import binned_statistic\n",
    "from scipy.optimize import curve_fit"
   ]
  },
  {
   "cell_type": "code",
   "execution_count": 2,
   "id": "65281a37-11e6-48e7-8d0b-7309ed4fd41f",
   "metadata": {},
   "outputs": [],
   "source": [
    "sim_list = ['Nbody', 'phantom-vacuum-Sg20-Rc3.5']\n",
    "\n",
    "basepath = '/n/holystore01/LABS/hernquist_lab/Users/abeane/starbar_runs/runs/'\n",
    "\n",
    "def read_snap(idx, sim_idx, lvl='lvl3', parttype=[0], fields=['Coordinates', 'Masses', 'Velocities', 'ParticleIDs', 'Potential'],\n",
    "              basepath = basepath):\n",
    "    fname = basepath + sim_list[sim_idx] + '/' + lvl + '/output'\n",
    "    return arepo.Snapshot(fname, idx, parttype=parttype, fields=fields, combineFiles=True)\n",
    "\n",
    "def read_sfr(sim_idx, lvl='lvl3', basepath = basepath):\n",
    "    fname = basepath + sim_list[sim_idx] + '/' + lvl + '/output/sfr.txt'\n",
    "    return np.genfromtxt(fname)\n",
    "\n",
    "def read_fourier(sim_idx, lvl='lvl3', basepath='/n/home01/abeane/starbar/plots/'):\n",
    "    sim = sim_list[sim_idx]\n",
    "    f = h5.File(basepath+'/fourier_component/data/fourier_'+sim+'-'+lvl+'.hdf5', mode='r')\n",
    "    return f"
   ]
  },
  {
   "cell_type": "code",
   "execution_count": 16,
   "id": "e8f21761-9e43-4f68-a452-171fe909a20f",
   "metadata": {},
   "outputs": [],
   "source": [
    "sn = read_snap(300, 0, parttype=None, fields=None)"
   ]
  },
  {
   "cell_type": "code",
   "execution_count": 25,
   "id": "f9f5c3c7-9223-4b20-8fc5-84a9bc4f7576",
   "metadata": {},
   "outputs": [],
   "source": [
    "def get_Menc_ptype(sn, ptype, rcut=4):\n",
    "    if sn.NumPart_Total[ptype]==0:\n",
    "        return 0.0\n",
    "    \n",
    "    part = getattr(sn, 'part'+str(ptype))\n",
    "    \n",
    "    # center = np.array([sn.BoxSize, sn.BoxSize, sn.BoxSize])/2.\n",
    "    center = sn.part1.pos.value[np.argmin(sn.part1.pot.value)]\n",
    "    \n",
    "    pos = part.pos.value - center\n",
    "    r = np.linalg.norm(pos, axis=1)\n",
    "    key = r < rcut\n",
    "    \n",
    "    if sn.MassTable[ptype] > 0:\n",
    "        Menc = len(np.where(key)[0]) * sn.MassTable[ptype]\n",
    "    else:\n",
    "        Menc = np.sum(part.mass.value[key])\n",
    "    \n",
    "    return Menc"
   ]
  },
  {
   "cell_type": "code",
   "execution_count": 26,
   "id": "819058a5-2fad-4786-9044-38be70e88e52",
   "metadata": {},
   "outputs": [],
   "source": [
    "Menc_0 = get_Menc_ptype(sn, 0)\n",
    "Menc_1 = get_Menc_ptype(sn, 1)\n",
    "Menc_2 = get_Menc_ptype(sn, 2)\n",
    "Menc_3 = get_Menc_ptype(sn, 3)\n",
    "Menc_4 = get_Menc_ptype(sn, 4)"
   ]
  },
  {
   "cell_type": "code",
   "execution_count": 27,
   "id": "6a1c2ad9-1bee-4b20-8ecd-f28de23ee5ef",
   "metadata": {},
   "outputs": [],
   "source": [
    "Menc_DM = Menc_1\n",
    "Menc_bar = Menc_0 + Menc_2 + Menc_3 + Menc_4"
   ]
  },
  {
   "cell_type": "code",
   "execution_count": 28,
   "id": "0a701927-17e3-4704-aeed-db2897e2aa3b",
   "metadata": {},
   "outputs": [],
   "source": [
    "fDM = Menc_DM / (Menc_bar + Menc_DM)"
   ]
  },
  {
   "cell_type": "code",
   "execution_count": 29,
   "id": "e46a0ee6-f909-40f8-9436-e2e7dd848c1d",
   "metadata": {},
   "outputs": [
    {
     "data": {
      "text/plain": [
       "0.38780556 "
      ]
     },
     "execution_count": 29,
     "metadata": {},
     "output_type": "execute_result"
    }
   ],
   "source": [
    "fDM"
   ]
  },
  {
   "cell_type": "code",
   "execution_count": 24,
   "id": "7d6e2d6a-ab03-46c0-a276-09d4a6cfc6f3",
   "metadata": {},
   "outputs": [
    {
     "data": {
      "text/plain": [
       "0. 1e+10 Msol"
      ]
     },
     "execution_count": 24,
     "metadata": {},
     "output_type": "execute_result"
    }
   ],
   "source": [
    "Menc_2"
   ]
  },
  {
   "cell_type": "code",
   "execution_count": null,
   "id": "532d224e-9e27-46ce-bc47-944b087753f5",
   "metadata": {},
   "outputs": [],
   "source": []
  }
 ],
 "metadata": {
  "kernelspec": {
   "display_name": "Python 3",
   "language": "python",
   "name": "python3"
  },
  "language_info": {
   "codemirror_mode": {
    "name": "ipython",
    "version": 3
   },
   "file_extension": ".py",
   "mimetype": "text/x-python",
   "name": "python",
   "nbconvert_exporter": "python",
   "pygments_lexer": "ipython3",
   "version": "3.8.8"
  }
 },
 "nbformat": 4,
 "nbformat_minor": 5
}
