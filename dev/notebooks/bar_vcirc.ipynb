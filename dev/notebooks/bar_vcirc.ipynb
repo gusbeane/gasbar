{
 "cells": [
  {
   "cell_type": "code",
   "execution_count": 12,
   "metadata": {},
   "outputs": [
    {
     "data": {
      "text/plain": [
       "'Length unit: 1 Kpc, velocity unit: 1 km/s, time unit: 977.793 Myr, mass unit: 1e+10 Msun, gravitational constant: 43009.2'"
      ]
     },
     "execution_count": 12,
     "metadata": {},
     "output_type": "execute_result"
    }
   ],
   "source": [
    "import agama\n",
    "import arepo\n",
    "import h5py as h5\n",
    "import numpy as np\n",
    "import matplotlib.pyplot as plt\n",
    "from tqdm import tqdm_notebook as tqdm\n",
    "\n",
    "from joblib import Parallel, delayed\n",
    "import matplotlib as mpl\n",
    "from scipy.optimize import minimize\n",
    "\n",
    "from numba import njit\n",
    "\n",
    "agama.setUnits(mass=1E10, length=1, velocity=1)"
   ]
  },
  {
   "cell_type": "code",
   "execution_count": 2,
   "metadata": {
    "collapsed": true
   },
   "outputs": [],
   "source": [
    "def read_agama_pot(idx, name, lvl):\n",
    "    base = '/n/home01/abeane/starbar/plots/agama_pot/data/'\n",
    "    fname = base + 'pot_' + name + '-' + lvl + '/pot_' + name + '-' + lvl + '.' + str(idx) + '.txt'\n",
    "    return agama.Potential(fname)"
   ]
  },
  {
   "cell_type": "code",
   "execution_count": 19,
   "metadata": {
    "collapsed": true
   },
   "outputs": [],
   "source": [
    "pot = read_agama_pot(200, 'phantom-vacuum-Sg20-Rc3.5', 'lvl3')\n",
    "pot = read_agama_pot(500, 'Nbody', 'lvl3')\n"
   ]
  },
  {
   "cell_type": "code",
   "execution_count": 4,
   "metadata": {
    "collapsed": true
   },
   "outputs": [],
   "source": [
    "Rlist = np.linspace(0, 25, 1000)\n",
    "pos = np.array([[R, 0, 0] for R in Rlist])\n",
    "acc = pot.force(pos)"
   ]
  },
  {
   "cell_type": "code",
   "execution_count": 5,
   "metadata": {},
   "outputs": [
    {
     "data": {
      "image/png": "[encoded data removed]",
      "text/plain": [
       "<Figure size 432x288 with 1 Axes>"
      ]
     },
     "metadata": {},
     "output_type": "display_data"
    }
   ],
   "source": [
    "vcsq = - Rlist * acc[:,0]\n",
    "plt.plot(Rlist, np.sqrt(vcsq))\n",
    "plt.show()"
   ]
  },
  {
   "cell_type": "code",
   "execution_count": 7,
   "metadata": {},
   "outputs": [
    {
     "data": {
      "text/plain": [
       "array([-7381.70567979,    -0.        ,    -0.        ])"
      ]
     },
     "execution_count": 7,
     "metadata": {},
     "output_type": "execute_result"
    }
   ],
   "source": [
    "R = 8\n",
    "pot.force(R, 0, 0)"
   ]
  },
  {
   "cell_type": "code",
   "execution_count": 20,
   "metadata": {
    "collapsed": true
   },
   "outputs": [],
   "source": [
    "def compute_vc(R, pot):\n",
    "    acc = pot.force(R, 0, 0)\n",
    "    vcsq = - R * acc[0]\n",
    "    return np.sqrt(vcsq)\n",
    "\n",
    "def _to_minimize(R, pot, omega_p):\n",
    "    vc = compute_vc(R, pot)\n",
    "    omega = vc / R\n",
    "    return np.abs(omega - omega_p)\n",
    "\n",
    "def compute_RCR(pot, omega_p, Rguess=6):\n",
    "    ans = minimize(_to_minimize, Rguess, args=(pot, omega_p))\n",
    "    \n",
    "    return ans.x\n"
   ]
  },
  {
   "cell_type": "code",
   "execution_count": 38,
   "metadata": {},
   "outputs": [],
   "source": [
    "RCR= compute_RCR(pot, "
   ]
  },
  {
   "cell_type": "code",
   "execution_count": 39,
   "metadata": {},
   "outputs": [
    {
     "data": {
      "text/plain": [
       "array([3.75030116])"
      ]
     },
     "execution_count": 39,
     "metadata": {},
     "output_type": "execute_result"
    }
   ],
   "source": [
    "RCR"
   ]
  },
  {
   "cell_type": "code",
   "execution_count": null,
   "metadata": {
    "collapsed": true
   },
   "outputs": [],
   "source": []
  }
 ],
 "metadata": {
  "kernelspec": {
   "display_name": "Python 3",
   "language": "python",
   "name": "python3"
  },
  "language_info": {
   "codemirror_mode": {
    "name": "ipython",
    "version": 3
   },
   "file_extension": ".py",
   "mimetype": "text/x-python",
   "name": "python",
   "nbconvert_exporter": "python",
   "pygments_lexer": "ipython3",
   "version": "3.6.3"
  }
 },
 "nbformat": 4,
 "nbformat_minor": 2
}
