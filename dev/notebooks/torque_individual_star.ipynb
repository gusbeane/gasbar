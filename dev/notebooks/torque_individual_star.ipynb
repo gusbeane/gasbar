{
 "cells": [
  {
   "cell_type": "code",
   "execution_count": 1,
   "metadata": {
    "collapsed": true
   },
   "outputs": [],
   "source": [
    "import numpy as np\n",
    "import arepo\n",
    "import matplotlib.pyplot as plt\n",
    "from tqdm import tqdm_notebook as tqdm\n",
    "import h5py as h5\n",
    "\n",
    "import re\n",
    "import astropy.units as u\n",
    "from scipy.spatial import cKDTree\n",
    "\n",
    "time_conv = 977.79222167"
   ]
  },
  {
   "cell_type": "code",
   "execution_count": 6,
   "metadata": {
    "collapsed": true
   },
   "outputs": [],
   "source": [
    "sim_list = ['phantom-vacuum-Sg20-Rc3.5-RadFeed', 'Nbody']\n",
    "\n",
    "def read_snap(idx, sim_idx, lvl='lvl3', parttype=[0], fields=['Coordinates', 'Masses', 'Velocities'],\n",
    "              basepath = '/n/holyscratch01/hernquist_lab/abeane/starbar_runs/runs/', output_dir='output'):\n",
    "    fname = basepath + sim_list[sim_idx] + '/' + lvl + '/' + output_dir\n",
    "    return arepo.Snapshot(fname, idx, parttype=parttype, fields=fields, combineFiles=True)\n",
    "\n",
    "def read_sfr(sim_idx, lvl='lvl3', basepath = '/n/holyscratch01/hernquist_lab/abeane/starbar_runs/runs/'):\n",
    "    fname = basepath + sim_list[sim_idx] + '/' + lvl + '/output/sfr.txt'\n",
    "    return np.genfromtxt(fname)\n",
    "\n",
    "def read_fourier(sim_idx, lvl='lvl3', basepath='/n/home01/abeane/starbar/plots/'):\n",
    "    sim = sim_list[sim_idx]\n",
    "    f = h5.File(basepath+'/fourier_component/data/fourier_'+sim+'-'+lvl+'.hdf5', mode='r')\n",
    "    return f\n",
    "\n"
   ]
  },
  {
   "cell_type": "code",
   "execution_count": 3,
   "metadata": {},
   "outputs": [
    {
     "data": {
      "application/vnd.jupyter.widget-view+json": {
       "model_id": "7dcb68081adc4081aad82822bf7bac5e",
       "version_major": 2,
       "version_minor": 0
      },
      "text/plain": [
       "A Jupyter Widget"
      ]
     },
     "metadata": {},
     "output_type": "display_data"
    },
    {
     "name": "stdout",
     "output_type": "stream",
     "text": [
      "\n"
     ]
    }
   ],
   "source": [
    "idx_list = np.arange(0, 400, 10)\n",
    "sn_list = []\n",
    "fields = None\n",
    "parttype = None\n",
    "\n",
    "for idx in tqdm(idx_list):\n",
    "    sn_list.append(read_snap(idx, 0, lvl='lvl4-torquebug', parttype=parttype, fields=fields))"
   ]
  },
  {
   "cell_type": "code",
   "execution_count": 7,
   "metadata": {},
   "outputs": [
    {
     "data": {
      "application/vnd.jupyter.widget-view+json": {
       "model_id": "08ac02f799434a1daec9ecd4fe943297",
       "version_major": 2,
       "version_minor": 0
      },
      "text/plain": [
       "A Jupyter Widget"
      ]
     },
     "metadata": {},
     "output_type": "display_data"
    },
    {
     "name": "stdout",
     "output_type": "stream",
     "text": [
      "\n"
     ]
    }
   ],
   "source": [
    "idx_list = np.arange(0, 400, 399)\n",
    "snN_list = []\n",
    "fields = None\n",
    "parttype = None\n",
    "\n",
    "for idx in tqdm(idx_list):\n",
    "    snN_list.append(read_snap(idx, 1, lvl='lvl4', parttype=parttype, fields=fields))"
   ]
  },
  {
   "cell_type": "code",
   "execution_count": 8,
   "metadata": {},
   "outputs": [
    {
     "data": {
      "text/plain": [
       "['Acceleration',\n",
       " 'BirthDensity',\n",
       " 'BirthPos',\n",
       " 'BirthVel',\n",
       " 'ColumnDensity',\n",
       " 'Coordinates',\n",
       " 'CumFeedbackMomentum',\n",
       " 'CumInjFeedbackMomentum',\n",
       " 'CumInjFeedbackMomentumAGB',\n",
       " 'CumSNIINumber',\n",
       " 'CumSNIaNumber',\n",
       " 'Cum_FeedbackAngMomentumAGBVec',\n",
       " 'Cum_FeedbackAngMomentumInjectedVec',\n",
       " 'Cum_RadAngMomentumRealInjectedVec',\n",
       " 'Cum_RadMomentumRealInjected',\n",
       " 'Cum_RadiationMomentumReleased',\n",
       " 'FeedbackEnergy',\n",
       " 'FeedbackMomentum',\n",
       " 'FeedbackMomentumAGB',\n",
       " 'GFM_InitialMass',\n",
       " 'GFM_Metallicity',\n",
       " 'GFM_Metals',\n",
       " 'GFM_StellarFormationTime',\n",
       " 'LocISMDens',\n",
       " 'MassReleased',\n",
       " 'Masses',\n",
       " 'NormSphRadFeedback',\n",
       " 'ParticleIDs',\n",
       " 'Potential',\n",
       " 'RadCoolShutoffTime',\n",
       " 'RadFeedTau',\n",
       " 'RadFeed_NumNgb',\n",
       " 'RadiationMomentumReleased',\n",
       " 'SNIINumber',\n",
       " 'SNIaNumber',\n",
       " 'Softenings',\n",
       " 'StarsHsml',\n",
       " 'StarsMaxRadius',\n",
       " 'StromgrenRadius',\n",
       " 'Velocities',\n",
       " '__class__',\n",
       " '__contains__',\n",
       " '__delattr__',\n",
       " '__dict__',\n",
       " '__dir__',\n",
       " '__doc__',\n",
       " '__eq__',\n",
       " '__format__',\n",
       " '__ge__',\n",
       " '__getattr__',\n",
       " '__getattribute__',\n",
       " '__getitem__',\n",
       " '__gt__',\n",
       " '__hash__',\n",
       " '__init__',\n",
       " '__init_subclass__',\n",
       " '__le__',\n",
       " '__lt__',\n",
       " '__module__',\n",
       " '__ne__',\n",
       " '__new__',\n",
       " '__reduce__',\n",
       " '__reduce_ex__',\n",
       " '__repr__',\n",
       " '__setattr__',\n",
       " '__sizeof__',\n",
       " '__str__',\n",
       " '__subclasshook__',\n",
       " '__weakref__',\n",
       " '_num',\n",
       " '_parent',\n",
       " 'acce',\n",
       " 'birp',\n",
       " 'birv',\n",
       " 'data',\n",
       " 'ferg',\n",
       " 'gage',\n",
       " 'gima',\n",
       " 'gmet',\n",
       " 'gz',\n",
       " 'id',\n",
       " 'mass',\n",
       " 'mrel',\n",
       " 'pos',\n",
       " 'pot',\n",
       " 'rade',\n",
       " 'rfcd',\n",
       " 'rfnn',\n",
       " 'rfns',\n",
       " 'snii',\n",
       " 'soft',\n",
       " 'ssml',\n",
       " 'strm',\n",
       " 'taud',\n",
       " 'vel']"
      ]
     },
     "execution_count": 8,
     "metadata": {},
     "output_type": "execute_result"
    }
   ],
   "source": [
    "dir(sn_list[-1].part4)"
   ]
  },
  {
   "cell_type": "code",
   "execution_count": 9,
   "metadata": {
    "collapsed": true
   },
   "outputs": [],
   "source": [
    "def compute_particle_dLz(sn, center=np.array([200., 200., 200.])):\n",
    "    if sn.NumPart_Total[4] > 0:\n",
    "        rad_mom = sn.part4.Cum_RadAngMomentumRealInjectedVec\n",
    "        AGB_mom = sn.part4.Cum_FeedbackAngMomentumAGBVec\n",
    "        SNe_mom = sn.part4.Cum_FeedbackAngMomentumInjectedVec\n",
    "        \n",
    "        dLz_rad = np.sum(rad_mom[:,2])\n",
    "        dLz_AGB = np.sum(AGB_mom[:,2])\n",
    "        dLz_SNe = np.sum(SNe_mom[:,2])\n",
    "    else:\n",
    "        dLz_rad = 0.0\n",
    "        dLz_AGB = 0.0\n",
    "        dLz_SNe = 0.0\n",
    "    \n",
    "    return dLz_rad, dLz_AGB, dLz_SNe\n",
    "\n",
    "def compute_particle_dLx(sn, center=np.array([200., 200., 200.])):\n",
    "    if sn.NumPart_Total[4] > 0:\n",
    "        rad_mom = sn.part4.Cum_RadAngMomentumRealInjectedVec\n",
    "        AGB_mom = sn.part4.Cum_FeedbackAngMomentumAGBVec\n",
    "        SNe_mom = sn.part4.Cum_FeedbackAngMomentumInjectedVec\n",
    "        \n",
    "        dLz_rad = np.sum(rad_mom[:,0])\n",
    "        dLz_AGB = np.sum(AGB_mom[:,0])\n",
    "        dLz_SNe = np.sum(SNe_mom[:,0])\n",
    "    else:\n",
    "        dLz_rad = 0.0\n",
    "        dLz_AGB = 0.0\n",
    "        dLz_SNe = 0.0\n",
    "    \n",
    "    return dLz_rad, dLz_AGB, dLz_SNe\n",
    "\n",
    "def compute_tot_angmom(sn, center=np.array([200., 200., 200.])):\n",
    "    tot = 0\n",
    "    for i in range(5):\n",
    "        if sn.NumPart_Total[i] > 0:\n",
    "            pos = getattr(sn, 'part'+str(i)).pos - center\n",
    "            vel = getattr(sn, 'part'+str(i)).vel\n",
    "            if sn.MassTable[i] > 0.0:\n",
    "                mass = sn.MassTable[i]\n",
    "            else:\n",
    "                mass = getattr(sn, 'part'+str(i)).mass\n",
    "            \n",
    "#             print(np.shape(pos), np.shape(vel), np.shape(mass))\n",
    "#             print(np.shape(mass*vel))\n",
    "            \n",
    "            Lz = mass*np.cross(pos, vel)[:,2]\n",
    "            tot += np.sum(Lz)\n",
    "    return tot"
   ]
  },
  {
   "cell_type": "code",
   "execution_count": 11,
   "metadata": {},
   "outputs": [
    {
     "name": "stdout",
     "output_type": "stream",
     "text": [
      "-309.459331836144\n",
      "1.9951171875\n"
     ]
    }
   ],
   "source": [
    "tot_angmom0 = compute_tot_angmom(snN_list[0])\n",
    "tot_angmom1 = compute_tot_angmom(snN_list[1])\n",
    "print(tot_angmom1-tot_angmom0)\n",
    "print(snN_list[1].Time)"
   ]
  },
  {
   "cell_type": "code",
   "execution_count": 6,
   "metadata": {},
   "outputs": [
    {
     "name": "stdout",
     "output_type": "stream",
     "text": [
      "-2.8578448 -0.63406086 -5.521277\n"
     ]
    }
   ],
   "source": [
    "dLx_rad, dLx_AGB, dLx_SNe = compute_particle_dLx(sn_list[-1])\n",
    "print(np.sum(dLx_rad), np.sum(dLx_AGB), np.sum(dLx_SNe))"
   ]
  },
  {
   "cell_type": "code",
   "execution_count": 5,
   "metadata": {
    "collapsed": true
   },
   "outputs": [],
   "source": [
    "dLz_rad_list = []\n",
    "dLz_AGB_list = []\n",
    "dLz_SNe_list = []\n",
    "tot_angmom = []\n",
    "time_list = []\n",
    "\n",
    "for sn in sn_list:\n",
    "    dLz_rad, dLz_AGB, dLz_SNe = compute_particle_dLz(sn)\n",
    "    dLz_rad_list.append(dLz_rad)\n",
    "    dLz_AGB_list.append(dLz_AGB)\n",
    "    dLz_SNe_list.append(dLz_SNe)\n",
    "    time_list.append(sn.Time.value)\n",
    "    tot_angmom.append(compute_tot_angmom(sn))\n",
    "\n",
    "dLz_rad_list = np.array(dLz_rad_list)\n",
    "dLz_AGB_list = np.array(dLz_AGB_list)\n",
    "dLz_SNe_list = np.array(dLz_SNe_list)\n",
    "time_list    = np.array(time_list)\n",
    "tot_angmom   = np.array(tot_angmom)"
   ]
  },
  {
   "cell_type": "code",
   "execution_count": 6,
   "metadata": {},
   "outputs": [
    {
     "data": {
      "image/png": "[encoded data removed]",
      "text/plain": [
       "<Figure size 432x288 with 1 Axes>"
      ]
     },
     "metadata": {},
     "output_type": "display_data"
    }
   ],
   "source": [
    "fig, ax = plt.subplots(1, 1)\n",
    "ax.plot(time_list, dLz_rad_list, label='rad')\n",
    "ax.plot(time_list, dLz_AGB_list, label='AGB/OB')\n",
    "ax.plot(time_list, dLz_SNe_list, label='SNe')\n",
    "ax.plot(time_list, dLz_rad_list+dLz_AGB_list+dLz_SNe_list, label='tot feed', ls='dashed')\n",
    "ax.plot(time_list, tot_angmom - tot_angmom[0], label='tot_ang mom', c='k')\n",
    "\n",
    "ax.legend(frameon=False)\n",
    "ax.set(xlabel='time [~Gyr]', ylabel='change in ang mom [1E10 Msun kpc km/s]')\n",
    "\n",
    "plt.show()"
   ]
  },
  {
   "cell_type": "code",
   "execution_count": 4,
   "metadata": {
    "collapsed": true
   },
   "outputs": [],
   "source": [
    "from numba import njit\n",
    "@njit\n",
    "def _binned_average(x, y, bins):\n",
    "    N = len(bins)\n",
    "    \n",
    "    sum_x_in_bin = np.zeros(N-1)\n",
    "    sum_y_in_bin = np.zeros(N-1)\n",
    "    N_in_bin = np.zeros(N-1)\n",
    "    \n",
    "    for i in range(len(x)):\n",
    "        this_x = x[i]\n",
    "        for j in range(N-1):\n",
    "            if this_x > bins[j] and this_x < bins[j+1]:\n",
    "                sum_x_in_bin[j] += x[i]\n",
    "                sum_y_in_bin[j] += y[i]\n",
    "                N_in_bin[j] += 1\n",
    "    \n",
    "    for j in range(N-1):\n",
    "        sum_x_in_bin[j] /= N_in_bin[j]\n",
    "        sum_y_in_bin[j] /= N_in_bin[j]\n",
    "    \n",
    "    return sum_x_in_bin, sum_y_in_bin\n",
    "    \n",
    "def binned_average(x, y, dx):\n",
    "    xmin = np.min(x)\n",
    "    xmax = np.max(x)\n",
    "\n",
    "    bins = np.arange(xmin, xmax+dx, dx)\n",
    "    return _binned_average(x, y, bins)"
   ]
  },
  {
   "cell_type": "code",
   "execution_count": 5,
   "metadata": {
    "collapsed": true
   },
   "outputs": [],
   "source": [
    "def compute_average_ang_mom_injection(sn):\n",
    "    age = sn.Time - sn.part4.GFM_StellarFormationTime\n",
    "    rad_mom = sn.part4.Cum_RadAngMomentumRealInjectedVec[:,2]\n",
    "    AGB_mom = sn.part4.Cum_FeedbackAngMomentumAGBVec[:,2]\n",
    "    SNe_mom = sn.part4.Cum_FeedbackAngMomentumInjectedVec[:,2]\n",
    "    \n",
    "    age_rad, mom_rad = binned_average(age, rad_mom, 0.1)\n",
    "    age_AGB, mom_AGB = binned_average(age, AGB_mom, 0.1)\n",
    "    age_SNe, mom_SNe = binned_average(age, SNe_mom, 0.1)\n",
    "    \n",
    "    return age_rad, mom_rad, mom_AGB, mom_SNe"
   ]
  },
  {
   "cell_type": "code",
   "execution_count": 9,
   "metadata": {},
   "outputs": [
    {
     "data": {
      "image/png": "[encoded data removed]",
      "text/plain": [
       "<Figure size 432x288 with 1 Axes>"
      ]
     },
     "metadata": {},
     "output_type": "display_data"
    }
   ],
   "source": [
    "age, rad, AGB, SNe = compute_average_ang_mom_injection(sn_list[20])\n",
    "fig, ax = plt.subplots(1, 1)\n",
    "\n",
    "ax.plot(age, rad, label='rad')\n",
    "ax.plot(age, AGB, label='AGB')\n",
    "ax.plot(age, SNe, label='SNe')\n",
    "\n",
    "ax.legend(frameon=False)\n",
    "\n",
    "plt.show()"
   ]
  },
  {
   "cell_type": "code",
   "execution_count": 7,
   "metadata": {},
   "outputs": [
    {
     "name": "stderr",
     "output_type": "stream",
     "text": [
      "/n/helmod/apps/centos7/Core/Anaconda3/5.0.1-fasrc02/x/lib/python3.6/site-packages/ipykernel_launcher.py:3: RuntimeWarning: invalid value encountered in true_divide\n",
      "  This is separate from the ipykernel package so we can avoid doing imports until\n"
     ]
    },
    {
     "data": {
      "image/png": "[encoded data removed]",
      "text/plain": [
       "<Figure size 432x288 with 1 Axes>"
      ]
     },
     "metadata": {},
     "output_type": "display_data"
    }
   ],
   "source": [
    "fig, ax = plt.subplots(1, 1)\n",
    "\n",
    "ax.plot(time_list, (dLz_rad_list+dLz_AGB_list+dLz_SNe_list)/(tot_angmom - tot_angmom[0]) - 1)\n",
    "ax.set(ylim=(0, None))\n",
    "\n",
    "plt.show()"
   ]
  },
  {
   "cell_type": "code",
   "execution_count": 12,
   "metadata": {
    "collapsed": true
   },
   "outputs": [],
   "source": [
    "sn = read_snap(17, 0, lvl='lvl4-torquebug', parttype=None, fields=None)#, output_dir='output-noSne')\n",
    "sn0 = read_snap(0, 0, lvl='lvl4-torquebug', parttype=None, fields=None)"
   ]
  },
  {
   "cell_type": "code",
   "execution_count": 4,
   "metadata": {},
   "outputs": [
    {
     "data": {
      "text/plain": [
       "['Acceleration',\n",
       " 'BirthDensity',\n",
       " 'BirthPos',\n",
       " 'BirthVel',\n",
       " 'ColumnDensity',\n",
       " 'Coordinates',\n",
       " 'CumFeedbackMomentum',\n",
       " 'CumInjFeedbackMomentum',\n",
       " 'CumInjFeedbackMomentumAGB',\n",
       " 'CumSNIINumber',\n",
       " 'CumSNIaNumber',\n",
       " 'Cum_FeedbackAngMomentumAGBVec',\n",
       " 'Cum_FeedbackAngMomentumInjectedVec',\n",
       " 'Cum_RadAngMomentumRealInjectedVec',\n",
       " 'Cum_RadMomentumRealInjected',\n",
       " 'Cum_RadiationMomentumReleased',\n",
       " 'FeedbackEnergy',\n",
       " 'FeedbackMomentum',\n",
       " 'FeedbackMomentumAGB',\n",
       " 'GFM_InitialMass',\n",
       " 'GFM_Metallicity',\n",
       " 'GFM_Metals',\n",
       " 'GFM_StellarFormationTime',\n",
       " 'LocISMDens',\n",
       " 'MassReleased',\n",
       " 'Masses',\n",
       " 'NormSphRadFeedback',\n",
       " 'ParticleIDs',\n",
       " 'Potential',\n",
       " 'RadCoolShutoffTime',\n",
       " 'RadFeedTau',\n",
       " 'RadFeed_NumNgb',\n",
       " 'RadiationMomentumReleased',\n",
       " 'SNIINumber',\n",
       " 'SNIaNumber',\n",
       " 'Softenings',\n",
       " 'StarsHsml',\n",
       " 'StarsMaxRadius',\n",
       " 'StromgrenRadius',\n",
       " 'Velocities',\n",
       " '__class__',\n",
       " '__contains__',\n",
       " '__delattr__',\n",
       " '__dict__',\n",
       " '__dir__',\n",
       " '__doc__',\n",
       " '__eq__',\n",
       " '__format__',\n",
       " '__ge__',\n",
       " '__getattr__',\n",
       " '__getattribute__',\n",
       " '__getitem__',\n",
       " '__gt__',\n",
       " '__hash__',\n",
       " '__init__',\n",
       " '__init_subclass__',\n",
       " '__le__',\n",
       " '__lt__',\n",
       " '__module__',\n",
       " '__ne__',\n",
       " '__new__',\n",
       " '__reduce__',\n",
       " '__reduce_ex__',\n",
       " '__repr__',\n",
       " '__setattr__',\n",
       " '__sizeof__',\n",
       " '__str__',\n",
       " '__subclasshook__',\n",
       " '__weakref__',\n",
       " '_num',\n",
       " '_parent',\n",
       " 'acce',\n",
       " 'birp',\n",
       " 'birv',\n",
       " 'data',\n",
       " 'ferg',\n",
       " 'gage',\n",
       " 'gima',\n",
       " 'gmet',\n",
       " 'gz',\n",
       " 'id',\n",
       " 'mass',\n",
       " 'mrel',\n",
       " 'pos',\n",
       " 'pot',\n",
       " 'rade',\n",
       " 'rfcd',\n",
       " 'rfnn',\n",
       " 'rfns',\n",
       " 'snii',\n",
       " 'soft',\n",
       " 'ssml',\n",
       " 'strm',\n",
       " 'taud',\n",
       " 'vel']"
      ]
     },
     "execution_count": 4,
     "metadata": {},
     "output_type": "execute_result"
    }
   ],
   "source": [
    "dir(sn.part4)"
   ]
  },
  {
   "cell_type": "code",
   "execution_count": 5,
   "metadata": {},
   "outputs": [
    {
     "data": {
      "image/png": "[encoded data removed]",
      "text/plain": [
       "<Figure size 432x288 with 1 Axes>"
      ]
     },
     "metadata": {},
     "output_type": "display_data"
    }
   ],
   "source": [
    "agb_dLz = sn.part4.Cum_FeedbackAngMomentumAGBVec[:,2]\n",
    "rad_dLz = sn.part4.Cum_RadAngMomentumRealInjectedVec[:,2]\n",
    "SNe_dLz = sn.part4.Cum_FeedbackAngMomentumInjectedVec[:,2]\n",
    "\n",
    "fig, ax = plt.subplots(1, 1)\n",
    "\n",
    "ax.hist(agb_dLz, bins=100)\n",
    "plt.show()"
   ]
  },
  {
   "cell_type": "code",
   "execution_count": 9,
   "metadata": {},
   "outputs": [
    {
     "name": "stdout",
     "output_type": "stream",
     "text": [
      "6.705877e+20 7.028055 nan\n"
     ]
    },
    {
     "name": "stderr",
     "output_type": "stream",
     "text": [
      "/n/home01/abeane/.local/lib/python3.6/site-packages/numpy/core/fromnumeric.py:87: RuntimeWarning: invalid value encountered in reduce\n",
      "  return ufunc.reduce(obj, axis, dtype, out, **passkwargs)\n"
     ]
    }
   ],
   "source": [
    "print(np.sum(agb_dLz), np.sum(rad_dLz), np.sum(SNe_dLz))"
   ]
  },
  {
   "cell_type": "code",
   "execution_count": 5,
   "metadata": {
    "collapsed": true
   },
   "outputs": [],
   "source": [
    "def compute_totangmom(sn):\n",
    "    tot = 0\n",
    "    for i in range(5):\n",
    "        if sn.NumPart_Total[i] > 0:\n",
    "            center = np.array([200, 200, 200])\n",
    "            pos = getattr(sn, 'part'+str(i)).pos - center\n",
    "            vel = getattr(sn, 'part'+str(i)).vel\n",
    "            if sn.MassTable[i] > 0.0:\n",
    "                mass = sn.MassTable[i]\n",
    "            else:\n",
    "                mass = getattr(sn, 'part'+str(i)).mass\n",
    "            \n",
    "            Lz = np.cross(pos, mass*vel)[:,2]\n",
    "            tot += np.sum(Lz)\n",
    "    return tot"
   ]
  },
  {
   "cell_type": "code",
   "execution_count": 14,
   "metadata": {},
   "outputs": [
    {
     "name": "stdout",
     "output_type": "stream",
     "text": [
      "12094674636.566235 6264643392.46309\n"
     ]
    }
   ],
   "source": [
    "ang17 = compute_totangmom(sn)\n",
    "ang0 = compute_totangmom(sn0)\n",
    "print(ang0, ang17)"
   ]
  },
  {
   "cell_type": "code",
   "execution_count": null,
   "metadata": {
    "collapsed": true
   },
   "outputs": [],
   "source": []
  }
 ],
 "metadata": {
  "kernelspec": {
   "display_name": "Python 3",
   "language": "python",
   "name": "python3"
  },
  "language_info": {
   "codemirror_mode": {
    "name": "ipython",
    "version": 3
   },
   "file_extension": ".py",
   "mimetype": "text/x-python",
   "name": "python",
   "nbconvert_exporter": "python",
   "pygments_lexer": "ipython3",
   "version": "3.6.3"
  }
 },
 "nbformat": 4,
 "nbformat_minor": 2
}
