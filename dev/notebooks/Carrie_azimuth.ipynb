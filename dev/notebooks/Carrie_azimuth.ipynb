{
 "cells": [
  {
   "cell_type": "code",
   "execution_count": 12,
   "id": "bd7f8349-362f-4ae4-a981-ca5f78c7f836",
   "metadata": {},
   "outputs": [],
   "source": [
    "import numpy as np\n",
    "import arepo\n",
    "import matplotlib.pyplot as plt\n",
    "from scipy.stats import binned_statistic"
   ]
  },
  {
   "cell_type": "code",
   "execution_count": 2,
   "id": "3f1bec59-9971-4671-be2a-a6119e920839",
   "metadata": {},
   "outputs": [],
   "source": [
    "sim_list = ['Nbody', 'phantom-vacuum-Sg20-Rc3.5']\n",
    "\n",
    "basepath = '/n/holystore01/LABS/hernquist_lab/Users/abeane/starbar_runs/runs/'\n",
    "\n",
    "def read_snap(idx, sim_idx, lvl='lvl3', parttype=[0], fields=['Coordinates', 'Masses', 'Velocities', 'ParticleIDs', 'Potential'],\n",
    "              basepath = basepath):\n",
    "    fname = basepath + sim_list[sim_idx] + '/' + lvl + '/output'\n",
    "    return arepo.Snapshot(fname, idx, parttype=parttype, fields=fields, combineFiles=True)\n",
    "\n",
    "def read_sfr(sim_idx, lvl='lvl3', basepath = basepath):\n",
    "    fname = basepath + sim_list[sim_idx] + '/' + lvl + '/output/sfr.txt'\n",
    "    return np.genfromtxt(fname)\n",
    "\n",
    "def read_fourier(sim_idx, lvl='lvl3', basepath='/n/home01/abeane/starbar/plots/'):\n",
    "    sim = sim_list[sim_idx]\n",
    "    f = h5.File(basepath+'/fourier_component/data/fourier_'+sim+'-'+lvl+'.hdf5', mode='r')\n",
    "    return f"
   ]
  },
  {
   "cell_type": "code",
   "execution_count": 5,
   "id": "10c99ac6-bebf-4f0b-aba4-b94c126f3d5a",
   "metadata": {},
   "outputs": [],
   "source": [
    "sn = read_snap(300, 1, fields=['Coordinates', 'Masses', 'GFM_Metallicity'])"
   ]
  },
  {
   "cell_type": "code",
   "execution_count": 10,
   "id": "31b6bc74-026d-4252-93d4-ae5f30004536",
   "metadata": {},
   "outputs": [],
   "source": [
    "center = np.array([200., 200., 200.])\n",
    "pos = sn.part0.pos.value - center\n",
    "\n",
    "R = np.linalg.norm(pos[:,:2], axis=1)\n",
    "phi = np.arctan2(pos[:,1], pos[:,0])\n",
    "MH = sn.part0.GFM_Metallicity"
   ]
  },
  {
   "cell_type": "code",
   "execution_count": 40,
   "id": "69b44982-4e3e-4e7d-b735-fac93e03d398",
   "metadata": {},
   "outputs": [],
   "source": [
    "# Rcut = np.logical_and(R>5.5, R<6.5)\n",
    "Rcut=R<4\n",
    "\n",
    "MH_binned, _, _ = binned_statistic(phi[Rcut], MH[Rcut], bins=np.linspace(0, 2.*np.pi, 16))\n",
    "phi_binned, _, _ = binned_statistic(phi[Rcut], phi[Rcut], bins=np.linspace(0, 2.*np.pi, 16))"
   ]
  },
  {
   "cell_type": "code",
   "execution_count": 41,
   "id": "9862189a-c03e-4ccd-9119-73634b5b957e",
   "metadata": {},
   "outputs": [
    {
     "data": {
      "text/plain": [
       "[<matplotlib.lines.Line2D at 0x2ab7f45ebfd0>]"
      ]
     },
     "execution_count": 41,
     "metadata": {},
     "output_type": "execute_result"
    },
    {
     "data": {
      "image/png": "[encoded data removed]",
      "text/plain": [
       "<Figure size 432x288 with 1 Axes>"
      ]
     },
     "metadata": {
      "needs_background": "light"
     },
     "output_type": "display_data"
    }
   ],
   "source": [
    "plt.plot(phi_binned, np.log10(MH_binned/0.0127))\n",
    "# plt.ylim(-0.01, 0.01)"
   ]
  },
  {
   "cell_type": "code",
   "execution_count": null,
   "id": "1270f2dc-1446-45eb-a824-c6b63c0d0cf1",
   "metadata": {},
   "outputs": [],
   "source": []
  }
 ],
 "metadata": {
  "kernelspec": {
   "display_name": "Python 3",
   "language": "python",
   "name": "python3"
  },
  "language_info": {
   "codemirror_mode": {
    "name": "ipython",
    "version": 3
   },
   "file_extension": ".py",
   "mimetype": "text/x-python",
   "name": "python",
   "nbconvert_exporter": "python",
   "pygments_lexer": "ipython3",
   "version": "3.8.8"
  }
 },
 "nbformat": 4,
 "nbformat_minor": 5
}
