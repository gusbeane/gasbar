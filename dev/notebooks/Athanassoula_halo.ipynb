{
 "cells": [
  {
   "cell_type": "code",
   "execution_count": 6,
   "id": "3f71c0b4-5bdf-401e-9fe6-67d0dd3601c2",
   "metadata": {},
   "outputs": [],
   "source": [
    "import numpy as np\n",
    "from scipy.special import erf"
   ]
  },
  {
   "cell_type": "code",
   "execution_count": 14,
   "id": "414156f3-91f8-4eff-ad04-659db48c2ba6",
   "metadata": {},
   "outputs": [],
   "source": [
    "r = 6"
   ]
  },
  {
   "cell_type": "code",
   "execution_count": 15,
   "id": "86432390-c323-4287-8a79-f2bf0a5978c3",
   "metadata": {},
   "outputs": [
    {
     "name": "stdout",
     "output_type": "stream",
     "text": [
      "0.0017056213894450375\n"
     ]
    }
   ],
   "source": [
    "# GALAKOS\n",
    "Mh = 100\n",
    "a = 30\n",
    "rho = (Mh/2/np.pi) * a / (r * (r+a)**3)\n",
    "print(rho)"
   ]
  },
  {
   "cell_type": "code",
   "execution_count": 16,
   "id": "67f0d511-7b68-43c3-bf4a-edcd809d89a3",
   "metadata": {},
   "outputs": [
    {
     "name": "stdout",
     "output_type": "stream",
     "text": [
      "0.0020515759323510964\n"
     ]
    }
   ],
   "source": [
    "# Athanassoula\n",
    "Mh = 25\n",
    "gamma = 1.5\n",
    "rc = 30\n",
    "\n",
    "q = gamma/rc\n",
    "\n",
    "alpha = 1 - np.sqrt(np.pi)*q*np.exp(q**2) * (1-erf(q))\n",
    "alpha = 1./alpha\n",
    "\n",
    "rho = (Mh/2/np.pi**1.5) * (alpha/rc) * np.exp(-r**2/rc**2)/(r**2 + gamma**2)\n",
    "print(rho)\n"
   ]
  },
  {
   "cell_type": "code",
   "execution_count": null,
   "id": "baf3197b-1463-404e-977c-4f2076ab8187",
   "metadata": {},
   "outputs": [],
   "source": []
  }
 ],
 "metadata": {
  "kernelspec": {
   "display_name": "Python 3",
   "language": "python",
   "name": "python3"
  },
  "language_info": {
   "codemirror_mode": {
    "name": "ipython",
    "version": 3
   },
   "file_extension": ".py",
   "mimetype": "text/x-python",
   "name": "python",
   "nbconvert_exporter": "python",
   "pygments_lexer": "ipython3",
   "version": "3.8.8"
  }
 },
 "nbformat": 4,
 "nbformat_minor": 5
}
