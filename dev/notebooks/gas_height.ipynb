{
 "cells": [
  {
   "cell_type": "code",
   "execution_count": 60,
   "id": "33ecf5d9-8b90-4d06-bf60-0c434c32b8c5",
   "metadata": {},
   "outputs": [],
   "source": [
    "import numpy as np\n",
    "import arepo\n",
    "import matplotlib.pyplot as plt\n",
    "from scipy.stats import binned_statistic\n",
    "from scipy.optimize import curve_fit"
   ]
  },
  {
   "cell_type": "code",
   "execution_count": 2,
   "id": "82c16469-3f32-4bfb-b186-f9147a03c712",
   "metadata": {},
   "outputs": [],
   "source": [
    "sim_list = ['Nbody', 'phantom-vacuum-Sg20-Rc3.5']\n",
    "\n",
    "basepath = '/n/holystore01/LABS/hernquist_lab/Users/abeane/starbar_runs/runs/'\n",
    "\n",
    "def read_snap(idx, sim_idx, lvl='lvl3', parttype=[0], fields=['Coordinates', 'Masses', 'Velocities', 'ParticleIDs', 'Potential'],\n",
    "              basepath = basepath):\n",
    "    fname = basepath + sim_list[sim_idx] + '/' + lvl + '/output'\n",
    "    return arepo.Snapshot(fname, idx, parttype=parttype, fields=fields, combineFiles=True)\n",
    "\n",
    "def read_sfr(sim_idx, lvl='lvl3', basepath = basepath):\n",
    "    fname = basepath + sim_list[sim_idx] + '/' + lvl + '/output/sfr.txt'\n",
    "    return np.genfromtxt(fname)\n",
    "\n",
    "def read_fourier(sim_idx, lvl='lvl3', basepath='/n/home01/abeane/starbar/plots/'):\n",
    "    sim = sim_list[sim_idx]\n",
    "    f = h5.File(basepath+'/fourier_component/data/fourier_'+sim+'-'+lvl+'.hdf5', mode='r')\n",
    "    return f"
   ]
  },
  {
   "cell_type": "code",
   "execution_count": 95,
   "id": "28926f77-656b-4cf9-8cfc-d3c24315b0a2",
   "metadata": {},
   "outputs": [],
   "source": [
    "sn = read_snap(0, 1)"
   ]
  },
  {
   "cell_type": "code",
   "execution_count": 96,
   "id": "e354ea93-4f44-4a6d-a388-007e4915887c",
   "metadata": {},
   "outputs": [],
   "source": [
    "center = np.array([sn.BoxSize, sn.BoxSize, sn.BoxSize])/2.\n",
    "pos = sn.part0.pos.value - center\n",
    "R = np.linalg.norm(pos[:,:2], axis=1)\n",
    "\n",
    "Rmin = 8\n",
    "Rmax = 8.5\n",
    "\n",
    "Zmin = -0.35\n",
    "Zmax = 0.35\n",
    "dZ = 0.05\n",
    "\n",
    "V_bin = np.pi * (Rmax**2 - Rmin**2) * dZ\n",
    "\n",
    "key = np.logical_and(R > 4, R < 4.5)\n",
    "bins = np.arange(Zmin, Zmax+dZ, dZ)\n",
    "\n",
    "Z = pos[:,2][key]\n",
    "M = sn.part0.mass.value[key]\n",
    "M_in_bins, _, _ = binned_statistic(Z, M, bins=bins, statistic='sum')\n",
    "rho = M_in_bins / V_bin\n",
    "\n",
    "z_ave, _, _ = binned_statistic(Z, Z, bins=bins, statistic='mean')"
   ]
  },
  {
   "cell_type": "code",
   "execution_count": 97,
   "id": "d9f8ab13-c284-4077-8983-3671e88e64a2",
   "metadata": {},
   "outputs": [],
   "source": [
    "def profile(z, rho0, h):\n",
    "    return rho0 * np.exp(-z**2 / 2 / h**2)"
   ]
  },
  {
   "cell_type": "code",
   "execution_count": 102,
   "id": "4a85fcf0-d81d-4f35-b9fd-8cc8c4866d5c",
   "metadata": {},
   "outputs": [
    {
     "data": {
      "image/png": "[encoded data removed]",
      "text/plain": [
       "<Figure size 432x288 with 1 Axes>"
      ]
     },
     "metadata": {
      "needs_background": "light"
     },
     "output_type": "display_data"
    }
   ],
   "source": [
    "p, _ = curve_fit(profile, z_ave, rho, p0=[0.01, 0.1])\n",
    "zlist = np.linspace(-0.4, 0.4, 1000)\n",
    "gauss_profile = profile(zlist, p[0], p[1])\n",
    "\n",
    "plt.plot(z_ave, rho, label='measured')\n",
    "plt.plot(zlist, gauss_profile, ls='dashed', label='Gaussian fit')\n",
    "plt.yscale('log')\n",
    "plt.ylim(10.**(-4), 10.**(-2))\n",
    "plt.xlabel('z [kpc]')\n",
    "plt.ylabel('rho [1E10 Msun/kpc^3]')\n",
    "plt.legend(frameon=False)\n",
    "plt.savefig('gas_scale_height.png')\n",
    "# plt.xscale('log')"
   ]
  },
  {
   "cell_type": "code",
   "execution_count": 94,
   "id": "6ab92f69-6c52-48e8-a597-e6b61d7d8dea",
   "metadata": {},
   "outputs": [
    {
     "data": {
      "text/plain": [
       "0.09703971342487602"
      ]
     },
     "execution_count": 94,
     "metadata": {},
     "output_type": "execute_result"
    }
   ],
   "source": [
    "p[1]"
   ]
  },
  {
   "cell_type": "code",
   "execution_count": 89,
   "id": "2806ad9e-fef6-471c-940a-3279ee303a11",
   "metadata": {},
   "outputs": [
    {
     "data": {
      "text/plain": [
       "0.32048879999999996"
      ]
     },
     "execution_count": 89,
     "metadata": {},
     "output_type": "execute_result"
    }
   ],
   "source": [
    "2.67074 * 0.12"
   ]
  },
  {
   "cell_type": "code",
   "execution_count": 103,
   "id": "bed2b8a9-a7a4-4e82-b91f-42e91a8bfa24",
   "metadata": {},
   "outputs": [
    {
     "data": {
      "text/plain": [
       "0.303125"
      ]
     },
     "execution_count": 103,
     "metadata": {},
     "output_type": "execute_result"
    }
   ],
   "source": [
    "97/320"
   ]
  },
  {
   "cell_type": "code",
   "execution_count": 51,
   "id": "b4f67bca-8b42-4674-8ce7-ddeabd82aefe",
   "metadata": {},
   "outputs": [
    {
     "data": {
      "text/plain": [
       "array([0.01772996, 0.06902272, 0.12099971, 0.17010625, 0.22133759,\n",
       "       0.27156443, 0.32296281])"
      ]
     },
     "execution_count": 51,
     "metadata": {},
     "output_type": "execute_result"
    }
   ],
   "source": [
    "z_ave"
   ]
  },
  {
   "cell_type": "code",
   "execution_count": 23,
   "id": "a1f0ca62-b723-4019-916d-dec4de40db45",
   "metadata": {},
   "outputs": [
    {
     "data": {
      "text/plain": [
       "(array([1.9450e+03, 1.3104e+04, 3.3970e+03, 1.3174e+04, 1.5720e+03,\n",
       "        1.2250e+03, 9.0960e+03, 5.0830e+03, 8.5430e+03, 8.5100e+02,\n",
       "        3.8820e+03, 4.5800e+02, 5.1000e+03, 3.8370e+03, 3.6100e+02,\n",
       "        1.0220e+03, 8.7000e+01, 6.9900e+03, 1.0940e+03, 0.0000e+00,\n",
       "        1.9100e+02, 6.9000e+02, 7.0000e+00, 2.0400e+02, 7.6900e+02,\n",
       "        2.0000e+01, 9.6400e+02, 2.0000e+00, 2.7000e+01, 9.3000e+01,\n",
       "        0.0000e+00, 0.0000e+00, 0.0000e+00, 0.0000e+00, 1.7110e+03,\n",
       "        0.0000e+00, 0.0000e+00, 0.0000e+00, 0.0000e+00, 0.0000e+00,\n",
       "        0.0000e+00, 0.0000e+00, 0.0000e+00, 0.0000e+00, 0.0000e+00,\n",
       "        0.0000e+00, 0.0000e+00, 0.0000e+00, 0.0000e+00, 0.0000e+00,\n",
       "        0.0000e+00, 0.0000e+00, 0.0000e+00, 0.0000e+00, 0.0000e+00,\n",
       "        0.0000e+00, 0.0000e+00, 0.0000e+00, 1.8400e+02, 0.0000e+00,\n",
       "        0.0000e+00, 0.0000e+00, 0.0000e+00, 0.0000e+00, 0.0000e+00,\n",
       "        0.0000e+00, 0.0000e+00, 0.0000e+00, 0.0000e+00, 0.0000e+00,\n",
       "        0.0000e+00, 0.0000e+00, 0.0000e+00, 0.0000e+00, 0.0000e+00,\n",
       "        0.0000e+00, 0.0000e+00, 0.0000e+00, 0.0000e+00, 0.0000e+00,\n",
       "        0.0000e+00, 0.0000e+00, 0.0000e+00, 0.0000e+00, 0.0000e+00,\n",
       "        0.0000e+00, 0.0000e+00, 0.0000e+00, 0.0000e+00, 0.0000e+00,\n",
       "        0.0000e+00, 0.0000e+00, 0.0000e+00, 0.0000e+00, 0.0000e+00,\n",
       "        0.0000e+00, 0.0000e+00, 0.0000e+00, 0.0000e+00]),\n",
       " array([0.  , 0.01, 0.02, 0.03, 0.04, 0.05, 0.06, 0.07, 0.08, 0.09, 0.1 ,\n",
       "        0.11, 0.12, 0.13, 0.14, 0.15, 0.16, 0.17, 0.18, 0.19, 0.2 , 0.21,\n",
       "        0.22, 0.23, 0.24, 0.25, 0.26, 0.27, 0.28, 0.29, 0.3 , 0.31, 0.32,\n",
       "        0.33, 0.34, 0.35, 0.36, 0.37, 0.38, 0.39, 0.4 , 0.41, 0.42, 0.43,\n",
       "        0.44, 0.45, 0.46, 0.47, 0.48, 0.49, 0.5 , 0.51, 0.52, 0.53, 0.54,\n",
       "        0.55, 0.56, 0.57, 0.58, 0.59, 0.6 , 0.61, 0.62, 0.63, 0.64, 0.65,\n",
       "        0.66, 0.67, 0.68, 0.69, 0.7 , 0.71, 0.72, 0.73, 0.74, 0.75, 0.76,\n",
       "        0.77, 0.78, 0.79, 0.8 , 0.81, 0.82, 0.83, 0.84, 0.85, 0.86, 0.87,\n",
       "        0.88, 0.89, 0.9 , 0.91, 0.92, 0.93, 0.94, 0.95, 0.96, 0.97, 0.98,\n",
       "        0.99]),\n",
       " <BarContainer object of 99 artists>)"
      ]
     },
     "execution_count": 23,
     "metadata": {},
     "output_type": "execute_result"
    },
    {
     "data": {
      "image/png": "[encoded data removed]",
      "text/plain": [
       "<Figure size 432x288 with 1 Axes>"
      ]
     },
     "metadata": {
      "needs_background": "light"
     },
     "output_type": "display_data"
    }
   ],
   "source": [
    "plt.hist(Z, bins=bins)"
   ]
  },
  {
   "cell_type": "code",
   "execution_count": null,
   "id": "dc523d74-3ff2-47e4-81b8-1ed304701331",
   "metadata": {},
   "outputs": [],
   "source": []
  }
 ],
 "metadata": {
  "kernelspec": {
   "display_name": "Python 3",
   "language": "python",
   "name": "python3"
  },
  "language_info": {
   "codemirror_mode": {
    "name": "ipython",
    "version": 3
   },
   "file_extension": ".py",
   "mimetype": "text/x-python",
   "name": "python",
   "nbconvert_exporter": "python",
   "pygments_lexer": "ipython3",
   "version": "3.8.8"
  }
 },
 "nbformat": 4,
 "nbformat_minor": 5
}
