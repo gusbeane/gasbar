{
 "cells": [
  {
   "cell_type": "code",
   "execution_count": 1,
   "id": "39d96da6-3a23-4587-9ab3-b558a5ef7085",
   "metadata": {},
   "outputs": [],
   "source": [
    "import numpy as np\n",
    "import h5py as h5\n",
    "import matplotlib.pyplot as plt\n",
    "import arepo\n",
    "from tqdm import tqdm\n",
    "import agama\n",
    "from scipy.optimize import minimize\n",
    "from scipy import stats"
   ]
  },
  {
   "cell_type": "code",
   "execution_count": 2,
   "id": "f964a09f-e8a6-4e82-9b0f-f4e1336da9aa",
   "metadata": {},
   "outputs": [],
   "source": [
    "snap_path = '/n/holystore01/LABS/hernquist_lab/Users/abeane/starbar_runs/runs/'\n",
    "in_bar_path = '/n/holylfs05/LABS/hernquist_lab/Users/abeane/gasbar/analysis/in_bar/data/'"
   ]
  },
  {
   "cell_type": "code",
   "execution_count": 3,
   "id": "348fcc3a-f5b5-4893-bba0-6c0af921b2f2",
   "metadata": {},
   "outputs": [],
   "source": [
    "def read_snap(idx, name, lvl, parttype=[2, 3, 4], fields=['Coordinates', 'Masses']):\n",
    "    sn = arepo.Snapshot(snap_path+name+'/'+lvl+'/output', idx, combineFiles=True, parttype=parttype,\n",
    "                        fields=fields)\n",
    "    return sn"
   ]
  },
  {
   "cell_type": "code",
   "execution_count": 4,
   "id": "f377fe52-dd37-4996-87b1-37c4a43169fe",
   "metadata": {},
   "outputs": [],
   "source": [
    "def compute_Lz(sn):\n",
    "    center = sn.part1.pos.value[np.argmin(sn.part1.pot)]\n",
    "    \n",
    "    pos = sn.part1.pos.value - center\n",
    "    vel = sn.part1.vel.value\n",
    "    \n",
    "    Lang = np.cross(pos, vel)\n",
    "    \n",
    "    return Lang[:,2]"
   ]
  },
  {
   "cell_type": "code",
   "execution_count": 5,
   "id": "3bf398ca-7a70-49e2-99cb-617a18bb289c",
   "metadata": {},
   "outputs": [],
   "source": [
    "def read_agama_pot(idx, name, lvl):\n",
    "    base = '/n/holylfs05/LABS/hernquist_lab/Users/abeane/gasbar/analysis/agama_pot/data/'\n",
    "    fname = base + 'pot_' + name + '-' + lvl + '/pot_' + name + '-' + lvl + '.' + str(idx) + '.txt'\n",
    "    return agama.Potential(fname)\n",
    "\n",
    "def compute_vc(R, pot):\n",
    "    acc = pot.force(R, 0, 0)\n",
    "    vcsq = - R * acc[0]\n",
    "    return np.sqrt(vcsq)\n",
    "\n",
    "def _to_minimize(R, pot, omega_p):\n",
    "    vc = compute_vc(R, pot)\n",
    "    omega = vc / R\n",
    "    return np.abs(omega - omega_p)\n",
    "\n",
    "def compute_RCR(pot, omega_p, Rguess=6):\n",
    "    ans = minimize(_to_minimize, Rguess, args=(pot, omega_p))\n",
    "\n",
    "    return float(ans.x)"
   ]
  },
  {
   "cell_type": "code",
   "execution_count": 6,
   "id": "1b6845a2-c17f-4f64-bbb7-5bf4911841fe",
   "metadata": {},
   "outputs": [],
   "source": [
    "sn = read_snap(500, 'Nbody', 'lvl3', parttype=1, fields=None)\n",
    "sn_1000 = read_snap(1000, 'Nbody', 'lvl3', parttype=1, fields=None)\n",
    "snS = read_snap(300, 'phantom-vacuum-Sg20-Rc3.5', 'lvl3', parttype=1, fields=None)\n",
    "snS_1000 = read_snap(1000, 'phantom-vacuum-Sg20-Rc3.5', 'lvl3', parttype=1, fields=None)"
   ]
  },
  {
   "cell_type": "code",
   "execution_count": 7,
   "id": "ef35491d-bfae-40d1-9791-2d50ee700c02",
   "metadata": {},
   "outputs": [
    {
     "name": "stderr",
     "output_type": "stream",
     "text": [
      "<ipython-input-5-1a3122245c23>:7: DeprecationWarning: setting an array element with a sequence. This was supported in some cases where the elements are arrays with a single element. For example `np.array([1, np.array([2])], dtype=int)`. In the future this will raise the same ValueError as `np.array([1, [2]], dtype=int)`.\n",
      "  acc = pot.force(R, 0, 0)\n",
      "<ipython-input-5-1a3122245c23>:7: DeprecationWarning: setting an array element with a sequence. This was supported in some cases where the elements are arrays with a single element. For example `np.array([1, np.array([2])], dtype=int)`. In the future this will raise the same ValueError as `np.array([1, [2]], dtype=int)`.\n",
      "  acc = pot.force(R, 0, 0)\n"
     ]
    }
   ],
   "source": [
    "pot = read_agama_pot(500, 'Nbody', 'lvl3')\n",
    "RCR = compute_RCR(pot, 40.0)"
   ]
  },
  {
   "cell_type": "code",
   "execution_count": 8,
   "id": "ac3e0242-d23e-4893-9a80-17baefd68093",
   "metadata": {},
   "outputs": [
    {
     "name": "stderr",
     "output_type": "stream",
     "text": [
      "<ipython-input-5-1a3122245c23>:7: DeprecationWarning: setting an array element with a sequence. This was supported in some cases where the elements are arrays with a single element. For example `np.array([1, np.array([2])], dtype=int)`. In the future this will raise the same ValueError as `np.array([1, [2]], dtype=int)`.\n",
      "  acc = pot.force(R, 0, 0)\n",
      "<ipython-input-5-1a3122245c23>:7: DeprecationWarning: setting an array element with a sequence. This was supported in some cases where the elements are arrays with a single element. For example `np.array([1, np.array([2])], dtype=int)`. In the future this will raise the same ValueError as `np.array([1, [2]], dtype=int)`.\n",
      "  acc = pot.force(R, 0, 0)\n"
     ]
    }
   ],
   "source": [
    "pot = read_agama_pot(300, 'phantom-vacuum-Sg20-Rc3.5', 'lvl3')\n",
    "RCR = compute_RCR(pot, 40.0)"
   ]
  },
  {
   "cell_type": "code",
   "execution_count": 9,
   "id": "11cf3e4d-0921-4c13-994a-d1de5970e337",
   "metadata": {},
   "outputs": [],
   "source": [
    "Lz = compute_Lz(sn)\n",
    "LzS = compute_Lz(snS)"
   ]
  },
  {
   "cell_type": "code",
   "execution_count": 35,
   "id": "d973f617-da5b-4b06-802c-ec49449ae943",
   "metadata": {},
   "outputs": [
    {
     "data": {
      "text/plain": [
       "<matplotlib.lines.Line2D at 0x2ace06f40880>"
      ]
     },
     "execution_count": 35,
     "metadata": {},
     "output_type": "execute_result"
    },
    {
     "data": {
      "image/png": "[encoded data removed]",
      "text/plain": [
       "<Figure size 432x288 with 1 Axes>"
      ]
     },
     "metadata": {
      "needs_background": "light"
     },
     "output_type": "display_data"
    }
   ],
   "source": [
    "plt.hist(Lz, bins=np.linspace(0.3 * RCR * 40.0, 1.7 * RCR * 40.0, 128));\n",
    "plt.axvline(RCR * 40.0, c='k')\n",
    "\n",
    "\n",
    "# plt.yscale('log')"
   ]
  },
  {
   "cell_type": "code",
   "execution_count": 40,
   "id": "e43815db-62b8-44d0-b601-3d6c10cd48e9",
   "metadata": {},
   "outputs": [
    {
     "data": {
      "text/plain": [
       "<matplotlib.lines.Line2D at 0x2ace069caf40>"
      ]
     },
     "execution_count": 40,
     "metadata": {},
     "output_type": "execute_result"
    },
    {
     "data": {
      "image/png": "[encoded data removed]",
      "text/plain": [
       "<Figure size 432x288 with 1 Axes>"
      ]
     },
     "metadata": {
      "needs_background": "light"
     },
     "output_type": "display_data"
    }
   ],
   "source": [
    "plt.hist(LzS, bins=np.linspace(0.3 * RCR * 40.0, 1.7 * RCR * 40.0, 64));\n",
    "plt.axvline(RCR * 40.0, c='k')\n",
    "\n",
    "\n",
    "# plt.yscale('log')"
   ]
  },
  {
   "cell_type": "code",
   "execution_count": 17,
   "id": "8c1465cd-802f-4c34-a822-2ea1b32b3801",
   "metadata": {},
   "outputs": [],
   "source": [
    "kernel = stats.gaussian_kde(LzS)\n",
    "Lzlist = np.linspace(0.5*RCR*40.0, 1.5*RCR*40.0, 128)\n",
    "pLz = kernel(Lzlist)\n"
   ]
  },
  {
   "cell_type": "code",
   "execution_count": 18,
   "id": "9eeb3b8d-ffda-409d-a74e-7926141caca7",
   "metadata": {},
   "outputs": [
    {
     "data": {
      "text/plain": [
       "(0.0, 0.0002)"
      ]
     },
     "execution_count": 18,
     "metadata": {},
     "output_type": "execute_result"
    },
    {
     "data": {
      "image/png": "[encoded data removed]",
      "text/plain": [
       "<Figure size 432x288 with 1 Axes>"
      ]
     },
     "metadata": {
      "needs_background": "light"
     },
     "output_type": "display_data"
    }
   ],
   "source": [
    "plt.plot(Lzlist, pLz)\n",
    "plt.ylim(0, 0.0002)"
   ]
  },
  {
   "cell_type": "code",
   "execution_count": null,
   "id": "349e5504-4eb0-4685-862f-f1f770fadb90",
   "metadata": {},
   "outputs": [],
   "source": []
  }
 ],
 "metadata": {
  "kernelspec": {
   "display_name": "Python 3",
   "language": "python",
   "name": "python3"
  },
  "language_info": {
   "codemirror_mode": {
    "name": "ipython",
    "version": 3
   },
   "file_extension": ".py",
   "mimetype": "text/x-python",
   "name": "python",
   "nbconvert_exporter": "python",
   "pygments_lexer": "ipython3",
   "version": "3.8.8"
  }
 },
 "nbformat": 4,
 "nbformat_minor": 5
}
