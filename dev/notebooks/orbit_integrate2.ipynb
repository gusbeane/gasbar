{
 "cells": [
  {
   "cell_type": "code",
   "execution_count": 1,
   "metadata": {
    "collapsed": true
   },
   "outputs": [],
   "source": [
    "from numba import njit\n",
    "from numba_kdtree import KDTree\n",
    "import numpy as np\n",
    "import arepo\n",
    "import matplotlib.pyplot as plt\n",
    "import h5py as h5\n",
    "from scipy import signal\n",
    "\n",
    "from tqdm import tqdm_notebook as tqdm"
   ]
  },
  {
   "cell_type": "code",
   "execution_count": 2,
   "metadata": {
    "collapsed": true
   },
   "outputs": [],
   "source": [
    "sim_list = ['Nbody', 'phantom-vacuum-Sg20-Rc3.5']\n",
    "\n",
    "basepath = '/n/holystore01/LABS/hernquist_lab/Users/abeane/starbar_runs/runs/'\n",
    "\n",
    "def read_snap(idx, sim_idx, lvl='lvl3', parttype=None, \n",
    "              fields=['Coordinates', 'Masses', 'Velocities', 'Acceleration'],\n",
    "              basepath = basepath):\n",
    "    fname = basepath + sim_list[sim_idx] + '/' + lvl + '/output'\n",
    "    return arepo.Snapshot(fname, idx, parttype=parttype, fields=fields, combineFiles=True)"
   ]
  },
  {
   "cell_type": "code",
   "execution_count": 36,
   "metadata": {
    "collapsed": true
   },
   "outputs": [],
   "source": [
    "bprop_path = '/n/home01/abeane/starbar/plots/bar_prop/data/'\n",
    "\n",
    "def read_bar_angle(name, lvl):\n",
    "    t = h5.File(bprop_path + 'bar_prop_' + name + '-' + lvl + '.hdf5', mode='r')\n",
    "    out = t['bar_angle'][:]\n",
    "    tlist = t['tlist'][:]\n",
    "    print(t.keys())\n",
    "    t.close()\n",
    "    \n",
    "    fixed = fix_bar_angle(out)\n",
    "    ps = np.gradient(fixed, tlist)\n",
    "\n",
    "    return out, ps"
   ]
  },
  {
   "cell_type": "code",
   "execution_count": 4,
   "metadata": {
    "collapsed": true
   },
   "outputs": [],
   "source": [
    "def rotate_pos(pos, ang):\n",
    "\n",
    "    Rmat = np.array([[np.cos(ang), -np.sin(ang), 0.0],\n",
    "                     [np.sin(ang),  np.cos(ang), 0.0],\n",
    "                     [0.0,         0.0,          1.0]])\n",
    "    \n",
    "    pos = np.swapaxes(pos, 0, 1)\n",
    "    pos = np.matmul(Rmat, pos)\n",
    "    pos = np.swapaxes(pos, 0, 1)\n",
    "    \n",
    "    return pos\n"
   ]
  },
  {
   "cell_type": "code",
   "execution_count": 5,
   "metadata": {},
   "outputs": [
    {
     "name": "stdout",
     "output_type": "stream",
     "text": [
      "<KeysViewHDF5 ['bar_angle', 'bar_prop', 'idx_list', 'tlist']>\n"
     ]
    }
   ],
   "source": [
    "idx = 300\n",
    "sn = read_snap(idx, 1, lvl='lvl3', parttype=None, fields=None)\n",
    "\n",
    "bangle, ps = read_bar_angle(sim_list[1], 'lvl3')\n",
    "bangle = bangle[idx]\n",
    "ps = ps[idx]"
   ]
  },
  {
   "cell_type": "code",
   "execution_count": 6,
   "metadata": {
    "collapsed": true
   },
   "outputs": [],
   "source": [
    "center = np.array([200., 200., 200.])\n",
    "\n",
    "pos = []\n",
    "pos.append(sn.part0.pos.value)\n",
    "pos.append(sn.part1.pos.value)\n",
    "pos.append(sn.part2.pos.value)\n",
    "pos.append(sn.part3.pos.value)\n",
    "pos.append(sn.part4.pos.value)\n",
    "pos = np.concatenate(pos)\n",
    "\n",
    "pos = pos - center\n",
    "pos = rotate_pos(pos, -bangle)\n",
    "\n",
    "acc = []\n",
    "acc.append(sn.part0.acce)\n",
    "acc.append(sn.part1.acce)\n",
    "acc.append(sn.part2.acce)\n",
    "acc.append(sn.part3.acce)\n",
    "acc.append(sn.part4.acce)\n",
    "acc = np.concatenate(acc)\n",
    "\n",
    "acc = rotate_pos(acc, -bangle)\n",
    "\n",
    "pos_halo = sn.part1.pos.value\n",
    "pos_halo = pos_halo - center\n",
    "pos_halo = rotate_pos(pos_halo, -bangle)\n",
    "\n",
    "vel_halo = sn.part1.vel.value\n",
    "vel_halo = rotate_pos(vel_halo, -bangle)\n",
    "\n",
    "pot_halo = sn.part1.pot.value\n",
    "\n",
    "# also subtract uniform rotation\n",
    "omega = np.array([0., 0., ps])\n",
    "vel_halo = vel_halo - np.cross(omega, pos_halo)\n",
    "\n",
    "vel_halo_inert = sn.part1.vel.value\n",
    "vel_halo_inert = rotate_pos(vel_halo_inert, -bangle)\n",
    "\n",
    "# frame_rot_x = pos_halo[:,1] * ps\n",
    "# frame_rot_y = - pos_halo[:,0] * ps\n",
    "# vel_halo[:,0] -= frame_rot_x\n",
    "# vel_halo[:,1] -= frame_rot_y"
   ]
  },
  {
   "cell_type": "code",
   "execution_count": 7,
   "metadata": {
    "collapsed": true
   },
   "outputs": [],
   "source": [
    "tree = KDTree(pos)"
   ]
  },
  {
   "cell_type": "code",
   "execution_count": 8,
   "metadata": {
    "collapsed": true
   },
   "outputs": [],
   "source": [
    "@njit\n",
    "def grav(pos, vel, acc, tree, omega=np.array([0., 0., 0.])):\n",
    "    _, key = tree.query(pos)\n",
    "    \n",
    "#     out = np.zeros(pos.shape)\n",
    "    \n",
    "#     for i in range(len(out)):\n",
    "#         out[i] = acc[key[i]]\n",
    "\n",
    "    out = acc[key[0]]\n",
    "    \n",
    "    coriolis = -2. * np.cross(omega, vel)\n",
    "    centrifugal = - np.cross(omega, np.cross(omega, pos))\n",
    "    \n",
    "    \n",
    "    return out + coriolis + centrifugal"
   ]
  },
  {
   "cell_type": "code",
   "execution_count": 9,
   "metadata": {
    "collapsed": true
   },
   "outputs": [],
   "source": [
    "@njit\n",
    "def integrate_orbit(dt, tmax, pos0, vel0, tree, acc_tree, ps=0.0):\n",
    "  \n",
    "    continue_integrating = True\n",
    "    \n",
    "    omega = np.array([0., 0., ps])\n",
    "\n",
    "\n",
    "    posi = pos0\n",
    "    veli = vel0\n",
    "    \n",
    "    t = 0.0\n",
    "\n",
    "    pos = np.zeros((int(tmax/dt)+1, 3)).astype(np.float64)\n",
    "    vel = np.zeros((int(tmax/dt)+1, 3)).astype(np.float64)\n",
    "    tlist = np.zeros(int(tmax/dt)+1).astype(np.float64)\n",
    "\n",
    "    for j in range(3):\n",
    "        pos[0][j] = pos0[j]\n",
    "        vel[0][j] = vel0[j]\n",
    "    \n",
    "    i = 0\n",
    "\n",
    "    while continue_integrating:\n",
    "#         print(dt)\n",
    "        t = t + dt\n",
    "    \n",
    "        k1 = grav(posi, veli, acc_tree, tree, omega)[0]\n",
    "        vel1 = veli + k1 * dt/2.0\n",
    "        pos1 = posi + (dt/2.0)*((veli+vel1)/2.0)\n",
    "        \n",
    "        k2 = grav(pos1, vel1, acc_tree, tree, omega)[0]\n",
    "        vel2 = veli + k2*dt/2.0\n",
    "        pos2 = posi + (dt/2.0)*((veli+vel2)/2.0)\n",
    "        \n",
    "        k3 = grav(pos2, vel2, acc_tree, tree, omega)[0]\n",
    "        vel3 = veli + k3*dt\n",
    "        pos3 = posi + dt * ((veli+vel3)/2.0)\n",
    "        \n",
    "        k4 = grav(pos3, vel3, acc_tree, tree, omega)[0]\n",
    "        \n",
    "        velip1 = veli + (dt/6.0) * (k1 + 2.*k2 + 2.*k3 + k4)\n",
    "        posip1 = posi + (dt/6.0) * (veli + 2.*vel1 + 2.*vel2 + vel3)\n",
    "    \n",
    "    \n",
    "#         posip1 = posi + veli*dt + 0.5*acci * dt*dt\n",
    "        \n",
    "#         accip1 = grav(posip1, acc_tree, tree)[0]\n",
    "        \n",
    "#         velip1 = veli + 0.5 * (acci + accip1) * dt\n",
    "\n",
    "        # now determine if we need to continue integrating\n",
    "        if t > tmax:\n",
    "            continue_integrating = False\n",
    "\n",
    "        # update i\n",
    "        i = i+1\n",
    "        for j in range(3):\n",
    "            pos[i][j] = posip1[j]\n",
    "            vel[i][j] = velip1[j]\n",
    "            tlist[i]=t\n",
    "        \n",
    "        posi = np.copy(posip1)\n",
    "        veli = np.copy(velip1)\n",
    "#         acci = np.copy(accip1)\n",
    "\n",
    "    # convert back to inertial reference frame\n",
    "    ang = ps * tlist\n",
    "    pos_inertial = np.copy(pos)\n",
    "    pos_inertial[:,0] = pos[:,0] * np.cos(ang) - pos[:,1] * np.sin(ang)\n",
    "    pos_inertial[:,1] = pos[:,0] * np.sin(ang) + pos[:,1] * np.cos(ang)\n",
    "    \n",
    "    vel_inertial = np.copy(vel)\n",
    "    vel_inertial[:,0] = vel[:,0] * np.cos(ang) - vel[:,1] * np.sin(ang)\n",
    "    vel_inertial[:,1] = vel[:,0] * np.sin(ang) + vel[:,1] * np.cos(ang)\n",
    "    vel_inertial = vel_inertial + np.cross(pos_inertial, omega)\n",
    "        \n",
    "    return pos_inertial, vel_inertial, tlist"
   ]
  },
  {
   "cell_type": "code",
   "execution_count": 39,
   "metadata": {
    "collapsed": true
   },
   "outputs": [],
   "source": [
    "@njit\n",
    "def fix_bar_angle(bar_angle):\n",
    "    out = np.zeros(len(bar_angle))\n",
    "    out[0] = bar_angle[0]\n",
    "\n",
    "    for i in range(1, len(bar_angle)):\n",
    "        dphi = bar_angle[i] - bar_angle[i-1]\n",
    "        if dphi < -np.pi:\n",
    "            dphi += 2.*np.pi\n",
    "        if dphi > np.pi:\n",
    "            dphi -= 2. * np.pi\n",
    "        \n",
    "        out[i] = out[i-1] + dphi\n",
    "    \n",
    "    return out\n",
    "\n",
    "@njit\n",
    "def compute_phi_freq(pos0, vel0, tree, acc, ps):\n",
    "    dt = 0.002\n",
    "    tmax = 20.0\n",
    "    x, v, t = integrate_orbit(dt, tmax, pos0, vel0, tree, acc, ps)\n",
    "    phi = np.arctan2(x[:,1], x[:,0])\n",
    "    R = np.zeros(len(x))\n",
    "    for i in range(len(x)):\n",
    "        R[i] = np.sqrt(x[i][0]*x[i][0] + x[i][1]*x[i][1])\n",
    "    \n",
    "#     R = np.linalg.norm(x[:,:2], axis=1)\n",
    "    \n",
    "#     phi_ft = np.fft.rfft(phi)\n",
    "#     R_ft = np.fft.rfft(R)\n",
    "#     freq = np.fft.rfftfreq(len(t), t[1]-t[0])\n",
    "    \n",
    "    phi_fixed = fix_bar_angle(phi)\n",
    "    \n",
    "    Omega_phi = (phi_fixed[-1]-phi_fixed[0])/tmax\n",
    "    \n",
    "    fs = 1./(t[1]-t[0])\n",
    "#     freq, PR = signal.periodogram(R, fs)\n",
    "#     Omega_R = 2.*np.pi * freq[np.argmax(PR)]\n",
    "    \n",
    "    \n",
    "    \n",
    "    return Omega_phi, Omega_R"
   ]
  },
  {
   "cell_type": "code",
   "execution_count": 40,
   "metadata": {},
   "outputs": [
    {
     "ename": "TypingError",
     "evalue": "Failed in nopython mode pipeline (step: nopython frontend)\n\u001b[1m\u001b[1mUnknown attribute 'periodogram' of type Module(<module 'scipy.signal' from '/n/home01/abeane/.local/lib/python3.6/site-packages/scipy/signal/__init__.py'>)\n\u001b[1m\nFile \"<ipython-input-39-a16adced223f>\", line 38:\u001b[0m\n\u001b[1mdef compute_phi_freq(pos0, vel0, tree, acc, ps):\n    <source elided>\n    fs = 1./(t[1]-t[0])\n\u001b[1m    freq, PR = signal.periodogram(R, fs)\n\u001b[0m    \u001b[1m^\u001b[0m\u001b[0m\n\u001b[0m\n\u001b[0m\u001b[1mDuring: typing of get attribute at <ipython-input-39-a16adced223f> (38)\u001b[0m\n\u001b[1m\nFile \"<ipython-input-39-a16adced223f>\", line 38:\u001b[0m\n\u001b[1mdef compute_phi_freq(pos0, vel0, tree, acc, ps):\n    <source elided>\n    fs = 1./(t[1]-t[0])\n\u001b[1m    freq, PR = signal.periodogram(R, fs)\n\u001b[0m    \u001b[1m^\u001b[0m\u001b[0m\n",
     "output_type": "error",
     "traceback": [
      "\u001b[0;31m---------------------------------------------------------------------------\u001b[0m",
      "\u001b[0;31mTypingError\u001b[0m                               Traceback (most recent call last)",
      "\u001b[0;32m<timed eval>\u001b[0m in \u001b[0;36m<module>\u001b[0;34m()\u001b[0m\n",
      "\u001b[0;32m~/.local/lib/python3.6/site-packages/numba/core/dispatcher.py\u001b[0m in \u001b[0;36m_compile_for_args\u001b[0;34m(self, *args, **kws)\u001b[0m\n\u001b[1;32m    418\u001b[0m                 \u001b[0me\u001b[0m\u001b[0;34m.\u001b[0m\u001b[0mpatch_message\u001b[0m\u001b[0;34m(\u001b[0m\u001b[0mmsg\u001b[0m\u001b[0;34m)\u001b[0m\u001b[0;34m\u001b[0m\u001b[0m\n\u001b[1;32m    419\u001b[0m \u001b[0;34m\u001b[0m\u001b[0m\n\u001b[0;32m--> 420\u001b[0;31m             \u001b[0merror_rewrite\u001b[0m\u001b[0;34m(\u001b[0m\u001b[0me\u001b[0m\u001b[0;34m,\u001b[0m \u001b[0;34m'typing'\u001b[0m\u001b[0;34m)\u001b[0m\u001b[0;34m\u001b[0m\u001b[0m\n\u001b[0m\u001b[1;32m    421\u001b[0m         \u001b[0;32mexcept\u001b[0m \u001b[0merrors\u001b[0m\u001b[0;34m.\u001b[0m\u001b[0mUnsupportedError\u001b[0m \u001b[0;32mas\u001b[0m \u001b[0me\u001b[0m\u001b[0;34m:\u001b[0m\u001b[0;34m\u001b[0m\u001b[0m\n\u001b[1;32m    422\u001b[0m             \u001b[0;31m# Something unsupported is present in the user code, add help info\u001b[0m\u001b[0;34m\u001b[0m\u001b[0;34m\u001b[0m\u001b[0m\n",
      "\u001b[0;32m~/.local/lib/python3.6/site-packages/numba/core/dispatcher.py\u001b[0m in \u001b[0;36merror_rewrite\u001b[0;34m(e, issue_type)\u001b[0m\n\u001b[1;32m    359\u001b[0m                 \u001b[0;32mraise\u001b[0m \u001b[0me\u001b[0m\u001b[0;34m\u001b[0m\u001b[0m\n\u001b[1;32m    360\u001b[0m             \u001b[0;32melse\u001b[0m\u001b[0;34m:\u001b[0m\u001b[0;34m\u001b[0m\u001b[0m\n\u001b[0;32m--> 361\u001b[0;31m                 \u001b[0;32mraise\u001b[0m \u001b[0me\u001b[0m\u001b[0;34m.\u001b[0m\u001b[0mwith_traceback\u001b[0m\u001b[0;34m(\u001b[0m\u001b[0;32mNone\u001b[0m\u001b[0;34m)\u001b[0m\u001b[0;34m\u001b[0m\u001b[0m\n\u001b[0m\u001b[1;32m    362\u001b[0m \u001b[0;34m\u001b[0m\u001b[0m\n\u001b[1;32m    363\u001b[0m         \u001b[0margtypes\u001b[0m \u001b[0;34m=\u001b[0m \u001b[0;34m[\u001b[0m\u001b[0;34m]\u001b[0m\u001b[0;34m\u001b[0m\u001b[0m\n",
      "\u001b[0;31mTypingError\u001b[0m: Failed in nopython mode pipeline (step: nopython frontend)\n\u001b[1m\u001b[1mUnknown attribute 'periodogram' of type Module(<module 'scipy.signal' from '/n/home01/abeane/.local/lib/python3.6/site-packages/scipy/signal/__init__.py'>)\n\u001b[1m\nFile \"<ipython-input-39-a16adced223f>\", line 38:\u001b[0m\n\u001b[1mdef compute_phi_freq(pos0, vel0, tree, acc, ps):\n    <source elided>\n    fs = 1./(t[1]-t[0])\n\u001b[1m    freq, PR = signal.periodogram(R, fs)\n\u001b[0m    \u001b[1m^\u001b[0m\u001b[0m\n\u001b[0m\n\u001b[0m\u001b[1mDuring: typing of get attribute at <ipython-input-39-a16adced223f> (38)\u001b[0m\n\u001b[1m\nFile \"<ipython-input-39-a16adced223f>\", line 38:\u001b[0m\n\u001b[1mdef compute_phi_freq(pos0, vel0, tree, acc, ps):\n    <source elided>\n    fs = 1./(t[1]-t[0])\n\u001b[1m    freq, PR = signal.periodogram(R, fs)\n\u001b[0m    \u001b[1m^\u001b[0m\u001b[0m\n"
     ]
    }
   ],
   "source": [
    "%%time\n",
    "compute_phi_freq(pos_Ecut[0], vel_Ecut[0], tree, acc, ps)"
   ]
  },
  {
   "cell_type": "code",
   "execution_count": 20,
   "metadata": {},
   "outputs": [
    {
     "name": "stdout",
     "output_type": "stream",
     "text": [
      "127199\n"
     ]
    },
    {
     "data": {
      "image/png": "[encoded data removed]",
      "text/plain": [
       "<Figure size 216x432 with 2 Axes>"
      ]
     },
     "metadata": {},
     "output_type": "display_data"
    }
   ],
   "source": [
    "E = 0.5 * (np.linalg.norm(vel_halo_inert, axis=1))**2. + pot_halo\n",
    "# plt.hist(E/1E6, bins=np.linspace(-0.3, 0.1, 1000))\n",
    "\n",
    "R = np.linalg.norm(pos_halo, axis=1)\n",
    "fig, ax = plt.subplots(2, 1, figsize=(3, 6))\n",
    "\n",
    "Ecut = -0.2 * 1E6\n",
    "\n",
    "print(len(np.where(E<Ecut)[0]))\n",
    "\n",
    "ax[0].hist(R[E<Ecut], bins=np.linspace(0, 20, 1000))\n",
    "ax[1].hist(R[E>=Ecut], bins=np.linspace(0, 20, 1000))\n",
    "\n",
    "plt.show()\n"
   ]
  },
  {
   "cell_type": "code",
   "execution_count": 21,
   "metadata": {},
   "outputs": [],
   "source": [
    "Ecut = -0.2 * 1E6\n",
    "\n",
    "pos_Ecut = pos_halo[E < Ecut]\n",
    "vel_Ecut = vel_halo[E < Ecut]"
   ]
  },
  {
   "cell_type": "code",
   "execution_count": 31,
   "metadata": {},
   "outputs": [
    {
     "data": {
      "application/vnd.jupyter.widget-view+json": {
       "model_id": "fdfc1fef85c84aaba7e7adaa876932d4",
       "version_major": 2,
       "version_minor": 0
      },
      "text/plain": [
       "A Jupyter Widget"
      ]
     },
     "metadata": {},
     "output_type": "display_data"
    },
    {
     "ename": "KeyboardInterrupt",
     "evalue": "",
     "output_type": "error",
     "traceback": [
      "\u001b[0;31m---------------------------------------------------------------------------\u001b[0m",
      "\u001b[0;31mKeyboardInterrupt\u001b[0m                         Traceback (most recent call last)",
      "\u001b[0;32m<ipython-input-31-0310bfecefce>\u001b[0m in \u001b[0;36m<module>\u001b[0;34m()\u001b[0m\n\u001b[1;32m      1\u001b[0m \u001b[0;32mfrom\u001b[0m \u001b[0mjoblib\u001b[0m \u001b[0;32mimport\u001b[0m \u001b[0mParallel\u001b[0m\u001b[0;34m,\u001b[0m \u001b[0mdelayed\u001b[0m\u001b[0;34m\u001b[0m\u001b[0m\n\u001b[0;32m----> 2\u001b[0;31m \u001b[0mfreq_list\u001b[0m \u001b[0;34m=\u001b[0m \u001b[0mParallel\u001b[0m\u001b[0;34m(\u001b[0m\u001b[0mn_jobs\u001b[0m\u001b[0;34m=\u001b[0m\u001b[0;36m32\u001b[0m\u001b[0;34m,\u001b[0m \u001b[0mbackend\u001b[0m\u001b[0;34m=\u001b[0m\u001b[0;34m'threading'\u001b[0m\u001b[0;34m)\u001b[0m \u001b[0;34m(\u001b[0m\u001b[0mdelayed\u001b[0m\u001b[0;34m(\u001b[0m\u001b[0mcompute_phi_freq\u001b[0m\u001b[0;34m)\u001b[0m\u001b[0;34m(\u001b[0m\u001b[0mpos_Ecut\u001b[0m\u001b[0;34m[\u001b[0m\u001b[0mi\u001b[0m\u001b[0;34m]\u001b[0m\u001b[0;34m,\u001b[0m \u001b[0mvel_Ecut\u001b[0m\u001b[0;34m[\u001b[0m\u001b[0mi\u001b[0m\u001b[0;34m]\u001b[0m\u001b[0;34m,\u001b[0m \u001b[0mtree\u001b[0m\u001b[0;34m,\u001b[0m \u001b[0macc\u001b[0m\u001b[0;34m,\u001b[0m \u001b[0mps\u001b[0m\u001b[0;34m)\u001b[0m \u001b[0;32mfor\u001b[0m \u001b[0mi\u001b[0m \u001b[0;32min\u001b[0m \u001b[0mtqdm\u001b[0m\u001b[0;34m(\u001b[0m\u001b[0mrange\u001b[0m\u001b[0;34m(\u001b[0m\u001b[0;36m10000\u001b[0m\u001b[0;34m)\u001b[0m\u001b[0;34m)\u001b[0m\u001b[0;34m)\u001b[0m\u001b[0;34m\u001b[0m\u001b[0m\n\u001b[0m\u001b[1;32m      3\u001b[0m \u001b[0mfreq_list\u001b[0m \u001b[0;34m=\u001b[0m \u001b[0mnp\u001b[0m\u001b[0;34m.\u001b[0m\u001b[0marray\u001b[0m\u001b[0;34m(\u001b[0m\u001b[0mfreq_list\u001b[0m\u001b[0;34m)\u001b[0m\u001b[0;34m\u001b[0m\u001b[0m\n",
      "\u001b[0;32m~/.local/lib/python3.6/site-packages/joblib/parallel.py\u001b[0m in \u001b[0;36m__call__\u001b[0;34m(self, iterable)\u001b[0m\n\u001b[1;32m    932\u001b[0m \u001b[0;34m\u001b[0m\u001b[0m\n\u001b[1;32m    933\u001b[0m             \u001b[0;32mwith\u001b[0m \u001b[0mself\u001b[0m\u001b[0;34m.\u001b[0m\u001b[0m_backend\u001b[0m\u001b[0;34m.\u001b[0m\u001b[0mretrieval_context\u001b[0m\u001b[0;34m(\u001b[0m\u001b[0;34m)\u001b[0m\u001b[0;34m:\u001b[0m\u001b[0;34m\u001b[0m\u001b[0m\n\u001b[0;32m--> 934\u001b[0;31m                 \u001b[0mself\u001b[0m\u001b[0;34m.\u001b[0m\u001b[0mretrieve\u001b[0m\u001b[0;34m(\u001b[0m\u001b[0;34m)\u001b[0m\u001b[0;34m\u001b[0m\u001b[0m\n\u001b[0m\u001b[1;32m    935\u001b[0m             \u001b[0;31m# Make sure that we get a last message telling us we are done\u001b[0m\u001b[0;34m\u001b[0m\u001b[0;34m\u001b[0m\u001b[0m\n\u001b[1;32m    936\u001b[0m             \u001b[0melapsed_time\u001b[0m \u001b[0;34m=\u001b[0m \u001b[0mtime\u001b[0m\u001b[0;34m.\u001b[0m\u001b[0mtime\u001b[0m\u001b[0;34m(\u001b[0m\u001b[0;34m)\u001b[0m \u001b[0;34m-\u001b[0m \u001b[0mself\u001b[0m\u001b[0;34m.\u001b[0m\u001b[0m_start_time\u001b[0m\u001b[0;34m\u001b[0m\u001b[0m\n",
      "\u001b[0;32m~/.local/lib/python3.6/site-packages/joblib/parallel.py\u001b[0m in \u001b[0;36mretrieve\u001b[0;34m(self)\u001b[0m\n\u001b[1;32m    831\u001b[0m             \u001b[0;32mtry\u001b[0m\u001b[0;34m:\u001b[0m\u001b[0;34m\u001b[0m\u001b[0m\n\u001b[1;32m    832\u001b[0m                 \u001b[0;32mif\u001b[0m \u001b[0mgetattr\u001b[0m\u001b[0;34m(\u001b[0m\u001b[0mself\u001b[0m\u001b[0;34m.\u001b[0m\u001b[0m_backend\u001b[0m\u001b[0;34m,\u001b[0m \u001b[0;34m'supports_timeout'\u001b[0m\u001b[0;34m,\u001b[0m \u001b[0;32mFalse\u001b[0m\u001b[0;34m)\u001b[0m\u001b[0;34m:\u001b[0m\u001b[0;34m\u001b[0m\u001b[0m\n\u001b[0;32m--> 833\u001b[0;31m                     \u001b[0mself\u001b[0m\u001b[0;34m.\u001b[0m\u001b[0m_output\u001b[0m\u001b[0;34m.\u001b[0m\u001b[0mextend\u001b[0m\u001b[0;34m(\u001b[0m\u001b[0mjob\u001b[0m\u001b[0;34m.\u001b[0m\u001b[0mget\u001b[0m\u001b[0;34m(\u001b[0m\u001b[0mtimeout\u001b[0m\u001b[0;34m=\u001b[0m\u001b[0mself\u001b[0m\u001b[0;34m.\u001b[0m\u001b[0mtimeout\u001b[0m\u001b[0;34m)\u001b[0m\u001b[0;34m)\u001b[0m\u001b[0;34m\u001b[0m\u001b[0m\n\u001b[0m\u001b[1;32m    834\u001b[0m                 \u001b[0;32melse\u001b[0m\u001b[0;34m:\u001b[0m\u001b[0;34m\u001b[0m\u001b[0m\n\u001b[1;32m    835\u001b[0m                     \u001b[0mself\u001b[0m\u001b[0;34m.\u001b[0m\u001b[0m_output\u001b[0m\u001b[0;34m.\u001b[0m\u001b[0mextend\u001b[0m\u001b[0;34m(\u001b[0m\u001b[0mjob\u001b[0m\u001b[0;34m.\u001b[0m\u001b[0mget\u001b[0m\u001b[0;34m(\u001b[0m\u001b[0;34m)\u001b[0m\u001b[0;34m)\u001b[0m\u001b[0;34m\u001b[0m\u001b[0m\n",
      "\u001b[0;32m/n/helmod/apps/centos7/Core/Anaconda3/5.0.1-fasrc02/x/lib/python3.6/multiprocessing/pool.py\u001b[0m in \u001b[0;36mget\u001b[0;34m(self, timeout)\u001b[0m\n\u001b[1;32m    636\u001b[0m \u001b[0;34m\u001b[0m\u001b[0m\n\u001b[1;32m    637\u001b[0m     \u001b[0;32mdef\u001b[0m \u001b[0mget\u001b[0m\u001b[0;34m(\u001b[0m\u001b[0mself\u001b[0m\u001b[0;34m,\u001b[0m \u001b[0mtimeout\u001b[0m\u001b[0;34m=\u001b[0m\u001b[0;32mNone\u001b[0m\u001b[0;34m)\u001b[0m\u001b[0;34m:\u001b[0m\u001b[0;34m\u001b[0m\u001b[0m\n\u001b[0;32m--> 638\u001b[0;31m         \u001b[0mself\u001b[0m\u001b[0;34m.\u001b[0m\u001b[0mwait\u001b[0m\u001b[0;34m(\u001b[0m\u001b[0mtimeout\u001b[0m\u001b[0;34m)\u001b[0m\u001b[0;34m\u001b[0m\u001b[0m\n\u001b[0m\u001b[1;32m    639\u001b[0m         \u001b[0;32mif\u001b[0m \u001b[0;32mnot\u001b[0m \u001b[0mself\u001b[0m\u001b[0;34m.\u001b[0m\u001b[0mready\u001b[0m\u001b[0;34m(\u001b[0m\u001b[0;34m)\u001b[0m\u001b[0;34m:\u001b[0m\u001b[0;34m\u001b[0m\u001b[0m\n\u001b[1;32m    640\u001b[0m             \u001b[0;32mraise\u001b[0m \u001b[0mTimeoutError\u001b[0m\u001b[0;34m\u001b[0m\u001b[0m\n",
      "\u001b[0;32m/n/helmod/apps/centos7/Core/Anaconda3/5.0.1-fasrc02/x/lib/python3.6/multiprocessing/pool.py\u001b[0m in \u001b[0;36mwait\u001b[0;34m(self, timeout)\u001b[0m\n\u001b[1;32m    633\u001b[0m \u001b[0;34m\u001b[0m\u001b[0m\n\u001b[1;32m    634\u001b[0m     \u001b[0;32mdef\u001b[0m \u001b[0mwait\u001b[0m\u001b[0;34m(\u001b[0m\u001b[0mself\u001b[0m\u001b[0;34m,\u001b[0m \u001b[0mtimeout\u001b[0m\u001b[0;34m=\u001b[0m\u001b[0;32mNone\u001b[0m\u001b[0;34m)\u001b[0m\u001b[0;34m:\u001b[0m\u001b[0;34m\u001b[0m\u001b[0m\n\u001b[0;32m--> 635\u001b[0;31m         \u001b[0mself\u001b[0m\u001b[0;34m.\u001b[0m\u001b[0m_event\u001b[0m\u001b[0;34m.\u001b[0m\u001b[0mwait\u001b[0m\u001b[0;34m(\u001b[0m\u001b[0mtimeout\u001b[0m\u001b[0;34m)\u001b[0m\u001b[0;34m\u001b[0m\u001b[0m\n\u001b[0m\u001b[1;32m    636\u001b[0m \u001b[0;34m\u001b[0m\u001b[0m\n\u001b[1;32m    637\u001b[0m     \u001b[0;32mdef\u001b[0m \u001b[0mget\u001b[0m\u001b[0;34m(\u001b[0m\u001b[0mself\u001b[0m\u001b[0;34m,\u001b[0m \u001b[0mtimeout\u001b[0m\u001b[0;34m=\u001b[0m\u001b[0;32mNone\u001b[0m\u001b[0;34m)\u001b[0m\u001b[0;34m:\u001b[0m\u001b[0;34m\u001b[0m\u001b[0m\n",
      "\u001b[0;32m/n/helmod/apps/centos7/Core/Anaconda3/5.0.1-fasrc02/x/lib/python3.6/threading.py\u001b[0m in \u001b[0;36mwait\u001b[0;34m(self, timeout)\u001b[0m\n\u001b[1;32m    549\u001b[0m             \u001b[0msignaled\u001b[0m \u001b[0;34m=\u001b[0m \u001b[0mself\u001b[0m\u001b[0;34m.\u001b[0m\u001b[0m_flag\u001b[0m\u001b[0;34m\u001b[0m\u001b[0m\n\u001b[1;32m    550\u001b[0m             \u001b[0;32mif\u001b[0m \u001b[0;32mnot\u001b[0m \u001b[0msignaled\u001b[0m\u001b[0;34m:\u001b[0m\u001b[0;34m\u001b[0m\u001b[0m\n\u001b[0;32m--> 551\u001b[0;31m                 \u001b[0msignaled\u001b[0m \u001b[0;34m=\u001b[0m \u001b[0mself\u001b[0m\u001b[0;34m.\u001b[0m\u001b[0m_cond\u001b[0m\u001b[0;34m.\u001b[0m\u001b[0mwait\u001b[0m\u001b[0;34m(\u001b[0m\u001b[0mtimeout\u001b[0m\u001b[0;34m)\u001b[0m\u001b[0;34m\u001b[0m\u001b[0m\n\u001b[0m\u001b[1;32m    552\u001b[0m             \u001b[0;32mreturn\u001b[0m \u001b[0msignaled\u001b[0m\u001b[0;34m\u001b[0m\u001b[0m\n\u001b[1;32m    553\u001b[0m \u001b[0;34m\u001b[0m\u001b[0m\n",
      "\u001b[0;32m/n/helmod/apps/centos7/Core/Anaconda3/5.0.1-fasrc02/x/lib/python3.6/threading.py\u001b[0m in \u001b[0;36mwait\u001b[0;34m(self, timeout)\u001b[0m\n\u001b[1;32m    293\u001b[0m         \u001b[0;32mtry\u001b[0m\u001b[0;34m:\u001b[0m    \u001b[0;31m# restore state no matter what (e.g., KeyboardInterrupt)\u001b[0m\u001b[0;34m\u001b[0m\u001b[0m\n\u001b[1;32m    294\u001b[0m             \u001b[0;32mif\u001b[0m \u001b[0mtimeout\u001b[0m \u001b[0;32mis\u001b[0m \u001b[0;32mNone\u001b[0m\u001b[0;34m:\u001b[0m\u001b[0;34m\u001b[0m\u001b[0m\n\u001b[0;32m--> 295\u001b[0;31m                 \u001b[0mwaiter\u001b[0m\u001b[0;34m.\u001b[0m\u001b[0macquire\u001b[0m\u001b[0;34m(\u001b[0m\u001b[0;34m)\u001b[0m\u001b[0;34m\u001b[0m\u001b[0m\n\u001b[0m\u001b[1;32m    296\u001b[0m                 \u001b[0mgotit\u001b[0m \u001b[0;34m=\u001b[0m \u001b[0;32mTrue\u001b[0m\u001b[0;34m\u001b[0m\u001b[0m\n\u001b[1;32m    297\u001b[0m             \u001b[0;32melse\u001b[0m\u001b[0;34m:\u001b[0m\u001b[0;34m\u001b[0m\u001b[0m\n",
      "\u001b[0;31mKeyboardInterrupt\u001b[0m: "
     ]
    }
   ],
   "source": [
    "from joblib import Parallel, delayed\n",
    "freq_list = Parallel(n_jobs=32, backend='threading') (delayed(compute_phi_freq)(pos_Ecut[i], vel_Ecut[i], tree, acc, ps) for i in tqdm(range(10000)))\n",
    "freq_list = np.array(freq_list)"
   ]
  },
  {
   "cell_type": "code",
   "execution_count": 28,
   "metadata": {},
   "outputs": [
    {
     "ename": "TypeError",
     "evalue": "list indices must be integers or slices, not tuple",
     "output_type": "error",
     "traceback": [
      "\u001b[0;31m---------------------------------------------------------------------------\u001b[0m",
      "\u001b[0;31mTypeError\u001b[0m                                 Traceback (most recent call last)",
      "\u001b[0;32m<ipython-input-28-e864948c547c>\u001b[0m in \u001b[0;36m<module>\u001b[0;34m()\u001b[0m\n\u001b[0;32m----> 1\u001b[0;31m \u001b[0mplt\u001b[0m\u001b[0;34m.\u001b[0m\u001b[0mhist\u001b[0m\u001b[0;34m(\u001b[0m\u001b[0mans\u001b[0m\u001b[0;34m[\u001b[0m\u001b[0;34m:\u001b[0m\u001b[0;34m,\u001b[0m\u001b[0;36m0\u001b[0m\u001b[0;34m]\u001b[0m\u001b[0;34m,\u001b[0m \u001b[0mbins\u001b[0m\u001b[0;34m=\u001b[0m\u001b[0;36m200\u001b[0m\u001b[0;34m)\u001b[0m\u001b[0;34m\u001b[0m\u001b[0m\n\u001b[0m\u001b[1;32m      2\u001b[0m \u001b[0mplt\u001b[0m\u001b[0;34m.\u001b[0m\u001b[0mshow\u001b[0m\u001b[0;34m(\u001b[0m\u001b[0;34m)\u001b[0m\u001b[0;34m\u001b[0m\u001b[0m\n",
      "\u001b[0;31mTypeError\u001b[0m: list indices must be integers or slices, not tuple"
     ]
    }
   ],
   "source": [
    "plt.hist(ans[:,0], bins=200)\n",
    "plt.show()"
   ]
  },
  {
   "cell_type": "code",
   "execution_count": 30,
   "metadata": {},
   "outputs": [
    {
     "data": {
      "text/plain": [
       "array([[-24.0626415 ,   0.31412785],\n",
       "       [  5.92826558,   0.31412785],\n",
       "       [ -6.06410241,   0.31412785],\n",
       "       [ 35.45061706,   0.31412785],\n",
       "       [ -1.67058047,   2.82715067],\n",
       "       [  1.03458664,   0.31412785],\n",
       "       [ -0.86652714,   0.31412785],\n",
       "       [ 34.12021437,   0.31412785],\n",
       "       [ -3.69152638,   0.31412785],\n",
       "       [ -2.94021344,   0.62825571],\n",
       "       [ -0.25530757,   0.62825571],\n",
       "       [ 26.98517919,  40.52249298],\n",
       "       [ 19.57113974,   0.62825571],\n",
       "       [ 26.11586904,   0.31412785],\n",
       "       [ -2.14563197,   0.31412785],\n",
       "       [ -3.18897225,   0.31412785],\n",
       "       [ -5.30593106,   0.31412785],\n",
       "       [-33.15435054,   0.31412785],\n",
       "       [ 11.36054496,   0.31412785],\n",
       "       [  3.48976804,  40.83662083],\n",
       "       [-11.88619857,   0.31412785],\n",
       "       [-37.39743767,   0.31412785],\n",
       "       [  1.22427081,   0.31412785],\n",
       "       [ -3.53599809,   0.31412785],\n",
       "       [ 24.74851861,   0.31412785],\n",
       "       [ -9.27305382,   8.16732417],\n",
       "       [  6.24409709,   2.82715067],\n",
       "       [  0.74819267,   0.62825571],\n",
       "       [ 14.43498884,   0.31412785],\n",
       "       [ 19.73936188,   0.31412785],\n",
       "       [ -0.43835827,   0.31412785],\n",
       "       [ 27.71288819,   0.31412785],\n",
       "       [ 11.30237345,   4.08366208],\n",
       "       [ 74.0665888 ,   0.31412785],\n",
       "       [ 66.2749405 ,   0.31412785],\n",
       "       [-11.06691392,   0.31412785],\n",
       "       [ 16.46970256,   0.62825571],\n",
       "       [ 20.24953829,   0.31412785],\n",
       "       [ 68.25285346,   0.31412785],\n",
       "       [-48.586047  ,   0.31412785],\n",
       "       [ 72.23179048,   0.31412785],\n",
       "       [-67.23568366,   0.31412785],\n",
       "       [  1.56620613,   0.31412785],\n",
       "       [  2.20979375,   0.31412785],\n",
       "       [ 57.21930903,   0.31412785],\n",
       "       [ 16.50341514,   0.31412785],\n",
       "       [ -0.55779864,   0.31412785],\n",
       "       [-58.94118304,   0.31412785],\n",
       "       [ -2.4130223 ,   1.25651141],\n",
       "       [  6.34284066,   0.31412785],\n",
       "       [ 17.05481046,   0.31412785],\n",
       "       [-10.71382508,   0.31412785],\n",
       "       [ 60.8711706 ,   0.31412785],\n",
       "       [ 44.85752111,   0.31412785],\n",
       "       [  3.9355351 ,   0.62825571],\n",
       "       [ 31.56348198,   0.31412785],\n",
       "       [ -8.98320735,   0.31412785],\n",
       "       [ 53.53389335,   0.31412785],\n",
       "       [ 45.99380749,   0.31412785],\n",
       "       [  2.29883785,   0.31412785],\n",
       "       [  1.13513577,   5.34017349],\n",
       "       [ 54.813878  ,   0.31412785],\n",
       "       [ -6.2784149 ,   0.31412785],\n",
       "       [-26.36843189,   0.31412785],\n",
       "       [-11.23669043,   0.31412785],\n",
       "       [ -2.50589206,   0.31412785],\n",
       "       [ -6.94688473,   0.31412785],\n",
       "       [-59.22187045,   0.31412785],\n",
       "       [ -5.07583273,   0.31412785],\n",
       "       [ 66.19669074,   0.31412785],\n",
       "       [  1.41604017,   0.31412785],\n",
       "       [ -9.53643182,   0.31412785],\n",
       "       [  8.56492711,   4.08366208],\n",
       "       [-12.35560988,   0.31412785],\n",
       "       [ -2.51433169,   0.31412785],\n",
       "       [ 10.79056036,   0.31412785],\n",
       "       [  3.48401973,   0.31412785],\n",
       "       [-10.83967808,   0.31412785],\n",
       "       [-37.67689673,   0.31412785],\n",
       "       [-47.02639109,   0.31412785],\n",
       "       [  2.72330152,   0.31412785],\n",
       "       [ -8.68151222,   0.31412785],\n",
       "       [  3.38980108,   6.28255705],\n",
       "       [-64.04727657,  36.75295875],\n",
       "       [-11.39219832,   0.31412785],\n",
       "       [ 56.32376267,  34.23993593],\n",
       "       [ 66.10146038,   0.31412785],\n",
       "       [ 17.10935384,   0.31412785],\n",
       "       [-18.13721173,   0.31412785],\n",
       "       [  1.54877686,   4.71191779],\n",
       "       [ 45.1227601 ,   0.31412785],\n",
       "       [  2.83773359,   0.31412785],\n",
       "       [-20.59309848,  42.72138795],\n",
       "       [ 62.98521338,   0.31412785],\n",
       "       [  0.46569659,   0.94238356],\n",
       "       [ -2.02030906,   0.31412785],\n",
       "       [ 24.63399286,  35.49644734],\n",
       "       [-37.53802157,   0.31412785],\n",
       "       [ 11.62000036,   0.31412785],\n",
       "       [ -6.82405274,   0.31412785]])"
      ]
     },
     "execution_count": 30,
     "metadata": {},
     "output_type": "execute_result"
    }
   ],
   "source": [
    "np.array(ans)"
   ]
  },
  {
   "cell_type": "code",
   "execution_count": null,
   "metadata": {
    "collapsed": true
   },
   "outputs": [],
   "source": []
  }
 ],
 "metadata": {
  "kernelspec": {
   "display_name": "Python 3",
   "language": "python",
   "name": "python3"
  },
  "language_info": {
   "codemirror_mode": {
    "name": "ipython",
    "version": 3
   },
   "file_extension": ".py",
   "mimetype": "text/x-python",
   "name": "python",
   "nbconvert_exporter": "python",
   "pygments_lexer": "ipython3",
   "version": "3.6.3"
  }
 },
 "nbformat": 4,
 "nbformat_minor": 2
}
