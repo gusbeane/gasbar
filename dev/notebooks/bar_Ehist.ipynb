{
 "cells": [
  {
   "cell_type": "code",
   "execution_count": 1,
   "metadata": {},
   "outputs": [
    {
     "data": {
      "text/plain": [
       "'Length unit: 1 Kpc, velocity unit: 1 km/s, time unit: 977.793 Myr, mass unit: 1e+10 Msun, gravitational constant: 43009.2'"
      ]
     },
     "execution_count": 1,
     "metadata": {},
     "output_type": "execute_result"
    }
   ],
   "source": [
    "import agama\n",
    "import arepo\n",
    "import h5py as h5\n",
    "import numpy as np\n",
    "import matplotlib.pyplot as plt\n",
    "from tqdm import tqdm_notebook as tqdm\n",
    "\n",
    "from joblib import Parallel, delayed\n",
    "import matplotlib as mpl\n",
    "\n",
    "from numba import njit\n",
    "\n",
    "agama.setUnits(mass=1E10, length=1, velocity=1)"
   ]
  },
  {
   "cell_type": "code",
   "execution_count": 2,
   "metadata": {
    "collapsed": true
   },
   "outputs": [],
   "source": [
    "sim_list = ['Nbody', 'phantom-vacuum-Sg20-Rc3.5']\n",
    "\n",
    "basepath = '/n/holystore01/LABS/hernquist_lab/Users/abeane/starbar_runs/runs/'\n",
    "\n",
    "def read_snap(idx, sim_idx, lvl='lvl3', parttype=[0], fields=['Coordinates', 'Masses', 'Velocities', 'ParticleIDs', 'Acceleration'],\n",
    "              basepath = basepath):\n",
    "    fname = basepath + sim_list[sim_idx] + '/' + lvl + '/output'\n",
    "    return arepo.Snapshot(fname, idx, parttype=parttype, fields=fields, combineFiles=True)\n",
    "\n",
    "def read_sfr(sim_idx, lvl='lvl3', basepath = basepath):\n",
    "    fname = basepath + sim_list[sim_idx] + '/' + lvl + '/output/sfr.txt'\n",
    "    return np.genfromtxt(fname)\n",
    "\n",
    "def read_fourier(sim_idx, lvl='lvl3', basepath='/n/home01/abeane/starbar/plots/'):\n",
    "    sim = sim_list[sim_idx]\n",
    "    f = h5.File(basepath+'/fourier_component/data/fourier_'+sim+'-'+lvl+'.hdf5', mode='r')\n",
    "    return f"
   ]
  },
  {
   "cell_type": "code",
   "execution_count": 3,
   "metadata": {
    "collapsed": true
   },
   "outputs": [],
   "source": [
    "snap_list = np.arange(0, 1600, 50)"
   ]
  },
  {
   "cell_type": "code",
   "execution_count": 4,
   "metadata": {
    "collapsed": true
   },
   "outputs": [],
   "source": [
    "import glob\n",
    "def read_pattern_speed(freq_path, name, lvl, snap):\n",
    "    frq = h5.File(freq_path + '/freq_' + name + '-' + lvl + '/freq_' + name + '-' + lvl + '.' + \\\n",
    "             str(0)+'.hdf5', mode='r')\n",
    "    ans = np.array(frq['PatternSpeed'][snap])\n",
    "    frq.close()\n",
    "    return ans"
   ]
  },
  {
   "cell_type": "code",
   "execution_count": 5,
   "metadata": {
    "collapsed": true
   },
   "outputs": [],
   "source": [
    "freq_path = '/n/home01/abeane/starbar/plots/freq/data'\n",
    "\n",
    "ps_N = read_pattern_speed(freq_path, 'Nbody', 'lvl3', snap_list)\n",
    "ps_S = read_pattern_speed(freq_path, 'phantom-vacuum-Sg20-Rc3.5', 'lvl3', snap_list) "
   ]
  },
  {
   "cell_type": "code",
   "execution_count": 6,
   "metadata": {
    "collapsed": true
   },
   "outputs": [],
   "source": [
    "def get_E_Lz(idx, sim_idx, Nbody=False):\n",
    "    sn = read_snap(idx, sim_idx, lvl='lvl3', parttype=1, \n",
    "               fields=['Coordinates', 'ParticleIDs', 'Velocities', 'Potential'])\n",
    "\n",
    "    if Nbody:\n",
    "        center = np.array([0., 0., 0.])\n",
    "    else:\n",
    "        center = np.array([200., 200., 200.])\n",
    "\n",
    "    pos = sn.part1.pos.value - center\n",
    "    vel = sn.part1.vel.value\n",
    "    phi = sn.part1.pot.value\n",
    "\n",
    "    E = phi + 0.5 * np.square(np.linalg.norm(vel, axis=1))\n",
    "    Lz = np.cross(pos, vel)[:,2]\n",
    "    Ltot = np.linalg.norm(np.cross(pos, vel), axis=1)\n",
    "    \n",
    "    return E, Lz"
   ]
  },
  {
   "cell_type": "code",
   "execution_count": 7,
   "metadata": {
    "collapsed": true
   },
   "outputs": [],
   "source": [
    "def read_agama_pot(idx, name, lvl):\n",
    "    base = '/n/home01/abeane/starbar/plots/agama_pot/data/'\n",
    "    fname = base + 'pot_' + name + '-' + lvl + '/pot_' + name + '-' + lvl + '.' + str(idx) + '.txt'\n",
    "    return agama.Potential(fname)"
   ]
  },
  {
   "cell_type": "code",
   "execution_count": 8,
   "metadata": {
    "collapsed": true
   },
   "outputs": [],
   "source": [
    "from scipy.optimize import minimize\n",
    "\n",
    "def _to_minimize(E, Op, pot):\n",
    "    return np.abs((Op - 2.*np.pi/pot.Tcirc(E)))\n",
    "\n",
    "def compute_E_CR(pot, Op):\n",
    "    ans = minimize(_to_minimize, -1E5, args=(Op, pot))\n",
    "    return ans.x[0]"
   ]
  },
  {
   "cell_type": "code",
   "execution_count": 9,
   "metadata": {
    "collapsed": true
   },
   "outputs": [],
   "source": [
    "E0, Lz0 = get_E_Lz(snap_list[0], 1, Nbody=False)\n",
    "E10, Lz10 = get_E_Lz(snap_list[10], 1, Nbody=False)\n",
    "E20, Lz20 = get_E_Lz(snap_list[20], 1, Nbody=False)\n",
    "E30, Lz30 = get_E_Lz(snap_list[30], 1, Nbody=False)\n",
    "\n",
    "E0N, Lz0N = get_E_Lz(snap_list[0], 0, Nbody=True)\n",
    "E10N, Lz10N = get_E_Lz(snap_list[10], 0, Nbody=True)\n",
    "E20N, Lz20N = get_E_Lz(snap_list[20], 0, Nbody=True)\n",
    "E30N, Lz30N = get_E_Lz(snap_list[30], 0, Nbody=True)"
   ]
  },
  {
   "cell_type": "code",
   "execution_count": 10,
   "metadata": {},
   "outputs": [
    {
     "name": "stderr",
     "output_type": "stream",
     "text": [
      "/n/home01/abeane/.local/lib/python3.6/site-packages/scipy/optimize/optimize.py:1166: RuntimeWarning: divide by zero encountered in double_scalars\n",
      "  rhok = 1.0 / (np.dot(yk, sk))\n"
     ]
    }
   ],
   "source": [
    "pot0 = read_agama_pot(snap_list[0], 'phantom-vacuum-Sg20-Rc3.5', 'lvl3')\n",
    "pot10 = read_agama_pot(snap_list[10], 'phantom-vacuum-Sg20-Rc3.5', 'lvl3')\n",
    "pot20 = read_agama_pot(snap_list[20], 'phantom-vacuum-Sg20-Rc3.5', 'lvl3')\n",
    "pot30 = read_agama_pot(snap_list[30], 'phantom-vacuum-Sg20-Rc3.5', 'lvl3')\n",
    "\n",
    "pot0N = read_agama_pot(snap_list[0], 'Nbody', 'lvl3')\n",
    "pot10N = read_agama_pot(snap_list[10], 'Nbody', 'lvl3')\n",
    "pot20N = read_agama_pot(snap_list[20], 'Nbody', 'lvl3')\n",
    "pot30N = read_agama_pot(snap_list[30], 'Nbody', 'lvl3')\n",
    "\n",
    "ECR_0 = compute_E_CR(pot0, ps_S[0])\n",
    "ECR_10 = compute_E_CR(pot10, ps_S[10])\n",
    "ECR_20 = compute_E_CR(pot20, ps_S[20])\n",
    "ECR_30 = compute_E_CR(pot30, ps_S[30])\n",
    "\n",
    "ECR_0N = compute_E_CR(pot0N, ps_N[0])\n",
    "ECR_10N = compute_E_CR(pot10N, ps_N[10])\n",
    "ECR_20N = compute_E_CR(pot20N, ps_N[20])\n",
    "ECR_30N = compute_E_CR(pot30N, ps_N[30])"
   ]
  },
  {
   "cell_type": "code",
   "execution_count": 13,
   "metadata": {},
   "outputs": [
    {
     "data": {
      "image/png": "[encoded data removed]",
      "text/plain": [
       "<Figure size 1008x288 with 4 Axes>"
      ]
     },
     "metadata": {},
     "output_type": "display_data"
    }
   ],
   "source": [
    "fig, ax = plt.subplots(1, 4, figsize=(14, 4))\n",
    "\n",
    "bins = np.linspace(-180, -50, 100)\n",
    "\n",
    "ax[0].hist(E0/1000.0, bins=bins)\n",
    "ax[1].hist(E10/1000.0, bins=bins)\n",
    "ax[2].hist(E20/1000.0, bins=bins)\n",
    "ax[3].hist(E30/1000.0, bins=bins)\n",
    "\n",
    "ax[0].axvline(ECR_0/1000.0)\n",
    "ax[1].axvline(ECR_10/1000.0)\n",
    "ax[2].axvline(ECR_20/1000.0)\n",
    "ax[3].axvline(ECR_30/1000.0)\n",
    "\n",
    "fig.tight_layout()\n",
    "\n",
    "plt.show()"
   ]
  },
  {
   "cell_type": "code",
   "execution_count": 26,
   "metadata": {},
   "outputs": [
    {
     "data": {
      "image/png": "[encoded data removed]",
      "text/plain": [
       "<Figure size 1008x288 with 4 Axes>"
      ]
     },
     "metadata": {},
     "output_type": "display_data"
    }
   ],
   "source": [
    "fig, ax = plt.subplots(1, 4, figsize=(14, 4))\n",
    "\n",
    "bins = np.linspace(-180, -50, 100)\n",
    "\n",
    "ax[0].hist(E0N/1000.0, bins=bins)\n",
    "ax[1].hist(E10N/1000.0, bins=bins)\n",
    "ax[2].hist(E20N/1000.0, bins=bins)\n",
    "ax[3].hist(E30N/1000.0, bins=bins)\n",
    "\n",
    "# ax[0].axvline(ECR_0N/1000.0)\n",
    "ax[1].axvline(ECR_10N/1000.0)\n",
    "ax[2].axvline(ECR_20N/1000.0)\n",
    "ax[3].axvline(ECR_30N/1000.0)\n",
    "\n",
    "fig.tight_layout()\n",
    "\n",
    "plt.show()"
   ]
  },
  {
   "cell_type": "code",
   "execution_count": 25,
   "metadata": {},
   "outputs": [
    {
     "data": {
      "text/plain": [
       "array([ -609.58124805,  -626.61257339,  -606.5053037 , ...,\n",
       "       -1653.4198139 , -1639.54394684, -1638.58341266])"
      ]
     },
     "execution_count": 25,
     "metadata": {},
     "output_type": "execute_result"
    }
   ],
   "source": [
    "E0N"
   ]
  },
  {
   "cell_type": "code",
   "execution_count": 16,
   "metadata": {},
   "outputs": [
    {
     "data": {
      "image/png": "[encoded data removed]",
      "text/plain": [
       "<Figure size 1008x288 with 4 Axes>"
      ]
     },
     "metadata": {},
     "output_type": "display_data"
    }
   ],
   "source": [
    "fig, ax = plt.subplots(1, 4, figsize=(14, 4))\n",
    "\n",
    "bins = np.linspace(-5, 0, 100)\n",
    "\n",
    "ax[0].hist(Lz0/1000.0, bins=bins)\n",
    "ax[1].hist(Lz10/1000.0, bins=bins)\n",
    "ax[2].hist(Lz20/1000.0, bins=bins)\n",
    "ax[3].hist(Lz30/1000.0, bins=bins)\n",
    "\n",
    "# ax[0].axvline(ECR_0/1000.0)\n",
    "# ax[1].axvline(ECR_10/1000.0)\n",
    "# ax[2].axvline(ECR_20/1000.0)\n",
    "# ax[3].axvline(ECR_30/1000.0)\n",
    "\n",
    "for x in ax:\n",
    "    x.set_ylim(0, 200000)\n",
    "\n",
    "fig.tight_layout()\n",
    "\n",
    "plt.show()"
   ]
  },
  {
   "cell_type": "code",
   "execution_count": 21,
   "metadata": {},
   "outputs": [
    {
     "data": {
      "image/png": "[encoded data removed]",
      "text/plain": [
       "<Figure size 1008x288 with 4 Axes>"
      ]
     },
     "metadata": {},
     "output_type": "display_data"
    }
   ],
   "source": [
    "fig, ax = plt.subplots(1, 4, figsize=(14, 4))\n",
    "\n",
    "bins = np.linspace(-1.5, -0.5, 100)\n",
    "\n",
    "ax[0].hist(Lz0/1000.0, bins=bins)\n",
    "ax[1].hist(Lz10/1000.0, bins=bins)\n",
    "ax[2].hist(Lz20/1000.0, bins=bins)\n",
    "ax[3].hist(Lz30/1000.0, bins=bins)\n",
    "\n",
    "# ax[0].axvline(ECR_0/1000.0)\n",
    "# ax[1].axvline(ECR_10/1000.0)\n",
    "# ax[2].axvline(ECR_20/1000.0)\n",
    "# ax[3].axvline(ECR_30/1000.0)\n",
    "\n",
    "for x in ax:\n",
    "    x.set_ylim(0, 30000)\n",
    "\n",
    "fig.tight_layout()\n",
    "\n",
    "plt.show()"
   ]
  },
  {
   "cell_type": "code",
   "execution_count": null,
   "metadata": {
    "collapsed": true
   },
   "outputs": [],
   "source": []
  }
 ],
 "metadata": {
  "kernelspec": {
   "display_name": "Python 3",
   "language": "python",
   "name": "python3"
  },
  "language_info": {
   "codemirror_mode": {
    "name": "ipython",
    "version": 3
   },
   "file_extension": ".py",
   "mimetype": "text/x-python",
   "name": "python",
   "nbconvert_exporter": "python",
   "pygments_lexer": "ipython3",
   "version": "3.6.3"
  }
 },
 "nbformat": 4,
 "nbformat_minor": 2
}
