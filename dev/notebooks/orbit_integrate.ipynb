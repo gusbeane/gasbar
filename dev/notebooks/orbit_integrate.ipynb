{
 "cells": [
  {
   "cell_type": "code",
   "execution_count": 1,
   "metadata": {
    "collapsed": true
   },
   "outputs": [],
   "source": [
    "from numba import njit, prange\n",
    "from numba.experimental import jitclass\n",
    "from numba import int64, float64\n",
    "from numba_kdtree import KDTree\n",
    "import numpy as np\n",
    "import arepo\n",
    "import matplotlib.pyplot as plt\n",
    "import h5py as h5\n",
    "from scipy import signal\n",
    "\n",
    "from tqdm import tqdm_notebook as tqdm\n",
    "from multiprocessing import Pool"
   ]
  },
  {
   "cell_type": "code",
   "execution_count": 2,
   "metadata": {
    "collapsed": true
   },
   "outputs": [],
   "source": [
    "from joblib import Parallel, delayed"
   ]
  },
  {
   "cell_type": "code",
   "execution_count": 3,
   "metadata": {
    "collapsed": true
   },
   "outputs": [],
   "source": [
    "sim_list = ['Nbody', 'phantom-vacuum-Sg20-Rc3.5']\n",
    "\n",
    "basepath = '/n/holystore01/LABS/hernquist_lab/Users/abeane/starbar_runs/runs/'\n",
    "\n",
    "def read_snap(idx, sim_idx, lvl='lvl3', parttype=None, \n",
    "              fields=['Coordinates', 'Masses', 'Velocities', 'Acceleration'],\n",
    "              basepath = basepath):\n",
    "    fname = basepath + sim_list[sim_idx] + '/' + lvl + '/output'\n",
    "    return arepo.Snapshot(fname, idx, parttype=parttype, fields=fields, combineFiles=True)"
   ]
  },
  {
   "cell_type": "code",
   "execution_count": 4,
   "metadata": {
    "collapsed": true
   },
   "outputs": [],
   "source": [
    "bprop_path = '/n/home01/abeane/starbar/plots/bar_prop/data/'\n",
    "\n",
    "def read_bar_angle(name, lvl):\n",
    "    t = h5.File(bprop_path + 'bar_prop_' + name + '-' + lvl + '.hdf5', mode='r')\n",
    "    out = t['bar_angle'][:]\n",
    "    tlist = t['tlist'][:]\n",
    "    print(t.keys())\n",
    "    t.close()\n",
    "    \n",
    "    fixed = fix_bar_angle(out)\n",
    "    ps = np.gradient(fixed, tlist)\n",
    "\n",
    "    return out, ps"
   ]
  },
  {
   "cell_type": "code",
   "execution_count": 5,
   "metadata": {
    "collapsed": true
   },
   "outputs": [],
   "source": [
    "def rotate_pos(pos, ang):\n",
    "\n",
    "    Rmat = np.array([[np.cos(ang), -np.sin(ang), 0.0],\n",
    "                     [np.sin(ang),  np.cos(ang), 0.0],\n",
    "                     [0.0,         0.0,          1.0]])\n",
    "    \n",
    "    pos = np.swapaxes(pos, 0, 1)\n",
    "    pos = np.matmul(Rmat, pos)\n",
    "    pos = np.swapaxes(pos, 0, 1)\n",
    "    \n",
    "    return pos\n",
    "\n",
    "def fix_bar_angle(bar_angle):\n",
    "    out = np.zeros(len(bar_angle))\n",
    "    out[0] = bar_angle[0]\n",
    "\n",
    "    for i in range(1, len(bar_angle)):\n",
    "        dphi = bar_angle[i] - bar_angle[i-1]\n",
    "        if dphi < -np.pi:\n",
    "            dphi += 2.*np.pi\n",
    "        if dphi > np.pi:\n",
    "            dphi -= 2. * np.pi\n",
    "        \n",
    "        out[i] = out[i-1] + dphi\n",
    "    \n",
    "    return out\n"
   ]
  },
  {
   "cell_type": "code",
   "execution_count": 6,
   "metadata": {},
   "outputs": [
    {
     "name": "stdout",
     "output_type": "stream",
     "text": [
      "<KeysViewHDF5 ['bar_angle', 'bar_prop', 'idx_list', 'tlist']>\n"
     ]
    }
   ],
   "source": [
    "idx = 300\n",
    "sn = read_snap(idx, 1, lvl='lvl3', parttype=None, fields=None)\n",
    "\n",
    "bangle, ps = read_bar_angle(sim_list[1], 'lvl3')\n",
    "bangle = bangle[idx]\n",
    "ps = ps[idx]"
   ]
  },
  {
   "cell_type": "code",
   "execution_count": 10,
   "metadata": {},
   "outputs": [
    {
     "name": "stdout",
     "output_type": "stream",
     "text": [
      "<KeysViewHDF5 ['bar_angle', 'bar_prop', 'idx_list', 'tlist']>\n",
      "<KeysViewHDF5 ['bar_angle', 'bar_prop', 'idx_list', 'tlist']>\n",
      "36.286223853227966\n",
      "40.444902670072224\n",
      "30.212610850599958\n",
      "1.2093156304455093\n",
      "3.674321517797914\n",
      "2.731326610363368\n"
     ]
    }
   ],
   "source": [
    "bangle_N, ps_Nbody = read_bar_angle(sim_list[0], 'lvl3')\n",
    "bangle_S, ps_SMUGGLE = read_bar_angle(sim_list[1], 'lvl3')\n",
    "print(ps_Nbody[500])\n",
    "print(ps_SMUGGLE[300])\n",
    "print(ps_Nbody[700])\n",
    "\n",
    "print(bangle_N[500])\n",
    "print(bangle_S[300])\n",
    "print(bangle_N[700])"
   ]
  },
  {
   "cell_type": "code",
   "execution_count": 8,
   "metadata": {
    "collapsed": true
   },
   "outputs": [],
   "source": [
    "center = np.array([200., 200., 200.])\n",
    "\n",
    "pos = []\n",
    "pos.append(sn.part0.pos.value)\n",
    "pos.append(sn.part1.pos.value)\n",
    "pos.append(sn.part2.pos.value)\n",
    "pos.append(sn.part3.pos.value)\n",
    "pos.append(sn.part4.pos.value)\n",
    "pos = np.concatenate(pos)\n",
    "\n",
    "pos = pos - center\n",
    "pos = rotate_pos(pos, -bangle)\n",
    "\n",
    "acc = []\n",
    "acc.append(sn.part0.acce)\n",
    "acc.append(sn.part1.acce)\n",
    "acc.append(sn.part2.acce)\n",
    "acc.append(sn.part3.acce)\n",
    "acc.append(sn.part4.acce)\n",
    "acc = np.concatenate(acc)\n",
    "\n",
    "acc = rotate_pos(acc, -bangle)\n",
    "\n",
    "pos_halo = sn.part1.pos.value\n",
    "pos_halo = pos_halo - center\n",
    "pos_halo = rotate_pos(pos_halo, -bangle)\n",
    "\n",
    "vel_halo = sn.part1.vel.value\n",
    "vel_halo = rotate_pos(vel_halo, -bangle)\n",
    "\n",
    "pot_halo = sn.part1.pot.value\n",
    "\n",
    "# also subtract uniform rotation\n",
    "omega = np.array([0., 0., ps])\n",
    "vel_halo = vel_halo - np.cross(omega, pos_halo)\n",
    "\n",
    "vel_halo_inert = sn.part1.vel.value\n",
    "vel_halo_inert = rotate_pos(vel_halo_inert, -bangle)\n",
    "\n",
    "# frame_rot_x = pos_halo[:,1] * ps\n",
    "# frame_rot_y = - pos_halo[:,0] * ps\n",
    "# vel_halo[:,0] -= frame_rot_x\n",
    "# vel_halo[:,1] -= frame_rot_y"
   ]
  },
  {
   "cell_type": "code",
   "execution_count": 9,
   "metadata": {
    "collapsed": true
   },
   "outputs": [],
   "source": [
    "tree = KDTree(pos)"
   ]
  },
  {
   "cell_type": "code",
   "execution_count": 10,
   "metadata": {
    "collapsed": true
   },
   "outputs": [],
   "source": [
    "spec = [\n",
    "    ('tree_acc', float64[:,:]),\n",
    "    ('ps', float64),\n",
    "    ('omega', float64[:]),\n",
    "    ('tree', tree._numba_type_)               # a simple scalar fie,          # an array field\n",
    "]\n",
    "\n",
    "@jitclass(spec)\n",
    "class grav_tree(object):\n",
    "    def __init__(self, tree, tree_acc, ps):\n",
    "        self.tree_acc = tree_acc\n",
    "        self.ps = ps\n",
    "        \n",
    "#         self.tree = KDtree(tree_pos)\n",
    "        self.tree = tree\n",
    "        self.omega = np.array([0., 0., ps])\n",
    "    \n",
    "    def calc_grav(self, pos, vel):\n",
    "        ans = self.tree.query(pos)\n",
    "        key = ans[1]\n",
    "    \n",
    "        N = pos.shape[0]\n",
    "    \n",
    "        out = np.zeros((N, 3))\n",
    "        for i in range(len(pos)):\n",
    "            out[i] = self.tree_acc[key[i]]\n",
    "    \n",
    "            coriolis = -2. * np.cross(self.omega, vel[i])\n",
    "            centrifugal = - np.cross(self.omega, np.cross(self.omega, pos[i]))\n",
    "            out[i] += coriolis + centrifugal\n",
    "    \n",
    "        return out\n",
    "    "
   ]
  },
  {
   "cell_type": "code",
   "execution_count": 11,
   "metadata": {
    "collapsed": true
   },
   "outputs": [],
   "source": [
    "grav = grav_tree(tree, acc, ps)"
   ]
  },
  {
   "cell_type": "code",
   "execution_count": 12,
   "metadata": {},
   "outputs": [
    {
     "data": {
      "text/plain": [
       "array([[  5072.62889473, -17791.82518568,   -350.77746582],\n",
       "       [  5072.62889473, -17791.82518568,   -350.77746582]])"
      ]
     },
     "execution_count": 12,
     "metadata": {},
     "output_type": "execute_result"
    }
   ],
   "source": [
    "grav.calc_grav(np.array([[8, 0, 0], [8, 0, 0]]).astype(np.float64), np.array([[220, 0, 0], [220, 0, 0]]).astype(np.float64))"
   ]
  },
  {
   "cell_type": "code",
   "execution_count": 13,
   "metadata": {
    "collapsed": true
   },
   "outputs": [],
   "source": [
    "@njit\n",
    "def integrate_orbit(dt, tmax, pos0, vel0, grav):\n",
    "  \n",
    "    continue_integrating = True\n",
    "    \n",
    "    omega = np.array([0., 0., ps])\n",
    "\n",
    "    N = pos0.shape[0]\n",
    "\n",
    "    posi = pos0\n",
    "    veli = vel0\n",
    "    \n",
    "    t = 0.0\n",
    "\n",
    "    pos = np.zeros((int(tmax/dt)+2, N, 3)).astype(np.float64)\n",
    "    vel = np.zeros((int(tmax/dt)+2, N, 3)).astype(np.float64)\n",
    "    tlist = np.zeros(int(tmax/dt)+2).astype(np.float64)\n",
    "\n",
    "    for j in range(N):\n",
    "        for k in range(3):\n",
    "            pos[0][j][k] = pos0[j][k]\n",
    "            vel[0][j][k] = vel0[j][k]\n",
    "    \n",
    "    i = 0\n",
    "\n",
    "    while continue_integrating:\n",
    "#         print(dt)\n",
    "        t = t + dt\n",
    "    \n",
    "#         print(grav(posi, veli, acc_tree, tree, omega))\n",
    "    \n",
    "        k1 = grav.calc_grav(posi, veli)\n",
    "        vel1 = veli + k1 * dt/2.0\n",
    "        pos1 = posi + (dt/2.0)*((veli+vel1)/2.0)\n",
    "        \n",
    "        k2 = grav.calc_grav(pos1, vel1)\n",
    "        vel2 = veli + k2*dt/2.0\n",
    "        pos2 = posi + (dt/2.0)*((veli+vel2)/2.0)\n",
    "        \n",
    "        k3 = grav.calc_grav(pos2, vel2)\n",
    "        vel3 = veli + k3*dt\n",
    "        pos3 = posi + dt * ((veli+vel3)/2.0)\n",
    "        \n",
    "        k4 = grav.calc_grav(pos3, vel3)\n",
    "        \n",
    "        velip1 = veli + (dt/6.0) * (k1 + 2.*k2 + 2.*k3 + k4)\n",
    "        posip1 = posi + (dt/6.0) * (veli + 2.*vel1 + 2.*vel2 + vel3)\n",
    "    \n",
    "    \n",
    "#         posip1 = posi + veli*dt + 0.5*acci * dt*dt\n",
    "        \n",
    "#         accip1 = grav(posip1, acc_tree, tree)[0]\n",
    "        \n",
    "#         velip1 = veli + 0.5 * (acci + accip1) * dt\n",
    "\n",
    "        # now determine if we need to continue integrating\n",
    "        if t > tmax:\n",
    "            continue_integrating = False\n",
    "\n",
    "        # update i\n",
    "        i = i+1\n",
    "        for j in range(N):\n",
    "            for k in range(3):\n",
    "                pos[i][j][k] = posip1[j][k]\n",
    "                vel[i][j][k] = velip1[j][k]\n",
    "        tlist[i]=t\n",
    "        \n",
    "        posi = np.copy(posip1)\n",
    "        veli = np.copy(velip1)\n",
    "#         acci = np.copy(accip1)\n",
    "\n",
    "    # convert back to inertial reference frame\n",
    "    ang = ps * tlist\n",
    "    pos_inertial = np.copy(pos)\n",
    "    vel_inertial = np.copy(vel)\n",
    "    print(np.shape(ang))\n",
    "    print(np.shape(pos_inertial))\n",
    "    \n",
    "    for i in range(N):\n",
    "        pos_inertial[:,i,0] = pos[:,i,0] * np.cos(ang) - pos[:,i,1] * np.sin(ang)\n",
    "        pos_inertial[:,i,1] = pos[:,i,0] * np.sin(ang) + pos[:,i,1] * np.cos(ang)\n",
    "    \n",
    "        vel_inertial[:,i,0] = vel[:,i,0] * np.cos(ang) - vel[:,i,1] * np.sin(ang)\n",
    "        vel_inertial[:,i,1] = vel[:,i,0] * np.sin(ang) + vel[:,i,1] * np.cos(ang)\n",
    "        vel_inertial[i] = vel_inertial[i] + np.cross(pos_inertial[i], omega)\n",
    "        \n",
    "    return pos_inertial, vel_inertial, tlist"
   ]
  },
  {
   "cell_type": "code",
   "execution_count": 14,
   "metadata": {
    "collapsed": true
   },
   "outputs": [],
   "source": [
    "def compute_phi_freq(pos0, vel0):\n",
    "    dt = 0.002\n",
    "    tmax = 20.0\n",
    "    x, v, t = integrate_orbit(dt, tmax, pos0, vel0,grav)\n",
    "    phi = np.arctan2(x[:,1], x[:,0])\n",
    "    R = np.linalg.norm(x[:,:2], axis=1)\n",
    "    \n",
    "#     phi_ft = np.fft.rfft(phi)\n",
    "#     R_ft = np.fft.rfft(R)\n",
    "#     freq = np.fft.rfftfreq(len(t), t[1]-t[0])\n",
    "    \n",
    "    phi_fixed = fix_bar_angle(phi)\n",
    "    \n",
    "    Omega_phi = (phi_fixed[-1]-phi_fixed[0])/tmax\n",
    "    \n",
    "#     fs = 1./(t[1]-t[0])\n",
    "#     freq, PR = signal.periodogram(R-np.mean(R), fs)\n",
    "#     Omega_R = 2.*np.pi * freq[np.argmax(PR)]\n",
    "    \n",
    "    idx, _ = signal.find_peaks(R)\n",
    "    Omega_R = 2.*np.pi*(len(idx)-1) /(t[idx[-1]]-t[idx[0]]) \n",
    "\n",
    "#     Omega_phi, Omega_R = None, None\n",
    "    \n",
    "    return Omega_phi, Omega_R"
   ]
  },
  {
   "cell_type": "code",
   "execution_count": 19,
   "metadata": {},
   "outputs": [
    {
     "name": "stdout",
     "output_type": "stream",
     "text": [
      "2877647\n"
     ]
    },
    {
     "data": {
      "image/png": "[encoded data removed]",
      "text/plain": [
       "<Figure size 216x432 with 2 Axes>"
      ]
     },
     "metadata": {},
     "output_type": "display_data"
    }
   ],
   "source": [
    "E = 0.5 * (np.linalg.norm(vel_halo_inert, axis=1))**2. + pot_halo\n",
    "Lz = np.cross(pos_halo, vel_halo_inert)[:,2]\n",
    "# plt.hist(E/1E6, bins=np.linspace(-0.3, 0.1, 1000))\n",
    "\n",
    "R = np.linalg.norm(pos_halo[:,:2], axis=1)\n",
    "fig, ax = plt.subplots(2, 1, figsize=(3, 6))\n",
    "\n",
    "Ecut = -0.1 * 1E6\n",
    "\n",
    "print(len(np.where(E<Ecut)[0]))\n",
    "\n",
    "ax[0].hist(R[E<Ecut], bins=np.linspace(0, 20, 1000))\n",
    "ax[1].hist(R[E>=Ecut], bins=np.linspace(0, 20, 1000))\n",
    "\n",
    "plt.show()\n"
   ]
  },
  {
   "cell_type": "code",
   "execution_count": 16,
   "metadata": {
    "collapsed": true
   },
   "outputs": [],
   "source": [
    "Ecut = -0.2 * 1E6\n",
    "pos_Ecut = pos_halo[E < Ecut]\n",
    "vel_Ecut = vel_halo[E < Ecut]\n",
    "\n",
    "E_Ecut = E[E<Ecut]\n",
    "Lz_Ecut = Lz[E<Ecut]"
   ]
  },
  {
   "cell_type": "code",
   "execution_count": null,
   "metadata": {
    "collapsed": true
   },
   "outputs": [],
   "source": [
    "%%time\n",
    "dt = 0.002\n",
    "tmax = 20.0\n",
    "\n",
    "x, v, t = integrate_orbit(dt, tmax, pos_Ecut[0:10000], vel_Ecut[0:10000], grav)"
   ]
  },
  {
   "cell_type": "code",
   "execution_count": 21,
   "metadata": {},
   "outputs": [
    {
     "name": "stdout",
     "output_type": "stream",
     "text": [
      "a\n",
      "(-24.06264150432099, 54.97708153722498)\n",
      "CPU times: user 181 ms, sys: 836 µs, total: 182 ms\n",
      "Wall time: 181 ms\n"
     ]
    }
   ],
   "source": [
    "%%time\n",
    "pos0 = pos_Ecut[0]\n",
    "vel0 = vel_Ecut[0]\n",
    "omega_phi= compute_phi_freq(pos0, vel0)\n",
    "print(omega_phi)"
   ]
  },
  {
   "cell_type": "code",
   "execution_count": 22,
   "metadata": {},
   "outputs": [
    {
     "name": "stdout",
     "output_type": "stream",
     "text": [
      "25347840\n"
     ]
    }
   ],
   "source": [
    "print(len(E))"
   ]
  },
  {
   "cell_type": "code",
   "execution_count": 27,
   "metadata": {},
   "outputs": [
    {
     "data": {
      "application/vnd.jupyter.widget-view+json": {
       "model_id": "6d951b4f26f24099860f653d213cdd34",
       "version_major": 2,
       "version_minor": 0
      },
      "text/plain": [
       "A Jupyter Widget"
      ]
     },
     "metadata": {},
     "output_type": "display_data"
    }
   ],
   "source": [
    "freq = np.array([compute_phi_freq(pos_Ecut[i], vel_Ecut[i]) for i in tqdm(range(4000))])"
   ]
  },
  {
   "cell_type": "code",
   "execution_count": 32,
   "metadata": {},
   "outputs": [
    {
     "data": {
      "image/png": "[encoded data removed]",
      "text/plain": [
       "<Figure size 432x288 with 1 Axes>"
      ]
     },
     "metadata": {},
     "output_type": "display_data"
    }
   ],
   "source": [
    "plt.hist(freq[:,0], bins=np.linspace(-100, 100, 256))\n",
    "plt.show()"
   ]
  },
  {
   "cell_type": "code",
   "execution_count": 36,
   "metadata": {},
   "outputs": [
    {
     "name": "stdout",
     "output_type": "stream",
     "text": [
      "85\n"
     ]
    },
    {
     "data": {
      "image/png": "[encoded data removed]",
      "text/plain": [
       "<Figure size 432x288 with 1 Axes>"
      ]
     },
     "metadata": {},
     "output_type": "display_data"
    }
   ],
   "source": [
    "CR = np.abs(freq[:,0]/ps -1 ) < 0.1\n",
    "print(len(np.where(CR)[0]))\n",
    "plt.hist(freq[:,0][CR], bins=np.linspace(-100, 100, 256))\n",
    "plt.show()"
   ]
  },
  {
   "cell_type": "code",
   "execution_count": 49,
   "metadata": {},
   "outputs": [
    {
     "data": {
      "image/png": "[encoded data removed]",
      "text/plain": [
       "<Figure size 432x288 with 1 Axes>"
      ]
     },
     "metadata": {},
     "output_type": "display_data"
    }
   ],
   "source": [
    "plt.hist(Lz_Ecut[:4000], bins=np.linspace(-600, 600, 100))\n",
    "plt.hist(Lz_Ecut[:4000][CR], bins=np.linspace(-600, 600, 100))\n",
    "plt.show()"
   ]
  },
  {
   "cell_type": "code",
   "execution_count": 59,
   "metadata": {},
   "outputs": [
    {
     "data": {
      "image/png": "[encoded data removed]",
      "text/plain": [
       "<Figure size 864x864 with 2 Axes>"
      ]
     },
     "metadata": {},
     "output_type": "display_data"
    }
   ],
   "source": [
    "nres = 256\n",
    "\n",
    "range_xy = [[-0.4, -0.1], [-500, 500]]\n",
    "\n",
    "x = E_Ecut/1E6\n",
    "y = Lz_Ecut\n",
    "heatmap_xy, _, _ = np.histogram2d(x, y, bins=(nres, nres), range=range_xy)\n",
    "\n",
    "extent = [range_xy[0][0], range_xy[0][1], range_xy[1][0], range_xy[1][1]]\n",
    "\n",
    "fig, ax = plt.subplots(1, 1, figsize=(12, 12))\n",
    "\n",
    "im = ax.imshow(heatmap_xy.T, extent=extent, origin='lower')#, vmin=-0.2, vmax=0.2)#, vmin=-50000, vmax=50000)\n",
    "ax.set_aspect('auto')\n",
    "fig.colorbar(im)\n",
    "\n",
    "ax.scatter(E_Ecut[:4000][CR]/1E6, Lz_Ecut[:4000][CR], c='r')\n",
    "\n",
    "fig.tight_layout()\n",
    "\n",
    "plt.show()\n"
   ]
  },
  {
   "cell_type": "code",
   "execution_count": null,
   "metadata": {
    "collapsed": true
   },
   "outputs": [],
   "source": []
  }
 ],
 "metadata": {
  "kernelspec": {
   "display_name": "Python 3",
   "language": "python",
   "name": "python3"
  },
  "language_info": {
   "codemirror_mode": {
    "name": "ipython",
    "version": 3
   },
   "file_extension": ".py",
   "mimetype": "text/x-python",
   "name": "python",
   "nbconvert_exporter": "python",
   "pygments_lexer": "ipython3",
   "version": "3.6.3"
  }
 },
 "nbformat": 4,
 "nbformat_minor": 2
}
