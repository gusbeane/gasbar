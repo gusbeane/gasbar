{
 "cells": [
  {
   "cell_type": "code",
   "execution_count": 28,
   "id": "bc9100d3-d59e-4215-8ffd-dd6a4a0328d9",
   "metadata": {},
   "outputs": [],
   "source": [
    "import numpy as np\n",
    "import h5py as h5\n",
    "import arepo\n",
    "from numba import njit"
   ]
  },
  {
   "cell_type": "code",
   "execution_count": 5,
   "id": "a6aa5b28-8d16-4a6c-a0ed-8224421b08e4",
   "metadata": {},
   "outputs": [],
   "source": [
    "basepath = '/n/holylfs05/LABS/hernquist_lab/Users/abeane/gasbar/'\n",
    "\n",
    "snap_path = '/n/holystore01/LABS/hernquist_lab/Users/abeane/starbar_runs/runs/'\n",
    "fourier_path = basepath + '/analysis/fourier_component/data/'\n",
    "bprop_path = basepath + '/analysis/bar_prop/data/'\n",
    "torque_path = basepath + '/analysis/torques/data/'"
   ]
  },
  {
   "cell_type": "code",
   "execution_count": 6,
   "id": "7d52ce6a-7618-4b51-94fa-5aab5bde84d9",
   "metadata": {},
   "outputs": [],
   "source": [
    "def read_torque(name, lvl):\n",
    "    base = torque_path + 'torques_' + name + '-' + lvl + '/torques_' + name + '-' + lvl + '.'\n",
    "\n",
    "    # nfiles = len(glob.glob(base + '*.hdf5'))\n",
    "    nfiles = 1200\n",
    "\n",
    "    tz_halo = []\n",
    "    tz_not_bar = []\n",
    "    tz_gas = []\n",
    "\n",
    "    tlist = []\n",
    "\n",
    "    for i in tqdm(range(nfiles)):\n",
    "        fname = base + str(i) + '.hdf5'\n",
    "        t = h5.File(fname, mode='r')\n",
    "\n",
    "        torque_halo = t['total_torques'].attrs['halo']\n",
    "        tz_halo.append(torque_halo[2])\n",
    "\n",
    "        torque_not_bar = t['total_torques'].attrs['not_bar']\n",
    "        tz_not_bar.append(torque_not_bar[2])\n",
    "    \n",
    "        if 'gas' in t['total_torques'].attrs.keys():\n",
    "            torque_gas = t['total_torques'].attrs['gas']\n",
    "            tz_gas.append(torque_gas[2])\n",
    "        \n",
    "        tlist.append(t['parameters'].attrs['Time'])\n",
    "        \n",
    "        t.close()\n",
    "    \n",
    "    tz_halo = np.array(tz_halo)\n",
    "    tz_not_bar = np.array(tz_not_bar)\n",
    "    tz_gas = np.array(tz_gas)\n",
    "    tlist = np.array(tlist)\n",
    "\n",
    "    return tlist, tz_halo, tz_not_bar, tz_gas"
   ]
  },
  {
   "cell_type": "code",
   "execution_count": 36,
   "id": "8eaed268-09e0-4fd6-b15f-4fb869a86735",
   "metadata": {},
   "outputs": [],
   "source": [
    "name = 'phantom-vacuum-Sg20-Rc3.5'\n",
    "lvl = 'lvl3'\n",
    "\n",
    "i = 301\n",
    "\n",
    "base = torque_path + 'torques_' + name + '-' + lvl + '/torques_' + name + '-' + lvl + '.'\n",
    "fname = base + str(i) + '.hdf5'\n",
    "t = h5.File(fname, mode='r')"
   ]
  },
  {
   "cell_type": "code",
   "execution_count": 37,
   "id": "b1d0259e-423e-4d91-873e-db5625dd99d1",
   "metadata": {},
   "outputs": [],
   "source": [
    "@njit\n",
    "def my_mult(a, b):\n",
    "    out = np.zeros(b.shape)\n",
    "    for i in range(len(a)):\n",
    "        out[i] = a[i] * b[i]\n",
    "    \n",
    "    return out"
   ]
  },
  {
   "cell_type": "code",
   "execution_count": 39,
   "id": "4364ad82-4024-4d36-9c26-9ef065e816ea",
   "metadata": {},
   "outputs": [
    {
     "name": "stdout",
     "output_type": "stream",
     "text": [
      "0.8435579838433278\n"
     ]
    }
   ],
   "source": [
    "torque_gas = my_mult(t['gas_mass'][:], np.cross(t['pos_gas'], t['acc_gas']))\n",
    "R = np.linalg.norm(t['pos_gas'][:,:2], axis=1)\n",
    "\n",
    "print(np.sum(torque_gas[:,2][R > 6]))"
   ]
  },
  {
   "cell_type": "code",
   "execution_count": null,
   "id": "7096fc22-7e52-4ca5-a44d-d11a2bf35b46",
   "metadata": {},
   "outputs": [],
   "source": []
  }
 ],
 "metadata": {
  "kernelspec": {
   "display_name": "Python 3",
   "language": "python",
   "name": "python3"
  },
  "language_info": {
   "codemirror_mode": {
    "name": "ipython",
    "version": 3
   },
   "file_extension": ".py",
   "mimetype": "text/x-python",
   "name": "python",
   "nbconvert_exporter": "python",
   "pygments_lexer": "ipython3",
   "version": "3.8.8"
  }
 },
 "nbformat": 4,
 "nbformat_minor": 5
}
