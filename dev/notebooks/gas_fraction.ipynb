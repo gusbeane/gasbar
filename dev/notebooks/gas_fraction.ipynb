{
 "cells": [
  {
   "cell_type": "code",
   "execution_count": 19,
   "id": "a5ad2953-c03c-4ebf-9eb7-90176dd9e897",
   "metadata": {},
   "outputs": [],
   "source": [
    "import numpy as np\n",
    "import arepo\n",
    "import matplotlib.pyplot as plt\n",
    "from scipy.stats import binned_statistic\n",
    "from scipy.optimize import curve_fit"
   ]
  },
  {
   "cell_type": "code",
   "execution_count": 3,
   "id": "ae2a83ef-a31b-4b45-89f6-44e7ab8901ba",
   "metadata": {},
   "outputs": [],
   "source": [
    "sim_list = ['Nbody', 'phantom-vacuum-Sg20-Rc3.5', 'phantom-vacuum-Sg10-Rc3.5']\n",
    "\n",
    "basepath = '/n/holystore01/LABS/hernquist_lab/Users/abeane/starbar_runs/runs/'\n",
    "\n",
    "def read_snap(idx, sim_idx, lvl='lvl3', parttype=[0], fields=['Coordinates', 'Masses', 'Velocities', 'ParticleIDs', 'Potential'],\n",
    "              basepath = basepath):\n",
    "    fname = basepath + sim_list[sim_idx] + '/' + lvl + '/output'\n",
    "    return arepo.Snapshot(fname, idx, parttype=parttype, fields=fields, combineFiles=True)\n",
    "\n",
    "def read_sfr(sim_idx, lvl='lvl3', basepath = basepath):\n",
    "    fname = basepath + sim_list[sim_idx] + '/' + lvl + '/output/sfr.txt'\n",
    "    return np.genfromtxt(fname)\n",
    "\n",
    "def read_fourier(sim_idx, lvl='lvl3', basepath='/n/home01/abeane/starbar/plots/'):\n",
    "    sim = sim_list[sim_idx]\n",
    "    f = h5.File(basepath+'/fourier_component/data/fourier_'+sim+'-'+lvl+'.hdf5', mode='r')\n",
    "    return f"
   ]
  },
  {
   "cell_type": "code",
   "execution_count": 4,
   "id": "0c495972-f5dd-42bc-80da-91f40a040d02",
   "metadata": {},
   "outputs": [],
   "source": [
    "sfr = read_sfr(1)"
   ]
  },
  {
   "cell_type": "code",
   "execution_count": 5,
   "id": "7f074a62-e037-4364-a9d5-16063afb296e",
   "metadata": {},
   "outputs": [],
   "source": [
    "sn = read_snap(1000, 1, fields=None, parttype=None)"
   ]
  },
  {
   "cell_type": "code",
   "execution_count": 6,
   "id": "bf8193d1-ac84-4219-a2b8-f2941ee02da6",
   "metadata": {},
   "outputs": [
    {
     "name": "stdout",
     "output_type": "stream",
     "text": [
      "0.10487760691153153\n",
      "0.35366815\n"
     ]
    }
   ],
   "source": [
    "Mg = np.sum(sn.part0.mass.value)\n",
    "Mstar = np.sum(sn.part4.mass.value) + sn.NumPart_Total[2]*sn.MassTable[2].value +  sn.NumPart_Total[3]*sn.MassTable[3].value\n",
    "\n",
    "print(Mg/(Mg+Mstar))\n",
    "print(np.sum(sn.part4.mass.value))\n"
   ]
  },
  {
   "cell_type": "code",
   "execution_count": 7,
   "id": "ab634bf2-ba88-4e0c-830f-4cabd1bd6dcf",
   "metadata": {},
   "outputs": [
    {
     "data": {
      "text/plain": [
       "0.7"
      ]
     },
     "execution_count": 7,
     "metadata": {},
     "output_type": "execute_result"
    }
   ],
   "source": [
    "3.5E9/5E9"
   ]
  },
  {
   "cell_type": "code",
   "execution_count": 8,
   "id": "ca473741-bd92-4d4b-9693-67b2d7ee6d6b",
   "metadata": {},
   "outputs": [
    {
     "data": {
      "text/plain": [
       "0.8775311"
      ]
     },
     "execution_count": 8,
     "metadata": {},
     "output_type": "execute_result"
    }
   ],
   "source": [
    "np.sum(sn.part0.sfr.value)"
   ]
  },
  {
   "cell_type": "code",
   "execution_count": 9,
   "id": "3a92b661-e729-4aa4-a6ac-bf9a9191f669",
   "metadata": {},
   "outputs": [
    {
     "name": "stdout",
     "output_type": "stream",
     "text": [
      "1.4042812536798883\n"
     ]
    }
   ],
   "source": [
    "key = sfr[:,0] < 5\n",
    "print(np.mean(sfr[:,2][key]))"
   ]
  },
  {
   "cell_type": "code",
   "execution_count": null,
   "id": "0a77897d-d2ca-41ba-870a-323f03350d26",
   "metadata": {},
   "outputs": [],
   "source": []
  },
  {
   "cell_type": "code",
   "execution_count": null,
   "id": "610317eb-6b1a-4b81-b802-44353f6602b5",
   "metadata": {},
   "outputs": [],
   "source": []
  },
  {
   "cell_type": "code",
   "execution_count": 20,
   "id": "1c3af822-9fe1-4d17-956f-2411b173a8d5",
   "metadata": {},
   "outputs": [],
   "source": [
    "sn0 = read_snap(0, 2, fields=None, parttype=None)\n",
    "sn1000 = read_snap(1000, 2, fields=None, parttype=None)"
   ]
  },
  {
   "cell_type": "code",
   "execution_count": 21,
   "id": "4e7d8ef6-defb-421d-a58c-be9e211b5716",
   "metadata": {},
   "outputs": [
    {
     "name": "stdout",
     "output_type": "stream",
     "text": [
      "0.07048296729754665\n"
     ]
    }
   ],
   "source": [
    "sn = sn0\n",
    "Mg = np.sum(sn.part0.mass.value)\n",
    "Mstar = sn.NumPart_Total[2]*sn.MassTable[2].value +  sn.NumPart_Total[3]*sn.MassTable[3].value\n",
    "\n",
    "print(Mg/(Mg+Mstar))\n",
    "# print(np.sum(sn.part4.mass.value))\n"
   ]
  },
  {
   "cell_type": "code",
   "execution_count": 22,
   "id": "09e043e4-9ccc-4308-ad75-dede97116fa5",
   "metadata": {},
   "outputs": [
    {
     "name": "stdout",
     "output_type": "stream",
     "text": [
      "0.056510353772080905\n",
      "0.08473318\n"
     ]
    }
   ],
   "source": [
    "sn = sn1000\n",
    "Mg = np.sum(sn.part0.mass.value)\n",
    "Mstar = np.sum(sn.part4.mass.value) + sn.NumPart_Total[2]*sn.MassTable[2].value +  sn.NumPart_Total[3]*sn.MassTable[3].value\n",
    "\n",
    "print(Mg/(Mg+Mstar))\n",
    "print(np.sum(sn.part4.mass.value))\n"
   ]
  },
  {
   "cell_type": "code",
   "execution_count": 25,
   "id": "31cf8eae-db93-445d-8129-a1bd08deb600",
   "metadata": {},
   "outputs": [
    {
     "name": "stdout",
     "output_type": "stream",
     "text": [
      "0.3367326305879037\n"
     ]
    }
   ],
   "source": [
    "sfr = read_sfr(2)\n",
    "key = sfr[:,0] < 5\n",
    "print(np.mean(sfr[:,2][key]))"
   ]
  },
  {
   "cell_type": "code",
   "execution_count": null,
   "id": "71334dc4-f434-4fd6-9679-149be5771588",
   "metadata": {},
   "outputs": [],
   "source": []
  }
 ],
 "metadata": {
  "kernelspec": {
   "display_name": "Python 3",
   "language": "python",
   "name": "python3"
  },
  "language_info": {
   "codemirror_mode": {
    "name": "ipython",
    "version": 3
   },
   "file_extension": ".py",
   "mimetype": "text/x-python",
   "name": "python",
   "nbconvert_exporter": "python",
   "pygments_lexer": "ipython3",
   "version": "3.8.8"
  }
 },
 "nbformat": 4,
 "nbformat_minor": 5
}
