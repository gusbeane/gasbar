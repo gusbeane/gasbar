{
 "cells": [
  {
   "cell_type": "code",
   "execution_count": 1,
   "metadata": {
    "collapsed": true
   },
   "outputs": [],
   "source": [
    "import numpy as np\n",
    "import arepo\n",
    "import matplotlib.pyplot as plt\n",
    "from tqdm import tqdm_notebook as tqdm\n",
    "import h5py as h5\n",
    "\n",
    "import re\n",
    "import astropy.units as u\n",
    "\n",
    "time_conv = 977.79222167"
   ]
  },
  {
   "cell_type": "code",
   "execution_count": 2,
   "metadata": {
    "collapsed": true
   },
   "outputs": [],
   "source": [
    "sim_list = ['phantom-vacuum-grav', 'phantom-vacuum', 'phantom-Sg10-Rc4.0', 'phantom-vacuum-Sg10-Rc4.0',\n",
    "            'phantom-vacuum-Sg20-Rc4.0', 'Nbody', 'phantom-vacuum-Sg20-Rc3.5']\n",
    "\n",
    "def read_snap(idx, sim_idx, lvl='lvl3', parttype=[0], fields=['Coordinates', 'Masses', 'Velocities'],\n",
    "              basepath = '/n/holyscratch01/hernquist_lab/abeane/starbar_runs/runs/'):\n",
    "    fname = basepath + sim_list[sim_idx] + '/' + lvl + '/output'\n",
    "    return arepo.Snapshot(fname, idx, parttype=parttype, fields=fields, combineFiles=True)\n",
    "\n",
    "def read_sfr(sim_idx, lvl='lvl3', basepath = '/n/holyscratch01/hernquist_lab/abeane/starbar_runs/runs/'):\n",
    "    fname = basepath + sim_list[sim_idx] + '/' + lvl + '/output/sfr.txt'\n",
    "    return np.genfromtxt(fname)\n",
    "\n",
    "def read_fourier(sim_idx, lvl='lvl3', basepath='/n/home01/abeane/starbar/plots/'):\n",
    "    sim = sim_list[sim_idx]\n",
    "    f = h5.File(basepath+'/fourier_component/data/fourier_'+sim+'-'+lvl+'.hdf5', mode='r')\n",
    "    return f\n",
    "\n",
    "\n"
   ]
  },
  {
   "cell_type": "code",
   "execution_count": 3,
   "metadata": {},
   "outputs": [
    {
     "data": {
      "application/vnd.jupyter.widget-view+json": {
       "model_id": "9d6d98c00d10480995d1a689870025cb",
       "version_major": 2,
       "version_minor": 0
      },
      "text/plain": [
       "A Jupyter Widget"
      ]
     },
     "metadata": {},
     "output_type": "display_data"
    },
    {
     "name": "stdout",
     "output_type": "stream",
     "text": [
      "\n"
     ]
    }
   ],
   "source": [
    "# sn0_list = []\n",
    "# sn2_list = []\n",
    "# sn3_list = []\n",
    "# sn4_list = []\n",
    "sn5_list = []\n",
    "sn6_list = []\n",
    "sn6i_list = []\n",
    "# idx_list = [0, 50, 100, 150, 200, 250, 300, 350, 400, 450, 500, 550, 600, 650, 700, 750, 800]#, 100, 125]\n",
    "idx_list = np.arange(0, 801, 100)\n",
    "fields=['Coordinates', 'Velocities', 'Masses', 'Acceleration']\n",
    "for idx in tqdm(idx_list):\n",
    "#     sn0 = read_snap(idx, 0, parttype=None, fields=None)\n",
    "#     sn0_list.append(sn0)\n",
    "    \n",
    "#     sn2 = read_snap(idx, 2, parttype=None, fields=None)\n",
    "#     sn2_list.append(sn2)\n",
    "    \n",
    "#     sn3 = read_snap(idx, 3, parttype=None, fields=None)\n",
    "#     sn3_list.append(sn3)\n",
    "    \n",
    "#     sn4 = read_snap(idx, 4, parttype=None, fields=None)\n",
    "#     sn4_list.append(sn4)\n",
    "\n",
    "    sn5 = read_snap(idx, 5, parttype=None, fields=fields)\n",
    "    sn5_list.append(sn5)\n",
    "\n",
    "    try:\n",
    "        sn6 = read_snap(idx, 6, parttype=None, fields=fields)\n",
    "        sn6_list.append(sn6)\n",
    "    except:\n",
    "        pass\n",
    "\n",
    "    try:\n",
    "        sn6i = read_snap(idx, 6, lvl='lvl3-isotherm', parttype=None, fields=None)\n",
    "        sn6i_list.append(sn6i)\n",
    "    except:\n",
    "        pass\n",
    "\n"
   ]
  },
  {
   "cell_type": "code",
   "execution_count": 4,
   "metadata": {
    "collapsed": true
   },
   "outputs": [],
   "source": [
    "# sfr0 = read_sfr(0)\n",
    "# sfr1 = read_sfr(1)\n",
    "sfr2 = read_sfr(2)\n",
    "sfr3 = read_sfr(3)\n",
    "sfr4 = read_sfr(4)\n",
    "sfr6 = read_sfr(6)\n",
    "\n",
    "# fourier3 = read_fourier(3)\n",
    "fourier4 = read_fourier(4)\n",
    "fourierN = read_fourier(5)\n",
    "fourier6 = read_fourier(6)\n",
    "fourier6i = read_fourier(6, lvl='lvl3-isotherm')"
   ]
  },
  {
   "cell_type": "code",
   "execution_count": 5,
   "metadata": {
    "collapsed": true
   },
   "outputs": [],
   "source": [
    "def compute_angmom(sn, ntype=6, center=np.array([200, 200, 200])):\n",
    "    ang_mom_tot = np.zeros((ntype, 3))\n",
    "    \n",
    "    for i in range(ntype):\n",
    "        if sn.NumPart_Total[i] > 0:\n",
    "#             print('doing', i)\n",
    "            part = getattr(sn, 'part'+str(i))\n",
    "            pos = part.Coordinates.value - center\n",
    "            vel = part.Velocities.value\n",
    "            if hasattr(part, 'Masses'):\n",
    "                mom = vel * part.Masses.reshape((sn.NumPart_Total[i], 1))\n",
    "            else:\n",
    "                mom = vel * sn.MassTable[i]\n",
    "                \n",
    "#             print(vel[0])\n",
    "#             print(mom[0])\n",
    "            \n",
    "            # compute z component of angular momentum\n",
    "#             ang_mom = pos[:,0]*mom[:,1] - mom[:,0] * pos[:,1]\n",
    "            ang_mom = np.cross(pos, mom)\n",
    "    \n",
    "#             print(np.sum(ang_mom))\n",
    "            ang_mom_tot[i] = np.sum(ang_mom, axis=0)\n",
    "    \n",
    "    return ang_mom_tot\n",
    "\n",
    "def compute_angmom_bar(sn, ntype=6, center=np.array([200, 200, 200]), bar_Lz=400):\n",
    "    ang_mom_tot = np.zeros(ntype)\n",
    "    \n",
    "    for i in range(ntype):\n",
    "        if sn.NumPart_Total[i] > 0:\n",
    "#             print('doing', i)\n",
    "            part = getattr(sn, 'part'+str(i))\n",
    "            pos = part.Coordinates.value - center\n",
    "            vel = part.Velocities.value\n",
    "            if hasattr(part, 'Masses'):\n",
    "                mom = vel * part.Masses.reshape((sn.NumPart_Total[i], 1))\n",
    "            else:\n",
    "                mom = vel * sn.MassTable[i]\n",
    "                \n",
    "#             print(vel[0])\n",
    "#             print(mom[0])\n",
    "            \n",
    "            # compute z component of angular momentum\n",
    "            ang_mom = pos[:,0]*mom[:,1] - mom[:,0] * pos[:,1]\n",
    "            \n",
    "            if i ==2:\n",
    "                cyl = get_cyl(sn, 2, center=center)\n",
    "                R = cyl[:,0]\n",
    "                vphi = cyl[:,4]\n",
    "                bar_key = R * vphi < bar_Lz\n",
    "                disk_key = np.logical_not(bar_key)\n",
    "                \n",
    "                ang_mom_bar = ang_mom[bar_key]\n",
    "                ang_mom_disk = ang_mom[disk_key]\n",
    "                \n",
    "                ang_mom_tot[2] = np.sum(ang_mom_disk)\n",
    "                ang_mom_tot[5] = np.sum(ang_mom_bar)\n",
    "            else:\n",
    "            \n",
    "#             print(np.sum(ang_mom))\n",
    "                ang_mom_tot[i] = np.sum(ang_mom)\n",
    "    \n",
    "    return ang_mom_tot\n",
    "\n",
    "def compute_mominertia(sn, ntype=6, center=np.array([200, 200, 200])):\n",
    "    mominert_tot = np.zeros(ntype)\n",
    "    \n",
    "    for i in range(ntype):\n",
    "        if sn.NumPart_Total[i] > 0:\n",
    "#             print('doing', i)\n",
    "            part = getattr(sn, 'part'+str(i))\n",
    "            pos = part.Coordinates.value - center\n",
    "            if hasattr(part, 'Masses'):\n",
    "                mass = part.Masses.value\n",
    "            else:\n",
    "                mass = np.full(sn.NumPart_Total[i], sn.MassTable[i])\n",
    "                \n",
    "            \n",
    "            R = np.linalg.norm(pos[:,:2], axis=1)\n",
    "            \n",
    "            mominert_tot[i] = np.sum(mass * R * R)\n",
    "    \n",
    "    return mominert_tot\n",
    "\n",
    "def get_cyl(sn, pt, center=np.array([200, 200, 200])):\n",
    "    part = getattr(sn, 'part'+str(pt))\n",
    "    pos = part.pos.value - center\n",
    "    vel = part.vel.value\n",
    "    \n",
    "    R = np.linalg.norm(pos[:,:2], axis=1)\n",
    "    phi = np.arctan2(pos[:,1], pos[:,0])\n",
    "    z = pos[:,2]\n",
    "    \n",
    "    cosphi = pos[:,0]/R\n",
    "    sinphi = pos[:,1]/R\n",
    "    \n",
    "    vR = cosphi * vel[:,0] + sinphi * vel[:,1]\n",
    "    vphi = cosphi * vel[:,1] - sinphi * vel[:,0]\n",
    "    vz = vel[:,2]\n",
    "    \n",
    "    return np.transpose([R, phi, z, vR, vphi, vz])\n",
    "    "
   ]
  },
  {
   "cell_type": "code",
   "execution_count": 6,
   "metadata": {
    "collapsed": true
   },
   "outputs": [],
   "source": [
    "def extract_t_A2A0(fourier, idx):\n",
    "\n",
    "    i = 0\n",
    "\n",
    "    tlist = np.array(fourier['time'])\n",
    "    A2A0list = []\n",
    "    print(fourier['snapshot_000']['Rlist'][idx])\n",
    "    while 'snapshot_'+\"{:03d}\".format(i) in fourier.keys():\n",
    "        key = 'snapshot_'+\"{:03d}\".format(i)\n",
    "        A0 = fourier[key]['A0'][idx]\n",
    "        A2r = fourier[key]['A2r'][idx]\n",
    "        A2i = fourier[key]['A2i'][idx]\n",
    "    \n",
    "        A2 = np.sqrt(A2r*A2r + A2i*A2i)\n",
    "        A2A0list.append(A2/A0)\n",
    "        i += 1\n",
    "    \n",
    "    return np.array(tlist), np.array(A2A0list)\n",
    "\n",
    "def extract_t_max_A2A0(fourier):\n",
    "\n",
    "    i = 0\n",
    "\n",
    "    tlist = np.array(fourier['time'])\n",
    "    A2A0list = []\n",
    "    print(fourier['snapshot_000']['Rlist'][idx])\n",
    "    while 'snapshot_'+\"{:03d}\".format(i) in fourier.keys():\n",
    "        key = 'snapshot_'+\"{:03d}\".format(i)\n",
    "        A0 = np.array(fourier[key]['A0'])\n",
    "        A2r = np.array(fourier[key]['A2r'])\n",
    "        A2i = np.array(fourier[key]['A2i'])\n",
    "    \n",
    "        A2 = np.sqrt(A2r*A2r + A2i*A2i)\n",
    "#         A2A0 = A2/A0\n",
    "        A2A0list.append(np.max(A2/A0))\n",
    "#         A2A0list.append(A2/A0)\n",
    "        i += 1\n",
    "    \n",
    "    return np.array(tlist), np.array(A2A0list)\n",
    "\n",
    "def extract_t_AmA0(fourier, idx, m):\n",
    "\n",
    "    i = 0\n",
    "\n",
    "    tlist = np.array(fourier['time'])\n",
    "    AmA0list = []\n",
    "#     print(fourier['snapshot_000']['Rlist'][idx])\n",
    "    while 'snapshot_'+\"{:03d}\".format(i) in fourier.keys():\n",
    "        key = 'snapshot_'+\"{:03d}\".format(i)\n",
    "        A0 = fourier[key]['A0'][idx]\n",
    "        Amr = fourier[key]['A'+str(m)+'r'][idx]\n",
    "        Ami = fourier[key]['A'+str(m)+'i'][idx]\n",
    "    \n",
    "        Am = np.sqrt(Amr*Amr + Ami*Ami)\n",
    "        AmA0list.append(Am/A0)\n",
    "        i += 1\n",
    "    \n",
    "    return np.array(tlist), np.array(AmA0list)\n",
    "\n",
    "def moving_average(x, w):\n",
    "    return np.convolve(x, np.ones(w), 'valid') / w"
   ]
  },
  {
   "cell_type": "code",
   "execution_count": 7,
   "metadata": {
    "collapsed": true
   },
   "outputs": [],
   "source": [
    "def get_bar_angle(phi, firstkey):\n",
    "    out = np.zeros(len(phi))\n",
    "\n",
    "    # set the first bar angle\n",
    "    first_bar_angle = phi[firstkey]/2.0\n",
    "    out[firstkey] = first_bar_angle\n",
    "    \n",
    "    # set all subsequent angles\n",
    "    for i in np.arange(firstkey+1, len(out)):\n",
    "        dphi = phi[i] - phi[i-1]\n",
    "        if dphi < 0:\n",
    "            dphi += 2.*np.pi\n",
    "        out[i] = out[i-1] + dphi/2.0\n",
    "\n",
    "    # set all previous angles to be the bar angle\n",
    "    for i in np.arange(0, firstkey):\n",
    "        out[i] = first_bar_angle\n",
    "\n",
    "    return out\n",
    "\n",
    "def get_sorted_keys(dat):\n",
    "    keys = list(dat.keys())\n",
    "    # only keep keys that are snapshot keys\n",
    "    keys = [k for k in keys if 'snapshot' in k]\n",
    "\n",
    "    # extract and sort indices\n",
    "    indices = [int(re.findall(r'\\d?\\d?\\d\\d\\d', k)[0]) for k in keys]\n",
    "    sorted_arg = np.argsort(indices)\n",
    "    keys_sorted = [keys[i] for i in sorted_arg]\n",
    "\n",
    "    return keys_sorted\n",
    "\n",
    "def get_A2_angle(dat, keys, Rbin):\n",
    "    Rlist = np.array([np.array(dat[k]['Rlist']) for k in keys])\n",
    "    A2r = np.array([np.array(dat[k]['A2r']) for k in keys])\n",
    "    A2i = np.array([np.array(dat[k]['A2i']) for k in keys])\n",
    "    phi = np.arctan2(A2i, A2r)\n",
    "    phi = phi[:,Rbin]\n",
    "    R_at_Rbin = Rlist[:,Rbin]\n",
    "    \n",
    "    time = np.array(dat['time'])\n",
    "\n",
    "    return time, R_at_Rbin, phi\n",
    "\n",
    "def get_bar_length(dat, keys, Rmin=2, Rmax=10, ratio_cut = 2):\n",
    "    Rlist = np.array([np.array(dat[k]['Rlist']) for k in keys])\n",
    "\n",
    "    A0 = np.array([np.array(dat[k]['A0']) for k in keys])\n",
    "    A1r = np.array([np.array(dat[k]['A1r']) for k in keys])\n",
    "    A1i = np.array([np.array(dat[k]['A1i']) for k in keys])\n",
    "    A2r = np.array([np.array(dat[k]['A2r']) for k in keys])\n",
    "    A2i = np.array([np.array(dat[k]['A2i']) for k in keys])\n",
    "    A3r = np.array([np.array(dat[k]['A3r']) for k in keys])\n",
    "    A3i = np.array([np.array(dat[k]['A3i']) for k in keys])\n",
    "    A4r = np.array([np.array(dat[k]['A4r']) for k in keys])\n",
    "    A4i = np.array([np.array(dat[k]['A4i']) for k in keys])\n",
    "    A5r = np.array([np.array(dat[k]['A5r']) for k in keys])\n",
    "    A5i = np.array([np.array(dat[k]['A5i']) for k in keys])\n",
    "    A6r = np.array([np.array(dat[k]['A6r']) for k in keys])\n",
    "    A6i = np.array([np.array(dat[k]['A6i']) for k in keys])\n",
    "    \n",
    "    I0 = A0/2.\n",
    "    I1 = np.sqrt(A1r*A1r + A1i*A1i)\n",
    "    I2 = np.sqrt(A2r*A2r + A2i*A2i)\n",
    "    I3 = np.sqrt(A3r*A3r + A3i*A3i)\n",
    "    I4 = np.sqrt(A4r*A4r + A4i*A4i)\n",
    "    I5 = np.sqrt(A5r*A5r + A5i*A5i)\n",
    "    I6 = np.sqrt(A6r*A6r + A6i*A6i)\n",
    "    \n",
    "    Ib = I0 + I2 + I4 + I6\n",
    "    Iib = I0 - I2 + I4 - I6\n",
    "    \n",
    "    IbIib = Ib/Iib\n",
    "    \n",
    "    Rbar_list = []\n",
    "    for i,k in enumerate(keys):\n",
    "        R = Rlist[i,:]\n",
    "        ratio = IbIib[i,:]\n",
    "        \n",
    "        Rkey = np.logical_and(R > Rmin, R< Rmax)\n",
    "        ratio = ratio[Rkey]\n",
    "        R = R[Rkey]\n",
    "        j = 0\n",
    "        try:\n",
    "            while ratio[j] > ratio_cut:\n",
    "                j += 1\n",
    "            Rbar = R[j-1] + (ratio_cut - ratio[j-1]) * (R[j]-R[j-1])/(ratio[j]-ratio[j-1])\n",
    "        except:\n",
    "            Rbar = np.nan\n",
    "        Rbar_list.append(Rbar)\n",
    "\n",
    "    time = np.array(dat['time'])    \n",
    "    \n",
    "    return time, np.array(Rbar_list)\n",
    "\n",
    "def evaluate_polynomial(pfit, n, time, bar_angle_firstkey, firstkey):\n",
    "    pfit_n = pfit[n]\n",
    "    poly_bar_angle = np.zeros(len(time))\n",
    "    poly_pattern_speed = np.zeros(len(time))\n",
    "\n",
    "    for i in range(n+1):\n",
    "        ba = pfit_n[i] * time ** (n-i)\n",
    "        poly_bar_angle[firstkey:] += ba[firstkey:]\n",
    "        ps = (n-i) * pfit_n[i] * time**(n-1-i)\n",
    "        poly_pattern_speed[firstkey:] += ps[firstkey:]\n",
    "\n",
    "    poly_bar_angle[:firstkey] += bar_angle_firstkey\n",
    "\n",
    "    poly_pattern_speed = poly_pattern_speed / u.Myr\n",
    "    poly_pattern_speed = poly_pattern_speed.to_value(u.km/u.s/u.kpc)\n",
    "\n",
    "    return poly_bar_angle, poly_pattern_speed\n",
    "\n",
    "def master_bar_angle(dat, Rbin = 5, firstkey = 150, nmax = 10):\n",
    "    # try loading snapshot\n",
    "#     dat = h5.File(fname, mode='r')\n",
    "    out = {}\n",
    "\n",
    "    keys = get_sorted_keys(dat)\n",
    "    time, R, phi = get_A2_angle(dat, keys, Rbin)\n",
    "    time, Rbar = get_bar_length(dat, keys)\n",
    "#     Rlist, Iibar = get_bar_length(dat, keys)\n",
    "    bar_angle = get_bar_angle(phi, firstkey)\n",
    "\n",
    "    pattern_speed = np.gradient(bar_angle, time) / u.Myr\n",
    "    pattern_speed = pattern_speed.to_value(u.km/u.s/u.kpc)\n",
    "\n",
    "    pfit = [np.polyfit(time[firstkey:], bar_angle[firstkey:], i) for i in range(nmax)]\n",
    "    \n",
    "    out['time'] = time\n",
    "    out['firstkey'] = firstkey\n",
    "    out['R'] = R\n",
    "    out['Rbar'] = Rbar\n",
    "    out['phi'] = phi\n",
    "    out['bar_angle'] = bar_angle\n",
    "    out['pattern_speed'] = pattern_speed\n",
    "    out['pfit'] = pfit\n",
    "\n",
    "    # now evaluate the polynomial for each fit and save the result\n",
    "    out['poly_eval'] = {}\n",
    "    for n in range(nmax):\n",
    "        poly_bar_angle, poly_pattern_speed = evaluate_polynomial(pfit, n, time, bar_angle[firstkey], firstkey)\n",
    "\n",
    "        out['poly_eval'][n] = (poly_bar_angle, poly_pattern_speed)\n",
    "\n",
    "    return out\n",
    "#     return Rlist, Iibar"
   ]
  },
  {
   "cell_type": "code",
   "execution_count": 8,
   "metadata": {},
   "outputs": [
    {
     "name": "stderr",
     "output_type": "stream",
     "text": [
      "/n/helmod/apps/centos7/Core/Anaconda3/5.0.1-fasrc02/x/lib/python3.6/site-packages/ipykernel_launcher.py:104: RuntimeWarning: divide by zero encountered in reciprocal\n",
      "/n/helmod/apps/centos7/Core/Anaconda3/5.0.1-fasrc02/x/lib/python3.6/site-packages/ipykernel_launcher.py:104: RuntimeWarning: invalid value encountered in multiply\n"
     ]
    }
   ],
   "source": [
    "outN = master_bar_angle(fourierN)\n",
    "# out3 = master_bar_angle(fourier3, firstkey=0)\n",
    "# out4 = master_bar_angle(fourier4, firstkey=0)\n",
    "out6 = master_bar_angle(fourier6, firstkey=0)\n",
    "out6i = master_bar_angle(fourier6i, firstkey=0)"
   ]
  },
  {
   "cell_type": "code",
   "execution_count": 25,
   "metadata": {},
   "outputs": [
    {
     "data": {
      "image/png": "[encoded data removed]",
      "text/plain": [
       "<Figure size 576x576 with 1 Axes>"
      ]
     },
     "metadata": {},
     "output_type": "display_data"
    }
   ],
   "source": [
    "fig, ax = plt.subplots(1, 1, figsize=(8, 8))\n",
    "n=5\n",
    "\n",
    "dat = outN\n",
    "name = 'Nbody'\n",
    "\n",
    "time = dat['time']\n",
    "ba, ps = dat['poly_eval'][n]\n",
    "true_ps = dat['pattern_speed']\n",
    "ax.plot(time-time[400], ps, label=name, c='k')\n",
    "ax.plot(time-time[400], true_ps, c='k')#, label=name)\n",
    "dt = time[300] - time[400]\n",
    "\n",
    "# dat = out3\n",
    "# name = 'Sg 10'\n",
    "\n",
    "# time = dat['time']\n",
    "# ba, ps = dat['poly_eval'][n]\n",
    "# true_ps = dat['pattern_speed']\n",
    "# # ax.plot(time-time[0], ps, label=name)\n",
    "# ax.plot(time-time[0], true_ps, label=name)\n",
    "\n",
    "# dat = out4\n",
    "# name = 'snap300'\n",
    "\n",
    "# time = dat['time']\n",
    "# ba, ps = dat['poly_eval'][n]\n",
    "# true_ps = dat['pattern_speed']\n",
    "# l=ax.plot(time-time[0], ps, label=name)\n",
    "# ax.plot(time-time[0], true_ps, label=name, c=l[0].get_color())\n",
    "\n",
    "dat = out6\n",
    "name = 'SMUGGLE'\n",
    "\n",
    "time = dat['time'] + dt\n",
    "ba, ps = dat['poly_eval'][n]\n",
    "true_ps = dat['pattern_speed']\n",
    "l=ax.plot(time, ps, label=name)\n",
    "ax.plot(time, true_ps, c=l[0].get_color())\n",
    "\n",
    "\n",
    "dat = out6i\n",
    "name = 'isotherm'\n",
    "\n",
    "time = dat['time'] + dt\n",
    "ba, ps = dat['poly_eval'][n]\n",
    "true_ps = dat['pattern_speed']\n",
    "# l=ax.plot(time, ps, label=name)\n",
    "# ax.plot(time, true_ps, c=l[0].get_color())\n",
    "\n",
    "\n",
    "ax.legend(frameon=False)\n",
    "\n",
    "ax.set(xlim=(-1000, 4000))\n",
    "# ax.set(xlim=(2500,3000))\n",
    "ax.set(ylim=(0, 55), xlabel='time [Myr]', ylabel='patern speed [km/s/kpc]')\n",
    "plt.show()"
   ]
  },
  {
   "cell_type": "code",
   "execution_count": 10,
   "metadata": {},
   "outputs": [
    {
     "data": {
      "application/vnd.jupyter.widget-view+json": {
       "model_id": "241c120ca02845b9892a5e5014ba28ef",
       "version_major": 2,
       "version_minor": 0
      },
      "text/plain": [
       "A Jupyter Widget"
      ]
     },
     "metadata": {},
     "output_type": "display_data"
    },
    {
     "name": "stdout",
     "output_type": "stream",
     "text": [
      "\n"
     ]
    }
   ],
   "source": [
    "angmom5_list = []\n",
    "angmom6_list= []\n",
    "angmom6i_list= []\n",
    "for i,idx in enumerate(tqdm(idx_list)):\n",
    "    angmom5_list.append(compute_angmom(sn5_list[i], center=np.array([0, 0, 0])))\n",
    "    try:\n",
    "#         com = find_com(sn6_list[i], Rfac=0.6)\n",
    "        com = np.array([200, 200, 200])\n",
    "        angmom6_list.append(compute_angmom(sn6_list[i], center=com))\n",
    "    except:\n",
    "        pass\n",
    "    try:\n",
    "        com = np.array([200, 200, 200])\n",
    "        angmom6i_list.append(compute_angmom(sn6i_list[i], center=com))\n",
    "    except:\n",
    "        pass\n",
    "angmom5_list = np.array(angmom5_list)\n",
    "angmom6_list = np.array(angmom6_list)\n",
    "angmom6i_list = np.array(angmom6i_list)"
   ]
  },
  {
   "cell_type": "code",
   "execution_count": 11,
   "metadata": {},
   "outputs": [
    {
     "data": {
      "application/vnd.jupyter.widget-view+json": {
       "model_id": "5b06ea9b31dc4269a61dae3c745734a3",
       "version_major": 2,
       "version_minor": 0
      },
      "text/plain": [
       "A Jupyter Widget"
      ]
     },
     "metadata": {},
     "output_type": "display_data"
    },
    {
     "name": "stdout",
     "output_type": "stream",
     "text": [
      "\n"
     ]
    }
   ],
   "source": [
    "time5_list = []\n",
    "time6_list = []\n",
    "time6i_list = []\n",
    "for i,idx in enumerate(tqdm(idx_list)):\n",
    "    time5_list.append(sn5_list[i].Time)\n",
    "    try:\n",
    "        time6_list.append(sn6_list[i].Time)\n",
    "    except:\n",
    "        pass\n",
    "    try:\n",
    "        time6i_list.append(sn6i_list[i].Time)\n",
    "    except:\n",
    "        pass\n",
    "time5_list = np.array(time5_list)\n",
    "time6_list = np.array(time6_list)\n",
    "time6i_list = np.array(time6i_list)"
   ]
  },
  {
   "cell_type": "code",
   "execution_count": 12,
   "metadata": {},
   "outputs": [
    {
     "data": {
      "image/png": "[encoded data removed]",
      "text/plain": [
       "<Figure size 432x288 with 1 Axes>"
      ]
     },
     "metadata": {},
     "output_type": "display_data"
    }
   ],
   "source": [
    "plt.plot(time5_list, angmom5_list[:,1,2] - angmom5_list[:,1,2][0], label='halo')\n",
    "plt.plot(time5_list, angmom5_list[:,2,2] - angmom5_list[:,2,2][0], label='disk')\n",
    "plt.plot(time5_list, angmom5_list[:,3,2] - angmom5_list[:,3,2][0], label='bulge')\n",
    "plt.legend(frameon=False)\n",
    "plt.xlabel('T [~Gyr]')\n",
    "plt.ylabel('change in ang mom [1E10 Msun kpc km/s]')\n",
    "plt.title('Nbody')\n",
    "plt.show()"
   ]
  },
  {
   "cell_type": "code",
   "execution_count": 15,
   "metadata": {},
   "outputs": [
    {
     "data": {
      "image/png": "[encoded data removed]",
      "text/plain": [
       "<Figure size 432x288 with 1 Axes>"
      ]
     },
     "metadata": {},
     "output_type": "display_data"
    }
   ],
   "source": [
    "plt.plot(time6_list, angmom6_list[:,0,2] - angmom6_list[:,0,2][0], label='gas')\n",
    "plt.plot(time6_list, angmom6_list[:,1,2] - angmom6_list[:,1,2][0], label='halo')\n",
    "plt.plot(time6_list, angmom6_list[:,2,2] - angmom6_list[:,2,2][0], label='disk')\n",
    "plt.plot(time6_list, angmom6_list[:,3,2] - angmom6_list[:,3,2][0], label='bulge')\n",
    "plt.plot(time6_list, angmom6_list[:,4,2] - angmom6_list[:,4,2][0], label='star')\n",
    "# plt.plot(time6_list, angmom6_list[:,0], label='gas')\n",
    "# plt.plot(time6_list, angmom6_list[:,1], label='halo')\n",
    "# plt.plot(time6_list, angmom6_list[:,2], label='disk')\n",
    "# plt.plot(time6_list, angmom6_list[:,3], label='bulge')\n",
    "plt.legend(frameon=False)\n",
    "# plt.yscale('log')\n",
    "plt.xlabel('T [~Gyr]')\n",
    "plt.ylabel('change in Lz [1E10 Msun kpc km/s]')\n",
    "plt.ylim(-200, 500)\n",
    "plt.title('SMUGGLE')\n",
    "plt.show()"
   ]
  },
  {
   "cell_type": "code",
   "execution_count": 14,
   "metadata": {},
   "outputs": [
    {
     "data": {
      "image/png": "[encoded data removed]",
      "text/plain": [
       "<Figure size 432x288 with 1 Axes>"
      ]
     },
     "metadata": {},
     "output_type": "display_data"
    }
   ],
   "source": [
    "plt.close()\n",
    "\n",
    "# plt.plot(time6_list, (angmom6_list[:,0] - angmom6_list[:,0][0])/angmom6_list[:,0][0], label='gas')\n",
    "# plt.plot(time6_list, (angmom6_list[:,1] - angmom6_list[:,1][0])/angmom6_list[:,1][0], label='halo')\n",
    "# plt.plot(time6_list, (angmom6_list[:,2] - angmom6_list[:,2][0])/angmom6_list[:,2][0], label='disk')\n",
    "# plt.plot(time6_list, (angmom6_list[:,3] - angmom6_list[:,3][0])/angmom6_list[:,3][0], label='bulge')\n",
    "# plt.plot(time6_list, (angmom6_list[:,4] - angmom6_list[:,4][0])/angmom6_list[:,4][0], label='star')\n",
    "plt.plot(time6_list, angmom6_list[:,0,2], label='gas')\n",
    "# plt.plot(time6_list, angmom6_list[:,1], label='halo')\n",
    "plt.plot(time6_list, angmom6_list[:,2,2], label='disk')\n",
    "plt.plot(time6_list, angmom6_list[:,3,2], label='bulge')\n",
    "plt.plot(time6_list, angmom6_list[:,4,2], label='star')\n",
    "plt.legend(frameon=False)\n",
    "\n",
    "plt.xlabel('T [~Gyr]')\n",
    "plt.ylabel('ang mom [1E10 Msun kpc km/s]')\n",
    "\n",
    "# plt.yscale('log')\n",
    "# plt.ylim(-0.01, 0.01)\n",
    "plt.show()"
   ]
  },
  {
   "cell_type": "code",
   "execution_count": 21,
   "metadata": {},
   "outputs": [
    {
     "data": {
      "image/png": "[encoded data removed]",
      "text/plain": [
       "<Figure size 432x288 with 1 Axes>"
      ]
     },
     "metadata": {},
     "output_type": "display_data"
    }
   ],
   "source": [
    "plt.plot(time6i_list, angmom6i_list[:,0,2] - angmom6i_list[:,0,2][0], label='gas')\n",
    "plt.plot(time6i_list, angmom6i_list[:,1,2] - angmom6i_list[:,1,2][0], label='halo')\n",
    "plt.plot(time6i_list, angmom6i_list[:,2,2] - angmom6i_list[:,2,2][0], label='disk')\n",
    "plt.plot(time6i_list, angmom6i_list[:,3,2] - angmom6i_list[:,3,2][0], label='bulge')\n",
    "plt.plot(time6i_list, angmom6i_list[:,4,2] - angmom6i_list[:,4,2][0], label='star')\n",
    "# plt.plot(time6_list, angmom6_list[:,0], label='gas')\n",
    "# plt.plot(time6_list, angmom6_list[:,1], label='halo')\n",
    "# plt.plot(time6_list, angmom6_list[:,2], label='disk')\n",
    "# plt.plot(time6_list, angmom6_list[:,3], label='bulge')\n",
    "plt.legend(frameon=False)\n",
    "# plt.yscale('log')\n",
    "plt.xlabel('T [~Gyr]')\n",
    "plt.ylabel('change in Lz [1E10 Msun kpc km/s]')\n",
    "plt.ylim(-500, 500)\n",
    "plt.title('isothermal')\n",
    "plt.show()"
   ]
  },
  {
   "cell_type": "code",
   "execution_count": null,
   "metadata": {
    "collapsed": true
   },
   "outputs": [],
   "source": []
  }
 ],
 "metadata": {
  "kernelspec": {
   "display_name": "Python 3",
   "language": "python",
   "name": "python3"
  },
  "language_info": {
   "codemirror_mode": {
    "name": "ipython",
    "version": 3
   },
   "file_extension": ".py",
   "mimetype": "text/x-python",
   "name": "python",
   "nbconvert_exporter": "python",
   "pygments_lexer": "ipython3",
   "version": "3.6.3"
  }
 },
 "nbformat": 4,
 "nbformat_minor": 2
}
