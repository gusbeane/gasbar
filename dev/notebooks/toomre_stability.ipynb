{
 "cells": [
  {
   "cell_type": "code",
   "execution_count": 1,
   "metadata": {},
   "outputs": [],
   "source": [
    "import numpy as np\n",
    "import matplotlib.pyplot as plt"
   ]
  },
  {
   "cell_type": "code",
   "execution_count": 5,
   "metadata": {},
   "outputs": [
    {
     "name": "stdout",
     "output_type": "stream",
     "text": [
      "15.29296731377217\n"
     ]
    }
   ],
   "source": [
    "m_p = 1.67262178e-24 # g\n",
    "k = 1.38065e-16 # cgs\n",
    "\n",
    "gamma = 5./3.\n",
    "T = 1E4\n",
    "mu = 10.0/17.0 # assumes fully ionized\n",
    "u = (3.0 * k * T) / (2.0 * mu * m_p) # cgs\n",
    "cs = np.sqrt(gamma*(gamma-1.)*u) # cm/s\n",
    "print(cs/1E5)"
   ]
  },
  {
   "cell_type": "code",
   "execution_count": 8,
   "metadata": {},
   "outputs": [],
   "source": [
    "dat = np.genfromtxt('MW_ICs.vc2comp', names=True)\n",
    "# for pulling the epicyclic frequency\n",
    "R_list = dat['R']\n",
    "kappa_list = dat['kappa']"
   ]
  },
  {
   "cell_type": "code",
   "execution_count": 9,
   "metadata": {},
   "outputs": [],
   "source": [
    "def Qeff(a_s, a_g, s_s, s_g, kappa, G):\n",
    "    a_A = np.sqrt(0.5 * (a_s*a_s + a_g*a_g))\n",
    "    a_D = np.sqrt(a_s*a_s - a_g*a_g)\n",
    "    \n",
    "    s_T = s_s + s_g\n",
    "    s_D = s_s - s_g\n",
    "    \n",
    "    QA = kappa * a_A / (np.pi * G * s_T)\n",
    "    \n",
    "    A = np.square(a_D/a_A)\n",
    "    S = s_D / s_T\n",
    "    \n",
    "    X0 = 2 * S * A - 4.\n",
    "    X1 = 4 + 4*S*A - 0.75*A*A - 2.25*S*S*A*A\n",
    "    X2 = A * (1.5 * S*A*A - A - 4*S)\n",
    "    X3 = A*A * (1-0.25*A*A)\n",
    "    \n",
    "    p = X2/X3\n",
    "    a = X1/X3\n",
    "    r = X0/X3\n",
    "    \n",
    "    a = (3 * q - p*p)/3\n",
    "    b = (2*p*p*p - 9*p*q + 27*r)/27\n",
    "    x = np.sqrt(b*b/4 + a*a*a/27)\n",
    "    \n",
    "    Kmin = (x - b/2)**(1./3.) + (-x-b/2)**(1./3.)-p/3.\n",
    "    \n",
    "    C = 0.25 * np.square(Kmin*a_D*a_D / (np.pi*G*s_T))\n",
    "    C -= (s_D/s_T) * (Kmin * a_D*a_D/(np.pi*G*s_T))\n",
    "    \n",
    "    Qeffsq = QA*QA / (Kmin * (1 + np.sqrt(1 + C)) - Kmin*Kmin)\n",
    "    return np.sqrt(Qeffsq)\n",
    "    "
   ]
  },
  {
   "cell_type": "code",
   "execution_count": null,
   "metadata": {},
   "outputs": [],
   "source": [
    "# test against "
   ]
  }
 ],
 "metadata": {
  "kernelspec": {
   "display_name": "Python 3",
   "language": "python",
   "name": "python3"
  },
  "language_info": {
   "codemirror_mode": {
    "name": "ipython",
    "version": 3
   },
   "file_extension": ".py",
   "mimetype": "text/x-python",
   "name": "python",
   "nbconvert_exporter": "python",
   "pygments_lexer": "ipython3",
   "version": "3.7.6"
  }
 },
 "nbformat": 4,
 "nbformat_minor": 4
}
