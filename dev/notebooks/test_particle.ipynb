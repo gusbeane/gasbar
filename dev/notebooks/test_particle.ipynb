{
 "cells": [
  {
   "cell_type": "code",
   "execution_count": 2,
   "metadata": {
    "tags": []
   },
   "outputs": [],
   "source": [
    "import numpy as np\n",
    "from numba import njit, prange\n",
    "import arepo\n",
    "import matplotlib.pyplot as plt"
   ]
  },
  {
   "cell_type": "code",
   "execution_count": 3,
   "metadata": {
    "tags": []
   },
   "outputs": [],
   "source": [
    "ics_dir = '/n/holylfs05/LABS/hernquist_lab/Users/abeane/gasbar/test_part/ics/'\n",
    "lvl = 'lvl4'"
   ]
  },
  {
   "cell_type": "code",
   "execution_count": 4,
   "metadata": {
    "tags": []
   },
   "outputs": [],
   "source": [
    "ics = arepo.Snapshot(ics_dir + lvl + '/MW_ICs.dat')"
   ]
  },
  {
   "cell_type": "code",
   "execution_count": 5,
   "metadata": {},
   "outputs": [],
   "source": [
    "@njit(parallel=True)\n",
    "def Hernquist_force(pos, M, a, G):\n",
    "    N = pos.shape[0]\n",
    "    mGM = - G * M\n",
    "    acc = np.zeros(pos.shape)\n",
    "    for i in prange(N):\n",
    "        r = np.sqrt(pos[i][0]*pos[i][0] + pos[i][1]*pos[i][1] + pos[i][2]*pos[i][2])\n",
    "        acc[i][0] = mGM * pos[i][0] / (r * (a + r)**2)\n",
    "        acc[i][1] = mGM * pos[i][1] / (r * (a + r)**2)\n",
    "        acc[i][2] = mGM * pos[i][2] / (r * (a + r)**2)\n",
    "        \n",
    "    return acc\n",
    "\n",
    "@njit(parallel=True)\n",
    "def Hernquist_pot(pos, M, a, G):\n",
    "    N = pos.shape[0]\n",
    "    mGM = - G * M\n",
    "    pot = np.zeros(N)\n",
    "    for i in prange(N):\n",
    "        r = np.sqrt(pos[i][0]*pos[i][0] + pos[i][1]*pos[i][1] + pos[i][2]*pos[i][2])\n",
    "        pot[i] = mGM / (r + a)\n",
    "        \n",
    "    return pot"
   ]
  },
  {
   "cell_type": "code",
   "execution_count": 6,
   "metadata": {},
   "outputs": [],
   "source": [
    "@njit\n",
    "def _compute_phi_r(A, vc, r, rCR, b):\n",
    "    ans = - A * vc**2 / 2\n",
    "    ans *= (r/rCR)**2\n",
    "    ans *= ((b+1.)/(b+r/rCR))**5.\n",
    "    return ans\n",
    "\n",
    "@njit\n",
    "def _compute_partial_phi_r(A, vc, r, rCR, b):\n",
    "    term1 = - A * vc**2 * (r/rCR)**2 * ((b+1)/(b+r/rCR))**5\n",
    "    term2 = (-A*vc**2/2) * (5 * ((b+1)/(b+r/rCR))**4) * (-((b+1)*rCR)/(r+rCR)**2)\n",
    "    \n",
    "    return term1 + term2\n",
    "\n",
    "@njit(parallel=True)\n",
    "def bar_pot(pos, A, b, vc, ps, ang):\n",
    "    N = pos.shape[0]\n",
    "    pot = np.zeros(N)\n",
    "    rCR = vc / ps\n",
    "    for i in range(N):\n",
    "        r = np.sqrt(pos[i][0]*pos[i][0] + pos[i][1]*pos[i][1] + pos[i][2]*pos[i][2])\n",
    "        theta = np.arccos(pos[i][2]/r)\n",
    "        phi = np.arctan2(pos[i][1], pos[i][0])\n",
    "        \n",
    "        phi_r = _compute_phi_r(A, vc, r, rCR, b)\n",
    "        \n",
    "        pot[i] = phi_r * np.sin(theta)**2 * np.cos(2.*(phi - ang))\n",
    "    \n",
    "    return pot\n",
    "\n",
    "@njit(parallel=False)\n",
    "def bar_force(pos, A, b, vc, ps, ang):\n",
    "    acc = np.zeros(pos.shape)\n",
    "    rCR = vc / ps\n",
    "    N = pos.shape[0]\n",
    "    # print('rCR= ', rCR)\n",
    "    \n",
    "    for i in range(N):\n",
    "        \n",
    "        r = np.sqrt(pos[i][0]*pos[i][0] + pos[i][1]*pos[i][1] + pos[i][2]*pos[i][2])\n",
    "        \n",
    "        # print(0)\n",
    "        \n",
    "        # if r==0:\n",
    "            # print('r=0')\n",
    "        \n",
    "        theta = np.arccos(pos[i][2]/r)\n",
    "        phi = np.arctan2(pos[i][1], pos[i][0])\n",
    "        \n",
    "        # if np.sin(theta)==0:\n",
    "            # print('sin(theta) = 0')\n",
    "        \n",
    "        # print(r, theta, phi)\n",
    "        \n",
    "        # print(1)\n",
    "        \n",
    "        phi_r = _compute_phi_r(A, vc, r, rCR, b)\n",
    "        \n",
    "        acc_r = -(1./r) * ((2*b-3*r/rCR)/(b+r/rCR)) * phi_r\n",
    "        # print(acc_r)\n",
    "        acc_r = - _compute_partial_phi_r(A, vc, r, rCR, b)\n",
    "        acc_r *= np.sin(theta)**2 * np.cos(2.*(phi - ang))\n",
    "        \n",
    "        # print(2)\n",
    "        \n",
    "        acc_theta = - phi_r * 2.*np.sin(theta)*np.cos(theta) * np.cos(2.*(phi-ang)) / r\n",
    "        \n",
    "        acc_phi = - phi_r * np.sin(theta) * (-2 * np.sin(2.*(phi-ang))) / r\n",
    "        \n",
    "        # print(3)\n",
    "        \n",
    "        # acc[i][0] = acc_r\n",
    "        # acc[i][1] = acc_theta\n",
    "        # acc[i][2] = acc_phi\n",
    "        \n",
    "        acc[i][0] = np.sin(theta)*np.cos(phi)*acc_r + np.cos(theta)*np.cos(phi)*acc_theta - np.sin(phi)*acc_phi\n",
    "        acc[i][1] = np.sin(theta)*np.sin(phi)*acc_r + np.cos(theta)*np.sin(phi)*acc_theta + np.cos(phi)*acc_phi\n",
    "        acc[i][2] = np.cos(theta) * acc_r - np.sin(theta) * acc_theta\n",
    "        \n",
    "    return acc"
   ]
  },
  {
   "cell_type": "code",
   "execution_count": 7,
   "metadata": {},
   "outputs": [],
   "source": [
    "@njit(parallel=True)\n",
    "def integrate_particles(pos, vel, mres, M, a, A, b, vc, ps, dt=0.1, Tmax=1.0,\n",
    "                        torque_gas=20.0, I_at_rCR6=2.0, G=43007.1):\n",
    "    T = 0.0\n",
    "    \n",
    "    ang = 0.0\n",
    "    \n",
    "    acc_halo = Hernquist_force(pos, M, a, G)\n",
    "    acc_bar = bar_force(pos, A, b, vc, ps, ang)\n",
    "    acc = acc_halo + acc_bar\n",
    "#     pot = Hernquist_pot(pos, N, M, a, G)\n",
    "    \n",
    "    Nint = int(Tmax/dt)+1\n",
    "    print('Nint=', Nint)\n",
    "    init_ps = ps\n",
    "    \n",
    "    # Output arrays\n",
    "    total_torque = np.zeros((Nint, 3))\n",
    "    time_out = np.zeros(Nint)\n",
    "    ps_out = np.zeros(Nint)\n",
    "    \n",
    "    for i in range(Nint):\n",
    "        # Analysis\n",
    "        torque = mres * np.cross(pos, acc)\n",
    "        total_torque[i] = np.sum(torque, axis=0)\n",
    "        ps_out[i] = ps\n",
    "        time_out[i] = T\n",
    "\n",
    "        # Print\n",
    "        print('i=', i, ' T=', T, 'total_torque=', total_torque[i], 'ps=', ps)\n",
    "        \n",
    "        # First half-kick and drift\n",
    "        for j in prange(N):\n",
    "            for k in range(3):\n",
    "                vel[j][k] += acc[j][k] * dt / 2.\n",
    "                pos[j][k] += vel[j][k] * dt\n",
    "        \n",
    "        rCR = vc/ps\n",
    "        I = I_at_rCR6 * (rCR/6.0)**2\n",
    "        Lz_bar = I * ps\n",
    "        \n",
    "        ps += - total_torque[i][2]/I * dt / 2.0 # constant ps\n",
    "        ps += torque_gas/I * dt / 2.0\n",
    "        ang += ps * dt\n",
    "        \n",
    "        if np.any(np.isnan(pos)):\n",
    "            print('nan')\n",
    "            # print(pos[np.isnan(pos)])\n",
    "        \n",
    "        # Force computation\n",
    "        acc_halo = Hernquist_force(pos, M, a, G)\n",
    "        acc_bar = bar_force(pos, A, b, vc, ps, ang)\n",
    "        # acc = acc_halo + acc_bar\n",
    "        acc = acc_halo + acc_bar\n",
    "        \n",
    "#         pot = Hernquist_pot(pos, N, M, a, G)\n",
    "        \n",
    "        # Second half-kick\n",
    "        for j in prange(N):\n",
    "            for k in range(3):\n",
    "                vel[j][k] += acc[j][k] * dt / 2.\n",
    "        \n",
    "        rCR = vc/ps\n",
    "        I = 0.2 * (b*rCR)**2 * 1.25**2\n",
    "        Lz_bar = I * ps\n",
    "        \n",
    "        ps += - Lz_bar/I* dt / 2.0 # constant ps\n",
    "        ps += torque_gas/I * dt / 2.0\n",
    "        \n",
    "        T += dt\n",
    "        \n",
    "    \n",
    "#     out = {'total_torque'}\n",
    "    \n",
    "    return time_out, total_torque, ps_out"
   ]
  },
  {
   "cell_type": "code",
   "execution_count": 12,
   "metadata": {},
   "outputs": [],
   "source": [
    "M = 100.698\n",
    "a = 26.2432\n",
    "\n",
    "A = 0.02\n",
    "b = 0.28\n",
    "vc = 235\n",
    "ps = 40\n",
    "\n",
    "pos = np.copy(ics.part1.pos)\n",
    "vel = np.copy(ics.part1.vel)\n",
    "T = 0.0\n",
    "N = ics.NumPart_Total[1]\n",
    "mres = ics.MassTable[1]\n",
    "\n",
    "acc_halo = Hernquist_force(pos, M, a, 43007.1)\n",
    "# acc_bar = bar_force(pos, N, A, b, vc, ps, 0.0)\n",
    "\n"
   ]
  },
  {
   "cell_type": "code",
   "execution_count": 9,
   "metadata": {},
   "outputs": [
    {
     "data": {
      "text/plain": [
       "array([[ 6.29408573e-02, -1.19820130e+01,  3.86054077e+00],\n",
       "       [ 3.96502165e+01, -1.13636867e+02, -8.22425970e+00],\n",
       "       [ 3.38124212e-01,  9.42981754e-02, -3.20444840e-01],\n",
       "       ...,\n",
       "       [ 8.98868037e+00, -2.47635559e+00,  6.28554240e-01],\n",
       "       [ 2.60292705e-04,  2.91839603e-02, -3.63743267e-03],\n",
       "       [ 5.38968249e-03,  1.98883648e-02, -1.60137177e-02]])"
      ]
     },
     "execution_count": 9,
     "metadata": {},
     "output_type": "execute_result"
    }
   ],
   "source": [
    "bar_force(pos, A, b, vc, ps, 0.0)"
   ]
  },
  {
   "cell_type": "code",
   "execution_count": 10,
   "metadata": {},
   "outputs": [
    {
     "data": {
      "text/plain": [
       "array([[-3.54287719e-15, -6.43386237e+01, -3.74124083e-15],\n",
       "       [ 6.43386237e+01,  0.00000000e+00,  3.74124083e-15]])"
      ]
     },
     "execution_count": 10,
     "metadata": {},
     "output_type": "execute_result"
    }
   ],
   "source": [
    "bar_force(np.array([[0., 20., 0.], [20., 0., 0.]]), A, b, vc, ps, 0.0)"
   ]
  },
  {
   "cell_type": "code",
   "execution_count": 11,
   "metadata": {},
   "outputs": [
    {
     "data": {
      "text/plain": [
       "array([[-2025.18753197,    -0.        ,    -0.        ]])"
      ]
     },
     "execution_count": 11,
     "metadata": {},
     "output_type": "execute_result"
    }
   ],
   "source": [
    "Hernquist_force(np.array([[20., 0., 0.]]), M, a, 43007.1)"
   ]
  },
  {
   "cell_type": "code",
   "execution_count": 12,
   "metadata": {},
   "outputs": [
    {
     "name": "stdout",
     "output_type": "stream",
     "text": [
      "CPU times: user 76.3 ms, sys: 39 ms, total: 115 ms\n",
      "Wall time: 119 ms\n"
     ]
    }
   ],
   "source": [
    "%%time\n",
    "acc = Hernquist_force(pos, M, a, 43007.1)"
   ]
  },
  {
   "cell_type": "code",
   "execution_count": 13,
   "metadata": {},
   "outputs": [
    {
     "data": {
      "text/plain": [
       "\u001b[0;31mInit signature:\u001b[0m \u001b[0mprange\u001b[0m\u001b[0;34m(\u001b[0m\u001b[0;34m*\u001b[0m\u001b[0margs\u001b[0m\u001b[0;34m)\u001b[0m\u001b[0;34m\u001b[0m\u001b[0;34m\u001b[0m\u001b[0m\n",
       "\u001b[0;31mDocstring:\u001b[0m     \n",
       "Provides a 1D parallel iterator that generates a sequence of integers.\n",
       "In non-parallel contexts, prange is identical to range.\n",
       "\u001b[0;31mFile:\u001b[0m           /n/helmod/apps/centos7/Core/Anaconda3/2021.05-jupyterood-fasrc01/x/lib/python3.8/site-packages/numba/misc/special.py\n",
       "\u001b[0;31mType:\u001b[0m           type\n",
       "\u001b[0;31mSubclasses:\u001b[0m     \n"
      ]
     },
     "metadata": {},
     "output_type": "display_data"
    }
   ],
   "source": [
    "prange?"
   ]
  },
  {
   "cell_type": "code",
   "execution_count": 16,
   "metadata": {},
   "outputs": [
    {
     "name": "stdout",
     "output_type": "stream",
     "text": [
      "Nint= 201\n",
      "i= 0  T= 0.0 total_torque= [5.69212883 8.8641566  7.30241093] ps= 40.0\n",
      "i= 1  T= 0.01 total_torque= [ 1.59818857 10.66177526 14.02308496] ps= 40.00708869394768\n",
      "i= 2  T= 0.02 total_torque= [-3.91993421  7.77292058 38.25816464] ps= 40.005416186491445\n",
      "i= 3  T= 0.03 total_torque= [-5.56227132  3.44876109 59.34595533] ps= 39.972007871376704\n",
      "i= 4  T= 0.04 total_torque= [-5.30916306  5.72576925 67.93052635] ps= 39.91092770666167\n",
      "i= 5  T= 0.05 total_torque= [ 6.92474916  0.80612354 59.21655511] ps= 39.83854445997605\n",
      "i= 6  T= 0.060000000000000005 total_torque= [ 7.40282924 -4.94285009 61.7937188 ] ps= 39.77737551858398\n",
      "i= 7  T= 0.07 total_torque= [ 12.3430573  -11.11316411  64.62592273] ps= 39.71275404625284\n",
      "i= 8  T= 0.08 total_torque= [ 7.37909011  8.28072009 55.4903    ] ps= 39.64436689086738\n",
      "i= 9  T= 0.09 total_torque= [-6.96724136 13.80465351 71.29278545] ps= 39.58761842013704\n",
      "i= 10  T= 0.09999999999999999 total_torque= [-11.60995574  -3.30586894  66.74804604] ps= 39.51049333803973\n",
      "i= 11  T= 0.10999999999999999 total_torque= [-6.01297102 -7.24922471 84.13064216] ps= 39.439087277384004\n",
      "i= 12  T= 0.11999999999999998 total_torque= [-2.06031301  2.41651705 86.68204116] ps= 39.34546965952233\n",
      "i= 13  T= 0.12999999999999998 total_torque= [-2.5142925   0.9143514  58.02674126] ps= 39.248600027694465\n",
      "i= 14  T= 0.13999999999999999 total_torque= [ 3.55830022 -9.30600677 38.82732673] ps= 39.187827064081986\n",
      "i= 15  T= 0.15 total_torque= [ 5.54151732 -6.14571105 44.68080674] ps= 39.151052949336666\n",
      "i= 16  T= 0.16 total_torque= [-1.6810595   8.78687085 26.30211942] ps= 39.106826307655716\n",
      "i= 17  T= 0.17 total_torque= [-2.79336575 -3.00748151 12.13190572] ps= 39.085466083757346\n",
      "i= 18  T= 0.18000000000000002 total_torque= [  0.90981658  -3.60019618 -14.50322976] ps= 39.0817265458897\n",
      "i= 19  T= 0.19000000000000003 total_torque= [-7.74819697 -6.1456077  -9.0597906 ] ps= 39.111240472272996\n",
      "i= 20  T= 0.20000000000000004 total_torque= [-7.92273259 -8.93887397 26.43154489] ps= 39.13413698915668\n",
      "i= 21  T= 0.21000000000000005 total_torque= [-2.65414959 -1.9516114  26.11478629] ps= 39.112721489981304\n",
      "i= 22  T= 0.22000000000000006 total_torque= [-3.49962153 -5.32208722 18.15911618] ps= 39.091618691685035\n",
      "i= 23  T= 0.23000000000000007 total_torque= [ 5.97478548 -4.63775908 46.87890466] ps= 39.08037604867562\n",
      "i= 24  T= 0.24000000000000007 total_torque= [ 3.11572871 -1.31298841 52.29017627] ps= 39.03321093843422\n",
      "i= 25  T= 0.25000000000000006 total_torque= [-1.58722596 -6.85577411 20.91307301] ps= 38.97918169337302\n",
      "i= 26  T= 0.26000000000000006 total_torque= [-9.0891568   1.49652278 40.52901472] ps= 38.96402069890923\n",
      "i= 27  T= 0.2700000000000001 total_torque= [-7.13689011 -6.61590652 31.90996326] ps= 38.924440516537274\n",
      "i= 28  T= 0.2800000000000001 total_torque= [  5.51650743 -10.97356496  39.18079078] ps= 38.89542269994789\n",
      "i= 29  T= 0.2900000000000001 total_torque= [ 6.98478734 -3.87638305 27.48557461] ps= 38.85730760900317\n",
      "i= 30  T= 0.3000000000000001 total_torque= [ 4.87929529 -9.14973964 21.85785258] ps= 38.83351789740095\n",
      "i= 31  T= 0.3100000000000001 total_torque= [14.56972861 -0.37042905 17.73168116] ps= 38.81657888166346\n",
      "i= 32  T= 0.3200000000000001 total_torque= [ 9.86885943 -7.79686573 10.26377512] ps= 38.80465415262237\n",
      "i= 33  T= 0.3300000000000001 total_torque= [ 10.08194205   0.1759434  -15.6517703 ] ps= 38.801873286087655\n",
      "i= 34  T= 0.34000000000000014 total_torque= [-2.6817898   9.34380337 -3.21178206] ps= 38.83098755632092\n",
      "i= 35  T= 0.35000000000000014 total_torque= [-13.44728646  10.1764994  -17.7536648 ] ps= 38.844951652643275\n",
      "i= 36  T= 0.36000000000000015 total_torque= [ -3.84491769  -4.26272102 -23.66515807] ps= 38.87694052601358\n",
      "i= 37  T= 0.37000000000000016 total_torque= [  8.37900426 -12.26285932  -6.97297421] ps= 38.916449506104506\n",
      "i= 38  T= 0.38000000000000017 total_torque= [  0.7637449   -5.25788482 -25.98051179] ps= 38.93556266322758\n",
      "i= 39  T= 0.3900000000000002 total_torque= [  1.51683147 -11.0282211  -40.83279022] ps= 38.97835587178621\n",
      "i= 40  T= 0.4000000000000002 total_torque= [ -3.6292673    3.76465817 -22.70655036] ps= 39.03991261025754\n",
      "i= 41  T= 0.4100000000000002 total_torque= [-10.31374771   1.92114268  -0.29488269] ps= 39.079379329966606\n",
      "i= 42  T= 0.4200000000000002 total_torque= [ 2.98096656 -1.88694348 -4.36591947] ps= 39.09113160313501\n",
      "i= 43  T= 0.4300000000000002 total_torque= [-3.12108947  0.34874474 13.36810429] ps= 39.10803764701248\n",
      "i= 44  T= 0.4400000000000002 total_torque= [ -6.41944747 -14.07300319  17.95780976] ps= 39.10286053432968\n",
      "i= 45  T= 0.45000000000000023 total_torque= [  9.52723301 -11.85023274  28.38464457] ps= 39.09191942150173\n",
      "i= 46  T= 0.46000000000000024 total_torque= [ 9.84070232 -8.21130283 24.06618144] ps= 39.0678982143867\n",
      "i= 47  T= 0.47000000000000025 total_torque= [18.36822883 -5.19120698 16.561084  ] ps= 39.04917704050662\n",
      "i= 48  T= 0.48000000000000026 total_torque= [ 11.83227689   5.6455348  -37.5649825 ] ps= 39.039739524793646\n",
      "i= 49  T= 0.49000000000000027 total_torque= [ -0.89400623   5.76913755 -13.90240112] ps= 39.09772565535237\n",
      "i= 50  T= 0.5000000000000002 total_torque= [ -3.59288724  -3.91978286 -12.30645417] ps= 39.12659282725228\n",
      "i= 51  T= 0.5100000000000002 total_torque= [-2.07513096  1.56851819 -7.73213518] ps= 39.15364924106666\n",
      "i= 52  T= 0.5200000000000002 total_torque= [-9.48240517 -2.02935234  5.49224107] ps= 39.17514358243569\n",
      "i= 53  T= 0.5300000000000002 total_torque= [-4.62789948  0.78877641  9.95964587] ps= 39.180170555518316\n",
      "i= 54  T= 0.5400000000000003 total_torque= [ 0.92380041  2.11366148 25.16251472] ps= 39.17961524409608\n",
      "i= 55  T= 0.5500000000000003 total_torque= [-1.87541558 -5.72902488 13.66396688] ps= 39.159970833538374\n",
      "i= 56  T= 0.5600000000000003 total_torque= [-10.84216444  -4.72671449  -3.01006503] ps= 39.15466914708062\n",
      "i= 57  T= 0.5700000000000003 total_torque= [-7.53555638 -0.12224765  2.65781893] ps= 39.170248970697095\n",
      "i= 58  T= 0.5800000000000003 total_torque= [ 0.92369475  9.03039092 22.77497488] ps= 39.178806944574916\n",
      "i= 59  T= 0.5900000000000003 total_torque= [8.10407743 2.48846976 3.40697374] ps= 39.16215659273113\n",
      "i= 60  T= 0.6000000000000003 total_torque= [ 2.59350419 15.48623138 33.12231783] ps= 39.16973083272465\n",
      "i= 61  T= 0.6100000000000003 total_torque= [-0.58319043 -9.17609416 15.91294617] ps= 39.140058926278236\n",
      "i= 62  T= 0.6200000000000003 total_torque= [  9.58296441 -11.81229442   8.29402086] ps= 39.13184528654067\n",
      "i= 63  T= 0.6300000000000003 total_torque= [ 8.79355278 -5.23877135 -7.75240546] ps= 39.13313573172879\n",
      "i= 64  T= 0.6400000000000003 total_torque= [  8.95826146   7.131375   -16.65620437] ps= 39.15453021575305\n",
      "i= 65  T= 0.6500000000000004 total_torque= [0.21520452 1.08911582 1.99839441] ps= 39.18721928675634\n",
      "i= 66  T= 0.6600000000000004 total_torque= [-2.89722662  0.04782585  3.22238804] ps= 39.19669789098233\n",
      "i= 67  T= 0.6700000000000004 total_torque= [-4.96709703  0.79254168 18.94742604] ps= 39.20469055268391\n",
      "i= 68  T= 0.6800000000000004 total_torque= [-2.10612307 -0.54537125 14.95227311] ps= 39.19295919331169\n",
      "i= 69  T= 0.6900000000000004 total_torque= [-4.80972062  4.4502242  36.32295106] ps= 39.18619529801872\n",
      "i= 70  T= 0.7000000000000004 total_torque= [-7.9006228  -6.27825253 24.80309187] ps= 39.15256123547701\n",
      "i= 71  T= 0.7100000000000004 total_torque= [ 3.87518532  2.40659759 14.21944216] ps= 39.13325934040775\n",
      "i= 72  T= 0.7200000000000004 total_torque= [ -1.18664153  -4.71686618 -30.84893369] ps= 39.127135585111056\n",
      "i= 73  T= 0.7300000000000004 total_torque= [ -5.07058063  -3.0818667  -12.79589627] ps= 39.17741215587129\n",
      "i= 74  T= 0.7400000000000004 total_torque= [-5.46634854 -2.05784528 11.73272589] ps= 39.205408325504706\n",
      "i= 75  T= 0.7500000000000004 total_torque= [ -2.50369691   8.24857434 -10.317461  ] ps= 39.20274975953044\n",
      "i= 76  T= 0.7600000000000005 total_torque= [-10.10030315   5.17869029  27.1849545 ] ps= 39.227793973940024\n",
      "i= 77  T= 0.7700000000000005 total_torque= [-11.20568706  -5.49633897  33.04267371] ps= 39.205797148096885\n",
      "i= 78  T= 0.7800000000000005 total_torque= [  2.49504035 -17.47663139  34.52712429] ps= 39.17635116332457\n",
      "i= 79  T= 0.7900000000000005 total_torque= [ 1.33998793 -7.64638019 15.1538473 ] ps= 39.14493897608145\n",
      "i= 80  T= 0.8000000000000005 total_torque= [ 1.10749328  0.16116301 14.90152869] ps= 39.137699022783046\n",
      "i= 81  T= 0.8100000000000005 total_torque= [-0.56819669 -1.58691253 12.2476029 ] ps= 39.130741615987986\n",
      "i= 82  T= 0.8200000000000005 total_torque= [-7.13284942 -0.25742339 34.95227477] ps= 39.12707538566584\n",
      "i= 83  T= 0.8300000000000005 total_torque= [-4.37314412 -5.55176308 30.85355249] ps= 39.09496384861323\n",
      "i= 84  T= 0.8400000000000005 total_torque= [-1.89852897 -1.20438983 50.80031242] ps= 39.06786799877834\n",
      "i= 85  T= 0.8500000000000005 total_torque= [-6.14142309 -7.72403432 20.24128369] ps= 39.0157757151202\n",
      "i= 86  T= 0.8600000000000005 total_torque= [-5.04329386 -5.87003218 31.45562937] ps= 39.00160579731573\n",
      "i= 87  T= 0.8700000000000006 total_torque= [ 2.31728395  4.62334826 10.05003181] ps= 38.973424560040954\n",
      "i= 88  T= 0.8800000000000006 total_torque= [ 7.12031204  2.46327626 -2.72273049] ps= 38.971733402456934\n",
      "i= 89  T= 0.8900000000000006 total_torque= [-1.53335755 -0.08799929 -4.24043732] ps= 38.98589902028779\n",
      "i= 90  T= 0.9000000000000006 total_torque= [-1.69398218  4.29875764 15.68697623] ps= 39.002032448528276\n",
      "i= 91  T= 0.9100000000000006 total_torque= [-12.59961577  -4.9562854    9.74237377] ps= 38.993469519391304\n",
      "i= 92  T= 0.9200000000000006 total_torque= [-9.77854895 -4.26589887 18.75926217] ps= 38.992259578743734\n",
      "i= 93  T= 0.9300000000000006 total_torque= [  2.92424882 -11.01205806  30.31751411] ps= 38.9798319284835\n",
      "i= 94  T= 0.9400000000000006 total_torque= [16.23243879 -7.04573536 25.43744807] ps= 38.952987585264054\n",
      "i= 95  T= 0.9500000000000006 total_torque= [ 0.18561854  2.74918418 10.70048384] ps= 38.932101728528735\n",
      "i= 96  T= 0.9600000000000006 total_torque= [-3.07118434  5.58921296 12.0947502 ] ps= 38.92940125642348\n",
      "i= 97  T= 0.9700000000000006 total_torque= [ 0.16869402  1.5981944  -8.37509131] ps= 38.924959600132006\n",
      "i= 98  T= 0.9800000000000006 total_torque= [-6.04346962  3.76248215 -0.34589723] ps= 38.94586114739698\n",
      "i= 99  T= 0.9900000000000007 total_torque= [-0.0173223   0.40030152  7.0078938 ] ps= 38.95693011373393\n",
      "i= 100  T= 1.0000000000000007 total_torque= [-0.44591284  6.60055973 18.7438336 ] ps= 38.95893362264856\n",
      "i= 101  T= 1.0100000000000007 total_torque= [ 0.72519353 -1.34996753  8.29640312] ps= 38.946379767703085\n",
      "i= 102  T= 1.0200000000000007 total_torque= [ 2.22452838 -1.90000875  9.60640414] ps= 38.94673101805232\n",
      "i= 103  T= 1.0300000000000007 total_torque= [11.1599935  -8.34590714 10.45897999] ps= 38.94545897467067\n",
      "i= 104  T= 1.0400000000000007 total_torque= [10.52259596 -4.22945331 10.37411918] ps= 38.943123095203596\n",
      "i= 105  T= 1.0500000000000007 total_torque= [7.47569678 4.5611401  0.38169993] ps= 38.94088105506371\n",
      "i= 106  T= 1.0600000000000007 total_torque= [-6.32917698 14.57148238  7.11745476] ps= 38.95101993664801\n",
      "i= 107  T= 1.0700000000000007 total_torque= [ -7.07685467  -0.15372965 -14.56507641] ps= 38.95285731334305\n",
      "i= 108  T= 1.0800000000000007 total_torque= [ 2.30837122 -9.01164377 15.81338305] ps= 38.98160987012489\n",
      "i= 109  T= 1.0900000000000007 total_torque= [ 0.09085763 -1.91873346 31.24470923] ps= 38.97279667674664\n",
      "i= 110  T= 1.1000000000000008 total_torque= [ 4.10427979  2.14377231 17.0790411 ] ps= 38.94477512641605\n",
      "i= 111  T= 1.1100000000000008 total_torque= [5.78077187 7.46088437 0.38032246] ps= 38.934224548532185\n",
      "i= 112  T= 1.1200000000000008 total_torque= [-0.10518031 -8.13622632 -8.15448435] ps= 38.94432834092288\n",
      "i= 113  T= 1.1300000000000008 total_torque= [ 4.84612697  3.88788231 16.93448416] ps= 38.96507415938224\n",
      "i= 114  T= 1.1400000000000008 total_torque= [ 0.489837   -1.52147924  0.38178275] ps= 38.95479369261375\n",
      "i= 115  T= 1.1500000000000008 total_torque= [-13.85719119   2.67957729  12.99106076] ps= 38.965009418590164\n",
      "i= 116  T= 1.1600000000000008 total_torque= [-6.71203193 -0.2090055  28.8195325 ] ps= 38.959625089769894\n",
      "i= 117  T= 1.1700000000000008 total_torque= [ 0.49188251 -4.63788846 22.67425986] ps= 38.934567065193264\n",
      "i= 118  T= 1.1800000000000008 total_torque= [12.45123767 -2.4815595  35.68675827] ps= 38.91703445060849\n",
      "i= 119  T= 1.1900000000000008 total_torque= [ 0.17526679  3.78271574 18.00873273] ps= 38.883312739844975\n",
      "i= 120  T= 1.2000000000000008 total_torque= [6.30580368 9.93604999 6.94791893] ps= 38.87133888104065\n",
      "i= 121  T= 1.2100000000000009 total_torque= [11.18660548 15.25028928  2.4421124 ] ps= 38.872980152346386\n",
      "i= 122  T= 1.2200000000000009 total_torque= [-5.65200599 10.43852387 19.55344301] ps= 38.880198006604786\n",
      "i= 123  T= 1.2300000000000009 total_torque= [-5.7858396   2.25076982 24.68124397] ps= 38.8663008423625\n",
      "i= 124  T= 1.2400000000000009 total_torque= [-1.39875708 -3.54379827 17.03072305] ps= 38.846009445908656\n",
      "i= 125  T= 1.2500000000000009 total_torque= [  4.87503837 -10.00273856   5.44256459] ps= 38.83507901707552\n",
      "i= 126  T= 1.260000000000001 total_torque= [ 7.39562898 -7.37443746  3.69546941] ps= 38.83839252824845\n",
      "i= 127  T= 1.270000000000001 total_torque= [ 2.95934861 -5.9572781   4.11495599] ps= 38.84387838072565\n",
      "i= 128  T= 1.280000000000001 total_torque= [-0.76472118 -2.20500431 10.74032499] ps= 38.8488756376666\n",
      "i= 129  T= 1.290000000000001 total_torque= [-0.1634062   1.05156349  3.71647235] ps= 38.84572184592999\n",
      "i= 130  T= 1.300000000000001 total_torque= [-4.31881089 -1.62330201 14.9510993 ] ps= 38.85122055655588\n",
      "i= 131  T= 1.310000000000001 total_torque= [-3.60523643  1.58531721 12.63412983] ps= 38.8428803525365\n",
      "i= 132  T= 1.320000000000001 total_torque= [3.01959664 4.22708318 8.31736581] ps= 38.83736083006111\n",
      "i= 133  T= 1.330000000000001 total_torque= [ 1.26026067 -5.65064141 34.25202656] ps= 38.83714004483031\n",
      "i= 134  T= 1.340000000000001 total_torque= [-7.0547446   4.86535392 38.08349064] ps= 38.804927850790854\n",
      "i= 135  T= 1.350000000000001 total_torque= [ 1.19452991 -3.58088703 19.74407204] ps= 38.76788997187592\n",
      "i= 136  T= 1.360000000000001 total_torque= [3.2563914 0.8970045 5.5130477] ps= 38.75327844173103\n",
      "i= 137  T= 1.370000000000001 total_torque= [-4.21973691  0.91930562  1.60094971] ps= 38.756082757501545\n",
      "i= 138  T= 1.380000000000001 total_torque= [2.94289833 3.54753242 5.76849347] ps= 38.763706893519114\n",
      "i= 139  T= 1.390000000000001 total_torque= [-1.57045318  8.95647911 14.16832118] ps= 38.76625104723685\n",
      "i= 140  T= 1.400000000000001 total_torque= [-1.92829278  0.55632703 19.06910039] ps= 38.75848503736154\n",
      "i= 141  T= 1.410000000000001 total_torque= [ 6.39423551  3.28344144 38.75582864] ps= 38.74466274834463\n",
      "i= 142  T= 1.420000000000001 total_torque= [ 2.74580183 -3.77086353 28.18970654] ps= 38.706613735419744\n",
      "i= 143  T= 1.430000000000001 total_torque= [ 0.16924374 -0.72691479 23.63896029] ps= 38.68139484619639\n",
      "i= 144  T= 1.440000000000001 total_torque= [12.64761491 -5.2159158   5.38808456] ps= 38.661650982494784\n",
      "i= 145  T= 1.450000000000001 total_torque= [15.2318007   1.96817003  5.28409537] ps= 38.66413713896835\n",
      "i= 146  T= 1.460000000000001 total_torque= [-4.48965389  8.66592411 12.2053868 ] ps= 38.6667631890437\n",
      "i= 147  T= 1.470000000000001 total_torque= [-4.61547808  1.8051414   2.36138486] ps= 38.660940389842054\n",
      "i= 148  T= 1.480000000000001 total_torque= [-2.4693056  -2.81818362 10.93854091] ps= 38.66712239380102\n",
      "i= 149  T= 1.490000000000001 total_torque= [-0.94797365 -0.4795132  20.01645672] ps= 38.66285022793088\n",
      "i= 150  T= 1.500000000000001 total_torque= [-1.01489446  5.85723174 23.7319549 ] ps= 38.64746073831888\n",
      "i= 151  T= 1.5100000000000011 total_torque= [ 7.29689082 -4.39310733 17.51352635] ps= 38.62746833500516\n",
      "i= 152  T= 1.5200000000000011 total_torque= [-0.2143295  -6.30997468 -2.99922167] ps= 38.614984126718525\n",
      "i= 153  T= 1.5300000000000011 total_torque= [ -3.10154756   2.92800161 -22.13925484] ps= 38.6274581657078\n",
      "i= 154  T= 1.5400000000000011 total_torque= [7.13069483 7.60186229 2.64591185] ps= 38.663356811363876\n",
      "i= 155  T= 1.5500000000000012 total_torque= [-5.62173698 -0.23390635 14.15543351] ps= 38.669203871544426\n",
      "i= 156  T= 1.5600000000000012 total_torque= [ 1.38046205 -2.06596923  9.69366003] ps= 38.66100801847913\n",
      "i= 157  T= 1.5700000000000012 total_torque= [ 1.82944091 -7.33308805  0.3388031 ] ps= 38.65822820982741\n",
      "i= 158  T= 1.5800000000000012 total_torque= [ 6.45842532 -3.88048745 18.5191504 ] ps= 38.66686759553151\n",
      "i= 159  T= 1.5900000000000012 total_torque= [ 7.65562739  3.80501401 22.63757449] ps= 38.653325701814005\n",
      "i= 160  T= 1.6000000000000012 total_torque= [ 0.35602834 -2.94221445  7.00104568] ps= 38.63469368048812\n",
      "i= 161  T= 1.6100000000000012 total_torque= [4.00413141 1.58545629 1.16802326] ps= 38.63507268636827\n",
      "i= 162  T= 1.6200000000000012 total_torque= [-3.36199252  5.0899592   0.07072461] ps= 38.64257364740119\n",
      "i= 163  T= 1.6300000000000012 total_torque= [-8.00060778  1.29418324 12.90380476] ps= 38.651455027674515\n",
      "i= 164  T= 1.6400000000000012 total_torque= [-5.27030523  0.58594024 24.55065121] ps= 38.64470700921992\n",
      "i= 165  T= 1.6500000000000012 total_torque= [-8.10639819 -5.56056389  3.08060531] ps= 38.623703849640044\n",
      "i= 166  T= 1.6600000000000013 total_torque= [ 9.19391156 -4.32428909 -0.47936297] ps= 38.62881027541438\n",
      "i= 167  T= 1.6700000000000013 total_torque= [-3.04972221 -8.32117886 -3.31717375] ps= 38.63828767061373\n",
      "i= 168  T= 1.6800000000000013 total_torque= [ 0.06764914 -9.90129527  9.86113528] ps= 38.65128173787647\n",
      "i= 169  T= 1.6900000000000013 total_torque= [11.18364869 -1.77376224  7.31253602] ps= 38.648250055387855\n",
      "i= 170  T= 1.7000000000000013 total_torque= [-4.14088515  5.26852165 -9.03177691] ps= 38.648316737778515\n",
      "i= 171  T= 1.7100000000000013 total_torque= [ -7.43034808  -0.52067214 -12.00239938] ps= 38.66834812545591\n",
      "i= 172  T= 1.7200000000000013 total_torque= [-7.86594032 -3.62273295  8.66948504] ps= 38.692133068968744\n",
      "i= 173  T= 1.7300000000000013 total_torque= [-1.67070858 -8.5303688  40.72830846] ps= 38.69075856796863\n",
      "i= 174  T= 1.7400000000000013 total_torque= [  3.98972458 -10.92863041  26.486611  ] ps= 38.65013168579445\n",
      "i= 175  T= 1.7500000000000013 total_torque= [-2.64892982  1.25673408 12.41242634] ps= 38.62678480777291\n",
      "i= 176  T= 1.7600000000000013 total_torque= [ 6.25475869  2.25867977 30.95201073] ps= 38.620521553495536\n",
      "i= 177  T= 1.7700000000000014 total_torque= [-6.68014239  1.45016213 10.78039663] ps= 38.591615959104686\n",
      "i= 178  T= 1.7800000000000014 total_torque= [-8.7814503  -3.63179719  9.59811569] ps= 38.58717588108199\n",
      "i= 179  T= 1.7900000000000014 total_torque= [-4.34690971  4.60585816  1.22621638] ps= 38.5841541557328\n",
      "i= 180  T= 1.8000000000000014 total_torque= [-2.5413863  -9.02425688 18.88125392] ps= 38.59130986058316\n",
      "i= 181  T= 1.8100000000000014 total_torque= [-3.58549302 -5.89305316 39.42660436] ps= 38.57700256167307\n",
      "i= 182  T= 1.8200000000000014 total_torque= [-2.33541316 -4.19023243 16.95800713] ps= 38.53763155581436\n",
      "i= 183  T= 1.8300000000000014 total_torque= [-0.62518799  1.66622558  8.60951917] ps= 38.525431568081935\n",
      "i= 184  T= 1.8400000000000014 total_torque= [  2.09826007 -10.26320443  23.31808703] ps= 38.52331079514777\n",
      "i= 185  T= 1.8500000000000014 total_torque= [-1.81945275 -1.14883793 22.77824651] ps= 38.50332991942052\n",
      "i= 186  T= 1.8600000000000014 total_torque= [ -0.0799208    7.19124936 -12.71941899] ps= 38.483924321941785\n",
      "i= 187  T= 1.8700000000000014 total_torque= [-12.74267346   2.845037     4.60492871] ps= 38.50743149785341\n",
      "i= 188  T= 1.8800000000000014 total_torque= [-14.35949857  -3.70527647  17.59654943] ps= 38.5100784425783\n",
      "i= 189  T= 1.8900000000000015 total_torque= [-1.22912279 -6.03133534  7.04188067] ps= 38.49698375615711\n",
      "i= 190  T= 1.9000000000000015 total_torque= [-5.90211209 -4.26023737 24.47383601] ps= 38.49662363316006\n",
      "i= 191  T= 1.9100000000000015 total_torque= [-5.07542535 -7.05381508 23.49365949] ps= 38.475136424152296\n",
      "i= 192  T= 1.9200000000000015 total_torque= [ 2.24882935 -6.13499088 19.51822609] ps= 38.45475230124782\n",
      "i= 193  T= 1.9300000000000015 total_torque= [ 8.33144805 -0.46151947 13.7391753 ] ps= 38.43909505776494\n",
      "i= 194  T= 1.9400000000000015 total_torque= [14.38026522 10.3071776  17.1728615 ] ps= 38.430354724009376\n",
      "i= 195  T= 1.9500000000000015 total_torque= [-0.56369468 17.34868852 15.91197509] ps= 38.41742782286322\n",
      "i= 196  T= 1.9600000000000015 total_torque= [ 0.7018015  13.31419395  1.41173197] ps= 38.40596668458655\n",
      "i= 197  T= 1.9700000000000015 total_torque= [-0.90851637 -1.02879373 20.12826383] ps= 38.41194449952587\n",
      "i= 198  T= 1.9800000000000015 total_torque= [-0.13934527 -8.64481242 27.88193203] ps= 38.395372151502286\n",
      "i= 199  T= 1.9900000000000015 total_torque= [-5.4840049  -0.4784775  38.63674892] ps= 38.36938437381372\n",
      "i= 200  T= 2.0000000000000013 total_torque= [-1.76046835 -4.63416161 32.17796269] ps= 38.33035488050287\n",
      "CPU times: user 3min 40s, sys: 37.9 s, total: 4min 18s\n",
      "Wall time: 4min 19s\n"
     ]
    }
   ],
   "source": [
    "%%time\n",
    "time, torque, ps_out = integrate_particles(pos, vel, mres, M, a, A, b, vc, ps, dt=0.01, Tmax=2.0, I_at_rCR6=4.0, torque_gas=30.0)"
   ]
  },
  {
   "cell_type": "code",
   "execution_count": 18,
   "metadata": {},
   "outputs": [
    {
     "data": {
      "image/png": "[encoded data removed]",
      "text/plain": [
       "<Figure size 432x288 with 1 Axes>"
      ]
     },
     "metadata": {
      "needs_background": "light"
     },
     "output_type": "display_data"
    }
   ],
   "source": [
    "plt.plot(time, ps_out)\n",
    "# plt.yscale('log')\n",
    "plt.ylim(0, 60)\n",
    "plt.show()"
   ]
  },
  {
   "cell_type": "code",
   "execution_count": 35,
   "metadata": {},
   "outputs": [
    {
     "data": {
      "text/plain": [
       "6.362586605080831"
      ]
     },
     "execution_count": 35,
     "metadata": {},
     "output_type": "execute_result"
    }
   ],
   "source": [
    "55.1/8.66"
   ]
  },
  {
   "cell_type": "code",
   "execution_count": 23,
   "metadata": {
    "tags": []
   },
   "outputs": [
    {
     "data": {
      "image/png": "[encoded data removed]",
      "text/plain": [
       "<Figure size 432x288 with 1 Axes>"
      ]
     },
     "metadata": {
      "needs_background": "light"
     },
     "output_type": "display_data"
    }
   ],
   "source": [
    "theta_list = np.linspace(0., 2.*np.pi, 1000)\n",
    "y = np.cos(2.*theta_list)\n",
    "plt.plot(theta_list, y)\n",
    "plt.show()"
   ]
  },
  {
   "cell_type": "code",
   "execution_count": 5,
   "metadata": {},
   "outputs": [],
   "source": [
    "@njit\n",
    "def _compute_phi_r(A, vc, r, rCR, b):\n",
    "    ans = - A * vc**2 / 2\n",
    "    ans *= (r/rCR)**2\n",
    "    ans *= ((b+1.)/(b+r/rCR))**5.\n",
    "    return ans\n",
    "\n",
    "@njit\n",
    "def _compute_partial_phi_r(A, vc, r, rCR, b):\n",
    "    term1 = - A * vc**2 * (r/rCR)**2 * ((b+1)/(b+r/rCR))**5\n",
    "    term2 = (-A*vc**2/2) * (5 * ((b+1)/(b+r/rCR))**4) * (-((b+1)*rCR)/(r+rCR)**2)\n",
    "    \n",
    "    \n",
    "    return term1 + term2\n",
    "\n",
    "@njit(parallel=True)\n",
    "def bar_pot(pos, N, A, b, vc, ps, ang):\n",
    "    pot = np.zeros(N)\n",
    "    rCR = vc / ps\n",
    "    for i in range(N):\n",
    "        r = np.sqrt(pos[i][0]*pos[i][0] + pos[i][1]*pos[i][1] + pos[i][2]*pos[i][2])\n",
    "        theta = np.arccos(pos[i][2]/r)\n",
    "        phi = np.arctan2(pos[i][1], pos[i][0])\n",
    "        \n",
    "        phi_r = _compute_phi_r(A, vc, r, rCR, b)\n",
    "        \n",
    "        pot[i] = phi_r * np.sin(theta)**2 * np.cos(2.*(phi - ang))\n",
    "    \n",
    "    return pot\n",
    "\n",
    "@njit(parallel=True)\n",
    "def bar_force(pos, N, A, b, vc, ps, ang):\n",
    "    acc = np.zeros(pos.shape)\n",
    "    rCR = vc / ps\n",
    "    for i in range(N):\n",
    "        r = np.sqrt(pos[i][0]*pos[i][0] + pos[i][1]*pos[i][1] + pos[i][2]*pos[i][2])\n",
    "        theta = np.arccos(pos[i][2]/r)\n",
    "        phi = np.arctan2(pos[i][1], pos[i][0])\n",
    "        \n",
    "        # print(r, theta, phi)\n",
    "        \n",
    "        phi_r = _compute_phi_r(A, vc, r, rCR, b)\n",
    "        \n",
    "        # acc_r = -(1./r) * ((2*b-3*r/rCR)/(b+r/rCR)) * phi_r\n",
    "        # print(acc_r)\n",
    "        acc_r = - _compute_partial_phi_r(A, vc, r, rCR, b)\n",
    "        acc_r *= np.sin(theta)**2 * np.cos(2.*(phi - ang))\n",
    "        \n",
    "        acc_theta = - phi_r * 2.*np.sin(theta)*np.cos(theta) * np.cos(2.*(phi-ang)) / r\n",
    "        \n",
    "        acc_phi = - phi_r * np.sin(theta)**2 * (-2 * np.sin(2.*(phi-ang))) / (r * np.sin(theta))\n",
    "        \n",
    "        acc[i][0] = acc_r\n",
    "        acc[i][1] = acc_theta\n",
    "        acc[i][2] = acc_phi\n",
    "        \n",
    "        # acc[i][0] = np.sin(theta)*np.cos(phi)*acc_r + np.cos(theta)*np.cos(phi)*acc_theta - np.sin(phi)*acc_phi\n",
    "        # acc[i][1] = np.sin(theta)*np.sin(phi)*acc_r + np.cos(theta)*np.sin(phi)*acc_theta + np.cos(phi)*acc_phi\n",
    "        # acc[i][2] = np.cos(theta) * acc_r - np.sin(theta) * acc_theta\n",
    "        \n",
    "    return acc"
   ]
  },
  {
   "cell_type": "code",
   "execution_count": 6,
   "metadata": {},
   "outputs": [],
   "source": [
    "A = 0.02\n",
    "b = 0.28\n",
    "vc = 235\n",
    "ps = 40"
   ]
  },
  {
   "cell_type": "code",
   "execution_count": 7,
   "metadata": {},
   "outputs": [
    {
     "data": {
      "text/plain": [
       "array([[ 3.45041126e+02,  2.20050608e-15, -0.00000000e+00],\n",
       "       [-3.45041126e+02, -2.20050608e-15, -4.40101216e-15]])"
      ]
     },
     "execution_count": 7,
     "metadata": {},
     "output_type": "execute_result"
    }
   ],
   "source": [
    "r = 10.\n",
    "bar_force(np.array([[r, 0., 0.], [0., r, 0.]]), 2, A, b, vc, ps, 0.0)"
   ]
  },
  {
   "cell_type": "code",
   "execution_count": 8,
   "metadata": {},
   "outputs": [],
   "source": [
    "nres = 256\n",
    "grid = np.zeros((nres*nres, 3))\n",
    "pts = np.linspace(-10, 10, nres)\n",
    "for i in range(nres):\n",
    "    for j in range(nres):\n",
    "        grid[i + j*nres][0] = pts[i]\n",
    "        grid[i + j*nres][1] = pts[j]"
   ]
  },
  {
   "cell_type": "code",
   "execution_count": 9,
   "metadata": {},
   "outputs": [],
   "source": [
    "pot = bar_pot(grid, nres*nres, A, b, vc, ps, 0.0)\n",
    "pot = np.reshape(pot, (nres, nres))"
   ]
  },
  {
   "cell_type": "code",
   "execution_count": 19,
   "metadata": {},
   "outputs": [
    {
     "data": {
      "text/plain": [
       "<matplotlib.image.AxesImage at 0x2adcc0da2760>"
      ]
     },
     "execution_count": 19,
     "metadata": {},
     "output_type": "execute_result"
    },
    {
     "data": {
      "image/png": "[encoded data removed]",
      "text/plain": [
       "<Figure size 432x288 with 1 Axes>"
      ]
     },
     "metadata": {
      "needs_background": "light"
     },
     "output_type": "display_data"
    }
   ],
   "source": [
    "plt.imshow(pot.T, origin='lower', extent=[-10, 10, -10, 10])"
   ]
  },
  {
   "cell_type": "code",
   "execution_count": 61,
   "metadata": {},
   "outputs": [],
   "source": [
    "acc = bar_force(grid, nres*nres, A, b, vc, ps, 0.0)\n",
    "acc = np.reshape(acc, (nres, nres, 3))"
   ]
  },
  {
   "cell_type": "code",
   "execution_count": 77,
   "metadata": {},
   "outputs": [
    {
     "data": {
      "text/plain": [
       "<matplotlib.colorbar.Colorbar at 0x2adcdfc771f0>"
      ]
     },
     "execution_count": 77,
     "metadata": {},
     "output_type": "execute_result"
    },
    {
     "data": {
      "image/png": "[encoded data removed]",
      "text/plain": [
       "<Figure size 432x288 with 2 Axes>"
      ]
     },
     "metadata": {
      "needs_background": "light"
     },
     "output_type": "display_data"
    }
   ],
   "source": [
    "plt.imshow(acc[:,:,2].T, origin='lower', vmin=-2000, vmax=2000, extent=[-10, 10, -10, 10], cmap='bwr')\n",
    "plt.colorbar()"
   ]
  },
  {
   "cell_type": "code",
   "execution_count": 20,
   "metadata": {},
   "outputs": [],
   "source": [
    "sim_list = ['Nbody', 'phantom-vacuum-Sg20-Rc3.5']\n",
    "\n",
    "basepath = '/n/holystore01/LABS/hernquist_lab/Users/abeane/starbar_runs/runs/'\n",
    "\n",
    "def read_snap(idx, sim_idx, lvl='lvl3', parttype=[0], fields=['Coordinates', 'Masses', 'Velocities', 'ParticleIDs', 'Acceleration'],\n",
    "              basepath = basepath):\n",
    "    fname = basepath + sim_list[sim_idx] + '/' + lvl + '/output'\n",
    "    return arepo.Snapshot(fname, idx, parttype=parttype, fields=fields, combineFiles=True)"
   ]
  },
  {
   "cell_type": "code",
   "execution_count": 21,
   "metadata": {},
   "outputs": [],
   "source": [
    "sn = read_snap(500, 0, lvl='lvl3', parttype=[1])"
   ]
  },
  {
   "cell_type": "code",
   "execution_count": 35,
   "metadata": {},
   "outputs": [],
   "source": [
    "from scipy.spatial import KDTree\n",
    "import matplotlib as mpl"
   ]
  },
  {
   "cell_type": "code",
   "execution_count": 23,
   "metadata": {},
   "outputs": [],
   "source": [
    "tree = KDTree(sn.part1.pos.value)"
   ]
  },
  {
   "cell_type": "code",
   "execution_count": 25,
   "metadata": {},
   "outputs": [],
   "source": [
    "pos = sn.part1.pos.value\n",
    "r = np.linalg.norm(pos, axis=1)\n",
    "theta = np.arccos(pos[:,2]/r)\n",
    "phi = np.arctan2(pos[:,1], pos[:,0])\n",
    "\n",
    "acc = sn.part1.acce\n",
    "acc_r = np.sin(theta)*np.cos(phi)*acc[:,0] + np.sin(theta)*np.sin(phi)*acc[:,1] + np.cos(theta)*acc[:,2]\n"
   ]
  },
  {
   "cell_type": "code",
   "execution_count": 30,
   "metadata": {},
   "outputs": [],
   "source": [
    "_, tree_keys = tree.query(grid)\n"
   ]
  },
  {
   "cell_type": "code",
   "execution_count": 31,
   "metadata": {},
   "outputs": [],
   "source": [
    "acc_grid = acc_r[tree_keys]"
   ]
  },
  {
   "cell_type": "code",
   "execution_count": 32,
   "metadata": {},
   "outputs": [],
   "source": [
    "acc_grid = np.reshape(acc_grid, (nres, nres))"
   ]
  },
  {
   "cell_type": "code",
   "execution_count": 39,
   "metadata": {},
   "outputs": [
    {
     "data": {
      "text/plain": [
       "<matplotlib.colorbar.Colorbar at 0x2adcfdc799d0>"
      ]
     },
     "execution_count": 39,
     "metadata": {},
     "output_type": "execute_result"
    },
    {
     "data": {
      "image/png": "[encoded data removed]",
      "text/plain": [
       "<Figure size 432x288 with 2 Axes>"
      ]
     },
     "metadata": {
      "needs_background": "light"
     },
     "output_type": "display_data"
    }
   ],
   "source": [
    "plt.imshow(acc_grid.T, origin='lower', extent=[-10, 10, -10, 10], vmin=-2000, vmax=2000, cmap='bwr')\n",
    "plt.colorbar()"
   ]
  },
  {
   "cell_type": "code",
   "execution_count": 40,
   "metadata": {},
   "outputs": [],
   "source": [
    "import h5py as h5\n",
    "fname = '/n/holylfs05/LABS/hernquist_lab/Users/abeane/gasbar/analysis/torques/data/torques_Nbody-lvl3/'\n",
    "fname = fname + 'torques_Nbody-lvl3.200.hdf5'\n",
    "t = h5.File(fname, mode='r')"
   ]
  },
  {
   "cell_type": "code",
   "execution_count": 43,
   "metadata": {},
   "outputs": [],
   "source": [
    "tree = KDTree(t['pos_halo'])"
   ]
  },
  {
   "cell_type": "code",
   "execution_count": 56,
   "metadata": {},
   "outputs": [],
   "source": [
    "pos = np.array(t['pos_halo'])\n",
    "acc = np.array(t['acc_halo'])\n",
    "\n",
    "r = np.linalg.norm(pos, axis=1)\n",
    "theta = np.arccos(pos[:,2]/r)\n",
    "phi = np.arctan2(pos[:,1], pos[:,0])\n",
    "\n",
    "acc_r = np.sin(theta)*np.cos(phi)*acc[:,0] + np.sin(theta)*np.sin(phi)*acc[:,1] + np.cos(theta)*acc[:,2]"
   ]
  },
  {
   "cell_type": "code",
   "execution_count": 57,
   "metadata": {},
   "outputs": [],
   "source": [
    "_, tree_keys = tree.query(grid)\n"
   ]
  },
  {
   "cell_type": "code",
   "execution_count": 58,
   "metadata": {},
   "outputs": [],
   "source": [
    "acc_grid = acc_r[tree_keys]\n",
    "acc_grid = np.reshape(acc_grid, (nres, nres))"
   ]
  },
  {
   "cell_type": "code",
   "execution_count": 60,
   "metadata": {},
   "outputs": [
    {
     "data": {
      "text/plain": [
       "<matplotlib.colorbar.Colorbar at 0x2add46fd6310>"
      ]
     },
     "execution_count": 60,
     "metadata": {},
     "output_type": "execute_result"
    },
    {
     "data": {
      "image/png": "[encoded data removed]",
      "text/plain": [
       "<Figure size 432x288 with 2 Axes>"
      ]
     },
     "metadata": {
      "needs_background": "light"
     },
     "output_type": "display_data"
    }
   ],
   "source": [
    "plt.imshow(acc_grid.T, origin='lower', extent=[-10, 10, -10, 10], vmin=-2000, vmax=2000, cmap='bwr')\n",
    "plt.colorbar()"
   ]
  },
  {
   "cell_type": "code",
   "execution_count": 55,
   "metadata": {},
   "outputs": [
    {
     "data": {
      "text/plain": [
       "25347840"
      ]
     },
     "execution_count": 55,
     "metadata": {},
     "output_type": "execute_result"
    }
   ],
   "source": [
    "len(pos)"
   ]
  },
  {
   "cell_type": "code",
   "execution_count": 65,
   "metadata": {},
   "outputs": [],
   "source": [
    "from galpy.potential import DehnenBarPotential"
   ]
  },
  {
   "cell_type": "code",
   "execution_count": 66,
   "metadata": {},
   "outputs": [],
   "source": [
    "pot = DehnenBarPotential()"
   ]
  },
  {
   "cell_type": "code",
   "execution_count": 75,
   "metadata": {},
   "outputs": [
    {
     "data": {
      "text/plain": [
       "2.5108891003380446e-05"
      ]
     },
     "execution_count": 75,
     "metadata": {},
     "output_type": "execute_result"
    }
   ],
   "source": [
    "pot.rforce(4, 0, phi=np.pi/2.)"
   ]
  },
  {
   "cell_type": "code",
   "execution_count": null,
   "metadata": {},
   "outputs": [],
   "source": []
  }
 ],
 "metadata": {
  "kernelspec": {
   "display_name": "Python 3",
   "language": "python",
   "name": "python3"
  },
  "language_info": {
   "codemirror_mode": {
    "name": "ipython",
    "version": 3
   },
   "file_extension": ".py",
   "mimetype": "text/x-python",
   "name": "python",
   "nbconvert_exporter": "python",
   "pygments_lexer": "ipython3",
   "version": "3.8.8"
  }
 },
 "nbformat": 4,
 "nbformat_minor": 4
}
