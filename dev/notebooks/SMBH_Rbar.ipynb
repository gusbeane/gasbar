{
 "cells": [
  {
   "cell_type": "code",
   "execution_count": 2,
   "id": "7dbd18c9-49c3-4599-a102-d7d8a2d324de",
   "metadata": {},
   "outputs": [],
   "source": [
    "import numpy as np\n",
    "import matplotlib.pyplot as plt\n",
    "import h5py as h5\n",
    "import re\n",
    "import astropy.units as u\n",
    "\n",
    "from tqdm import tqdm_notebook as tqdm\n",
    "from scipy import signal\n",
    "import arepo\n",
    "\n",
    "from numpy.polynomial import Polynomial\n",
    "\n",
    "from scipy.stats import linregress"
   ]
  },
  {
   "cell_type": "code",
   "execution_count": 3,
   "id": "39bfa2a5-ab5d-4376-8cda-163a0326af57",
   "metadata": {},
   "outputs": [],
   "source": [
    "sim_list = ['Nbody', 'phantom-vacuum-Sg20-Rc3.5', 'Nbody300-BH', 'Nbody500-BH1E8']\n",
    "\n",
    "basepath = '/n/holystore01/LABS/hernquist_lab/Users/abeane/starbar_runs/runs/'\n",
    "\n",
    "def read_snap(idx, sim_idx, lvl='lvl3', parttype=[0], fields=['Coordinates', 'Masses', 'Velocities'],\n",
    "              basepath = basepath):\n",
    "    fname = basepath + sim_list[sim_idx] + '/' + lvl + '/output'\n",
    "    return arepo.Snapshot(fname, idx, parttype=parttype, fields=fields, combineFiles=True)\n",
    "\n",
    "def read_sfr(sim_idx, lvl='lvl3', basepath = basepath):\n",
    "    fname = basepath + sim_list[sim_idx] + '/' + lvl + '/output/sfr.txt'\n",
    "    return np.genfromtxt(fname)\n",
    "\n",
    "def read_fourier(sim_idx, lvl='lvl3', basepath='/n/holylfs05/LABS/hernquist_lab/Users/abeane/gasbar/analysis/'):\n",
    "    sim = sim_list[sim_idx]\n",
    "    f = h5.File(basepath+'/fourier_component/data/fourier_'+sim+'-'+lvl+'.hdf5', mode='r')\n",
    "    return f\n",
    "\n"
   ]
  },
  {
   "cell_type": "code",
   "execution_count": 4,
   "id": "c03cec5e-087d-4483-9621-0ab64b40fc72",
   "metadata": {},
   "outputs": [],
   "source": [
    "def extract_t_A2A0(fourier, idx):\n",
    "\n",
    "    i = 0\n",
    "\n",
    "    tlist = np.array(fourier['time'])\n",
    "    A2A0list = []\n",
    "    print(fourier['snapshot_000']['Rlist'][idx])\n",
    "    while 'snapshot_'+\"{:03d}\".format(i) in fourier.keys():\n",
    "        key = 'snapshot_'+\"{:03d}\".format(i)\n",
    "        A0 = fourier[key]['A0'][idx]\n",
    "        A2r = fourier[key]['A2r'][idx]\n",
    "        A2i = fourier[key]['A2i'][idx]\n",
    "    \n",
    "        A2 = np.sqrt(A2r*A2r + A2i*A2i)\n",
    "        A2A0list.append(A2/A0)\n",
    "        i += 1\n",
    "    \n",
    "    return np.array(tlist), np.array(A2A0list)\n",
    "\n",
    "def extract_t_max_A2A0(fourier, debug=False):\n",
    "\n",
    "    i = 0\n",
    "\n",
    "    tlist = np.array(fourier['time'])\n",
    "    A2A0list = []\n",
    "    while 'snapshot_'+\"{:03d}\".format(i) in fourier.keys():\n",
    "        key = 'snapshot_'+\"{:03d}\".format(i)\n",
    "        A0 = np.array(fourier[key]['A0'])\n",
    "        A2r = np.array(fourier[key]['A2r'])\n",
    "        A2i = np.array(fourier[key]['A2i'])\n",
    "    \n",
    "        A2 = np.sqrt(A2r*A2r + A2i*A2i)\n",
    "#         A2A0 = A2/A0\n",
    "        A2A0list.append(np.max(A2/A0))\n",
    "        if debug:\n",
    "            print(tlist[i], fourier[key]['Rlist'][np.argmax(A2/A0)], np.max(A2/A0))\n",
    "#         A2A0list.append(A2/A0)\n",
    "        i += 1\n",
    "    \n",
    "    return np.array(tlist), np.array(A2A0list)\n",
    "\n",
    "def extract_t_AmA0(fourier, idx, m):\n",
    "\n",
    "    i = 0\n",
    "\n",
    "    tlist = np.array(fourier['time'])\n",
    "    AmA0list = []\n",
    "#     print(fourier['snapshot_000']['Rlist'][idx])\n",
    "    while 'snapshot_'+\"{:03d}\".format(i) in fourier.keys():\n",
    "        key = 'snapshot_'+\"{:03d}\".format(i)\n",
    "        A0 = fourier[key]['A0'][idx]\n",
    "        Amr = fourier[key]['A'+str(m)+'r'][idx]\n",
    "        Ami = fourier[key]['A'+str(m)+'i'][idx]\n",
    "    \n",
    "        Am = np.sqrt(Amr*Amr + Ami*Ami)\n",
    "        AmA0list.append(Am/A0)\n",
    "        i += 1\n",
    "    \n",
    "    return np.array(tlist), np.array(AmA0list)"
   ]
  },
  {
   "cell_type": "code",
   "execution_count": 5,
   "id": "486a1e19-6ad4-4ec6-925d-d0e208feb31f",
   "metadata": {},
   "outputs": [],
   "source": [
    "def get_bar_angle(phi, firstkey):\n",
    "    out = np.zeros(len(phi))\n",
    "\n",
    "    # set the first bar anglea\n",
    "    first_bar_angle = phi[firstkey]/2.0\n",
    "    out[firstkey] = first_bar_angle\n",
    "    \n",
    "    # set all subsequent angles\n",
    "    for i in np.arange(firstkey+1, len(out)):\n",
    "        dphi = phi[i] - phi[i-1]\n",
    "        if dphi < -np.pi:\n",
    "            dphi += 2.*np.pi\n",
    "        out[i] = out[i-1] + dphi/2.0\n",
    "\n",
    "    # set all previous angles to be the bar angle\n",
    "    for i in np.arange(0, firstkey):\n",
    "        out[i] = first_bar_angle\n",
    "\n",
    "    return out\n",
    "\n",
    "def get_sorted_keys(dat):\n",
    "    keys = list(dat.keys())\n",
    "    # only keep keys that are snapshot keys\n",
    "    keys = [k for k in keys if 'snapshot' in k]\n",
    "\n",
    "    # extract and sort indices\n",
    "    indices = [int(re.findall(r'\\d?\\d?\\d\\d\\d', k)[0]) for k in keys]\n",
    "    sorted_arg = np.argsort(indices)\n",
    "    keys_sorted = [keys[i] for i in sorted_arg]\n",
    "\n",
    "    return keys_sorted\n",
    "\n",
    "def get_A2_angle(dat, keys, Rbin, cum=False):\n",
    "    if cum:\n",
    "        rk = 'A2r_c'\n",
    "        ri = 'A2i_c'\n",
    "    else:\n",
    "        rk = 'A2r'\n",
    "        ri = 'A2i'\n",
    "    \n",
    "    Rlist = np.array([np.array(dat[k]['Rlist']) for k in keys])\n",
    "    A2r = np.array([np.array(dat[k][rk]) for k in keys])\n",
    "    A2i = np.array([np.array(dat[k][ri]) for k in keys])\n",
    "    phi = np.arctan2(A2i, A2r)\n",
    "    phi = phi[:,Rbin]\n",
    "    R_at_Rbin = Rlist[:,Rbin]\n",
    "    \n",
    "    time = np.array(dat['time'])\n",
    "\n",
    "    return time, R_at_Rbin, phi\n",
    "\n",
    "def get_bar_length(dat, keys, Rmin=2, Rmax=10, ratio_cut = 2):\n",
    "    Rlist = np.array([np.array(dat[k]['Rlist']) for k in keys])\n",
    "\n",
    "    A0 = np.array([np.array(dat[k]['A0']) for k in keys])\n",
    "    A1r = np.array([np.array(dat[k]['A1r']) for k in keys])\n",
    "    A1i = np.array([np.array(dat[k]['A1i']) for k in keys])\n",
    "    A2r = np.array([np.array(dat[k]['A2r']) for k in keys])\n",
    "    A2i = np.array([np.array(dat[k]['A2i']) for k in keys])\n",
    "    A3r = np.array([np.array(dat[k]['A3r']) for k in keys])\n",
    "    A3i = np.array([np.array(dat[k]['A3i']) for k in keys])\n",
    "    A4r = np.array([np.array(dat[k]['A4r']) for k in keys])\n",
    "    A4i = np.array([np.array(dat[k]['A4i']) for k in keys])\n",
    "    A5r = np.array([np.array(dat[k]['A5r']) for k in keys])\n",
    "    A5i = np.array([np.array(dat[k]['A5i']) for k in keys])\n",
    "    A6r = np.array([np.array(dat[k]['A6r']) for k in keys])\n",
    "    A6i = np.array([np.array(dat[k]['A6i']) for k in keys])\n",
    "    \n",
    "    I0 = A0/2.\n",
    "    I1 = np.sqrt(A1r*A1r + A1i*A1i)\n",
    "    I2 = np.sqrt(A2r*A2r + A2i*A2i)\n",
    "    I3 = np.sqrt(A3r*A3r + A3i*A3i)\n",
    "    I4 = np.sqrt(A4r*A4r + A4i*A4i)\n",
    "    I5 = np.sqrt(A5r*A5r + A5i*A5i)\n",
    "    I6 = np.sqrt(A6r*A6r + A6i*A6i)\n",
    "    \n",
    "    Ib = I0 + I2 + I4 + I6\n",
    "    Iib = I0 - I2 + I4 - I6\n",
    "    \n",
    "    IbIib = Ib/Iib\n",
    "    \n",
    "    Rbar_list = []\n",
    "    for i,k in enumerate(keys):\n",
    "        R = Rlist[i,:]\n",
    "        ratio = IbIib[i,:]\n",
    "        \n",
    "        Rkey = np.logical_and(R > Rmin, R< Rmax)\n",
    "        ratio = ratio[Rkey]\n",
    "        R = R[Rkey]\n",
    "        j = 0\n",
    "        try:\n",
    "            while ratio[j] > ratio_cut:\n",
    "                j += 1\n",
    "            Rbar = R[j-1] + (ratio_cut - ratio[j-1]) * (R[j]-R[j-1])/(ratio[j]-ratio[j-1])\n",
    "        except:\n",
    "            Rbar = np.nan\n",
    "        Rbar_list.append(Rbar)\n",
    "\n",
    "    time = np.array(dat['time'])    \n",
    "    \n",
    "    return time, np.array(Rbar_list)\n",
    "\n",
    "def evaluate_polynomial(pfit, n, time, bar_angle_firstkey, firstkey):\n",
    "    pfit_n = pfit[n]\n",
    "    poly_bar_angle = np.zeros(len(time))\n",
    "    poly_pattern_speed = np.zeros(len(time))\n",
    "\n",
    "    for i in range(n+1):\n",
    "        ba = pfit_n[i] * time ** (n-i)\n",
    "        poly_bar_angle[firstkey:] += ba[firstkey:]\n",
    "        ps = (n-i) * pfit_n[i] * time**(n-1-i)\n",
    "        poly_pattern_speed[firstkey:] += ps[firstkey:]\n",
    "\n",
    "    poly_bar_angle[:firstkey] += bar_angle_firstkey\n",
    "\n",
    "    poly_pattern_speed = poly_pattern_speed / u.Myr\n",
    "    poly_pattern_speed = poly_pattern_speed.to_value(u.km/u.s/u.kpc)\n",
    "\n",
    "    return poly_bar_angle, poly_pattern_speed\n",
    "\n",
    "def main_bar_angle(dat, Rbin = 3, firstkey = 150, nmax = 10, cum=False):\n",
    "    # try loading snapshot\n",
    "#     dat = h5.File(fname, mode='r')\n",
    "    out = {}\n",
    "\n",
    "    keys = get_sorted_keys(dat)\n",
    "    time, R, phi = get_A2_angle(dat, keys, Rbin, cum=cum)\n",
    "    time, Rbar = get_bar_length(dat, keys)\n",
    "#     Rlist, Iibar = get_bar_length(dat, keys)\n",
    "    bar_angle = get_bar_angle(phi, firstkey)\n",
    "\n",
    "    pattern_speed = np.gradient(bar_angle, time) / u.Myr\n",
    "    pattern_speed = pattern_speed.to_value(u.km/u.s/u.kpc)\n",
    "\n",
    "    pfit = [np.polyfit(time[firstkey:], bar_angle[firstkey:], i) for i in range(nmax)]\n",
    "    \n",
    "    out['time'] = time\n",
    "    out['firstkey'] = firstkey\n",
    "    out['R'] = R\n",
    "    out['Rbar'] = Rbar\n",
    "    out['phi'] = phi\n",
    "    out['bar_angle'] = bar_angle\n",
    "    out['pattern_speed'] = pattern_speed\n",
    "    out['pfit'] = pfit\n",
    "\n",
    "    # now evaluate the polynomial for each fit and save the result\n",
    "    out['poly_eval'] = {}\n",
    "    for n in range(nmax):\n",
    "        poly_bar_angle, poly_pattern_speed = evaluate_polynomial(pfit, n, time, bar_angle[firstkey], firstkey)\n",
    "\n",
    "        out['poly_eval'][n] = (poly_bar_angle, poly_pattern_speed)\n",
    "\n",
    "    return out\n",
    "#     return Rlist, Iibar"
   ]
  },
  {
   "cell_type": "code",
   "execution_count": 6,
   "id": "40778d91-956e-4936-827f-ddee27ff6dfc",
   "metadata": {},
   "outputs": [
    {
     "name": "stderr",
     "output_type": "stream",
     "text": [
      "<ipython-input-5-db31fcbdb6e4>:111: RuntimeWarning: divide by zero encountered in reciprocal\n",
      "  ps = (n-i) * pfit_n[i] * time**(n-1-i)\n",
      "<ipython-input-5-db31fcbdb6e4>:111: RuntimeWarning: invalid value encountered in multiply\n",
      "  ps = (n-i) * pfit_n[i] * time**(n-1-i)\n"
     ]
    }
   ],
   "source": [
    "fourier = read_fourier(0, lvl='lvl3')\n",
    "out = main_bar_angle(fourier, Rbin=3, firstkey=0, cum=True)\n",
    "\n",
    "fourierBH = read_fourier(2, lvl='lvl3')\n",
    "outBH = main_bar_angle(fourierBH, Rbin=3, firstkey=0, cum=True)\n",
    "\n",
    "fourierBH1E8 = read_fourier(3, lvl='lvl3')\n",
    "outBH1E8 = main_bar_angle(fourierBH1E8, Rbin=3, firstkey=0, cum=True)"
   ]
  },
  {
   "cell_type": "code",
   "execution_count": 18,
   "id": "4e015a35-fa95-4eb3-b347-c0cf1ad265f7",
   "metadata": {},
   "outputs": [
    {
     "data": {
      "text/plain": [
       "(0.0, 8.0)"
      ]
     },
     "execution_count": 18,
     "metadata": {},
     "output_type": "execute_result"
    },
    {
     "data": {
      "image/png": "[encoded data removed]",
      "text/plain": [
       "<Figure size 432x288 with 1 Axes>"
      ]
     },
     "metadata": {
      "needs_background": "light"
     },
     "output_type": "display_data"
    }
   ],
   "source": [
    "plt.plot(out['time'], out['Rbar'], label='no BH')\n",
    "plt.plot(outBH['time']+out['time'][500], outBH['Rbar'], label='BH M=5E6')\n",
    "plt.plot(outBH1E8['time']+out['time'][500], outBH1E8['Rbar'], label='BH M=1E8')\n",
    "plt.legend(frameon=False)\n",
    "plt.xlim(out['time'][500]-50, out['time'][500] + 3000)\n",
    "plt.xlabel('time [Myr]')\n",
    "plt.ylabel('Rbar [kpc]')\n",
    "plt.ylim(0, 8)"
   ]
  },
  {
   "cell_type": "code",
   "execution_count": null,
   "id": "142adab6-d74d-4491-9318-5174f898983c",
   "metadata": {},
   "outputs": [],
   "source": []
  },
  {
   "cell_type": "code",
   "execution_count": 70,
   "id": "f204dd37-4e0f-4ec8-a229-d8be70c885e7",
   "metadata": {},
   "outputs": [
    {
     "data": {
      "text/plain": [
       "75"
      ]
     },
     "execution_count": 70,
     "metadata": {},
     "output_type": "execute_result"
    }
   ],
   "source": [
    "len(outBH1E8['time'])"
   ]
  },
  {
   "cell_type": "code",
   "execution_count": 65,
   "id": "e728c2e5-6917-458a-8bfd-7fc21428fb3a",
   "metadata": {},
   "outputs": [
    {
     "data": {
      "text/plain": [
       "(0.0, 6.0)"
      ]
     },
     "execution_count": 65,
     "metadata": {},
     "output_type": "execute_result"
    },
    {
     "data": {
      "image/png": "[encoded data removed]",
      "text/plain": [
       "<Figure size 432x288 with 1 Axes>"
      ]
     },
     "metadata": {
      "needs_background": "light"
     },
     "output_type": "display_data"
    }
   ],
   "source": [
    "plt.plot(out['time'], out['Rbar'])\n",
    "plt.plot(outBH['time']+out['time'][500], outBH['Rbar'])\n",
    "plt.plot(outBH1E8['time']+out['time'][500], outBH1E8['Rbar'])\n",
    "plt.xlim(out['time'][500]-50, out['time'][500] + 1000)\n",
    "plt.ylim(0, 6)"
   ]
  },
  {
   "cell_type": "code",
   "execution_count": 21,
   "id": "4fe3bcea-fe11-41d6-a958-f043d4ff938c",
   "metadata": {},
   "outputs": [
    {
     "data": {
      "text/plain": [
       "(0.0, 60.0)"
      ]
     },
     "execution_count": 21,
     "metadata": {},
     "output_type": "execute_result"
    },
    {
     "data": {
      "image/png": "[encoded data removed]",
      "text/plain": [
       "<Figure size 432x288 with 1 Axes>"
      ]
     },
     "metadata": {
      "needs_background": "light"
     },
     "output_type": "display_data"
    }
   ],
   "source": [
    "plt.plot(out['time'], out['pattern_speed'], label='no BH')\n",
    "plt.plot(outBH['time']+out['time'][500], outBH['pattern_speed'], label='BH M=5E6')\n",
    "plt.plot(outBH1E8['time']+out['time'][500], outBH1E8['pattern_speed'], label='BH M=1E8')\n",
    "plt.legend(frameon=False)\n",
    "plt.xlim(out['time'][500]-50, out['time'][500] + 3000)\n",
    "plt.xlabel('time [Myr]')\n",
    "plt.ylabel('Rbar [kpc]')\n",
    "plt.ylim(0, 60)"
   ]
  },
  {
   "cell_type": "code",
   "execution_count": 26,
   "id": "1ab3e2e6-f49e-4377-88b6-45ff07ae400e",
   "metadata": {},
   "outputs": [
    {
     "data": {
      "text/plain": [
       "dict_keys(['time', 'firstkey', 'R', 'Rbar', 'phi', 'bar_angle', 'pattern_speed', 'pfit', 'poly_eval'])"
      ]
     },
     "execution_count": 26,
     "metadata": {},
     "output_type": "execute_result"
    }
   ],
   "source": [
    "outBH.keys()"
   ]
  },
  {
   "cell_type": "code",
   "execution_count": 11,
   "id": "07adfdc4-ae49-4cbb-bc74-88a46503492a",
   "metadata": {},
   "outputs": [],
   "source": [
    "sn = read_snap(75, 3, lvl='lvl3', parttype=None)"
   ]
  },
  {
   "cell_type": "code",
   "execution_count": 15,
   "id": "02246d65-dddd-4f4d-bfdf-39ddc23a1606",
   "metadata": {},
   "outputs": [
    {
     "data": {
      "text/plain": [
       "1.24133047 "
      ]
     },
     "execution_count": 15,
     "metadata": {},
     "output_type": "execute_result"
    }
   ],
   "source": [
    "sn.MassTable[5] / (sn.MassTable[3] * sn.NumPart_Total[3])*100"
   ]
  },
  {
   "cell_type": "code",
   "execution_count": 51,
   "id": "0f87a6c3-d194-4894-b2d4-a952e95d54ee",
   "metadata": {},
   "outputs": [
    {
     "data": {
      "text/plain": [
       "0.20688841 None"
      ]
     },
     "execution_count": 51,
     "metadata": {},
     "output_type": "execute_result"
    }
   ],
   "source": [
    "100 * (1E8/1E10) / (sn.MassTable[2] * sn.NumPart_Total[2])"
   ]
  },
  {
   "cell_type": "code",
   "execution_count": null,
   "id": "9428dbb4-52ec-4db5-9551-1c8c2c3b857f",
   "metadata": {},
   "outputs": [],
   "source": []
  }
 ],
 "metadata": {
  "kernelspec": {
   "display_name": "Python 3",
   "language": "python",
   "name": "python3"
  },
  "language_info": {
   "codemirror_mode": {
    "name": "ipython",
    "version": 3
   },
   "file_extension": ".py",
   "mimetype": "text/x-python",
   "name": "python",
   "nbconvert_exporter": "python",
   "pygments_lexer": "ipython3",
   "version": "3.8.8"
  }
 },
 "nbformat": 4,
 "nbformat_minor": 5
}
