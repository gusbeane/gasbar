{
 "cells": [
  {
   "cell_type": "markdown",
   "metadata": {},
   "source": [
    "### Dumb stuff about oscillations\n",
    "\n",
    "Some stuff I wrote down about analyzing oscillations, just keeping here in case it is interesting in the future (but I think probably not)"
   ]
  },
  {
   "cell_type": "code",
   "execution_count": 1,
   "metadata": {},
   "outputs": [
    {
     "ename": "NameError",
     "evalue": "name 'outN' is not defined",
     "output_type": "error",
     "traceback": [
      "\u001b[0;31m---------------------------------------------------------------------------\u001b[0m",
      "\u001b[0;31mNameError\u001b[0m                                 Traceback (most recent call last)",
      "\u001b[0;32m<ipython-input-1-1f73955bdc42>\u001b[0m in \u001b[0;36m<module>\u001b[0;34m()\u001b[0m\n\u001b[1;32m      1\u001b[0m \u001b[0mn\u001b[0m\u001b[0;34m=\u001b[0m\u001b[0;36m5\u001b[0m\u001b[0;34m\u001b[0m\u001b[0m\n\u001b[0;32m----> 2\u001b[0;31m \u001b[0mtime\u001b[0m \u001b[0;34m=\u001b[0m \u001b[0moutN\u001b[0m\u001b[0;34m[\u001b[0m\u001b[0;34m'time'\u001b[0m\u001b[0;34m]\u001b[0m\u001b[0;34m[\u001b[0m\u001b[0;36m155\u001b[0m\u001b[0;34m:\u001b[0m\u001b[0;34m]\u001b[0m\u001b[0;34m\u001b[0m\u001b[0m\n\u001b[0m\u001b[1;32m      3\u001b[0m \u001b[0mps\u001b[0m \u001b[0;34m=\u001b[0m \u001b[0moutN\u001b[0m\u001b[0;34m[\u001b[0m\u001b[0;34m'pattern_speed'\u001b[0m\u001b[0;34m]\u001b[0m\u001b[0;34m[\u001b[0m\u001b[0;36m155\u001b[0m\u001b[0;34m:\u001b[0m\u001b[0;34m]\u001b[0m\u001b[0;34m\u001b[0m\u001b[0m\n\u001b[1;32m      4\u001b[0m \u001b[0mba\u001b[0m \u001b[0;34m=\u001b[0m \u001b[0moutN\u001b[0m\u001b[0;34m[\u001b[0m\u001b[0;34m'bar_angle'\u001b[0m\u001b[0;34m]\u001b[0m\u001b[0;34m[\u001b[0m\u001b[0;36m155\u001b[0m\u001b[0;34m:\u001b[0m\u001b[0;34m]\u001b[0m\u001b[0;34m\u001b[0m\u001b[0m\n\u001b[1;32m      5\u001b[0m \u001b[0;32mfrom\u001b[0m \u001b[0mscipy\u001b[0m\u001b[0;34m.\u001b[0m\u001b[0msignal\u001b[0m \u001b[0;32mimport\u001b[0m \u001b[0mwelch\u001b[0m\u001b[0;34m,\u001b[0m \u001b[0mperiodogram\u001b[0m\u001b[0;34m,\u001b[0m \u001b[0mlombscargle\u001b[0m\u001b[0;34m\u001b[0m\u001b[0m\n",
      "\u001b[0;31mNameError\u001b[0m: name 'outN' is not defined"
     ]
    }
   ],
   "source": [
    "n=5\n",
    "time = outN['time'][155:]\n",
    "ps = outN['pattern_speed'][155:]\n",
    "ba = outN['bar_angle'][155:]\n",
    "from scipy.signal import welch, periodogram, lombscargle\n",
    "\n",
    "def fourier_transform(time, ba):\n",
    "    dt = (time[-1] - time[0])/len(time)\n",
    "    freq = np.fft.fftfreq(len(time), dt)\n",
    "    ft = np.fft.fft(ba)\n",
    "    \n",
    "    return freq, ft\n",
    "\n",
    "def compute_welch(time, ba):\n",
    "    dt = (time[-1] - time[0])/len(time)\n",
    "    f, PS = welch(ba, 1/dt)\n",
    "    return f, PS\n",
    "\n",
    "def compute_periodogram(time, ba):\n",
    "    dt = (time[-1] - time[0])/len(time)\n",
    "    f, PS = periodogram(ba, 1/dt)\n",
    "    return f, PS\n",
    "\n",
    "def compute_lombscargle(time, ba, freq):\n",
    "    dt = (time[-1] - time[0])/len(time)\n",
    "    PS = lombscargle(time, ba, freq)\n",
    "    return freq, PS\n",
    "    "
   ]
  },
  {
   "cell_type": "code",
   "execution_count": null,
   "metadata": {
    "collapsed": true
   },
   "outputs": [],
   "source": [
    "# ft = np.fft.fft(ba)\n",
    "# dt = time[-1]/len(time)\n",
    "# freq = np.fft.fftfreq(len(time), dt)\n",
    "# plt.plot(freq, np.abs(ft))\n",
    "# plt.yscale('log')\n",
    "# plt.xscale('log')\n",
    "# plt.xlim(0, None)\n",
    "# plt.show()\n",
    "\n",
    "fig, ax = plt.subplots(1, 1)\n",
    "\n",
    "freq, ft = fourier_transform(outN['time'][155:], outN['bar_angle'][155:])\n",
    "ax.plot(freq, np.abs(ft), label='Nbody')\n",
    "\n",
    "freq, ft = fourier_transform(out3['time'], out3['bar_angle'])\n",
    "ax.plot(freq, np.abs(ft), label='Sg 10')\n",
    "\n",
    "freq, ft = fourier_transform(out4['time'], out4['bar_angle'])\n",
    "ax.plot(freq, np.abs(ft), label='Sg 20')\n",
    "\n",
    "ax.set(xlim=(0, None), yscale='log', xscale='log')\n",
    "\n",
    "ax.legend()\n",
    "\n",
    "fig.tight_layout()\n",
    "plt.show()"
   ]
  },
  {
   "cell_type": "code",
   "execution_count": null,
   "metadata": {
    "collapsed": true
   },
   "outputs": [],
   "source": [
    "from scipy.signal import welch\n",
    "f, PS = welch(ba, 1/dt)"
   ]
  },
  {
   "cell_type": "code",
   "execution_count": null,
   "metadata": {
    "collapsed": true
   },
   "outputs": [],
   "source": [
    "# ft = np.fft.fft(ba)\n",
    "# dt = time[-1]/len(time)\n",
    "# freq = np.fft.fftfreq(len(time), dt)\n",
    "# plt.plot(freq, np.abs(ft))\n",
    "# plt.yscale('log')\n",
    "# plt.xscale('log')\n",
    "# plt.xlim(0, None)\n",
    "# plt.show()\n",
    "\n",
    "fig, ax = plt.subplots(1, 1)\n",
    "\n",
    "freq, PS = compute_welch(outN['time'][155:], outN['bar_angle'][155:])\n",
    "ax.plot(freq, PS, label='Nbody')\n",
    "\n",
    "freq, PS = compute_welch(out3['time'], out3['bar_angle'])\n",
    "ax.plot(freq, PS, label='Sg 10')\n",
    "\n",
    "freq, PS = compute_welch(out4['time'], out4['bar_angle'])\n",
    "ax.plot(freq, PS, label='Sg 20')\n",
    "\n",
    "ax.set(xlim=(0, None), yscale='log', xscale='log')\n",
    "\n",
    "fig.tight_layout()\n",
    "plt.show()"
   ]
  },
  {
   "cell_type": "code",
   "execution_count": null,
   "metadata": {
    "collapsed": true
   },
   "outputs": [],
   "source": [
    "# ft = np.fft.fft(ba)\n",
    "# dt = time[-1]/len(time)\n",
    "# freq = np.fft.fftfreq(len(time), dt)\n",
    "# plt.plot(freq, np.abs(ft))\n",
    "# plt.yscale('log')\n",
    "# plt.xscale('log')\n",
    "# plt.xlim(0, None)\n",
    "# plt.show()\n",
    "\n",
    "fig, ax = plt.subplots(1, 1)\n",
    "\n",
    "freq, PS = compute_welch(outN['time'][155:], outN['bar_angle'][155:])\n",
    "ax.plot(freq, PS, label='Nbody')\n",
    "\n",
    "freq, PS = compute_welch(out3['time'], out3['bar_angle'])\n",
    "ax.plot(freq, PS, label='Sg 10')\n",
    "\n",
    "freq, PS = compute_welch(out4['time'], out4['bar_angle'])\n",
    "ax.plot(freq, PS, label='Sg 20')\n",
    "\n",
    "ax.set(xlim=(0.02, 0.1), yscale='log', xscale='log')\n",
    "\n",
    "\n",
    "fund = 4.9E-2\n",
    "ax.axvline((5/6)*fund)\n",
    "ax.axvline(fund)\n",
    "ax.axvline((7/6)*fund)\n",
    "ax.axvline((8/6)*fund)\n",
    "ax.axvline((9/6)*fund)\n",
    "ax.axvline((10/6)*fund)\n",
    "ax.axvline((11/6)*fund)\n",
    "ax.axvline((12/6)*fund)\n",
    "print(1/fund)\n",
    "print(fund * dt)\n",
    "\n",
    "fund = 1/ (4 * dt)\n",
    "print(fund)\n",
    "\n",
    "fig.tight_layout()\n",
    "plt.show()"
   ]
  },
  {
   "cell_type": "code",
   "execution_count": null,
   "metadata": {
    "collapsed": true
   },
   "outputs": [],
   "source": [
    "# ft = np.fft.fft(ba)\n",
    "# dt = time[-1]/len(time)\n",
    "# freq = np.fft.fftfreq(len(time), dt)\n",
    "# plt.plot(freq, np.abs(ft))\n",
    "# plt.yscale('log')\n",
    "# plt.xscale('log')\n",
    "# plt.xlim(0, None)\n",
    "# plt.show()\n",
    "\n",
    "fig, ax = plt.subplots(1, 1)\n",
    "\n",
    "freq, PS = compute_periodogram(outN['time'][155:], outN['bar_angle'][155:])\n",
    "ax.plot(freq, PS, label='Nbody')\n",
    "\n",
    "freq, PS = compute_periodogram(out3['time'], out3['bar_angle'])\n",
    "ax.plot(freq, PS, label='Sg 10')\n",
    "\n",
    "freq, PS = compute_periodogram(out4['time'], out4['bar_angle'])\n",
    "ax.plot(freq, PS, label='Sg 20')\n",
    "\n",
    "ax.set(xlim=(1E-3, None), ylim=(1E1, 1E6), yscale='log', xscale='log')\n",
    "\n",
    "fig.tight_layout()\n",
    "plt.show()"
   ]
  },
  {
   "cell_type": "code",
   "execution_count": null,
   "metadata": {
    "collapsed": true
   },
   "outputs": [],
   "source": [
    "# ft = np.fft.fft(ba)\n",
    "# dt = time[-1]/len(time)\n",
    "# freq = np.fft.fftfreq(len(time), dt)\n",
    "# plt.plot(freq, np.abs(ft))\n",
    "# plt.yscale('log')\n",
    "# plt.xscale('log')\n",
    "# plt.xlim(0, None)\n",
    "# plt.show()\n",
    "\n",
    "freq = np.logspace(-3, -1, 100)\n",
    "\n",
    "fig, ax = plt.subplots(1, 1)\n",
    "\n",
    "freq, PS = compute_lombscargle(outN['time'][155:], outN['bar_angle'][155:], freq)\n",
    "ax.plot(freq, PS, label='Nbody')\n",
    "\n",
    "freq, PS = compute_lombscargle(out3['time'], out3['bar_angle'], freq)\n",
    "ax.plot(freq, PS, label='Sg 10')\n",
    "\n",
    "freq, PS = compute_lombscargle(out4['time'], out4['bar_angle'], freq)\n",
    "ax.plot(freq, PS, label='Sg 20')\n",
    "\n",
    "ax.set(xlim=(1E-3, None), ylim=(1E1, 1E6), yscale='log', xscale='log')\n",
    "\n",
    "fig.tight_layout()\n",
    "plt.show()"
   ]
  },
  {
   "cell_type": "code",
   "execution_count": null,
   "metadata": {
    "collapsed": true
   },
   "outputs": [],
   "source": [
    "xlist = np.linspace(0, 4.*np.pi, 1000)\n",
    "ylist = np.sin(xlist) + np.sin((7/6)*xlist) + np.sin((8/6)*xlist) + np.sin((9/6)*xlist)\n",
    "ylist += np.sin((10/6)*xlist) + np.sin((11/6)*xlist) + np.sin((12/6)*xlist)\n",
    "plt.plot(xlist, ylist)\n",
    "plt.show()"
   ]
  }
 ],
 "metadata": {
  "kernelspec": {
   "display_name": "Python 3",
   "language": "python",
   "name": "python3"
  },
  "language_info": {
   "codemirror_mode": {
    "name": "ipython",
    "version": 3
   },
   "file_extension": ".py",
   "mimetype": "text/x-python",
   "name": "python",
   "nbconvert_exporter": "python",
   "pygments_lexer": "ipython3",
   "version": "3.6.3"
  }
 },
 "nbformat": 4,
 "nbformat_minor": 2
}
