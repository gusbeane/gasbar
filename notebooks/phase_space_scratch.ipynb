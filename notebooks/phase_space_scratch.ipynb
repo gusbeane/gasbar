{
 "cells": [
  {
   "cell_type": "code",
   "execution_count": 1,
   "metadata": {
    "collapsed": true
   },
   "outputs": [],
   "source": [
    "import numpy as np\n",
    "import arepo\n",
    "import sys\n",
    "from tqdm import tqdm\n",
    "import astropy.units as u\n",
    "import h5py as h5\n",
    "import glob\n",
    "import os\n",
    "from numba import njit\n",
    "import re\n",
    "from sklearn.cluster import KMeans\n",
    "\n",
    "from joblib import Parallel, delayed\n"
   ]
  },
  {
   "cell_type": "code",
   "execution_count": 2,
   "metadata": {
    "collapsed": true
   },
   "outputs": [],
   "source": [
    "def read_snap(path, idx, parttype=[0], fields=['Coordinates', 'Masses', 'Velocities', 'ParticleIDs']):\n",
    "    \n",
    "    fname = path + '/output'\n",
    "    \n",
    "    return arepo.Snapshot(fname, idx, parttype=parttype, fields=fields, combineFiles=True)"
   ]
  },
  {
   "cell_type": "code",
   "execution_count": null,
   "metadata": {
    "collapsed": true
   },
   "outputs": [],
   "source": []
  },
  {
   "cell_type": "code",
   "execution_count": 12,
   "metadata": {
    "collapsed": true
   },
   "outputs": [],
   "source": [
    "path = '../runs/Nbody/lvl4/'\n",
    "nsnap = 1600\n",
    "nchunk = 64\n",
    "\n",
    "indices = np.arange(nsnap)\n",
    "    \n",
    "sn = read_snap(path, indices[-1], parttype=[2])\n",
    "ids = sn.part2.id\n",
    "ids = np.sort(ids)\n",
    "\n",
    "# open a file and load dummy data for each chunk of stars\n",
    "id_chunks = np.array_split(ids, nchunk)"
   ]
  },
  {
   "cell_type": "code",
   "execution_count": 26,
   "metadata": {},
   "outputs": [
    {
     "data": {
      "text/plain": [
       "<HDF5 dataset \"Velocities\": shape (12587, 1600, 3), type \"<f8\">"
      ]
     },
     "execution_count": 26,
     "metadata": {},
     "output_type": "execute_result"
    }
   ],
   "source": [
    "h5dummy = h5.File('/n/holystore01/LABS/hernquist_lab/Users/abeane/starbar_runs/phase_space_data/tmp.h5', mode='w')\n",
    "id_chunk_list = id_chunks[0]\n",
    "pos = np.zeros((len(id_chunk_list), nsnap, 3))\n",
    "vel = np.zeros((len(id_chunk_list), nsnap, 3))\n",
    "\n",
    "h5dummy.create_dataset('Coordinates', data=pos)\n",
    "h5dummy.create_dataset('Velocities', data=vel)"
   ]
  },
  {
   "cell_type": "code",
   "execution_count": 13,
   "metadata": {},
   "outputs": [
    {
     "name": "stdout",
     "output_type": "stream",
     "text": [
      "CPU times: user 170 ms, sys: 221 ms, total: 392 ms\n",
      "Wall time: 1.42 s\n"
     ]
    }
   ],
   "source": []
  },
  {
   "cell_type": "code",
   "execution_count": 3,
   "metadata": {
    "collapsed": true
   },
   "outputs": [],
   "source": [
    "prefix = '/n/home01/abeane/starbar/plots/phase_space/data_tmp/Nbody-lvl4/'\n",
    "t = h5.File(prefix+'phase_space_Nbody-lvl4.0.hdf5', mode='r')"
   ]
  },
  {
   "cell_type": "code",
   "execution_count": 4,
   "metadata": {},
   "outputs": [
    {
     "name": "stdout",
     "output_type": "stream",
     "text": [
      "[[ 1.93207335  0.38477442 -0.00709001]\n",
      " [ 1.90658453  1.23832436  0.26236722]\n",
      " [ 1.52180065  1.78986435  0.31239718]\n",
      " [ 0.88375337  2.03913904  0.13625232]\n",
      " [ 0.08057285  1.90360447 -0.1523453 ]\n",
      " [-0.79874971  1.2518507  -0.28543778]\n",
      " [-1.32684023  0.25484387 -0.08740754]\n",
      " [-1.36765257 -0.83543199  0.23344814]\n",
      " [-1.00780701 -1.69711542  0.35551181]\n",
      " [-0.37503367 -2.23172422  0.18917092]]\n",
      "3168481\n"
     ]
    }
   ],
   "source": [
    "print(t['Coordinates'][0][:10])\n",
    "print(t['ParticleIDs'][0])"
   ]
  },
  {
   "cell_type": "code",
   "execution_count": 20,
   "metadata": {},
   "outputs": [],
   "source": [
    "center = np.array([0., 0., 0.])\n",
    "pos = np.array(t['Coordinates']) - center\n",
    "vel = np.array(t['Velocities'])\n",
    "w = np.concatenate((pos, vel), axis=-1)\n",
    "w = np.swapaxes(w, 0, 1)"
   ]
  },
  {
   "cell_type": "code",
   "execution_count": 21,
   "metadata": {},
   "outputs": [
    {
     "name": "stdout",
     "output_type": "stream",
     "text": [
      "(1601, 12587, 6)\n"
     ]
    }
   ],
   "source": [
    "print(np.shape(w))"
   ]
  },
  {
   "cell_type": "code",
   "execution_count": 15,
   "metadata": {},
   "outputs": [
    {
     "name": "stdout",
     "output_type": "stream",
     "text": [
      "(12587, 1601, 3)\n"
     ]
    }
   ],
   "source": [
    "print(np.shape(pos))"
   ]
  },
  {
   "cell_type": "code",
   "execution_count": 22,
   "metadata": {},
   "outputs": [
    {
     "data": {
      "text/plain": [
       "Quantity([0.88375337, 2.03913904, 0.13625232], unit=[kpc])"
      ]
     },
     "execution_count": 22,
     "metadata": {},
     "output_type": "execute_result"
    }
   ],
   "source": [
    "idx = 3\n",
    "sn = read_snap(path, idx, parttype=[2])\n",
    "\n",
    "key = int(np.where(sn.part2.id == t['ParticleIDs'][0])[0])\n",
    "sn.part2.pos[key]"
   ]
  },
  {
   "cell_type": "code",
   "execution_count": null,
   "metadata": {
    "collapsed": true
   },
   "outputs": [],
   "source": []
  }
 ],
 "metadata": {
  "kernelspec": {
   "display_name": "Python 3",
   "language": "python",
   "name": "python3"
  },
  "language_info": {
   "codemirror_mode": {
    "name": "ipython",
    "version": 3
   },
   "file_extension": ".py",
   "mimetype": "text/x-python",
   "name": "python",
   "nbconvert_exporter": "python",
   "pygments_lexer": "ipython3",
   "version": "3.6.3"
  }
 },
 "nbformat": 4,
 "nbformat_minor": 2
}
