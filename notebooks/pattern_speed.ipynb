{
 "cells": [
  {
   "cell_type": "code",
   "execution_count": 1,
   "metadata": {},
   "outputs": [],
   "source": [
    "import numpy as np\n",
    "import arepo\n",
    "import matplotlib.pyplot as plt\n",
    "from tqdm import tqdm_notebook as tqdm\n",
    "import h5py as h5\n",
    "\n",
    "import re\n",
    "import astropy.units as u\n",
    "from scipy.spatial import cKDTree\n",
    "\n",
    "import agama\n",
    "agama.setUnits(mass=1E10, length=1, velocity=1)\n",
    "\n",
    "time_conv = 977.79222167"
   ]
  },
  {
   "cell_type": "code",
   "execution_count": 3,
   "metadata": {
    "collapsed": true
   },
   "outputs": [],
   "source": [
    "sim_list = ['Nbody', 'phantom-vacuum-Sg20-Rc3.5']\n",
    "\n",
    "basepath = '/n/holystore01/LABS/hernquist_lab/Users/abeane/starbar_runs/runs/'\n",
    "\n",
    "def read_snap(idx, sim_idx, lvl='lvl3', parttype=[0], fields=['Coordinates', 'Masses', 'Velocities'],\n",
    "              basepath = basepath):\n",
    "    fname = basepath + sim_list[sim_idx] + '/' + lvl + '/output'\n",
    "    return arepo.Snapshot(fname, idx, parttype=parttype, fields=fields, combineFiles=True)\n",
    "\n",
    "def read_sfr(sim_idx, lvl='lvl3', basepath = basepath):\n",
    "    fname = basepath + sim_list[sim_idx] + '/' + lvl + '/output/sfr.txt'\n",
    "    return np.genfromtxt(fname)\n",
    "\n",
    "def read_fourier(sim_idx, lvl='lvl3', basepath='/n/home01/abeane/starbar/plots/'):\n",
    "    sim = sim_list[sim_idx]\n",
    "    f = h5.File(basepath+'/fourier_component/data/fourier_'+sim+'-'+lvl+'.hdf5', mode='r')\n",
    "    return f\n",
    "\n"
   ]
  },
  {
   "cell_type": "code",
   "execution_count": 12,
   "metadata": {},
   "outputs": [
    {
     "data": {
      "application/vnd.jupyter.widget-view+json": {
       "model_id": "5ae0145bc05a4f5786e51c8c6b178747",
       "version_major": 2,
       "version_minor": 0
      },
      "text/plain": [
       "A Jupyter Widget"
      ]
     },
     "metadata": {},
     "output_type": "display_data"
    },
    {
     "name": "stdout",
     "output_type": "stream",
     "text": [
      "\n"
     ]
    }
   ],
   "source": [
    "sn0_list = []\n",
    "sn1_list = []\n",
    "# sn1G_list = []\n",
    "# sn1Gnw_list = []\n",
    "# sn1GnwCOM_list = []\n",
    "idx_list = np.arange(0, 600, 50)\n",
    "# idx_list = np.arange(0, 60, 10)\n",
    "# idx_list = [0, 5, 6, 7, 8, 9, 10, 11, 12, 13, 14, 15, 16]\n",
    "fields=['Coordinates', 'Velocities', 'Masses', 'Acceleration']\n",
    "for idx in tqdm(idx_list):\n",
    "    sn0 = read_snap(idx, 0, lvl='lvl3', parttype=None, fields=None)\n",
    "    sn0_list.append(sn0)\n",
    "    \n",
    "    try:\n",
    "        sn1 = read_snap(idx, 1, lvl='lvl3', parttype=None, fields=None)\n",
    "        sn1_list.append(sn1)\n",
    "    except:\n",
    "        pass\n"
   ]
  },
  {
   "cell_type": "code",
   "execution_count": 4,
   "metadata": {
    "collapsed": true
   },
   "outputs": [],
   "source": [
    "from numba import njit\n",
    "@njit\n",
    "def _binned_average(x, y, bins):\n",
    "    N = len(bins)\n",
    "    \n",
    "    sum_x_in_bin = np.zeros(N-1)\n",
    "    sum_y_in_bin = np.zeros(N-1)\n",
    "    N_in_bin = np.zeros(N-1)\n",
    "    \n",
    "    for i in range(len(x)):\n",
    "        this_x = x[i]\n",
    "        for j in range(N-1):\n",
    "            if this_x > bins[j] and this_x < bins[j+1]:\n",
    "                sum_x_in_bin[j] += x[i]\n",
    "                sum_y_in_bin[j] += y[i]\n",
    "                N_in_bin[j] += 1\n",
    "    \n",
    "    for j in range(N-1):\n",
    "        sum_x_in_bin[j] /= N_in_bin[j]\n",
    "        sum_y_in_bin[j] /= N_in_bin[j]\n",
    "    \n",
    "    return sum_x_in_bin, sum_y_in_bin\n",
    "    \n",
    "def binned_average(x, y, dx):\n",
    "    xmin = np.min(x)\n",
    "    xmax = np.max(x)\n",
    "\n",
    "    bins = np.arange(xmin, xmax+dx, dx)\n",
    "    return _binned_average(x, y, bins)"
   ]
  },
  {
   "cell_type": "code",
   "execution_count": 5,
   "metadata": {
    "collapsed": true
   },
   "outputs": [],
   "source": [
    "def extract_t_A2A0(fourier, idx):\n",
    "\n",
    "    i = 0\n",
    "\n",
    "    tlist = np.array(fourier['time'])\n",
    "    A2A0list = []\n",
    "    print(fourier['snapshot_000']['Rlist'][idx])\n",
    "    while 'snapshot_'+\"{:03d}\".format(i) in fourier.keys():\n",
    "        key = 'snapshot_'+\"{:03d}\".format(i)\n",
    "        A0 = fourier[key]['A0'][idx]\n",
    "        A2r = fourier[key]['A2r'][idx]\n",
    "        A2i = fourier[key]['A2i'][idx]\n",
    "    \n",
    "        A2 = np.sqrt(A2r*A2r + A2i*A2i)\n",
    "        A2A0list.append(A2/A0)\n",
    "        i += 1\n",
    "    \n",
    "    return np.array(tlist), np.array(A2A0list)\n",
    "\n",
    "def extract_t_max_A2A0(fourier, debug=False):\n",
    "\n",
    "    i = 0\n",
    "\n",
    "    tlist = np.array(fourier['time'])\n",
    "    A2A0list = []\n",
    "    while 'snapshot_'+\"{:03d}\".format(i) in fourier.keys():\n",
    "        key = 'snapshot_'+\"{:03d}\".format(i)\n",
    "        A0 = np.array(fourier[key]['A0'])\n",
    "        A2r = np.array(fourier[key]['A2r'])\n",
    "        A2i = np.array(fourier[key]['A2i'])\n",
    "    \n",
    "        A2 = np.sqrt(A2r*A2r + A2i*A2i)\n",
    "#         A2A0 = A2/A0\n",
    "        A2A0list.append(np.max(A2/A0))\n",
    "        if debug:\n",
    "            print(tlist[i], fourier[key]['Rlist'][np.argmax(A2/A0)], np.max(A2/A0))\n",
    "#         A2A0list.append(A2/A0)\n",
    "        i += 1\n",
    "    \n",
    "    return np.array(tlist), np.array(A2A0list)\n",
    "\n",
    "def extract_t_AmA0(fourier, idx, m):\n",
    "\n",
    "    i = 0\n",
    "\n",
    "    tlist = np.array(fourier['time'])\n",
    "    AmA0list = []\n",
    "#     print(fourier['snapshot_000']['Rlist'][idx])\n",
    "    while 'snapshot_'+\"{:03d}\".format(i) in fourier.keys():\n",
    "        key = 'snapshot_'+\"{:03d}\".format(i)\n",
    "        A0 = fourier[key]['A0'][idx]\n",
    "        Amr = fourier[key]['A'+str(m)+'r'][idx]\n",
    "        Ami = fourier[key]['A'+str(m)+'i'][idx]\n",
    "    \n",
    "        Am = np.sqrt(Amr*Amr + Ami*Ami)\n",
    "        AmA0list.append(Am/A0)\n",
    "        i += 1\n",
    "    \n",
    "    return np.array(tlist), np.array(AmA0list)"
   ]
  },
  {
   "cell_type": "code",
   "execution_count": 6,
   "metadata": {},
   "outputs": [
    {
     "data": {
      "text/plain": [
       "<KeysViewHDF5 ['A0', 'A10i', 'A10r', 'A1i', 'A1r', 'A2i', 'A2r', 'A3i', 'A3r', 'A4i', 'A4r', 'A5i', 'A5r', 'A6i', 'A6r', 'A7i', 'A7r', 'A8i', 'A8r', 'A9i', 'A9r', 'Rlist']>"
      ]
     },
     "execution_count": 6,
     "metadata": {},
     "output_type": "execute_result"
    }
   ],
   "source": [
    "fourierN_l4 = read_fourier(0, lvl='lvl4')\n",
    "fourierN_l3 = read_fourier(0, lvl='lvl3')\n",
    "\n",
    "fourierS_l3 = read_fourier(1, lvl='lvl3')\n",
    "fourierN_l4['snapshot_300'].keys()"
   ]
  },
  {
   "cell_type": "code",
   "execution_count": 7,
   "metadata": {},
   "outputs": [
    {
     "data": {
      "image/png": "[encoded data removed]",
      "text/plain": [
       "<Figure size 576x576 with 1 Axes>"
      ]
     },
     "metadata": {},
     "output_type": "display_data"
    }
   ],
   "source": [
    "fig, ax = plt.subplots(1, 1, figsize=(8, 8))\n",
    "dt = 0.01\n",
    "\n",
    "# t, A2A0 = extract_t_max_A2A0(fourier3)\n",
    "# ax.plot(t/1000.0, A2A0, label='Sg 10')\n",
    "\n",
    "start_snap = 300\n",
    "t, A2A0 = extract_t_max_A2A0(fourierN_l3)\n",
    "t -= t[start_snap]\n",
    "ax.plot(t/1000.0, A2A0, label='Nbody lvl3', c='k')\n",
    "\n",
    "start_snap = 300\n",
    "t, A2A0 = extract_t_max_A2A0(fourierN_l4, debug=False)\n",
    "t -= t[start_snap]\n",
    "t300 = t[start_snap]\n",
    "# ax.plot(t/1000.0, A2A0, label='Nbody lvl4', c='k', ls='dashed')\n",
    "# ax.scatter(t/1000.0, A2A0, label='Nbody lvl4', c='k')\n",
    "# print(A2A0)\n",
    "\n",
    "# start_snap = 300\n",
    "t, A2A0 = extract_t_max_A2A0(fourierS_l3, debug=False)\n",
    "# t -= t[300]\n",
    "# t300 = t[300]\n",
    "ax.plot(t/1000.0, A2A0, label='SMUGGLE lvl3', c='b', ls='dashed')\n",
    "# ax.scatter(t/1000.0, A2A0, label='Nbody lvl4', c='k')\n",
    "# print(A2A0)\n",
    "\n",
    "# t, SFR = binned_average(sfr_8[:,0], sfr_8[:,2], dt)\n",
    "# ax.plot(t, SFR, label='8')\n",
    "\n",
    "ax.legend(frameon=False)\n",
    "ax.set(xlabel='t [Gyr]', ylabel='max(A2/A0)', xlim=(0, 1))\n",
    "ax.set_xlim(-2, 8)\n",
    "plt.show()"
   ]
  },
  {
   "cell_type": "code",
   "execution_count": 8,
   "metadata": {
    "collapsed": true
   },
   "outputs": [],
   "source": [
    "def get_bar_angle(phi, firstkey):\n",
    "    out = np.zeros(len(phi))\n",
    "\n",
    "    # set the first bar angle\n",
    "    first_bar_angle = phi[firstkey]/2.0\n",
    "    out[firstkey] = first_bar_angle\n",
    "    \n",
    "    # set all subsequent angles\n",
    "    for i in np.arange(firstkey+1, len(out)):\n",
    "        dphi = phi[i] - phi[i-1]\n",
    "        if dphi < -np.pi:\n",
    "            dphi += 2.*np.pi\n",
    "        out[i] = out[i-1] + dphi/2.0\n",
    "\n",
    "    # set all previous angles to be the bar angle\n",
    "    for i in np.arange(0, firstkey):\n",
    "        out[i] = first_bar_angle\n",
    "\n",
    "    return out\n",
    "\n",
    "def get_sorted_keys(dat):\n",
    "    keys = list(dat.keys())\n",
    "    # only keep keys that are snapshot keys\n",
    "    keys = [k for k in keys if 'snapshot' in k]\n",
    "\n",
    "    # extract and sort indices\n",
    "    indices = [int(re.findall(r'\\d?\\d?\\d\\d\\d', k)[0]) for k in keys]\n",
    "    sorted_arg = np.argsort(indices)\n",
    "    keys_sorted = [keys[i] for i in sorted_arg]\n",
    "\n",
    "    return keys_sorted\n",
    "\n",
    "def get_A2_angle(dat, keys, Rbin):\n",
    "    Rlist = np.array([np.array(dat[k]['Rlist']) for k in keys])\n",
    "    A2r = np.array([np.array(dat[k]['A2r']) for k in keys])\n",
    "    A2i = np.array([np.array(dat[k]['A2i']) for k in keys])\n",
    "    phi = np.arctan2(A2i, A2r)\n",
    "    phi = phi[:,Rbin]\n",
    "    R_at_Rbin = Rlist[:,Rbin]\n",
    "    \n",
    "    time = np.array(dat['time'])\n",
    "\n",
    "    return time, R_at_Rbin, phi\n",
    "\n",
    "def get_bar_length(dat, keys, Rmin=2, Rmax=10, ratio_cut = 2):\n",
    "    Rlist = np.array([np.array(dat[k]['Rlist']) for k in keys])\n",
    "\n",
    "    A0 = np.array([np.array(dat[k]['A0']) for k in keys])\n",
    "    A1r = np.array([np.array(dat[k]['A1r']) for k in keys])\n",
    "    A1i = np.array([np.array(dat[k]['A1i']) for k in keys])\n",
    "    A2r = np.array([np.array(dat[k]['A2r']) for k in keys])\n",
    "    A2i = np.array([np.array(dat[k]['A2i']) for k in keys])\n",
    "    A3r = np.array([np.array(dat[k]['A3r']) for k in keys])\n",
    "    A3i = np.array([np.array(dat[k]['A3i']) for k in keys])\n",
    "    A4r = np.array([np.array(dat[k]['A4r']) for k in keys])\n",
    "    A4i = np.array([np.array(dat[k]['A4i']) for k in keys])\n",
    "    A5r = np.array([np.array(dat[k]['A5r']) for k in keys])\n",
    "    A5i = np.array([np.array(dat[k]['A5i']) for k in keys])\n",
    "    A6r = np.array([np.array(dat[k]['A6r']) for k in keys])\n",
    "    A6i = np.array([np.array(dat[k]['A6i']) for k in keys])\n",
    "    \n",
    "    I0 = A0/2.\n",
    "    I1 = np.sqrt(A1r*A1r + A1i*A1i)\n",
    "    I2 = np.sqrt(A2r*A2r + A2i*A2i)\n",
    "    I3 = np.sqrt(A3r*A3r + A3i*A3i)\n",
    "    I4 = np.sqrt(A4r*A4r + A4i*A4i)\n",
    "    I5 = np.sqrt(A5r*A5r + A5i*A5i)\n",
    "    I6 = np.sqrt(A6r*A6r + A6i*A6i)\n",
    "    \n",
    "    Ib = I0 + I2 + I4 + I6\n",
    "    Iib = I0 - I2 + I4 - I6\n",
    "    \n",
    "    IbIib = Ib/Iib\n",
    "    \n",
    "    Rbar_list = []\n",
    "    for i,k in enumerate(keys):\n",
    "        R = Rlist[i,:]\n",
    "        ratio = IbIib[i,:]\n",
    "        \n",
    "        Rkey = np.logical_and(R > Rmin, R< Rmax)\n",
    "        ratio = ratio[Rkey]\n",
    "        R = R[Rkey]\n",
    "        j = 0\n",
    "        try:\n",
    "            while ratio[j] > ratio_cut:\n",
    "                j += 1\n",
    "            Rbar = R[j-1] + (ratio_cut - ratio[j-1]) * (R[j]-R[j-1])/(ratio[j]-ratio[j-1])\n",
    "        except:\n",
    "            Rbar = np.nan\n",
    "        Rbar_list.append(Rbar)\n",
    "\n",
    "    time = np.array(dat['time'])    \n",
    "    \n",
    "    return time, np.array(Rbar_list)\n",
    "\n",
    "def evaluate_polynomial(pfit, n, time, bar_angle_firstkey, firstkey):\n",
    "    pfit_n = pfit[n]\n",
    "    poly_bar_angle = np.zeros(len(time))\n",
    "    poly_pattern_speed = np.zeros(len(time))\n",
    "\n",
    "    for i in range(n+1):\n",
    "        ba = pfit_n[i] * time ** (n-i)\n",
    "        poly_bar_angle[firstkey:] += ba[firstkey:]\n",
    "        ps = (n-i) * pfit_n[i] * time**(n-1-i)\n",
    "        poly_pattern_speed[firstkey:] += ps[firstkey:]\n",
    "\n",
    "    poly_bar_angle[:firstkey] += bar_angle_firstkey\n",
    "\n",
    "    poly_pattern_speed = poly_pattern_speed / u.Myr\n",
    "    poly_pattern_speed = poly_pattern_speed.to_value(u.km/u.s/u.kpc)\n",
    "\n",
    "    return poly_bar_angle, poly_pattern_speed\n",
    "\n",
    "def main_bar_angle(dat, Rbin = 5, firstkey = 150, nmax = 10):\n",
    "    # try loading snapshot\n",
    "#     dat = h5.File(fname, mode='r')\n",
    "    out = {}\n",
    "\n",
    "    keys = get_sorted_keys(dat)\n",
    "    time, R, phi = get_A2_angle(dat, keys, Rbin)\n",
    "    time, Rbar = get_bar_length(dat, keys)\n",
    "#     Rlist, Iibar = get_bar_length(dat, keys)\n",
    "    bar_angle = get_bar_angle(phi, firstkey)\n",
    "\n",
    "    pattern_speed = np.gradient(bar_angle, time) / u.Myr\n",
    "    pattern_speed = pattern_speed.to_value(u.km/u.s/u.kpc)\n",
    "\n",
    "    pfit = [np.polyfit(time[firstkey:], bar_angle[firstkey:], i) for i in range(nmax)]\n",
    "    \n",
    "    out['time'] = time\n",
    "    out['firstkey'] = firstkey\n",
    "    out['R'] = R\n",
    "    out['Rbar'] = Rbar\n",
    "    out['phi'] = phi\n",
    "    out['bar_angle'] = bar_angle\n",
    "    out['pattern_speed'] = pattern_speed\n",
    "    out['pfit'] = pfit\n",
    "\n",
    "    # now evaluate the polynomial for each fit and save the result\n",
    "    out['poly_eval'] = {}\n",
    "    for n in range(nmax):\n",
    "        poly_bar_angle, poly_pattern_speed = evaluate_polynomial(pfit, n, time, bar_angle[firstkey], firstkey)\n",
    "\n",
    "        out['poly_eval'][n] = (poly_bar_angle, poly_pattern_speed)\n",
    "\n",
    "    return out\n",
    "#     return Rlist, Iibar"
   ]
  },
  {
   "cell_type": "code",
   "execution_count": 9,
   "metadata": {},
   "outputs": [
    {
     "name": "stderr",
     "output_type": "stream",
     "text": [
      "/n/helmod/apps/centos7/Core/Anaconda3/5.0.1-fasrc02/x/lib/python3.6/site-packages/ipykernel_launcher.py:104: RuntimeWarning: divide by zero encountered in reciprocal\n",
      "/n/helmod/apps/centos7/Core/Anaconda3/5.0.1-fasrc02/x/lib/python3.6/site-packages/ipykernel_launcher.py:104: RuntimeWarning: invalid value encountered in multiply\n"
     ]
    }
   ],
   "source": [
    "outN_l3 = main_bar_angle(fourierN_l3)\n",
    "outS_l3 = main_bar_angle(fourierS_l3, firstkey=0)\n",
    "# outN_l4 = main_bar_angle(fourierN_l4)\n",
    "# out1 = main_bar_angle(fourier1, firstkey=0)\n"
   ]
  },
  {
   "cell_type": "code",
   "execution_count": 10,
   "metadata": {},
   "outputs": [
    {
     "data": {
      "image/png": "[encoded data removed]",
      "text/plain": [
       "<Figure size 576x576 with 1 Axes>"
      ]
     },
     "metadata": {},
     "output_type": "display_data"
    }
   ],
   "source": [
    "fig, ax = plt.subplots(1, 1, figsize=(8, 8))\n",
    "n=5\n",
    "\n",
    "dat = outN_l3\n",
    "name = 'Nbody'\n",
    "\n",
    "time = dat['time']\n",
    "ba, ps = dat['poly_eval'][n]\n",
    "true_ps = dat['pattern_speed']\n",
    "# ax.plot(time-time[400], ps, label=name, c='k')\n",
    "ax.plot(time-time[300], true_ps, label=name)\n",
    "# dt = time[300] - time[400]\n",
    "\n",
    "# dat = out3\n",
    "# name = 'Sg 10'\n",
    "\n",
    "# time = dat['time']\n",
    "# ba, ps = dat['poly_eval'][n]\n",
    "# true_ps = dat['pattern_speed']\n",
    "# # ax.plot(time-time[0], ps, label=name)\n",
    "# ax.plot(time-time[0], true_ps, label=name)\n",
    "\n",
    "dat = outS_l3\n",
    "name = 'SMUGGLE'\n",
    "\n",
    "time = dat['time']\n",
    "ba, ps = dat['poly_eval'][n]\n",
    "true_ps = dat['pattern_speed']\n",
    "l=ax.plot(time-time[0], ps, label=name)\n",
    "ax.plot(time-time[0], true_ps, c=l[0].get_color())\n",
    "\n",
    "# dat = out6\n",
    "# name = 'snap400'\n",
    "\n",
    "# time = dat['time'] + dt\n",
    "# ba, ps = dat['poly_eval'][n]\n",
    "# true_ps = dat['pattern_speed']\n",
    "# l=ax.plot(time, ps, label=name)\n",
    "# ax.plot(time, true_ps, label=name, c=l[0].get_color())\n",
    "\n",
    "\n",
    "ax.legend(frameon=False)\n",
    "\n",
    "ax.set(xlim=(-1000, 8000))\n",
    "# ax.set(xlim=(2500,3000))\n",
    "ax.set(ylim=(0, 60), xlabel='time [Myr]', ylabel='patern speed [km/s/kpc]')\n",
    "plt.show()"
   ]
  },
  {
   "cell_type": "markdown",
   "metadata": {},
   "source": [
    "## Rbar and corotation"
   ]
  },
  {
   "cell_type": "code",
   "execution_count": 24,
   "metadata": {
    "collapsed": true
   },
   "outputs": [],
   "source": [
    "def compute_pot(sn, center=np.array([0., 0., 0.])):\n",
    "#     center = sn.BoxSize/2.0\n",
    "#     center = np.array([center, center, center])\n",
    "\n",
    "    bar_position = np.array([]).reshape((0, 3))\n",
    "    dark_position = np.array([]).reshape((0, 3))\n",
    "\n",
    "    bar_mass = np.array([])\n",
    "    dark_mass = np.array([])\n",
    "\n",
    "    for i in [0, 2, 3, 4]:\n",
    "        if sn.NumPart_Total[i] > 0.0:\n",
    "            pos_i = getattr(sn, 'part'+str(i)).pos.value - center\n",
    "    \n",
    "            if sn.MassTable[i] == 0.0:\n",
    "                mass_i = getattr(sn, 'part'+str(i)).mass.value\n",
    "            else:\n",
    "                mass_i = np.full(sn.NumPart_Total[i], sn.MassTable[i])\n",
    "    \n",
    "            bar_position = np.concatenate((bar_position, pos_i))\n",
    "            bar_mass = np.concatenate((bar_mass, mass_i))\n",
    "    \n",
    "    dark_position = sn.part1.pos.value - center\n",
    "    dark_mass = np.full(sn.NumPart_Total[1], sn.MassTable[1])\n",
    "\n",
    "    pdark = agama.Potential(type=\"Multipole\",\n",
    "                            particles=(dark_position, dark_mass),\n",
    "                            symmetry='a', gridsizeR=20, lmax=2)\n",
    "\n",
    "    pbar = agama.Potential(type=\"CylSpline\",\n",
    "                            particles=(bar_position, bar_mass),\n",
    "                            symmetry='a', gridsizer=20, gridsizez=20,\n",
    "                            mmax=0, Rmin=0.2,\n",
    "                            Rmax=50, Zmin=0.02, Zmax=10)\n",
    "\n",
    "    pot = agama.Potential(pdark, pbar)\n",
    "    \n",
    "    return pot\n"
   ]
  },
  {
   "cell_type": "code",
   "execution_count": 14,
   "metadata": {
    "collapsed": true
   },
   "outputs": [],
   "source": [
    "def compute_vc_kappa(pot):\n",
    "    R = np.linspace(0,20,1000)\n",
    "    points = np.column_stack((R, R*0, R*0))\n",
    "    frc, drv = pot.forceDeriv(points)\n",
    "    kappa = np.sqrt(-drv[:,0] - 3*frc[:,0]/R)\n",
    "    vc = np.sqrt(-R*pot.force(points)[:,0])\n",
    "    \n",
    "    return R, vc, kappa"
   ]
  },
  {
   "cell_type": "code",
   "execution_count": 15,
   "metadata": {},
   "outputs": [
    {
     "data": {
      "application/vnd.jupyter.widget-view+json": {
       "model_id": "adb1010236a543258bf6750911dca528",
       "version_major": 2,
       "version_minor": 0
      },
      "text/plain": [
       "A Jupyter Widget"
      ]
     },
     "metadata": {},
     "output_type": "display_data"
    },
    {
     "ename": "RuntimeError",
     "evalue": "Error in creating potential: Keyboard interrupt",
     "output_type": "error",
     "traceback": [
      "\u001b[0;31m---------------------------------------------------------------------------\u001b[0m",
      "\u001b[0;31mRuntimeError\u001b[0m                              Traceback (most recent call last)",
      "\u001b[0;32m<ipython-input-15-58c249bbeb37>\u001b[0m in \u001b[0;36m<module>\u001b[0;34m()\u001b[0m\n\u001b[1;32m      7\u001b[0m \u001b[0;34m\u001b[0m\u001b[0m\n\u001b[1;32m      8\u001b[0m     \u001b[0msn1\u001b[0m \u001b[0;34m=\u001b[0m \u001b[0msn1_list\u001b[0m\u001b[0;34m[\u001b[0m\u001b[0mi\u001b[0m\u001b[0;34m]\u001b[0m\u001b[0;34m\u001b[0m\u001b[0m\n\u001b[0;32m----> 9\u001b[0;31m     \u001b[0mpot1\u001b[0m \u001b[0;34m=\u001b[0m \u001b[0mcompute_pot\u001b[0m\u001b[0;34m(\u001b[0m\u001b[0msn1\u001b[0m\u001b[0;34m)\u001b[0m\u001b[0;34m\u001b[0m\u001b[0m\n\u001b[0m\u001b[1;32m     10\u001b[0m     \u001b[0mpot1_list\u001b[0m\u001b[0;34m.\u001b[0m\u001b[0mappend\u001b[0m\u001b[0;34m(\u001b[0m\u001b[0mpot1\u001b[0m\u001b[0;34m)\u001b[0m\u001b[0;34m\u001b[0m\u001b[0m\n",
      "\u001b[0;32m<ipython-input-13-de6c576175ba>\u001b[0m in \u001b[0;36mcompute_pot\u001b[0;34m(sn)\u001b[0m\n\u001b[1;32m     32\u001b[0m                             \u001b[0msymmetry\u001b[0m\u001b[0;34m=\u001b[0m\u001b[0;34m'a'\u001b[0m\u001b[0;34m,\u001b[0m \u001b[0mgridsizer\u001b[0m\u001b[0;34m=\u001b[0m\u001b[0;36m20\u001b[0m\u001b[0;34m,\u001b[0m \u001b[0mgridsizez\u001b[0m\u001b[0;34m=\u001b[0m\u001b[0;36m20\u001b[0m\u001b[0;34m,\u001b[0m\u001b[0;34m\u001b[0m\u001b[0m\n\u001b[1;32m     33\u001b[0m                             \u001b[0mmmax\u001b[0m\u001b[0;34m=\u001b[0m\u001b[0;36m0\u001b[0m\u001b[0;34m,\u001b[0m \u001b[0mRmin\u001b[0m\u001b[0;34m=\u001b[0m\u001b[0;36m0.2\u001b[0m\u001b[0;34m,\u001b[0m\u001b[0;34m\u001b[0m\u001b[0m\n\u001b[0;32m---> 34\u001b[0;31m                             Rmax=50, Zmin=0.02, Zmax=10)\n\u001b[0m\u001b[1;32m     35\u001b[0m \u001b[0;34m\u001b[0m\u001b[0m\n\u001b[1;32m     36\u001b[0m     \u001b[0mpot\u001b[0m \u001b[0;34m=\u001b[0m \u001b[0magama\u001b[0m\u001b[0;34m.\u001b[0m\u001b[0mPotential\u001b[0m\u001b[0;34m(\u001b[0m\u001b[0mpdark\u001b[0m\u001b[0;34m,\u001b[0m \u001b[0mpbar\u001b[0m\u001b[0;34m)\u001b[0m\u001b[0;34m\u001b[0m\u001b[0m\n",
      "\u001b[0;31mRuntimeError\u001b[0m: Error in creating potential: Keyboard interrupt"
     ]
    }
   ],
   "source": [
    "pot0_list = []\n",
    "pot1_list = []\n",
    "for i,idx in enumerate(tqdm(idx_list)):\n",
    "    sn0 = sn0_list[i]\n",
    "    pot0 = compute_pot(sn0)\n",
    "    pot0_list.append(pot0)\n",
    "    \n",
    "    sn1 = sn1_list[i]\n",
    "    pot1 = compute_pot(sn1)\n",
    "    pot1_list.append(pot1)"
   ]
  },
  {
   "cell_type": "code",
   "execution_count": null,
   "metadata": {
    "collapsed": true
   },
   "outputs": [],
   "source": [
    "pot0 = compute_pot(sn0_list[0], center=np.array([0., 0., 0.]))\n",
    "pot1 = compute_pot(sn1_list[-1], center=np.array([200., 200., 200.]))"
   ]
  },
  {
   "cell_type": "code",
   "execution_count": 21,
   "metadata": {},
   "outputs": [
    {
     "name": "stderr",
     "output_type": "stream",
     "text": [
      "/n/helmod/apps/centos7/Core/Anaconda3/5.0.1-fasrc02/x/lib/python3.6/site-packages/ipykernel_launcher.py:5: RuntimeWarning: invalid value encountered in true_divide\n",
      "  \"\"\"\n"
     ]
    }
   ],
   "source": [
    "R0, vc0, kappa0 = compute_vc_kappa(pot0)\n",
    "R1, vc1, kappa1 = compute_vc_kappa(pot1)"
   ]
  },
  {
   "cell_type": "code",
   "execution_count": null,
   "metadata": {},
   "outputs": [],
   "source": [
    "# plt.plot(R0, vc0, label='Nbody')\n",
    "plt.plot(R1, vc1, label='SMUGGLE')\n",
    "plt.legend()\n",
    "plt.show()"
   ]
  },
  {
   "cell_type": "code",
   "execution_count": 11,
   "metadata": {},
   "outputs": [
    {
     "data": {
      "image/png": "[encoded data removed]",
      "text/plain": [
       "<Figure size 576x576 with 1 Axes>"
      ]
     },
     "metadata": {},
     "output_type": "display_data"
    }
   ],
   "source": [
    "fig, ax = plt.subplots(1, 1, figsize=(8, 8))\n",
    "n=5\n",
    "\n",
    "dat = outN_l3\n",
    "name = 'Nbody'\n",
    "\n",
    "time = dat['time']\n",
    "Rbar = dat['Rbar']\n",
    "# ax.plot(time-time[400], ps, label=name, c='k')\n",
    "ax.plot(time-time[300], Rbar, label=name)\n",
    "# dt = time[300] - time[400]\n",
    "\n",
    "# dat = out3\n",
    "# name = 'Sg 10'\n",
    "\n",
    "# time = dat['time']\n",
    "# ba, ps = dat['poly_eval'][n]\n",
    "# true_ps = dat['pattern_speed']\n",
    "# # ax.plot(time-time[0], ps, label=name)\n",
    "# ax.plot(time-time[0], true_ps, label=name)\n",
    "\n",
    "dat = outS_l3\n",
    "name = 'SMUGGLE'\n",
    "\n",
    "time = dat['time']\n",
    "Rbar = dat['Rbar']\n",
    "ax.plot(time-time[0], Rbar)\n",
    "\n",
    "# dat = out6\n",
    "# name = 'snap400'\n",
    "\n",
    "# time = dat['time'] + dt\n",
    "# ba, ps = dat['poly_eval'][n]\n",
    "# true_ps = dat['pattern_speed']\n",
    "# l=ax.plot(time, ps, label=name)\n",
    "# ax.plot(time, true_ps, label=name, c=l[0].get_color())\n",
    "\n",
    "\n",
    "ax.legend(frameon=False)\n",
    "\n",
    "ax.set(xlim=(-1000, 8000))\n",
    "# ax.set(xlim=(2500,3000))\n",
    "ax.set(ylim=(0, 8), xlabel='time [Myr]', ylabel='Rbar [kpc]')\n",
    "plt.show()"
   ]
  },
  {
   "cell_type": "markdown",
   "metadata": {
    "collapsed": true
   },
   "source": [
    "#### "
   ]
  }
 ],
 "metadata": {
  "kernelspec": {
   "display_name": "Python 3",
   "language": "python",
   "name": "python3"
  },
  "language_info": {
   "codemirror_mode": {
    "name": "ipython",
    "version": 3
   },
   "file_extension": ".py",
   "mimetype": "text/x-python",
   "name": "python",
   "nbconvert_exporter": "python",
   "pygments_lexer": "ipython3",
   "version": "3.6.3"
  }
 },
 "nbformat": 4,
 "nbformat_minor": 2
}
