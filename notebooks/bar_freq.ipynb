{
 "cells": [
  {
   "cell_type": "code",
   "execution_count": 1,
   "metadata": {},
   "outputs": [
    {
     "data": {
      "text/plain": [
       "'Length unit: 1 Kpc, velocity unit: 1 km/s, time unit: 977.793 Myr, mass unit: 1e+10 Msun, gravitational constant: 43009.2'"
      ]
     },
     "execution_count": 1,
     "metadata": {},
     "output_type": "execute_result"
    }
   ],
   "source": [
    "import agama\n",
    "import arepo\n",
    "import h5py as h5\n",
    "import numpy as np\n",
    "import matplotlib.pyplot as plt\n",
    "from tqdm import tqdm_notebook as tqdm\n",
    "\n",
    "from joblib import Parallel, delayed\n",
    "import matplotlib as mpl\n",
    "\n",
    "from numba import njit\n",
    "\n",
    "agama.setUnits(mass=1E10, length=1, velocity=1)"
   ]
  },
  {
   "cell_type": "code",
   "execution_count": 2,
   "metadata": {
    "collapsed": true
   },
   "outputs": [],
   "source": [
    "@njit\n",
    "def my_mult(mass, vel):\n",
    "    out = np.zeros((len(mass), 3))\n",
    "    for i in range(len(mass)):\n",
    "        out[i][0] = mass[i] * vel[i][0] \n",
    "        out[i][1] = mass[i] * vel[i][1]\n",
    "        out[i][2] = mass[i] * vel[i][2]\n",
    "    return out"
   ]
  },
  {
   "cell_type": "code",
   "execution_count": 13,
   "metadata": {
    "collapsed": true
   },
   "outputs": [],
   "source": [
    "sim_list = ['Nbody', 'phantom-vacuum-Sg20-Rc3.5']\n",
    "\n",
    "basepath = '/n/holystore01/LABS/hernquist_lab/Users/abeane/starbar_runs/runs/'\n",
    "\n",
    "def read_snap(idx, sim_idx, lvl='lvl3', parttype=[0], fields=['Coordinates', 'Masses', 'Velocities', 'ParticleIDs'],\n",
    "              basepath = basepath):\n",
    "    fname = basepath + sim_list[sim_idx] + '/' + lvl + '/output'\n",
    "    return arepo.Snapshot(fname, idx, parttype=parttype, fields=fields, combineFiles=True)\n",
    "\n",
    "def read_sfr(sim_idx, lvl='lvl3', basepath = basepath):\n",
    "    fname = basepath + sim_list[sim_idx] + '/' + lvl + '/output/sfr.txt'\n",
    "    return np.genfromtxt(fname)\n",
    "\n",
    "def read_fourier(sim_idx, lvl='lvl3', basepath='/n/home01/abeane/starbar/plots/'):\n",
    "    sim = sim_list[sim_idx]\n",
    "    f = h5.File(basepath+'/fourier_component/data/fourier_'+sim+'-'+lvl+'.hdf5', mode='r')\n",
    "    return f"
   ]
  },
  {
   "cell_type": "code",
   "execution_count": 18,
   "metadata": {
    "collapsed": true
   },
   "outputs": [],
   "source": [
    "def get_pos_vel_mass_halo_bulge(sn, gas=False, center=np.array([0., 0., 0.])):\n",
    "    pos_halo = sn.part1.pos.value[np.argsort(sn.part1.id)]\n",
    "    vel_halo = sn.part1.vel.value[np.argsort(sn.part1.id)]\n",
    "    mass_halo = np.full(sn.NumPart_Total[1], sn.MassTable[1])\n",
    "\n",
    "    pos_disk = sn.part2.pos.value[np.argsort(sn.part2.id)]\n",
    "    vel_disk = sn.part2.vel.value[np.argsort(sn.part2.id)]\n",
    "    \n",
    "    pos_blge = sn.part3.pos.value[np.argsort(sn.part3.id)]\n",
    "    vel_blge = sn.part3.vel.value[np.argsort(sn.part3.id)]\n",
    "    \n",
    "    if gas:\n",
    "        pos_gas = sn.part0.pos.value\n",
    "        vel_gas = sn.part0.vel.value\n",
    "        mass_gas = sn.part0.mass.value\n",
    "        \n",
    "        if sn.NumPart_Total[4]>0:\n",
    "            pos_star = sn.part4.pos.value\n",
    "            vel_star = sn.part4.vel.value\n",
    "            mass_star = sn.part4.mass.value\n",
    "\n",
    "    pos_bar = np.concatenate((pos_disk, pos_blge))\n",
    "    vel_bar = np.concatenate((vel_disk, vel_blge))\n",
    "    mass_bar = np.concatenate((np.full(sn.NumPart_Total[2], sn.MassTable[2]), \\\n",
    "                               np.full(sn.NumPart_Total[3], sn.MassTable[3])))\n",
    "\n",
    "    if gas:\n",
    "        pos_bar = np.concatenate((pos_bar, pos_gas))\n",
    "        vel_bar = np.concatenate((vel_bar, vel_gas))\n",
    "        mass_bar = np.concatenate((mass_bar, mass_gas))\n",
    "        if sn.NumPart_Total[4] > 0:\n",
    "            pos_bar = np.concatenate((pos_bar, pos_star))\n",
    "            vel_bar = np.concatenate((vel_bar, vel_star))\n",
    "            mass_bar = np.concatenate((mass_bar, mass_star))\n",
    "\n",
    "    pos_bar -= center\n",
    "    pos_halo -= center\n",
    "            \n",
    "    return pos_bar, vel_bar, mass_bar, pos_halo, vel_halo, mass_halo"
   ]
  },
  {
   "cell_type": "code",
   "execution_count": 7,
   "metadata": {
    "collapsed": true
   },
   "outputs": [],
   "source": [
    "pos_bar, vel_bar, mass_bar, pos_halo, vel_halo, mass_halo = get_pos_vel_mass_halo_bulge(sn)"
   ]
  },
  {
   "cell_type": "code",
   "execution_count": 8,
   "metadata": {
    "collapsed": true
   },
   "outputs": [],
   "source": [
    "pos_bar300, vel_bar300, mass_bar300, pos_halo300, vel_halo300, mass_halo300 = get_pos_vel_mass_halo_bulge(sn300)"
   ]
  },
  {
   "cell_type": "code",
   "execution_count": 10,
   "metadata": {
    "collapsed": true
   },
   "outputs": [],
   "source": [
    "pos_bar575, vel_bar575, mass_bar575, pos_halo575, vel_halo575, mass_halo575 = get_pos_vel_mass_halo_bulge(sn575)"
   ]
  },
  {
   "cell_type": "code",
   "execution_count": 11,
   "metadata": {
    "collapsed": true
   },
   "outputs": [],
   "source": [
    "pot_halo = agama.Potential(type=\"Multipole\", particles=(pos_halo, mass_halo),\n",
    "                           symmetry='a', gridsizeR=20, lmax=2)\n",
    "\n",
    "pot_bar  = agama.Potential(type=\"CylSpline\", particles=(pos_bar, mass_bar),\n",
    "                          symmetry='a', gridsizer=20, gridsizez=20,\n",
    "                          mmax=0, Rmin=0.2, Rmax=50, Zmin=0.02, Zmax=10)"
   ]
  },
  {
   "cell_type": "code",
   "execution_count": 12,
   "metadata": {
    "collapsed": true
   },
   "outputs": [],
   "source": [
    "pot_tot = agama.Potential(pot_halo, pot_bar)"
   ]
  },
  {
   "cell_type": "code",
   "execution_count": 13,
   "metadata": {
    "collapsed": true
   },
   "outputs": [],
   "source": [
    "R = np.linalg.norm(pos_bar[:,:2], axis=1)\n",
    "points = np.column_stack((R, R*0, R*0))\n",
    "force,deriv = pot_tot.forceDeriv(points)\n",
    "kappa = np.sqrt(-deriv[:,0] - 3*force[:,0]/R)\n",
    "Omega = np.sqrt(-force[:,0]/R)"
   ]
  },
  {
   "cell_type": "code",
   "execution_count": 14,
   "metadata": {
    "collapsed": true
   },
   "outputs": [],
   "source": [
    "vel_bar = np.concatenate((sn.part2.vel.value, sn.part3.vel.value))\n",
    "w_bar = np.hstack((pos_bar, vel_bar))\n",
    "Tcirc = pot_tot.Tcirc(w_bar)\n",
    "Omega = 2.*np.pi / Tcirc"
   ]
  },
  {
   "cell_type": "code",
   "execution_count": 15,
   "metadata": {},
   "outputs": [
    {
     "data": {
      "text/plain": [
       "46.52926289166349"
      ]
     },
     "execution_count": 15,
     "metadata": {},
     "output_type": "execute_result"
    }
   ],
   "source": [
    "key = np.argmin(np.abs(R - 6))\n",
    "Omega[key]"
   ]
  },
  {
   "cell_type": "code",
   "execution_count": 16,
   "metadata": {},
   "outputs": [
    {
     "data": {
      "image/png": "[encoded data removed]",
      "text/plain": [
       "<Figure size 432x288 with 1 Axes>"
      ]
     },
     "metadata": {},
     "output_type": "display_data"
    }
   ],
   "source": [
    "Omega_p = 36.93078876947825\n",
    "plt.hist((Omega - Omega_p) / kappa, bins=100, weights=mass_bar, range=(-0.6, 0.6))\n",
    "plt.xlabel('(Omega - Omega_p) / kappa')\n",
    "plt.ylabel('mass')\n",
    "# plt.xlim(-1, 1)\n",
    "plt.show()"
   ]
  },
  {
   "cell_type": "code",
   "execution_count": 17,
   "metadata": {
    "collapsed": true
   },
   "outputs": [],
   "source": [
    "Lz500 = my_mult(mass_halo, np.cross(pos_halo, vel_halo))\n",
    "Lz300 = my_mult(mass_halo300, np.cross(pos_halo300, vel_halo300))\n",
    "dLz500 = Lz500 - Lz300"
   ]
  },
  {
   "cell_type": "code",
   "execution_count": 38,
   "metadata": {},
   "outputs": [
    {
     "name": "stdout",
     "output_type": "stream",
     "text": [
      "1.2068634582145971e-06\n"
     ]
    },
    {
     "data": {
      "image/png": "[encoded data removed]",
      "text/plain": [
       "<Figure size 432x288 with 1 Axes>"
      ]
     },
     "metadata": {},
     "output_type": "display_data"
    }
   ],
   "source": [
    "plt.hist(dLz500[:,2], bins=100)\n",
    "mean = np.mean(dLz500)\n",
    "print(mean)\n",
    "mean = 0\n",
    "std = np.std(dLz500)\n",
    "key = np.where(np.abs(dLz500 - mean)/std > 6)[0]\n",
    "plt.show()"
   ]
  },
  {
   "cell_type": "code",
   "execution_count": 43,
   "metadata": {},
   "outputs": [
    {
     "data": {
      "image/png": "[encoded data removed]",
      "text/plain": [
       "<Figure size 432x288 with 1 Axes>"
      ]
     },
     "metadata": {},
     "output_type": "display_data"
    }
   ],
   "source": [
    "R300 = np.linalg.norm(pos_halo300[:,:2], axis=1)\n",
    "plt.hist(R300[key], bins=100, range=[0, 40], weights=dLz500[key][:,2])\n",
    "plt.show()"
   ]
  },
  {
   "cell_type": "code",
   "execution_count": 18,
   "metadata": {},
   "outputs": [
    {
     "data": {
      "image/png": "[encoded data removed]",
      "text/plain": [
       "<Figure size 432x288 with 1 Axes>"
      ]
     },
     "metadata": {},
     "output_type": "display_data"
    }
   ],
   "source": [
    "Omega_p = 36.93078876947825\n",
    "plt.hist((Omega - Omega_p) / kappa, weights=dLz500[:,2], bins=100, range=(-0.6, 0.6))\n",
    "# plt.xlim(-1, 1)\n",
    "plt.axvline(0.5)\n",
    "plt.axvline(0)\n",
    "plt.axvline(-0.5)\n",
    "plt.xlabel('(Omega - Omega_p) / kappa')\n",
    "plt.ylabel('delta Lz')\n",
    "plt.show()"
   ]
  },
  {
   "cell_type": "code",
   "execution_count": 19,
   "metadata": {
    "collapsed": true
   },
   "outputs": [],
   "source": [
    "pos_bar625, vel_bar625, mass_bar625, pos_halo625, vel_halo625, mass_halo625 = get_pos_vel_mass_halo_bulge(sn625)"
   ]
  },
  {
   "cell_type": "code",
   "execution_count": 20,
   "metadata": {
    "collapsed": true
   },
   "outputs": [],
   "source": [
    "pot_halo625 = agama.Potential(type=\"Multipole\", particles=(pos_halo625, mass_halo625),\n",
    "                           symmetry='a', gridsizeR=20, lmax=2)\n",
    "\n",
    "pot_bar625  = agama.Potential(type=\"CylSpline\", particles=(pos_bar625, mass_bar625),\n",
    "                          symmetry='a', gridsizer=20, gridsizez=20,\n",
    "                          mmax=0, Rmin=0.2, Rmax=50, Zmin=0.02, Zmax=10)\n",
    "\n",
    "pot_tot625 = agama.Potential(pot_halo625, pot_bar625)"
   ]
  },
  {
   "cell_type": "code",
   "execution_count": 21,
   "metadata": {
    "collapsed": true
   },
   "outputs": [],
   "source": [
    "R = np.linalg.norm(pos_bar625[:,:2], axis=1)\n",
    "points = np.column_stack((R, R*0, R*0))\n",
    "force,deriv = pot_tot625.forceDeriv(points)\n",
    "kappa625 = np.sqrt(-deriv[:,0] - 3*force[:,0]/R)\n",
    "Omega625 = np.sqrt(-force[:,0]/R)"
   ]
  },
  {
   "cell_type": "code",
   "execution_count": 22,
   "metadata": {},
   "outputs": [
    {
     "data": {
      "image/png": "[encoded data removed]",
      "text/plain": [
       "<Figure size 432x288 with 1 Axes>"
      ]
     },
     "metadata": {},
     "output_type": "display_data"
    }
   ],
   "source": [
    "Omega_p = 31.536139084337588\n",
    "plt.hist((Omega625 - Omega_p) / kappa625, bins=100, weights=mass_bar625, range=(-0.5, 0.7))\n",
    "plt.xlabel('(Omega - Omega_p) / kappa')\n",
    "plt.ylabel('mass')\n",
    "# plt.xlim(-1, 1)\n",
    "plt.show()"
   ]
  },
  {
   "cell_type": "code",
   "execution_count": 23,
   "metadata": {
    "collapsed": true
   },
   "outputs": [],
   "source": [
    "Lz500 = my_mult(mass_bar, np.cross(pos_bar, vel_bar))\n",
    "Lz625 = my_mult(mass_bar625, np.cross(pos_bar625, vel_bar625))\n",
    "dLz625 = Lz625 - Lz500"
   ]
  },
  {
   "cell_type": "code",
   "execution_count": 24,
   "metadata": {
    "collapsed": true
   },
   "outputs": [],
   "source": [
    "Lz575 = my_mult(mass_bar575, np.cross(pos_bar575, vel_bar575))\n",
    "Lz625 = my_mult(mass_bar625, np.cross(pos_bar625, vel_bar625))\n",
    "dLz625 = Lz625 - Lz575"
   ]
  },
  {
   "cell_type": "code",
   "execution_count": 25,
   "metadata": {},
   "outputs": [
    {
     "data": {
      "image/png": "[encoded data removed]",
      "text/plain": [
       "<Figure size 432x288 with 1 Axes>"
      ]
     },
     "metadata": {},
     "output_type": "display_data"
    }
   ],
   "source": [
    "Omega_p = 35\n",
    "plt.hist((Omega625 - Omega_p) / kappa625, weights=dLz625[:,2], bins=100, range=(-0.6, 0.6))\n",
    "# plt.xlim(-1, 1)\n",
    "plt.axvline(0.5)\n",
    "plt.axvline(0)\n",
    "plt.axvline(-0.5)\n",
    "plt.xlabel('(Omega - Omega_p) / kappa')\n",
    "plt.ylabel('delta Lz')\n",
    "plt.show()"
   ]
  },
  {
   "cell_type": "code",
   "execution_count": 26,
   "metadata": {
    "collapsed": true
   },
   "outputs": [],
   "source": [
    "R = np.linalg.norm(pos_halo625[:,:2], axis=1)\n",
    "points = np.column_stack((R, R*0, R*0))\n",
    "force,deriv = pot_tot625.forceDeriv(points)\n",
    "kappa625_halo = np.sqrt(-deriv[:,0] - 3*force[:,0]/R)\n",
    "Omega625_halo = np.sqrt(-force[:,0]/R)"
   ]
  },
  {
   "cell_type": "code",
   "execution_count": 27,
   "metadata": {},
   "outputs": [
    {
     "data": {
      "image/png": "[encoded data removed]",
      "text/plain": [
       "<Figure size 432x288 with 1 Axes>"
      ]
     },
     "metadata": {},
     "output_type": "display_data"
    }
   ],
   "source": [
    "Omega_p = 31.536139084337588\n",
    "plt.hist((Omega625_halo - Omega_p) / kappa625_halo, bins=100, weights=mass_halo625, range=(-0.7, 0.7))\n",
    "plt.xlabel('(Omega - Omega_p) / kappa')\n",
    "plt.ylabel('mass')\n",
    "# plt.xlim(-1, 1)\n",
    "plt.show()"
   ]
  },
  {
   "cell_type": "code",
   "execution_count": 28,
   "metadata": {
    "collapsed": true
   },
   "outputs": [],
   "source": [
    "Lz575 = my_mult(mass_halo575, np.cross(pos_halo575, vel_halo575))\n",
    "Lz625 = my_mult(mass_halo625, np.cross(pos_halo625, vel_halo625))\n",
    "dLz625_halo = Lz625 - Lz575"
   ]
  },
  {
   "cell_type": "code",
   "execution_count": 29,
   "metadata": {},
   "outputs": [
    {
     "data": {
      "image/png": "[encoded data removed]",
      "text/plain": [
       "<Figure size 432x288 with 1 Axes>"
      ]
     },
     "metadata": {},
     "output_type": "display_data"
    }
   ],
   "source": [
    "Omega_p = 31.536139084337588\n",
    "plt.hist((Omega625_halo - Omega_p) / kappa625_halo, bins=100, weights=dLz625_halo[:,2], range=(-0.7, 0.7))\n",
    "plt.xlabel('(Omega - Omega_p) / kappa')\n",
    "plt.ylabel('change in Lz')\n",
    "# plt.xlim(-1, 1)\n",
    "plt.show()"
   ]
  },
  {
   "cell_type": "markdown",
   "metadata": {},
   "source": [
    "## Redo the same calc but with gas now"
   ]
  },
  {
   "cell_type": "code",
   "execution_count": 98,
   "metadata": {
    "collapsed": true
   },
   "outputs": [],
   "source": [
    "snS500 = read_snap(500, 1, parttype=None)\n",
    "snS450 = read_snap(450, 0, parttype=None)"
   ]
  },
  {
   "cell_type": "code",
   "execution_count": 114,
   "metadata": {
    "collapsed": true
   },
   "outputs": [],
   "source": [
    "pos_barS500, vel_barS500, mass_barS500, pos_haloS500, vel_haloS500, mass_haloS500 = \\\n",
    "  get_pos_vel_mass_halo_bulge(snS500, gas=True, center=np.array([200., 200., 200.]))"
   ]
  },
  {
   "cell_type": "code",
   "execution_count": 115,
   "metadata": {
    "collapsed": true
   },
   "outputs": [],
   "source": [
    "pos_barS500_ng, vel_barS500_ng, mass_barS500_ng, pos_haloS500_ng, vel_haloS500_ng, mass_haloS500_ng = \\\n",
    "  get_pos_vel_mass_halo_bulge(snS500, gas=False, center=np.array([200., 200., 200.]))\n",
    "    \n",
    "pos_barS450_ng, vel_barS450_ng, mass_barS450_ng, pos_haloS450_ng, vel_haloS450_ng, mass_haloS450_ng = \\\n",
    "  get_pos_vel_mass_halo_bulge(snS450, gas=False, center=np.array([200., 200., 200.]))"
   ]
  },
  {
   "cell_type": "code",
   "execution_count": 116,
   "metadata": {
    "collapsed": true
   },
   "outputs": [],
   "source": [
    "pot_haloS500 = agama.Potential(type=\"Multipole\", particles=(pos_haloS500, mass_haloS500),\n",
    "                           symmetry='a', gridsizeR=20, lmax=2)\n",
    "\n",
    "pot_barS500  = agama.Potential(type=\"CylSpline\", particles=(pos_barS500, mass_barS500),\n",
    "                          symmetry='a', gridsizer=20, gridsizez=20,\n",
    "                          mmax=0, Rmin=0.2, Rmax=50, Zmin=0.02, Zmax=10)\n",
    "\n",
    "pot_totS500 = agama.Potential(pot_haloS500, pot_barS500)"
   ]
  },
  {
   "cell_type": "code",
   "execution_count": 117,
   "metadata": {
    "collapsed": true
   },
   "outputs": [],
   "source": [
    "R = np.linalg.norm(pos_barS500_ng[:,:2], axis=1)\n",
    "points = np.column_stack((R, R*0, R*0))\n",
    "force,deriv = pot_tot625.forceDeriv(points)\n",
    "kappaS500 = np.sqrt(-deriv[:,0] - 3*force[:,0]/R)\n",
    "OmegaS500 = np.sqrt(-force[:,0]/R)"
   ]
  },
  {
   "cell_type": "code",
   "execution_count": 118,
   "metadata": {
    "collapsed": true
   },
   "outputs": [],
   "source": [
    "R = np.linalg.norm(pos_haloS500_ng[:,:2], axis=1)\n",
    "points = np.column_stack((R, R*0, R*0))\n",
    "force,deriv = pot_tot625.forceDeriv(points)\n",
    "kappaS500_halo = np.sqrt(-deriv[:,0] - 3*force[:,0]/R)\n",
    "OmegaS500_halo = np.sqrt(-force[:,0]/R)"
   ]
  },
  {
   "cell_type": "code",
   "execution_count": 121,
   "metadata": {},
   "outputs": [
    {
     "data": {
      "image/png": "[encoded data removed]",
      "text/plain": [
       "<Figure size 432x288 with 1 Axes>"
      ]
     },
     "metadata": {},
     "output_type": "display_data"
    }
   ],
   "source": [
    "Omega_p = 38\n",
    "plt.hist((OmegaS500 - Omega_p) / kappaS500, bins=100, weights=mass_barS500_ng, range=(-0.5, 0.7))\n",
    "plt.xlabel('(Omega - Omega_p) / kappa')\n",
    "plt.ylabel('mass')\n",
    "# plt.xlim(-1, 1)\n",
    "plt.show()"
   ]
  },
  {
   "cell_type": "code",
   "execution_count": 120,
   "metadata": {},
   "outputs": [
    {
     "data": {
      "image/png": "[encoded data removed]",
      "text/plain": [
       "<Figure size 432x288 with 1 Axes>"
      ]
     },
     "metadata": {},
     "output_type": "display_data"
    }
   ],
   "source": [
    "Omega_p = 38\n",
    "plt.hist((OmegaS500_halo - Omega_p) / kappaS500_halo, bins=100, weights=mass_haloS500_ng, range=(-0.5, 0.7))\n",
    "plt.xlabel('(Omega - Omega_p) / kappa')\n",
    "plt.ylabel('mass')\n",
    "# plt.xlim(-1, 1)\n",
    "plt.show()"
   ]
  },
  {
   "cell_type": "code",
   "execution_count": 122,
   "metadata": {
    "collapsed": true
   },
   "outputs": [],
   "source": [
    "LzS500 = my_mult(mass_barS500_ng, np.cross(pos_barS500_ng, vel_barS500_ng))\n",
    "LzS450 = my_mult(mass_barS450_ng, np.cross(pos_barS450_ng, vel_barS450_ng))\n",
    "dLzS500 = LzS500 - LzS450\n",
    "\n",
    "LzS500 = my_mult(mass_haloS500_ng, np.cross(pos_haloS500_ng, vel_haloS500_ng))\n",
    "LzS450 = my_mult(mass_haloS450_ng, np.cross(pos_haloS450_ng, vel_haloS450_ng))\n",
    "dLzS500_halo = LzS500 - LzS450"
   ]
  },
  {
   "cell_type": "code",
   "execution_count": 124,
   "metadata": {},
   "outputs": [
    {
     "data": {
      "image/png": "[encoded data removed]",
      "text/plain": [
       "<Figure size 432x288 with 1 Axes>"
      ]
     },
     "metadata": {},
     "output_type": "display_data"
    }
   ],
   "source": [
    "Omega_p = 38\n",
    "plt.hist((OmegaS500 - Omega_p) / kappaS500, bins=100, weights=dLzS500[:,2], range=(-0.5, 0.7))\n",
    "plt.xlabel('(Omega - Omega_p) / kappa')\n",
    "plt.ylabel('change in Lz')\n",
    "# plt.xlim(-1, 1)\n",
    "plt.show()"
   ]
  },
  {
   "cell_type": "code",
   "execution_count": 129,
   "metadata": {},
   "outputs": [
    {
     "data": {
      "image/png": "[encoded data removed]",
      "text/plain": [
       "<Figure size 432x288 with 1 Axes>"
      ]
     },
     "metadata": {},
     "output_type": "display_data"
    }
   ],
   "source": [
    "Omega_p = 38\n",
    "plt.hist((OmegaS500_halo - Omega_p) / kappaS500_halo, bins=100, weights=dLzS500_halo[:,2], range=(-0.5, 0.7))\n",
    "plt.xlabel('(Omega - Omega_p) / kappa')\n",
    "plt.ylabel('change in Lz')\n",
    "# plt.xlim(-1, 1)\n",
    "plt.show()"
   ]
  },
  {
   "cell_type": "markdown",
   "metadata": {
    "collapsed": true
   },
   "source": [
    "## Superfreq Analysis"
   ]
  },
  {
   "cell_type": "code",
   "execution_count": 4,
   "metadata": {
    "collapsed": true
   },
   "outputs": [],
   "source": [
    "from superfreq import SuperFreq, closest_resonance\n",
    "import glob\n",
    "\n",
    "name = 'Nbody'\n",
    "lvl = 'lvl4'\n",
    "\n",
    "phase_space_path = '/n/home01/abeane/starbar/plots/phase_space/data'\n",
    "nchunk = len(glob.glob(phase_space_path + '/' + name + '-' + lvl + '/phase_space_*'))\n",
    "\n",
    "i = 0\n",
    "ps = h5.File(phase_space_path + '/' + name + '-' + lvl + '/phase_space_' + name + '-' + lvl + '.' + \\\n",
    "             str(i)+'.hdf5', mode='r')"
   ]
  },
  {
   "cell_type": "code",
   "execution_count": 55,
   "metadata": {
    "collapsed": true
   },
   "outputs": [],
   "source": [
    "t = ps['Time']"
   ]
  },
  {
   "cell_type": "code",
   "execution_count": 120,
   "metadata": {
    "collapsed": true
   },
   "outputs": [],
   "source": [
    "j = 1001\n",
    "# center = np.array([200., 200., 200.])\n",
    "center = np.array([0., 0., 0.])\n",
    "w = np.hstack((ps['PartType2/Coordinates'][:,j,:] - center, ps['PartType2/Velocities'][:,j,:]))"
   ]
  },
  {
   "cell_type": "code",
   "execution_count": 121,
   "metadata": {},
   "outputs": [
    {
     "data": {
      "image/png": "[encoded data removed]",
      "text/plain": [
       "<Figure size 432x288 with 1 Axes>"
      ]
     },
     "metadata": {},
     "output_type": "display_data"
    }
   ],
   "source": [
    "plt.plot(w[:400,0], w[:400,1])\n",
    "plt.axis('equal')\n",
    "plt.show()"
   ]
  },
  {
   "cell_type": "code",
   "execution_count": 72,
   "metadata": {},
   "outputs": [
    {
     "name": "stdout",
     "output_type": "stream",
     "text": [
      "[110.98677431 111.01077784 110.93600405 ... 112.41203645 112.21342153\n",
      " 111.99402075]\n"
     ]
    },
    {
     "data": {
      "image/png": "[encoded data removed]",
      "text/plain": [
       "<Figure size 432x288 with 1 Axes>"
      ]
     },
     "metadata": {},
     "output_type": "display_data"
    }
   ],
   "source": [
    "Lz = np.cross(w[:,:3], w[:,3:])[:,2]\n",
    "R = np.linalg.norm(w[:,:2])\n",
    "vphi = Lz/R\n",
    "Tphi = R/vphi\n",
    "print(Tphi)\n",
    "\n",
    "plt.plot(t[:], Lz)\n",
    "plt.show()"
   ]
  },
  {
   "cell_type": "code",
   "execution_count": null,
   "metadata": {
    "collapsed": true
   },
   "outputs": [],
   "source": []
  },
  {
   "cell_type": "code",
   "execution_count": null,
   "metadata": {
    "collapsed": true
   },
   "outputs": [],
   "source": [
    "plt."
   ]
  },
  {
   "cell_type": "code",
   "execution_count": 156,
   "metadata": {},
   "outputs": [
    {
     "name": "stdout",
     "output_type": "stream",
     "text": [
      "512\n"
     ]
    },
    {
     "data": {
      "application/vnd.jupyter.widget-view+json": {
       "model_id": "c602cdf1747c45cf81ef01b1e5969545",
       "version_major": 2,
       "version_minor": 0
      },
      "text/plain": [
       "A Jupyter Widget"
      ]
     },
     "metadata": {},
     "output_type": "display_data"
    },
    {
     "name": "stdout",
     "output_type": "stream",
     "text": [
      "\n"
     ]
    }
   ],
   "source": [
    "freq_path = '/n/home01/abeane/starbar/plots/freq/data'\n",
    "nchunk = len(glob.glob(freq_path + '/freq_' + name + '-' + lvl + '/freq_*'))\n",
    "\n",
    "Omega = np.array([]).reshape((0, 3))\n",
    "snap = 500\n",
    "print(nchunk)\n",
    "\n",
    "for i in tqdm(range(nchunk)):\n",
    "    \n",
    "    frq = h5.File(freq_path + '/freq_' + name + '-' + lvl + '/freq_' + name + '-' + lvl + '.' + \\\n",
    "             str(i)+'.hdf5', mode='r')\n",
    "    \n",
    "    Omega = np.concatenate((Omega, frq['PartType1/Frequencies'][:,snap,:]))"
   ]
  },
  {
   "cell_type": "markdown",
   "metadata": {},
   "source": [
    "## Direct frequency calc"
   ]
  },
  {
   "cell_type": "code",
   "execution_count": 3,
   "metadata": {
    "collapsed": true
   },
   "outputs": [],
   "source": [
    "import glob\n",
    "def read_chunk(freq_path, name, lvl, i, snap):\n",
    "    frq = h5.File(freq_path + '/freq_' + name + '-' + lvl + '/freq_' + name + '-' + lvl + '.' + \\\n",
    "             str(i)+'.hdf5', mode='r')\n",
    "    ans = np.array(frq['PartType1/Frequencies'][:,snap,:])\n",
    "    frq.close()\n",
    "    return ans"
   ]
  },
  {
   "cell_type": "code",
   "execution_count": 8,
   "metadata": {},
   "outputs": [
    {
     "name": "stdout",
     "output_type": "stream",
     "text": [
      "1024\n"
     ]
    },
    {
     "data": {
      "application/vnd.jupyter.widget-view+json": {
       "model_id": "8d00c965d9fc481a8630b6308b46714f",
       "version_major": 2,
       "version_minor": 0
      },
      "text/plain": [
       "A Jupyter Widget"
      ]
     },
     "metadata": {},
     "output_type": "display_data"
    },
    {
     "name": "stderr",
     "output_type": "stream",
     "text": [
      "[Parallel(n_jobs=32)]: Using backend LokyBackend with 32 concurrent workers.\n",
      "[Parallel(n_jobs=32)]: Done   8 tasks      | elapsed:    1.7s\n",
      "[Parallel(n_jobs=32)]: Done  21 tasks      | elapsed:    1.9s\n",
      "[Parallel(n_jobs=32)]: Done  34 tasks      | elapsed:    2.1s\n",
      "[Parallel(n_jobs=32)]: Done  49 tasks      | elapsed:    2.4s\n",
      "[Parallel(n_jobs=32)]: Done  64 tasks      | elapsed:    3.9s\n",
      "[Parallel(n_jobs=32)]: Done  81 tasks      | elapsed:   11.8s\n",
      "[Parallel(n_jobs=32)]: Done  98 tasks      | elapsed:   13.4s\n",
      "[Parallel(n_jobs=32)]: Done 117 tasks      | elapsed:   20.3s\n",
      "[Parallel(n_jobs=32)]: Done 136 tasks      | elapsed:   28.6s\n",
      "[Parallel(n_jobs=32)]: Done 157 tasks      | elapsed:   42.7s\n",
      "[Parallel(n_jobs=32)]: Done 178 tasks      | elapsed:   54.5s\n",
      "[Parallel(n_jobs=32)]: Done 201 tasks      | elapsed:  1.1min\n",
      "[Parallel(n_jobs=32)]: Done 224 tasks      | elapsed:  1.3min\n",
      "[Parallel(n_jobs=32)]: Done 249 tasks      | elapsed:  1.6min\n",
      "[Parallel(n_jobs=32)]: Done 274 tasks      | elapsed:  1.8min\n",
      "[Parallel(n_jobs=32)]: Done 301 tasks      | elapsed:  2.1min\n",
      "[Parallel(n_jobs=32)]: Done 328 tasks      | elapsed:  2.3min\n",
      "[Parallel(n_jobs=32)]: Done 357 tasks      | elapsed:  2.6min\n",
      "[Parallel(n_jobs=32)]: Done 386 tasks      | elapsed:  2.9min\n",
      "[Parallel(n_jobs=32)]: Done 417 tasks      | elapsed:  3.2min\n",
      "[Parallel(n_jobs=32)]: Done 448 tasks      | elapsed:  3.6min\n",
      "[Parallel(n_jobs=32)]: Done 481 tasks      | elapsed:  3.9min\n",
      "[Parallel(n_jobs=32)]: Done 514 tasks      | elapsed:  4.2min\n",
      "[Parallel(n_jobs=32)]: Done 549 tasks      | elapsed:  4.6min\n",
      "[Parallel(n_jobs=32)]: Done 584 tasks      | elapsed:  4.9min\n",
      "[Parallel(n_jobs=32)]: Done 621 tasks      | elapsed:  5.3min\n",
      "[Parallel(n_jobs=32)]: Done 658 tasks      | elapsed:  5.7min\n",
      "[Parallel(n_jobs=32)]: Done 697 tasks      | elapsed:  6.1min\n",
      "[Parallel(n_jobs=32)]: Done 736 tasks      | elapsed:  6.4min\n",
      "[Parallel(n_jobs=32)]: Done 777 tasks      | elapsed:  6.8min\n",
      "[Parallel(n_jobs=32)]: Done 818 tasks      | elapsed:  7.2min\n",
      "[Parallel(n_jobs=32)]: Done 861 tasks      | elapsed:  7.6min\n",
      "[Parallel(n_jobs=32)]: Done 904 tasks      | elapsed:  8.0min\n",
      "[Parallel(n_jobs=32)]: Done 949 tasks      | elapsed:  8.5min\n",
      "[Parallel(n_jobs=32)]: Done 1024 out of 1024 | elapsed:  9.1min finished\n"
     ]
    }
   ],
   "source": [
    "freq_path = '/n/home01/abeane/starbar/plots/freq/data'\n",
    "\n",
    "name = 'phantom-vacuum-Sg20-Rc3.5'\n",
    "lvl='lvl3'\n",
    "\n",
    "nchunk = len(glob.glob(freq_path + '/freq_' + name + '-' + lvl + '/freq_*'))\n",
    "nproc = 32\n",
    "\n",
    "# Omega_S = np.array([]).reshape((0, 3))\n",
    "snap = np.array([100, 300, 500])\n",
    "print(nchunk)\n",
    "# nchunk = 512\n",
    "\n",
    "out = Parallel(n_jobs=nproc, verbose=10) (delayed(read_chunk)(freq_path, name, lvl, i, snap) for i in tqdm(range(nchunk)))\n",
    "Omega_S = np.concatenate(out)"
   ]
  },
  {
   "cell_type": "code",
   "execution_count": 10,
   "metadata": {},
   "outputs": [
    {
     "name": "stdout",
     "output_type": "stream",
     "text": [
      "1024\n"
     ]
    },
    {
     "data": {
      "application/vnd.jupyter.widget-view+json": {
       "model_id": "4271571f89f640ca87904d3b7031350d",
       "version_major": 2,
       "version_minor": 0
      },
      "text/plain": [
       "A Jupyter Widget"
      ]
     },
     "metadata": {},
     "output_type": "display_data"
    },
    {
     "name": "stderr",
     "output_type": "stream",
     "text": [
      "[Parallel(n_jobs=32)]: Using backend ThreadingBackend with 32 concurrent workers.\n"
     ]
    },
    {
     "ename": "KeyboardInterrupt",
     "evalue": "",
     "output_type": "error",
     "traceback": [
      "\u001b[0;31m---------------------------------------------------------------------------\u001b[0m",
      "\u001b[0;31mKeyboardInterrupt\u001b[0m                         Traceback (most recent call last)",
      "\u001b[0;32m<ipython-input-10-62d4691c21ee>\u001b[0m in \u001b[0;36m<module>\u001b[0;34m()\u001b[0m\n\u001b[1;32m     10\u001b[0m \u001b[0mprint\u001b[0m\u001b[0;34m(\u001b[0m\u001b[0mnchunk\u001b[0m\u001b[0;34m)\u001b[0m\u001b[0;34m\u001b[0m\u001b[0m\n\u001b[1;32m     11\u001b[0m \u001b[0;34m\u001b[0m\u001b[0m\n\u001b[0;32m---> 12\u001b[0;31m \u001b[0mout\u001b[0m \u001b[0;34m=\u001b[0m \u001b[0mParallel\u001b[0m\u001b[0;34m(\u001b[0m\u001b[0mn_jobs\u001b[0m\u001b[0;34m=\u001b[0m\u001b[0mnproc\u001b[0m\u001b[0;34m,\u001b[0m \u001b[0mprefer\u001b[0m\u001b[0;34m=\u001b[0m\u001b[0;34m'threads'\u001b[0m\u001b[0;34m,\u001b[0m \u001b[0mverbose\u001b[0m\u001b[0;34m=\u001b[0m\u001b[0;36m10\u001b[0m\u001b[0;34m)\u001b[0m \u001b[0;34m(\u001b[0m\u001b[0mdelayed\u001b[0m\u001b[0;34m(\u001b[0m\u001b[0mread_chunk\u001b[0m\u001b[0;34m)\u001b[0m\u001b[0;34m(\u001b[0m\u001b[0mfreq_path\u001b[0m\u001b[0;34m,\u001b[0m \u001b[0mname\u001b[0m\u001b[0;34m,\u001b[0m \u001b[0mlvl\u001b[0m\u001b[0;34m,\u001b[0m \u001b[0mi\u001b[0m\u001b[0;34m,\u001b[0m \u001b[0msnap\u001b[0m\u001b[0;34m)\u001b[0m \u001b[0;32mfor\u001b[0m \u001b[0mi\u001b[0m \u001b[0;32min\u001b[0m \u001b[0mtqdm\u001b[0m\u001b[0;34m(\u001b[0m\u001b[0mrange\u001b[0m\u001b[0;34m(\u001b[0m\u001b[0mnchunk\u001b[0m\u001b[0;34m)\u001b[0m\u001b[0;34m)\u001b[0m\u001b[0;34m)\u001b[0m\u001b[0;34m\u001b[0m\u001b[0m\n\u001b[0m\u001b[1;32m     13\u001b[0m \u001b[0mOmega_N\u001b[0m \u001b[0;34m=\u001b[0m \u001b[0mnp\u001b[0m\u001b[0;34m.\u001b[0m\u001b[0mconcatenate\u001b[0m\u001b[0;34m(\u001b[0m\u001b[0mout\u001b[0m\u001b[0;34m)\u001b[0m\u001b[0;34m\u001b[0m\u001b[0m\n",
      "\u001b[0;32m~/.local/lib/python3.6/site-packages/joblib/parallel.py\u001b[0m in \u001b[0;36m__call__\u001b[0;34m(self, iterable)\u001b[0m\n\u001b[1;32m    932\u001b[0m \u001b[0;34m\u001b[0m\u001b[0m\n\u001b[1;32m    933\u001b[0m             \u001b[0;32mwith\u001b[0m \u001b[0mself\u001b[0m\u001b[0;34m.\u001b[0m\u001b[0m_backend\u001b[0m\u001b[0;34m.\u001b[0m\u001b[0mretrieval_context\u001b[0m\u001b[0;34m(\u001b[0m\u001b[0;34m)\u001b[0m\u001b[0;34m:\u001b[0m\u001b[0;34m\u001b[0m\u001b[0m\n\u001b[0;32m--> 934\u001b[0;31m                 \u001b[0mself\u001b[0m\u001b[0;34m.\u001b[0m\u001b[0mretrieve\u001b[0m\u001b[0;34m(\u001b[0m\u001b[0;34m)\u001b[0m\u001b[0;34m\u001b[0m\u001b[0m\n\u001b[0m\u001b[1;32m    935\u001b[0m             \u001b[0;31m# Make sure that we get a last message telling us we are done\u001b[0m\u001b[0;34m\u001b[0m\u001b[0;34m\u001b[0m\u001b[0m\n\u001b[1;32m    936\u001b[0m             \u001b[0melapsed_time\u001b[0m \u001b[0;34m=\u001b[0m \u001b[0mtime\u001b[0m\u001b[0;34m.\u001b[0m\u001b[0mtime\u001b[0m\u001b[0;34m(\u001b[0m\u001b[0;34m)\u001b[0m \u001b[0;34m-\u001b[0m \u001b[0mself\u001b[0m\u001b[0;34m.\u001b[0m\u001b[0m_start_time\u001b[0m\u001b[0;34m\u001b[0m\u001b[0m\n",
      "\u001b[0;32m~/.local/lib/python3.6/site-packages/joblib/parallel.py\u001b[0m in \u001b[0;36mretrieve\u001b[0;34m(self)\u001b[0m\n\u001b[1;32m    831\u001b[0m             \u001b[0;32mtry\u001b[0m\u001b[0;34m:\u001b[0m\u001b[0;34m\u001b[0m\u001b[0m\n\u001b[1;32m    832\u001b[0m                 \u001b[0;32mif\u001b[0m \u001b[0mgetattr\u001b[0m\u001b[0;34m(\u001b[0m\u001b[0mself\u001b[0m\u001b[0;34m.\u001b[0m\u001b[0m_backend\u001b[0m\u001b[0;34m,\u001b[0m \u001b[0;34m'supports_timeout'\u001b[0m\u001b[0;34m,\u001b[0m \u001b[0;32mFalse\u001b[0m\u001b[0;34m)\u001b[0m\u001b[0;34m:\u001b[0m\u001b[0;34m\u001b[0m\u001b[0m\n\u001b[0;32m--> 833\u001b[0;31m                     \u001b[0mself\u001b[0m\u001b[0;34m.\u001b[0m\u001b[0m_output\u001b[0m\u001b[0;34m.\u001b[0m\u001b[0mextend\u001b[0m\u001b[0;34m(\u001b[0m\u001b[0mjob\u001b[0m\u001b[0;34m.\u001b[0m\u001b[0mget\u001b[0m\u001b[0;34m(\u001b[0m\u001b[0mtimeout\u001b[0m\u001b[0;34m=\u001b[0m\u001b[0mself\u001b[0m\u001b[0;34m.\u001b[0m\u001b[0mtimeout\u001b[0m\u001b[0;34m)\u001b[0m\u001b[0;34m)\u001b[0m\u001b[0;34m\u001b[0m\u001b[0m\n\u001b[0m\u001b[1;32m    834\u001b[0m                 \u001b[0;32melse\u001b[0m\u001b[0;34m:\u001b[0m\u001b[0;34m\u001b[0m\u001b[0m\n\u001b[1;32m    835\u001b[0m                     \u001b[0mself\u001b[0m\u001b[0;34m.\u001b[0m\u001b[0m_output\u001b[0m\u001b[0;34m.\u001b[0m\u001b[0mextend\u001b[0m\u001b[0;34m(\u001b[0m\u001b[0mjob\u001b[0m\u001b[0;34m.\u001b[0m\u001b[0mget\u001b[0m\u001b[0;34m(\u001b[0m\u001b[0;34m)\u001b[0m\u001b[0;34m)\u001b[0m\u001b[0;34m\u001b[0m\u001b[0m\n",
      "\u001b[0;32m/n/helmod/apps/centos7/Core/Anaconda3/5.0.1-fasrc02/x/lib/python3.6/multiprocessing/pool.py\u001b[0m in \u001b[0;36mget\u001b[0;34m(self, timeout)\u001b[0m\n\u001b[1;32m    636\u001b[0m \u001b[0;34m\u001b[0m\u001b[0m\n\u001b[1;32m    637\u001b[0m     \u001b[0;32mdef\u001b[0m \u001b[0mget\u001b[0m\u001b[0;34m(\u001b[0m\u001b[0mself\u001b[0m\u001b[0;34m,\u001b[0m \u001b[0mtimeout\u001b[0m\u001b[0;34m=\u001b[0m\u001b[0;32mNone\u001b[0m\u001b[0;34m)\u001b[0m\u001b[0;34m:\u001b[0m\u001b[0;34m\u001b[0m\u001b[0m\n\u001b[0;32m--> 638\u001b[0;31m         \u001b[0mself\u001b[0m\u001b[0;34m.\u001b[0m\u001b[0mwait\u001b[0m\u001b[0;34m(\u001b[0m\u001b[0mtimeout\u001b[0m\u001b[0;34m)\u001b[0m\u001b[0;34m\u001b[0m\u001b[0m\n\u001b[0m\u001b[1;32m    639\u001b[0m         \u001b[0;32mif\u001b[0m \u001b[0;32mnot\u001b[0m \u001b[0mself\u001b[0m\u001b[0;34m.\u001b[0m\u001b[0mready\u001b[0m\u001b[0;34m(\u001b[0m\u001b[0;34m)\u001b[0m\u001b[0;34m:\u001b[0m\u001b[0;34m\u001b[0m\u001b[0m\n\u001b[1;32m    640\u001b[0m             \u001b[0;32mraise\u001b[0m \u001b[0mTimeoutError\u001b[0m\u001b[0;34m\u001b[0m\u001b[0m\n",
      "\u001b[0;32m/n/helmod/apps/centos7/Core/Anaconda3/5.0.1-fasrc02/x/lib/python3.6/multiprocessing/pool.py\u001b[0m in \u001b[0;36mwait\u001b[0;34m(self, timeout)\u001b[0m\n\u001b[1;32m    633\u001b[0m \u001b[0;34m\u001b[0m\u001b[0m\n\u001b[1;32m    634\u001b[0m     \u001b[0;32mdef\u001b[0m \u001b[0mwait\u001b[0m\u001b[0;34m(\u001b[0m\u001b[0mself\u001b[0m\u001b[0;34m,\u001b[0m \u001b[0mtimeout\u001b[0m\u001b[0;34m=\u001b[0m\u001b[0;32mNone\u001b[0m\u001b[0;34m)\u001b[0m\u001b[0;34m:\u001b[0m\u001b[0;34m\u001b[0m\u001b[0m\n\u001b[0;32m--> 635\u001b[0;31m         \u001b[0mself\u001b[0m\u001b[0;34m.\u001b[0m\u001b[0m_event\u001b[0m\u001b[0;34m.\u001b[0m\u001b[0mwait\u001b[0m\u001b[0;34m(\u001b[0m\u001b[0mtimeout\u001b[0m\u001b[0;34m)\u001b[0m\u001b[0;34m\u001b[0m\u001b[0m\n\u001b[0m\u001b[1;32m    636\u001b[0m \u001b[0;34m\u001b[0m\u001b[0m\n\u001b[1;32m    637\u001b[0m     \u001b[0;32mdef\u001b[0m \u001b[0mget\u001b[0m\u001b[0;34m(\u001b[0m\u001b[0mself\u001b[0m\u001b[0;34m,\u001b[0m \u001b[0mtimeout\u001b[0m\u001b[0;34m=\u001b[0m\u001b[0;32mNone\u001b[0m\u001b[0;34m)\u001b[0m\u001b[0;34m:\u001b[0m\u001b[0;34m\u001b[0m\u001b[0m\n",
      "\u001b[0;32m/n/helmod/apps/centos7/Core/Anaconda3/5.0.1-fasrc02/x/lib/python3.6/threading.py\u001b[0m in \u001b[0;36mwait\u001b[0;34m(self, timeout)\u001b[0m\n\u001b[1;32m    549\u001b[0m             \u001b[0msignaled\u001b[0m \u001b[0;34m=\u001b[0m \u001b[0mself\u001b[0m\u001b[0;34m.\u001b[0m\u001b[0m_flag\u001b[0m\u001b[0;34m\u001b[0m\u001b[0m\n\u001b[1;32m    550\u001b[0m             \u001b[0;32mif\u001b[0m \u001b[0;32mnot\u001b[0m \u001b[0msignaled\u001b[0m\u001b[0;34m:\u001b[0m\u001b[0;34m\u001b[0m\u001b[0m\n\u001b[0;32m--> 551\u001b[0;31m                 \u001b[0msignaled\u001b[0m \u001b[0;34m=\u001b[0m \u001b[0mself\u001b[0m\u001b[0;34m.\u001b[0m\u001b[0m_cond\u001b[0m\u001b[0;34m.\u001b[0m\u001b[0mwait\u001b[0m\u001b[0;34m(\u001b[0m\u001b[0mtimeout\u001b[0m\u001b[0;34m)\u001b[0m\u001b[0;34m\u001b[0m\u001b[0m\n\u001b[0m\u001b[1;32m    552\u001b[0m             \u001b[0;32mreturn\u001b[0m \u001b[0msignaled\u001b[0m\u001b[0;34m\u001b[0m\u001b[0m\n\u001b[1;32m    553\u001b[0m \u001b[0;34m\u001b[0m\u001b[0m\n",
      "\u001b[0;32m/n/helmod/apps/centos7/Core/Anaconda3/5.0.1-fasrc02/x/lib/python3.6/threading.py\u001b[0m in \u001b[0;36mwait\u001b[0;34m(self, timeout)\u001b[0m\n\u001b[1;32m    293\u001b[0m         \u001b[0;32mtry\u001b[0m\u001b[0;34m:\u001b[0m    \u001b[0;31m# restore state no matter what (e.g., KeyboardInterrupt)\u001b[0m\u001b[0;34m\u001b[0m\u001b[0m\n\u001b[1;32m    294\u001b[0m             \u001b[0;32mif\u001b[0m \u001b[0mtimeout\u001b[0m \u001b[0;32mis\u001b[0m \u001b[0;32mNone\u001b[0m\u001b[0;34m:\u001b[0m\u001b[0;34m\u001b[0m\u001b[0m\n\u001b[0;32m--> 295\u001b[0;31m                 \u001b[0mwaiter\u001b[0m\u001b[0;34m.\u001b[0m\u001b[0macquire\u001b[0m\u001b[0;34m(\u001b[0m\u001b[0;34m)\u001b[0m\u001b[0;34m\u001b[0m\u001b[0m\n\u001b[0m\u001b[1;32m    296\u001b[0m                 \u001b[0mgotit\u001b[0m \u001b[0;34m=\u001b[0m \u001b[0;32mTrue\u001b[0m\u001b[0;34m\u001b[0m\u001b[0m\n\u001b[1;32m    297\u001b[0m             \u001b[0;32melse\u001b[0m\u001b[0;34m:\u001b[0m\u001b[0;34m\u001b[0m\u001b[0m\n",
      "\u001b[0;31mKeyboardInterrupt\u001b[0m: "
     ]
    }
   ],
   "source": [
    "freq_path = '/n/home01/abeane/starbar/plots/freq/data'\n",
    "\n",
    "name = 'Nbody'\n",
    "lvl='lvl3'\n",
    "\n",
    "nchunk = len(glob.glob(freq_path + '/freq_' + name + '-' + lvl + '/freq_*'))\n",
    "nproc = 32\n",
    "\n",
    "snap = np.array([500, 700, 900])\n",
    "print(nchunk)\n",
    "\n",
    "out = Parallel(n_jobs=nproc, prefer='threads', verbose=10) (delayed(read_chunk)(freq_path, name, lvl, i, snap) for i in tqdm(range(nchunk)))\n",
    "Omega_N = np.concatenate(out)"
   ]
  },
  {
   "cell_type": "code",
   "execution_count": 62,
   "metadata": {},
   "outputs": [
    {
     "name": "stdout",
     "output_type": "stream",
     "text": [
      "3823111\n",
      "3814254\n",
      "3809348\n"
     ]
    },
    {
     "data": {
      "image/png": "[encoded data removed]",
      "text/plain": [
       "<Figure size 864x864 with 6 Axes>"
      ]
     },
     "metadata": {},
     "output_type": "display_data"
    }
   ],
   "source": [
    "# Omega_p = 40.0\n",
    "\n",
    "fig, ax = plt.subplots(3, 2, sharex=True, figsize=(12, 12))\n",
    "\n",
    "rng = (-50, 50)\n",
    "bins = 800\n",
    "\n",
    "for i in range(3):\n",
    "    key = np.where(np.logical_and(Omega_S[:,i,1] > -50, Omega_S[:,i,1] < 50))[0]\n",
    "    print(len(key))\n",
    "\n",
    "ax[0][0].hist(Omega_S[:,0,1], bins=bins, range=rng)\n",
    "ax[1][0].hist(Omega_S[:,1,1], bins=bins, range=rng)\n",
    "ax[2][0].hist(Omega_S[:,2,1], bins=bins, range=rng)\n",
    "\n",
    "ax[0][1].hist(Omega_N[:,0,1], bins=bins, range=rng)\n",
    "ax[1][1].hist(Omega_N[:,1,1], bins=bins, range=rng)\n",
    "ax[2][1].hist(Omega_N[:,2,1], bins=bins, range=rng)\n",
    "\n",
    "for x in ax.ravel():\n",
    "    x.set(xlim=rng, ylim=(0, 20000))\n",
    "\n",
    "plt.show()"
   ]
  },
  {
   "cell_type": "code",
   "execution_count": 81,
   "metadata": {},
   "outputs": [
    {
     "name": "stdout",
     "output_type": "stream",
     "text": [
      "3823111\n",
      "3814254\n",
      "3809348\n"
     ]
    },
    {
     "name": "stderr",
     "output_type": "stream",
     "text": [
      "/n/helmod/apps/centos7/Core/Anaconda3/5.0.1-fasrc02/x/lib/python3.6/site-packages/ipykernel_launcher.py:17: RuntimeWarning: divide by zero encountered in true_divide\n",
      "/n/helmod/apps/centos7/Core/Anaconda3/5.0.1-fasrc02/x/lib/python3.6/site-packages/ipykernel_launcher.py:18: RuntimeWarning: divide by zero encountered in true_divide\n"
     ]
    },
    {
     "data": {
      "image/png": "[encoded data removed]",
      "text/plain": [
       "<Figure size 864x864 with 6 Axes>"
      ]
     },
     "metadata": {},
     "output_type": "display_data"
    }
   ],
   "source": [
    "Omega_p = 40.0\n",
    "\n",
    "#Nbody pattern speeds\n",
    "Omega_p0 = 35\n",
    "Omega_p1 = 30\n",
    "Omega_p2 = 26.5\n",
    "\n",
    "fig, ax = plt.subplots(3, 2, sharex=True, figsize=(12, 12))\n",
    "\n",
    "rng = (-0.8, 0.8)\n",
    "bins = 300\n",
    "\n",
    "for i in range(3):\n",
    "    key = np.where(np.logical_and(Omega_S[:,i,1] > -50, Omega_S[:,i,1] < 50))[0]\n",
    "    print(len(key))\n",
    "    \n",
    "y0 = (Omega_S[:,0,1] - Omega_p)/Omega_S[:,0,0]\n",
    "y1 = (Omega_S[:,1,1] - Omega_p)/Omega_S[:,1,0]\n",
    "y2 = (Omega_S[:,2,1] - Omega_p)/Omega_S[:,2,0]\n",
    "\n",
    "yN0 = (Omega_N[:,0,1] - Omega_p0)/Omega_N[:,0,0]\n",
    "yN1 = (Omega_N[:,1,1] - Omega_p1)/Omega_N[:,1,0]\n",
    "yN2 = (Omega_N[:,2,1] - Omega_p2)/Omega_N[:,2,0]\n",
    "\n",
    "ax[0][0].hist(y0, bins=bins, range=rng)\n",
    "ax[1][0].hist(y1, bins=bins, range=rng)\n",
    "ax[2][0].hist(y2, bins=bins, range=rng)\n",
    "\n",
    "ax[0][1].hist(yN0, bins=bins, range=rng)\n",
    "ax[1][1].hist(yN1, bins=bins, range=rng)\n",
    "ax[2][1].hist(yN2, bins=bins, range=rng)\n",
    "\n",
    "# ax[0][1].hist(Omega_N[:,0,1], bins=bins, range=rng)\n",
    "# ax[1][1].hist(Omega_N[:,1,1], bins=bins, range=rng)\n",
    "# ax[2][1].hist(Omega_N[:,2,1], bins=bins, range=rng)\n",
    "\n",
    "for x in ax.ravel():\n",
    "    x.set(xlim=rng)\n",
    "\n",
    "plt.show()"
   ]
  },
  {
   "cell_type": "code",
   "execution_count": 61,
   "metadata": {},
   "outputs": [
    {
     "data": {
      "text/plain": [
       "12674048"
      ]
     },
     "execution_count": 61,
     "metadata": {},
     "output_type": "execute_result"
    }
   ],
   "source": [
    "len(Omega_S[:,i,1])"
   ]
  },
  {
   "cell_type": "code",
   "execution_count": 22,
   "metadata": {
    "collapsed": true
   },
   "outputs": [],
   "source": [
    "sn0 = read_snap(500, 0, parttype=[1])\n",
    "sn1 = read_snap(700, 0, parttype=[1])\n",
    "\n",
    "key0 = np.argsort(sn0.part1.id)\n",
    "key1 = np.argsort(sn1.part1.id)\n",
    "\n",
    "pos0 = sn0.part1.pos.value[key0]\n",
    "pos1 = sn1.part1.pos.value[key1]\n",
    "\n",
    "vel0 = sn0.part1.vel.value[key0]\n",
    "vel1 = sn1.part1.vel.value[key1]\n",
    "\n",
    "mass = sn0.MassTable[1].value\n",
    "\n",
    "Lz0 = mass * np.cross(pos0, vel0)[:,2]\n",
    "Lz1 = mass * np.cross(pos1, vel1)[:,2]\n",
    "dLzN = Lz1 - Lz0"
   ]
  },
  {
   "cell_type": "code",
   "execution_count": 108,
   "metadata": {},
   "outputs": [
    {
     "data": {
      "image/png": "[encoded data removed]",
      "text/plain": [
       "<Figure size 288x576 with 2 Axes>"
      ]
     },
     "metadata": {},
     "output_type": "display_data"
    }
   ],
   "source": [
    "Omega_p = 40.0\n",
    "\n",
    "#Nbody pattern speeds\n",
    "Omega_p0 = 35\n",
    "Omega_p1 = 30\n",
    "Omega_p2 = 26.5\n",
    "\n",
    "fig, ax = plt.subplots(2, 1, sharex=True, figsize=(4, 8))\n",
    "    \n",
    "yN0 = (-Omega_N[:,0,1] - Omega_p0)/Omega_N[:,0,0]\n",
    "rng = (-0.8, 0.8)\n",
    "bins=100\n",
    "bin_width = (rng[1]-rng[0])/bins\n",
    "\n",
    "# yN0 = Omega_N[:,0,1]\n",
    "# rng = (-50, 50)\n",
    "\n",
    "ax[0].hist(yN0, bins=bins, range=rng)\n",
    "ax[1].hist(yN0, bins=bins, range=rng, weights=dLzN/bin_width)\n",
    "\n",
    "for x in ax.ravel():\n",
    "    x.set(xlim=rng)\n",
    "\n",
    "plt.show()"
   ]
  },
  {
   "cell_type": "code",
   "execution_count": 104,
   "metadata": {},
   "outputs": [
    {
     "data": {
      "text/plain": [
       "66.24580052750066"
      ]
     },
     "execution_count": 104,
     "metadata": {},
     "output_type": "execute_result"
    }
   ],
   "source": [
    "np.sum(dLzN[np.logical_and(yN0>-0.8, yN0 < 0.8)])"
   ]
  },
  {
   "cell_type": "code",
   "execution_count": 105,
   "metadata": {},
   "outputs": [
    {
     "data": {
      "text/plain": [
       "array([-1.94599360e-04,  1.07030479e-04, -1.78422594e-05, ...,\n",
       "        3.23821900e-03,  1.12177378e-04,  5.11774196e-04])"
      ]
     },
     "execution_count": 105,
     "metadata": {},
     "output_type": "execute_result"
    }
   ],
   "source": [
    "dLzN[np.logical_and(yN0>-0.8, yN0 < 0.8)]"
   ]
  },
  {
   "cell_type": "code",
   "execution_count": 28,
   "metadata": {
    "collapsed": true
   },
   "outputs": [],
   "source": [
    "sn0 = read_snap(500, 1, parttype=[1])\n",
    "sn1 = read_snap(700, 1, parttype=[1])\n",
    "\n",
    "center = np.array([200., 200., 200.])\n",
    "\n",
    "key0 = np.argsort(sn0.part1.id)\n",
    "key1 = np.argsort(sn1.part1.id)\n",
    "\n",
    "pos0 = sn0.part1.pos.value[key0] - center\n",
    "pos1 = sn1.part1.pos.value[key1] - center\n",
    "\n",
    "vel0 = sn0.part1.vel.value[key0]\n",
    "vel1 = sn1.part1.vel.value[key1]\n",
    "\n",
    "mass = sn0.MassTable[1].value\n",
    "\n",
    "Lz0 = mass * np.cross(pos0, vel0)[:,2]\n",
    "Lz1 = mass * np.cross(pos1, vel1)[:,2]\n",
    "dLz2 = Lz1 - Lz0\n",
    "\n",
    "\n",
    "\n",
    "sn0 = read_snap(100, 1, parttype=[1])\n",
    "sn1 = read_snap(300, 1, parttype=[1])\n",
    "\n",
    "center = np.array([200., 200., 200.])\n",
    "\n",
    "key0 = np.argsort(sn0.part1.id)\n",
    "key1 = np.argsort(sn1.part1.id)\n",
    "\n",
    "pos0 = sn0.part1.pos.value[key0] - center\n",
    "pos1 = sn1.part1.pos.value[key1] - center\n",
    "\n",
    "vel0 = sn0.part1.vel.value[key0]\n",
    "vel1 = sn1.part1.vel.value[key1]\n",
    "\n",
    "mass = sn0.MassTable[1].value\n",
    "\n",
    "Lz0 = mass * np.cross(pos0, vel0)[:,2]\n",
    "Lz1 = mass * np.cross(pos1, vel1)[:,2]\n",
    "dLz0 = Lz1 - Lz0"
   ]
  },
  {
   "cell_type": "code",
   "execution_count": 43,
   "metadata": {},
   "outputs": [
    {
     "name": "stderr",
     "output_type": "stream",
     "text": [
      "/n/helmod/apps/centos7/Core/Anaconda3/5.0.1-fasrc02/x/lib/python3.6/site-packages/ipykernel_launcher.py:12: RuntimeWarning: divide by zero encountered in true_divide\n",
      "  if sys.path[0] == '':\n"
     ]
    },
    {
     "data": {
      "image/png": "[encoded data removed]",
      "text/plain": [
       "<Figure size 576x576 with 4 Axes>"
      ]
     },
     "metadata": {},
     "output_type": "display_data"
    }
   ],
   "source": [
    "Omega_p = 40.0\n",
    "\n",
    "#Nbody pattern speeds\n",
    "Omega_p0 = 35\n",
    "Omega_p1 = 30\n",
    "Omega_p2 = 26.5\n",
    "\n",
    "fig, ax = plt.subplots(2, 2, sharex=True, figsize=(8, 8))\n",
    "    \n",
    "i=0\n",
    "bins=100\n",
    "y0 = (-Omega_S[:,0,1] - Omega_p)/Omega_S[:,0,0]\n",
    "y2 = (-Omega_S[:,2,1] - Omega_p)/Omega_S[:,2,0]\n",
    "rng = (-0.8, 0.8)\n",
    "bin_width = (rng[1]-rng[0])/bins\n",
    "\n",
    "# yN0 = Omega_N[:,0,1]\n",
    "# rng = (-50, 50)\n",
    "\n",
    "ax[0][0].hist(y0, bins=bins, range=rng)\n",
    "ax[1][0].hist(y0, bins=bins, range=rng, weights=dLz0/bin_width)\n",
    "\n",
    "ax[0][1].hist(y2, bins=bins, range=rng)\n",
    "ax[1][1].hist(y2, bins=bins, range=rng, weights=dLz2/bin_width)\n",
    "\n",
    "ax[1][0].set(ylim=(-40, 240))\n",
    "ax[1][1].set(ylim=(-40, 240))\n",
    "\n",
    "for x in ax.ravel():\n",
    "    x.set(xlim=rng)\n",
    "\n",
    "plt.show()"
   ]
  },
  {
   "cell_type": "code",
   "execution_count": 45,
   "metadata": {},
   "outputs": [
    {
     "name": "stderr",
     "output_type": "stream",
     "text": [
      "/n/helmod/apps/centos7/Core/Anaconda3/5.0.1-fasrc02/x/lib/python3.6/site-packages/ipykernel_launcher.py:9: RuntimeWarning: divide by zero encountered in true_divide\n",
      "  if __name__ == '__main__':\n",
      "/n/helmod/apps/centos7/Core/Anaconda3/5.0.1-fasrc02/x/lib/python3.6/site-packages/ipykernel_launcher.py:9: RuntimeWarning: invalid value encountered in true_divide\n",
      "  if __name__ == '__main__':\n"
     ]
    },
    {
     "name": "stdout",
     "output_type": "stream",
     "text": [
      "(25347840,) (25347840,)\n"
     ]
    },
    {
     "data": {
      "image/png": "[encoded data removed]",
      "text/plain": [
       "<Figure size 432x288 with 2 Axes>"
      ]
     },
     "metadata": {},
     "output_type": "display_data"
    }
   ],
   "source": [
    "from scipy.ndimage import gaussian_filter\n",
    "nres = 64\n",
    "\n",
    "range_xy = [[-60, 60], [0, 4]]\n",
    "\n",
    "i=0\n",
    "\n",
    "x = Omega_S[:,i,1]\n",
    "y = Omega_S[:,i,0]/np.abs(Omega_S[:,i,1])\n",
    "print(np.shape(x), np.shape(y))\n",
    "\n",
    "bin_area = ((range_xy[0][1]-range_xy[0][0])*(range_xy[1][1]-range_xy[1][0]))/nres/nres\n",
    "\n",
    "heatmap_xy, _, _ = np.histogram2d(x, y, bins=(nres, nres), range=range_xy, weights=dLz0/bin_area)\n",
    "\n",
    "extent = [range_xy[0][0], range_xy[0][1], range_xy[1][0], range_xy[1][1]]\n",
    "\n",
    "# heatmap_xy = gaussian_filter(heatmap_xy, sigma=0.1)\n",
    "\n",
    "fig, ax = plt.subplots(1, 1)\n",
    "\n",
    "# heatmap_xy[heatmap_xy==0.0] = 0.1\n",
    "\n",
    "im = ax.imshow(heatmap_xy.T, extent=extent, origin='lower', cmap='bwr', vmin=-10, vmax=10)\n",
    "ax.set_aspect('auto')\n",
    "fig.colorbar(im, ax=ax)\n",
    "fig.tight_layout()\n",
    "\n",
    "plt.show()\n"
   ]
  },
  {
   "cell_type": "code",
   "execution_count": 48,
   "metadata": {},
   "outputs": [
    {
     "name": "stderr",
     "output_type": "stream",
     "text": [
      "/n/helmod/apps/centos7/Core/Anaconda3/5.0.1-fasrc02/x/lib/python3.6/site-packages/ipykernel_launcher.py:8: RuntimeWarning: divide by zero encountered in true_divide\n",
      "  \n"
     ]
    },
    {
     "name": "stdout",
     "output_type": "stream",
     "text": [
      "(25347840,) (25347840,)\n"
     ]
    },
    {
     "data": {
      "image/png": "[encoded data removed]",
      "text/plain": [
       "<Figure size 432x288 with 2 Axes>"
      ]
     },
     "metadata": {},
     "output_type": "display_data"
    }
   ],
   "source": [
    "from scipy.ndimage import gaussian_filter\n",
    "nres = 64\n",
    "\n",
    "range_xy = [[-1.5, 1], [0, 80]]\n",
    "\n",
    "i=0\n",
    "\n",
    "x = (-Omega_S[:,0,1] - Omega_p)/Omega_S[:,0,0]\n",
    "y = Omega_S[:,i,2]\n",
    "print(np.shape(x), np.shape(y))\n",
    "\n",
    "bin_area = ((range_xy[0][1]-range_xy[0][0])*(range_xy[1][1]-range_xy[1][0]))/nres/nres\n",
    "\n",
    "heatmap_xy, _, _ = np.histogram2d(x, y, bins=(nres, nres), range=range_xy, weights=dLz0/bin_area)\n",
    "\n",
    "extent = [range_xy[0][0], range_xy[0][1], range_xy[1][0], range_xy[1][1]]\n",
    "\n",
    "# heatmap_xy = gaussian_filter(heatmap_xy, sigma=0.1)\n",
    "\n",
    "fig, ax = plt.subplots(1, 1)\n",
    "\n",
    "# heatmap_xy[heatmap_xy==0.0] = 0.1\n",
    "\n",
    "im = ax.imshow(heatmap_xy.T, extent=extent, origin='lower', cmap='bwr', vmin=-10, vmax=10)\n",
    "ax.set_aspect('auto')\n",
    "fig.colorbar(im, ax=ax)\n",
    "fig.tight_layout()\n",
    "\n",
    "plt.show()\n"
   ]
  },
  {
   "cell_type": "code",
   "execution_count": 23,
   "metadata": {},
   "outputs": [
    {
     "name": "stdout",
     "output_type": "stream",
     "text": [
      "85.0861087204858\n"
     ]
    }
   ],
   "source": [
    "print(np.sum(dLzN))"
   ]
  },
  {
   "cell_type": "markdown",
   "metadata": {
    "collapsed": true
   },
   "source": [
    "## Fourier Transform"
   ]
  },
  {
   "cell_type": "code",
   "execution_count": 3,
   "metadata": {
    "collapsed": true
   },
   "outputs": [],
   "source": [
    "import glob\n",
    "\n",
    "name = 'phantom-vacuum-Sg20-Rc3.5'\n",
    "lvl = 'lvl3'\n",
    "\n",
    "phase_space_path = '/n/home01/abeane/starbar/plots/phase_space/data'\n",
    "nchunk = len(glob.glob(phase_space_path + '/' + name + '-' + lvl + '/phase_space_*'))\n",
    "\n",
    "i = 0\n",
    "ps = h5.File(phase_space_path + '/' + name + '-' + lvl + '/phase_space_' + name + '-' + lvl + '.' + \\\n",
    "             str(i)+'.hdf5', mode='r')"
   ]
  },
  {
   "cell_type": "code",
   "execution_count": 59,
   "metadata": {
    "collapsed": true
   },
   "outputs": [],
   "source": [
    "pos_bar, vel_bar, mass_bar, pos_halo, vel_halo, mass_halo = \\\n",
    "        get_pos_vel_mass_halo_bulge(snS, gas=True, center=np.array([200., 200., 200.]))"
   ]
  },
  {
   "cell_type": "code",
   "execution_count": 4,
   "metadata": {
    "collapsed": true
   },
   "outputs": [],
   "source": [
    "j = 1001\n",
    "center = np.array([200., 200., 200.])\n",
    "pos = ps['PartType2']['Coordinates'][:,:,:] - center\n",
    "vel = ps['PartType2']['Velocities'][:,:,:]\n",
    "w = np.hstack((pos, vel))"
   ]
  },
  {
   "cell_type": "code",
   "execution_count": 60,
   "metadata": {
    "collapsed": true
   },
   "outputs": [],
   "source": [
    "pot_halo_S = agama.Potential(type=\"Multipole\", particles=(pos_halo, mass_halo),\n",
    "                           symmetry='a', gridsizeR=20, lmax=2)\n",
    "\n",
    "pot_bar_S  = agama.Potential(type=\"CylSpline\", particles=(pos_bar, mass_bar),\n",
    "                          symmetry='a', gridsizer=20, gridsizez=20,\n",
    "                          mmax=0, Rmin=0.2, Rmax=50, Zmin=0.02, Zmax=10)\n",
    "\n",
    "pot_tot_S = agama.Potential(pot_halo_S, pot_bar_S)"
   ]
  },
  {
   "cell_type": "code",
   "execution_count": 5,
   "metadata": {
    "collapsed": true
   },
   "outputs": [],
   "source": [
    "R = np.linalg.norm(w[:,:,:2], axis=2)\n",
    "phi = np.arctan2(w[:,:,1], w[:,:,0])\n",
    "z = w[:,:,2]\n",
    "\n",
    "# vR = \n"
   ]
  },
  {
   "cell_type": "code",
   "execution_count": 6,
   "metadata": {},
   "outputs": [
    {
     "name": "stdout",
     "output_type": "stream",
     "text": [
      "0.0050031269543464665\n"
     ]
    }
   ],
   "source": [
    "time = ps['Time'][:]\n",
    "dt = (time[-1]-time[0])/(len(time)-1)\n",
    "print(dt)"
   ]
  },
  {
   "cell_type": "code",
   "execution_count": 7,
   "metadata": {},
   "outputs": [
    {
     "name": "stdout",
     "output_type": "stream",
     "text": [
      "400\n"
     ]
    }
   ],
   "source": [
    "start = 400\n",
    "end = 1200\n",
    "\n",
    "ftR = np.fft.rfft(R[start:end,:], axis=0)\n",
    "k = np.fft.rfftfreq(len(R[start:end,:]), dt)\n",
    "print(len(R[600:1000,:]))\n",
    "PR = np.abs(ftR)**2"
   ]
  },
  {
   "cell_type": "code",
   "execution_count": 8,
   "metadata": {},
   "outputs": [
    {
     "data": {
      "text/plain": [
       "(401, 12588)"
      ]
     },
     "execution_count": 8,
     "metadata": {},
     "output_type": "execute_result"
    }
   ],
   "source": [
    "ftR.shape"
   ]
  },
  {
   "cell_type": "code",
   "execution_count": 9,
   "metadata": {},
   "outputs": [
    {
     "data": {
      "text/plain": [
       "(401,)"
      ]
     },
     "execution_count": 9,
     "metadata": {},
     "output_type": "execute_result"
    }
   ],
   "source": [
    "k.shape"
   ]
  },
  {
   "cell_type": "code",
   "execution_count": 10,
   "metadata": {},
   "outputs": [
    {
     "data": {
      "text/plain": [
       "(51,)"
      ]
     },
     "execution_count": 10,
     "metadata": {},
     "output_type": "execute_result"
    }
   ],
   "source": [
    "np.fft.rfftfreq(100).shape"
   ]
  },
  {
   "cell_type": "code",
   "execution_count": 11,
   "metadata": {
    "collapsed": true
   },
   "outputs": [],
   "source": [
    "freq = k[np.argsort(PR, axis=0)[-2]]"
   ]
  },
  {
   "cell_type": "code",
   "execution_count": 12,
   "metadata": {},
   "outputs": [
    {
     "data": {
      "image/png": "[encoded data removed]",
      "text/plain": [
       "<Figure size 432x288 with 1 Axes>"
      ]
     },
     "metadata": {},
     "output_type": "display_data"
    }
   ],
   "source": [
    "plt.hist(freq, bins=100, range=(30, 50))\n",
    "plt.show()"
   ]
  },
  {
   "cell_type": "code",
   "execution_count": 45,
   "metadata": {},
   "outputs": [
    {
     "data": {
      "image/png": "[encoded data removed]",
      "text/plain": [
       "<Figure size 432x288 with 1 Axes>"
      ]
     },
     "metadata": {},
     "output_type": "display_data"
    }
   ],
   "source": [
    "plt.plot(k, PR[:,0])\n",
    "plt.yscale('log')\n",
    "plt.xscale('log')\n",
    "plt.show()"
   ]
  },
  {
   "cell_type": "code",
   "execution_count": 14,
   "metadata": {
    "collapsed": true
   },
   "outputs": [],
   "source": [
    "ftphi = np.fft.rfft(phi[start:end], axis=0)\n",
    "k = np.fft.rfftfreq(len(phi[start:end]), dt)\n",
    "Pphi = np.abs(ftphi)**2"
   ]
  },
  {
   "cell_type": "code",
   "execution_count": 50,
   "metadata": {},
   "outputs": [
    {
     "data": {
      "text/plain": [
       "54.965625"
      ]
     },
     "execution_count": 50,
     "metadata": {},
     "output_type": "execute_result"
    }
   ],
   "source": [
    "freq_phi = k[np.argsort(Pphi, axis=0)[-2]]\n",
    "freq_phi[5]"
   ]
  },
  {
   "cell_type": "code",
   "execution_count": 52,
   "metadata": {},
   "outputs": [
    {
     "data": {
      "image/png": "[encoded data removed]",
      "text/plain": [
       "<Figure size 432x288 with 1 Axes>"
      ]
     },
     "metadata": {},
     "output_type": "display_data"
    }
   ],
   "source": [
    "plt.hist(2.*np.pi*freq_phi, bins=50, range=(0, 80))\n",
    "plt.yscale('log')\n",
    "# plt.xscale('log')\n",
    "plt.show()"
   ]
  },
  {
   "cell_type": "code",
   "execution_count": 54,
   "metadata": {},
   "outputs": [
    {
     "data": {
      "image/png": "[encoded data removed]",
      "text/plain": [
       "<Figure size 432x288 with 1 Axes>"
      ]
     },
     "metadata": {},
     "output_type": "display_data"
    }
   ],
   "source": [
    "plt.hist(freq_phi - 0.5 * freq, bins=100, range=(-20, 50))\n",
    "plt.yscale('log')\n",
    "plt.xscale('log')\n",
    "plt.show()"
   ]
  },
  {
   "cell_type": "code",
   "execution_count": 18,
   "metadata": {},
   "outputs": [
    {
     "name": "stderr",
     "output_type": "stream",
     "text": [
      "/n/helmod/apps/centos7/Core/Anaconda3/5.0.1-fasrc02/x/lib/python3.6/site-packages/ipykernel_launcher.py:1: RuntimeWarning: divide by zero encountered in true_divide\n",
      "  \"\"\"Entry point for launching an IPython kernel.\n"
     ]
    },
    {
     "data": {
      "image/png": "[encoded data removed]",
      "text/plain": [
       "<Figure size 432x288 with 1 Axes>"
      ]
     },
     "metadata": {},
     "output_type": "display_data"
    }
   ],
   "source": [
    "plt.hist(freq/freq_phi, range=(0, 3))\n",
    "plt.show()"
   ]
  },
  {
   "cell_type": "code",
   "execution_count": 19,
   "metadata": {},
   "outputs": [
    {
     "name": "stderr",
     "output_type": "stream",
     "text": [
      "/n/helmod/apps/centos7/Core/Anaconda3/5.0.1-fasrc02/x/lib/python3.6/site-packages/ipykernel_launcher.py:7: RuntimeWarning: divide by zero encountered in true_divide\n",
      "  import sys\n"
     ]
    },
    {
     "data": {
      "image/png": "[encoded data removed]",
      "text/plain": [
       "<Figure size 432x288 with 2 Axes>"
      ]
     },
     "metadata": {},
     "output_type": "display_data"
    }
   ],
   "source": [
    "from scipy.ndimage import gaussian_filter\n",
    "nres = 64\n",
    "\n",
    "range_xy = [[0, 100], [0, 4]]\n",
    "\n",
    "x = 2.*np.pi*freq_phi\n",
    "y = freq/freq_phi\n",
    "heatmap_xy, _, _ = np.histogram2d(x, y, bins=(nres, nres), range=range_xy)\n",
    "\n",
    "extent = [range_xy[0][0], range_xy[0][1], range_xy[1][0], range_xy[1][1]]\n",
    "\n",
    "# heatmap_xy = gaussian_filter(heatmap_xy, sigma=0.1)\n",
    "\n",
    "fig, ax = plt.subplots(1, 1)\n",
    "\n",
    "# heatmap_xy[heatmap_xy==0.0] = 0.1\n",
    "\n",
    "im = ax.imshow(heatmap_xy.T, extent=extent, origin='lower', norm=mpl.colors.LogNorm())\n",
    "ax.set_aspect('auto')\n",
    "fig.colorbar(im, ax=ax)\n",
    "fig.tight_layout()\n",
    "\n",
    "plt.show()\n"
   ]
  },
  {
   "cell_type": "code",
   "execution_count": null,
   "metadata": {
    "collapsed": true
   },
   "outputs": [],
   "source": [
    "k[161]"
   ]
  },
  {
   "cell_type": "code",
   "execution_count": null,
   "metadata": {
    "collapsed": true
   },
   "outputs": [],
   "source": [
    "np.max(heatmap_xy)"
   ]
  },
  {
   "cell_type": "code",
   "execution_count": null,
   "metadata": {
    "collapsed": true
   },
   "outputs": [],
   "source": [
    "phi_bool = np.abs(2.*np.pi*freq_phi - 40.1) < 0.75\n",
    "R_bool = (freq/freq_phi - 1.5) < 0.01\n",
    "\n",
    "key = np.where(np.logical_and(phi_bool, R_bool))[0]\n",
    "print(len(key))"
   ]
  },
  {
   "cell_type": "code",
   "execution_count": null,
   "metadata": {
    "collapsed": true
   },
   "outputs": [],
   "source": [
    "from scipy.ndimage import gaussian_filter\n",
    "nres = 64\n",
    "\n",
    "range_xy = [[-10,10], [-10,10]]\n",
    "\n",
    "x = w[800,:,0][key]\n",
    "y = w[800,:,1][key]\n",
    "heatmap_xy, _, _ = np.histogram2d(x, y, bins=(nres, nres), range=range_xy)\n",
    "\n",
    "extent = [range_xy[0][0], range_xy[0][1], range_xy[1][0], range_xy[1][1]]\n",
    "\n",
    "# heatmap_xy = gaussian_filter(heatmap_xy, sigma=0.1)\n",
    "\n",
    "fig, ax = plt.subplots(1, 1)\n",
    "\n",
    "# heatmap_xy[heatmap_xy==0.0] = 0.1\n",
    "\n",
    "im = ax.imshow(heatmap_xy.T, extent=extent, origin='lower', norm=mpl.colors.LogNorm())\n",
    "ax.set_aspect('auto')\n",
    "fig.colorbar(im, ax=ax)\n",
    "fig.tight_layout()\n",
    "\n",
    "plt.show()\n"
   ]
  },
  {
   "cell_type": "code",
   "execution_count": 306,
   "metadata": {
    "collapsed": true
   },
   "outputs": [],
   "source": [
    "import glob\n",
    "\n",
    "name = 'Nbody'\n",
    "lvl = 'lvl3'\n",
    "\n",
    "phase_space_path = '/n/home01/abeane/starbar/plots/phase_space/data'\n",
    "nchunk = len(glob.glob(phase_space_path + '/' + name + '-' + lvl + '/phase_space_*'))\n",
    "\n",
    "i = 0\n",
    "psN = h5.File(phase_space_path + '/' + name + '-' + lvl + '/phase_space_' + name + '-' + lvl + '.' + \\\n",
    "             str(i)+'.hdf5', mode='r')"
   ]
  },
  {
   "cell_type": "code",
   "execution_count": 307,
   "metadata": {
    "collapsed": true
   },
   "outputs": [],
   "source": [
    "j = 1001\n",
    "center = np.array([0., 0., 0.])\n",
    "posN = ps['PartType1']['Coordinates'][:,:,:] - center\n",
    "velN = ps['PartType1']['Velocities'][:,:,:]\n",
    "wN = np.hstack((posN, velN))"
   ]
  },
  {
   "cell_type": "code",
   "execution_count": 397,
   "metadata": {
    "collapsed": true
   },
   "outputs": [],
   "source": [
    "def read_chunk(freq_path, name, lvl, i, center=np.array([200., 200., 200.])):\n",
    "    ps = h5.File(freq_path + '/' + name + '-' + lvl + '/phase_space_' + name + '-' + lvl + '.' + \\\n",
    "             str(i)+'.hdf5', mode='r')\n",
    "    pos = np.array(ps['PartType2/Coordinates']) - center\n",
    "    vel = np.array(ps['PartType2/Velocities'])\n",
    "    w = np.hstack((pos, vel))\n",
    "    return w"
   ]
  },
  {
   "cell_type": "code",
   "execution_count": null,
   "metadata": {},
   "outputs": [
    {
     "data": {
      "application/vnd.jupyter.widget-view+json": {
       "model_id": "499d4fb1ae7241ceae06db1cf3dc7b96",
       "version_major": 2,
       "version_minor": 0
      },
      "text/plain": [
       "A Jupyter Widget"
      ]
     },
     "metadata": {},
     "output_type": "display_data"
    }
   ],
   "source": [
    "phase_space_path = '/n/home01/abeane/starbar/plots/phase_space/data'\n",
    "\n",
    "name = 'phantom-vacuum-Sg20-Rc3.5'\n",
    "lvl='lvl3'\n",
    "\n",
    "nchunk = len(glob.glob(phase_space_path + '/' + name + '-' + lvl + '/phase_space_*'))\n",
    "nchunk = 64\n",
    "nproc = 32\n",
    "\n",
    "# out = Parallel(n_jobs=nproc) (delayed(read_chunk)(phase_space_path, name, lvl, i) for i in tqdm(range(nchunk)))\n",
    "out = [read_chunk(phase_space_path, name, lvl, i) for i in tqdm(range(nchunk))]\n",
    "w = np.concatenate(out)"
   ]
  },
  {
   "cell_type": "markdown",
   "metadata": {
    "collapsed": true
   },
   "source": [
    "## FT Analysis"
   ]
  },
  {
   "cell_type": "code",
   "execution_count": 28,
   "metadata": {
    "collapsed": true
   },
   "outputs": [],
   "source": [
    "def read_chunk(freq_path, name, lvl, i, snap):\n",
    "    frq = h5.File(freq_path + '/freq_' + name + '-' + lvl + '/freq_' + name + '-' + lvl + '.' + \\\n",
    "             str(i)+'.hdf5', mode='r')\n",
    "    omegaR = np.array(frq['PartType1/OmegaR'])\n",
    "    omegaPhi = np.array(frq['PartType1/OmegaPhi'])\n",
    "    omegaZ = np.array(frq['PartType1/OmegaZ'])\n",
    "    ans = np.transpose([omegaR, omegaPhi, omegaZ])\n",
    "    \n",
    "    frq.close()\n",
    "    return ans"
   ]
  },
  {
   "cell_type": "code",
   "execution_count": 30,
   "metadata": {},
   "outputs": [
    {
     "name": "stdout",
     "output_type": "stream",
     "text": [
      "512\n"
     ]
    },
    {
     "data": {
      "application/vnd.jupyter.widget-view+json": {
       "model_id": "b45ff5f77ae445ceab7782de56687f12",
       "version_major": 2,
       "version_minor": 0
      },
      "text/plain": [
       "A Jupyter Widget"
      ]
     },
     "metadata": {},
     "output_type": "display_data"
    }
   ],
   "source": [
    "freq_path = '/n/home01/abeane/starbar/plots/freq2/data'\n",
    "\n",
    "name = 'Nbody'\n",
    "lvl='lvl4'\n",
    "\n",
    "nchunk = len(glob.glob(freq_path + '/freq_' + name + '-' + lvl + '/freq_*'))\n",
    "nproc = 32\n",
    "\n",
    "snap = 500\n",
    "print(nchunk)\n",
    "\n",
    "out = Parallel(n_jobs=nproc) (delayed(read_chunk)(freq_path, name, lvl, i, snap) for i in tqdm(range(nchunk)))\n",
    "Omega_N = np.concatenate(out)"
   ]
  },
  {
   "cell_type": "code",
   "execution_count": 55,
   "metadata": {},
   "outputs": [
    {
     "data": {
      "text/plain": [
       "array([1., 3., 1., 3., 1., 1., 2., 2., 3., 2., 3., 2., 2., 0., 1., 2., 1.,\n",
       "       1., 2., 1., 1., 1., 1., 1., 1., 1., 1., 1., 1.])"
      ]
     },
     "execution_count": 55,
     "metadata": {},
     "output_type": "execute_result"
    }
   ],
   "source": [
    "Omega_N[1,:,2]"
   ]
  },
  {
   "cell_type": "code",
   "execution_count": 56,
   "metadata": {
    "collapsed": true
   },
   "outputs": [],
   "source": [
    "i = 0\n",
    "frq = h5.File(freq_path + '/freq_' + name + '-' + lvl + '/freq_' + name + '-' + lvl + '.' + \\\n",
    "             str(i)+'.hdf5', mode='r')"
   ]
  },
  {
   "cell_type": "code",
   "execution_count": 76,
   "metadata": {},
   "outputs": [
    {
     "data": {
      "text/plain": [
       "array([1., 0., 1., 1., 0., 0., 1., 1., 1., 0., 2., 1., 2., 2., 2., 2., 2.,\n",
       "       0., 0., 1., 0., 0., 1., 1., 1., 0., 2., 1., 2.])"
      ]
     },
     "execution_count": 76,
     "metadata": {},
     "output_type": "execute_result"
    }
   ],
   "source": [
    "frq['PartType1/OmegaPhi'][:,27]"
   ]
  },
  {
   "cell_type": "code",
   "execution_count": 84,
   "metadata": {},
   "outputs": [
    {
     "data": {
      "image/png": "[encoded data removed]",
      "text/plain": [
       "<Figure size 432x288 with 1 Axes>"
      ]
     },
     "metadata": {},
     "output_type": "display_data"
    }
   ],
   "source": [
    "plt.hist(2.*np.pi*Omega_N[:,15,1], range=(0, 60), bins=20)\n",
    "plt.show()"
   ]
  },
  {
   "cell_type": "code",
   "execution_count": 87,
   "metadata": {},
   "outputs": [
    {
     "data": {
      "text/plain": [
       "array([  0.        ,   3.14159265,   6.28318531,   9.42477796,\n",
       "        12.56637061,  15.70796327,  18.84955592,  21.99114858,\n",
       "        25.13274123,  28.27433388,  31.41592654,  34.55751919,\n",
       "        37.69911184,  40.8407045 ,  43.98229715,  47.1238898 ,\n",
       "        50.26548246,  53.40707511,  56.54866776,  59.69026042,\n",
       "        62.83185307,  65.97344573,  69.11503838,  72.25663103,\n",
       "        75.39822369,  78.53981634,  81.68140899,  84.82300165,\n",
       "        87.9645943 ,  91.10618695,  94.24777961,  97.38937226,\n",
       "       100.53096491, 103.67255757, 106.81415022, 109.95574288,\n",
       "       113.09733553, 116.23892818, 119.38052084, 122.52211349,\n",
       "       125.66370614, 128.8052988 , 131.94689145, 135.0884841 ,\n",
       "       138.23007676, 141.37166941, 144.51326207, 147.65485472,\n",
       "       150.79644737, 153.93804003, 157.07963268, 160.22122533,\n",
       "       163.36281799, 166.50441064, 169.64600329, 172.78759595,\n",
       "       175.9291886 , 179.07078125, 182.21237391, 185.35396656,\n",
       "       188.49555922, 191.63715187, 194.77874452, 197.92033718,\n",
       "       201.06192983, 204.20352248, 207.34511514, 210.48670779,\n",
       "       213.62830044, 216.7698931 , 219.91148575, 223.0530784 ,\n",
       "       226.19467106, 229.33626371, 232.47785637, 235.61944902,\n",
       "       238.76104167, 241.90263433, 245.04422698, 248.18581963,\n",
       "       251.32741229, 254.46900494, 257.61059759, 260.75219025,\n",
       "       263.8937829 , 267.03537556, 270.17696821, 273.31856086,\n",
       "       276.46015352, 279.60174617, 282.74333882, 285.88493148,\n",
       "       289.02652413, 292.16811678, 295.30970944, 298.45130209,\n",
       "       301.59289474, 304.7344874 , 307.87608005, 311.01767271,\n",
       "       314.15926536, 317.30085801, 320.44245067, 323.58404332,\n",
       "       326.72563597, 329.86722863, 333.00882128, 336.15041393,\n",
       "       339.29200659, 342.43359924, 345.57519189, 348.71678455,\n",
       "       351.8583772 , 354.99996986, 358.14156251, 361.28315516,\n",
       "       364.42474782, 367.56634047, 370.70793312, 373.84952578,\n",
       "       376.99111843, 380.13271108, 383.27430374, 386.41589639,\n",
       "       389.55748905, 392.6990817 , 395.84067435, 398.98226701,\n",
       "       402.12385966, 405.26545231, 408.40704497, 411.54863762,\n",
       "       414.69023027, 417.83182293, 420.97341558, 424.11500823,\n",
       "       427.25660089, 430.39819354, 433.5397862 , 436.68137885,\n",
       "       439.8229715 , 442.96456416, 446.10615681, 449.24774946,\n",
       "       452.38934212, 455.53093477, 458.67252742, 461.81412008,\n",
       "       464.95571273, 468.09730538, 471.23889804, 474.38049069,\n",
       "       477.52208335, 480.663676  , 483.80526865, 486.94686131,\n",
       "       490.08845396, 493.23004661, 496.37163927, 499.51323192,\n",
       "       502.65482457, 505.79641723, 508.93800988, 512.07960254,\n",
       "       515.22119519, 518.36278784, 521.5043805 , 524.64597315,\n",
       "       527.7875658 , 530.92915846, 534.07075111, 537.21234376,\n",
       "       540.35393642, 543.49552907, 546.63712172, 549.77871438,\n",
       "       552.92030703, 556.06189969, 559.20349234, 562.34508499,\n",
       "       565.48667765, 568.6282703 , 571.76986295, 574.91145561,\n",
       "       578.05304826, 581.19464091, 584.33623357, 587.47782622,\n",
       "       590.61941887, 593.76101153, 596.90260418, 600.04419684,\n",
       "       603.18578949, 606.32738214, 609.4689748 , 612.61056745,\n",
       "       615.7521601 , 618.89375276, 622.03534541, 625.17693806,\n",
       "       628.31853072])"
      ]
     },
     "execution_count": 87,
     "metadata": {},
     "output_type": "execute_result"
    }
   ],
   "source": [
    "2.*np.pi*np.fft.rfftfreq(400, 0.005)"
   ]
  },
  {
   "cell_type": "code",
   "execution_count": null,
   "metadata": {
    "collapsed": true
   },
   "outputs": [],
   "source": [
    "print(1)"
   ]
  },
  {
   "cell_type": "code",
   "execution_count": null,
   "metadata": {
    "collapsed": true
   },
   "outputs": [],
   "source": []
  }
 ],
 "metadata": {
  "kernelspec": {
   "display_name": "Python 3",
   "language": "python",
   "name": "python3"
  },
  "language_info": {
   "codemirror_mode": {
    "name": "ipython",
    "version": 3
   },
   "file_extension": ".py",
   "mimetype": "text/x-python",
   "name": "python",
   "nbconvert_exporter": "python",
   "pygments_lexer": "ipython3",
   "version": "3.6.3"
  }
 },
 "nbformat": 4,
 "nbformat_minor": 2
}
