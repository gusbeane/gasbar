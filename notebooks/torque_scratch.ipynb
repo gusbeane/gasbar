{
 "cells": [
  {
   "cell_type": "code",
   "execution_count": 1,
   "metadata": {
    "collapsed": true
   },
   "outputs": [],
   "source": [
    "import numpy as np\n",
    "import arepo\n",
    "import matplotlib.pyplot as plt\n",
    "from tqdm import tqdm_notebook as tqdm\n",
    "import h5py as h5\n",
    "\n",
    "import re\n",
    "import astropy.units as u\n",
    "from scipy.spatial import cKDTree\n",
    "\n",
    "time_conv = 977.79222167"
   ]
  },
  {
   "cell_type": "code",
   "execution_count": 2,
   "metadata": {
    "collapsed": true
   },
   "outputs": [],
   "source": [
    "t = h5.File('/n/home01/abeane/starbar/plots/torques/data/torques_Nbody-lvl3.hdf5', mode='r')"
   ]
  },
  {
   "cell_type": "code",
   "execution_count": 3,
   "metadata": {
    "collapsed": true
   },
   "outputs": [],
   "source": [
    "sim_list = ['phantom-vacuum-grav', 'phantom-vacuum', 'phantom-Sg10-Rc4.0', 'phantom-vacuum-Sg10-Rc4.0',\n",
    "            'phantom-vacuum-Sg20-Rc4.0', 'Nbody', 'phantom-vacuum-Sg20-Rc3.5']\n",
    "\n",
    "def read_snap(idx, sim_idx, lvl='lvl3', parttype=[0], fields=['Coordinates', 'Masses', 'Velocities'],\n",
    "              basepath = '/n/holyscratch01/hernquist_lab/abeane/starbar_runs/runs/'):\n",
    "    fname = basepath + sim_list[sim_idx] + '/' + lvl + '/output'\n",
    "    return arepo.Snapshot(fname, idx, parttype=parttype, fields=fields, combineFiles=True)\n",
    "\n",
    "def read_sfr(sim_idx, lvl='lvl3', basepath = '/n/holyscratch01/hernquist_lab/abeane/starbar_runs/runs/'):\n",
    "    fname = basepath + sim_list[sim_idx] + '/' + lvl + '/output/sfr.txt'\n",
    "    return np.genfromtxt(fname)\n",
    "\n",
    "def read_fourier(sim_idx, lvl='lvl3', basepath='/n/home01/abeane/starbar/plots/'):\n",
    "    sim = sim_list[sim_idx]\n",
    "    f = h5.File(basepath+'/fourier_component/data/fourier_'+sim+'-'+lvl+'.hdf5', mode='r')\n",
    "    return f"
   ]
  },
  {
   "cell_type": "code",
   "execution_count": 4,
   "metadata": {},
   "outputs": [
    {
     "data": {
      "application/vnd.jupyter.widget-view+json": {
       "model_id": "6f952724a47d4917b4a2c245b1efb714",
       "version_major": 2,
       "version_minor": 0
      },
      "text/plain": [
       "A Jupyter Widget"
      ]
     },
     "metadata": {},
     "output_type": "display_data"
    },
    {
     "name": "stdout",
     "output_type": "stream",
     "text": [
      "\n"
     ]
    }
   ],
   "source": [
    "# sn0_list = []\n",
    "# sn2_list = []\n",
    "# sn3_list = []\n",
    "# sn4_list = []\n",
    "sn5_list = []\n",
    "sn6_list = []\n",
    "sn6i_list = []\n",
    "idx_list = np.arange(0, 1600, 50)\n",
    "fields=['Coordinates', 'Velocities', 'Masses', 'Acceleration']\n",
    "parttype=2\n",
    "for idx in tqdm(idx_list):\n",
    "#     sn0 = read_snap(idx, 0, parttype=None, fields=None)\n",
    "#     sn0_list.append(sn0)\n",
    "    \n",
    "#     sn2 = read_snap(idx, 2, parttype=None, fields=None)\n",
    "#     sn2_list.append(sn2)\n",
    "    \n",
    "#     sn3 = read_snap(idx, 3, parttype=None, fields=None)\n",
    "#     sn3_list.append(sn3)\n",
    "    \n",
    "#     sn4 = read_snap(idx, 4, parttype=None, fields=None)\n",
    "#     sn4_list.append(sn4)\n",
    "\n",
    "    sn5 = read_snap(idx, 5, parttype=parttype, fields=fields)\n",
    "    sn5_list.append(sn5)\n",
    "\n",
    "#     try:\n",
    "#         sn6 = read_snap(idx, 6, parttype=None, fields=fields)\n",
    "#         sn6_list.append(sn6)\n",
    "#     except:\n",
    "#         pass\n",
    "\n",
    "#     try:\n",
    "#         sn6i = read_snap(idx, 6, lvl='lvl3-isotherm', parttype=None, fields=None)\n",
    "#         sn6i_list.append(sn6i)\n",
    "#     except:\n",
    "#         pass\n",
    "\n"
   ]
  },
  {
   "cell_type": "code",
   "execution_count": 5,
   "metadata": {
    "collapsed": true
   },
   "outputs": [],
   "source": [
    "def get_cyl(sn, pt, center=np.array([200, 200, 200])):\n",
    "    part = getattr(sn, 'part'+str(pt))\n",
    "    pos = part.pos.value - center\n",
    "    vel = part.vel.value\n",
    "    \n",
    "    R = np.linalg.norm(pos[:,:2], axis=1)\n",
    "    phi = np.arctan2(pos[:,1], pos[:,0])\n",
    "    z = pos[:,2]\n",
    "    \n",
    "    cosphi = pos[:,0]/R\n",
    "    sinphi = pos[:,1]/R\n",
    "    \n",
    "    vR = cosphi * vel[:,0] + sinphi * vel[:,1]\n",
    "    vphi = cosphi * vel[:,1] - sinphi * vel[:,0]\n",
    "    vz = vel[:,2]\n",
    "    \n",
    "    return np.transpose([R, phi, z, vR, vphi, vz])"
   ]
  },
  {
   "cell_type": "code",
   "execution_count": 6,
   "metadata": {},
   "outputs": [
    {
     "data": {
      "application/vnd.jupyter.widget-view+json": {
       "model_id": "2f796648a7d04bd683d8ed3702b7440e",
       "version_major": 2,
       "version_minor": 0
      },
      "text/plain": [
       "A Jupyter Widget"
      ]
     },
     "metadata": {},
     "output_type": "display_data"
    },
    {
     "name": "stdout",
     "output_type": "stream",
     "text": [
      "\n"
     ]
    }
   ],
   "source": [
    "bar_Lz = 400\n",
    "center = np.array([0., 0., 0.])\n",
    "\n",
    "tz_halo = []\n",
    "tz_bar = []\n",
    "tz_disk = []\n",
    "tz_bulge = []\n",
    "time_list = []\n",
    "\n",
    "for i,idx in enumerate(tqdm(idx_list)):\n",
    "    key = 'snapshot_'+\"{:03d}\".format(idx)\n",
    "    sn = sn5_list[i]\n",
    "    cyl = get_cyl(sn, 2, center=center)\n",
    "    \n",
    "    R = cyl[:,0]\n",
    "    vphi = cyl[:,4]\n",
    "    \n",
    "    bar_key = R * vphi < bar_Lz\n",
    "    disk_key = np.logical_not(bar_key)\n",
    "    \n",
    "    bar_pos = (sn.part2.pos.value - center)[bar_key]\n",
    "    \n",
    "    acc = t[key]\n",
    "    #acc_gas = acc['acc_gas']\n",
    "    acc_halo = acc['acc_halo']\n",
    "    acc_bar = acc['acc_bar']\n",
    "    acc_disk = acc['acc_disk']\n",
    "    acc_bulge = acc['acc_bulge']\n",
    "    \n",
    "    torque_halo = np.cross(bar_pos, acc_halo)\n",
    "    torque_bar = np.cross(bar_pos, acc_bar)\n",
    "    torque_disk = np.cross(bar_pos, acc_disk)\n",
    "    torque_bulge = np.cross(bar_pos, acc_bulge)\n",
    "    \n",
    "    tz_halo.append(np.sum(torque_halo[:,2]))\n",
    "    tz_bar.append(np.sum(torque_bar[:,2]))\n",
    "    tz_disk.append(np.sum(torque_disk[:,2]))\n",
    "    tz_bulge.append(np.sum(torque_bulge[:,2]))\n",
    "    \n",
    "time_list = np.array(t['time'])\n",
    "\n",
    "tz_halo = np.array(tz_halo)\n",
    "tz_bar = np.array(tz_bar)\n",
    "tz_disk = np.array(tz_disk)\n",
    "tz_bulge = np.array(tz_bulge)\n",
    "    "
   ]
  },
  {
   "cell_type": "code",
   "execution_count": 7,
   "metadata": {},
   "outputs": [
    {
     "data": {
      "image/png": "[encoded data removed]",
      "text/plain": [
       "<Figure size 432x288 with 1 Axes>"
      ]
     },
     "metadata": {},
     "output_type": "display_data"
    }
   ],
   "source": [
    "fig, ax = plt.subplots(1, 1)\n",
    "ax.plot(time_list[:32], tz_halo, label='halo')\n",
    "# ax.plot(time_list[:32], tz_bar, label='bar')\n",
    "ax.plot(time_list[:32], tz_disk, label='disk')\n",
    "ax.plot(time_list[:32], tz_bulge, label='bulge')\n",
    "ax.plot(time_list[:32], tz_halo + tz_bar + tz_disk + tz_bulge, label='tot', c='k')\n",
    "\n",
    "ax.legend(frameon=False)\n",
    "\n",
    "ax.set(ylim=(-5000, 5000))\n",
    "\n",
    "plt.show()"
   ]
  },
  {
   "cell_type": "code",
   "execution_count": null,
   "metadata": {
    "collapsed": true
   },
   "outputs": [],
   "source": []
  }
 ],
 "metadata": {
  "kernelspec": {
   "display_name": "Python 3",
   "language": "python",
   "name": "python3"
  },
  "language_info": {
   "codemirror_mode": {
    "name": "ipython",
    "version": 3
   },
   "file_extension": ".py",
   "mimetype": "text/x-python",
   "name": "python",
   "nbconvert_exporter": "python",
   "pygments_lexer": "ipython3",
   "version": "3.6.3"
  }
 },
 "nbformat": 4,
 "nbformat_minor": 2
}
