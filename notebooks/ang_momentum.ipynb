{
 "cells": [
  {
   "cell_type": "code",
   "execution_count": 3,
   "metadata": {
    "collapsed": true
   },
   "outputs": [],
   "source": [
    "import numpy as np\n",
    "import arepo\n",
    "import matplotlib.pyplot as plt\n",
    "from tqdm import tqdm_notebook as tqdm\n",
    "import h5py as h5\n",
    "\n",
    "import re\n",
    "import astropy.units as u\n",
    "from scipy.spatial import cKDTree\n",
    "from numba import njit\n",
    "\n",
    "time_conv = 977.79222167"
   ]
  },
  {
   "cell_type": "code",
   "execution_count": 4,
   "metadata": {
    "collapsed": true
   },
   "outputs": [],
   "source": [
    "sim_list = ['Nbody', 'phantom-vacuum-Sg20-Rc3.5-RadFeed']\n",
    "\n",
    "def read_snap(idx, sim_idx, lvl='lvl3', parttype=[0], fields=['Coordinates', 'Masses', 'Velocities'],\n",
    "              basepath = '/n/holyscratch01/hernquist_lab/abeane/starbar_runs/runs/'):\n",
    "    fname = basepath + sim_list[sim_idx] + '/' + lvl + '/output'\n",
    "    return arepo.Snapshot(fname, idx, parttype=parttype, fields=fields, combineFiles=True)\n",
    "\n",
    "def read_sfr(sim_idx, lvl='lvl3', basepath = '/n/holyscratch01/hernquist_lab/abeane/starbar_runs/runs/'):\n",
    "    fname = basepath + sim_list[sim_idx] + '/' + lvl + '/output/sfr.txt'\n",
    "    return np.genfromtxt(fname)\n",
    "\n",
    "def read_fourier(sim_idx, lvl='lvl3', basepath='/n/home01/abeane/starbar/plots/'):\n",
    "    sim = sim_list[sim_idx]\n",
    "    f = h5.File(basepath+'/fourier_component/data/fourier_'+sim+'-'+lvl+'.hdf5', mode='r')\n",
    "    return f\n",
    "\n"
   ]
  },
  {
   "cell_type": "code",
   "execution_count": 5,
   "metadata": {},
   "outputs": [
    {
     "data": {
      "application/vnd.jupyter.widget-view+json": {
       "model_id": "d86b4161e7034944a820a369c6a46b3f",
       "version_major": 2,
       "version_minor": 0
      },
      "text/plain": [
       "A Jupyter Widget"
      ]
     },
     "metadata": {},
     "output_type": "display_data"
    },
    {
     "name": "stdout",
     "output_type": "stream",
     "text": [
      "\n"
     ]
    }
   ],
   "source": [
    "sn0_list = []\n",
    "sn1_list = []\n",
    "sn1G_list = []\n",
    "sn1Gnw_list = []\n",
    "sn1GnwCOM_list = []\n",
    "idx_list = np.arange(0, 400, 25)\n",
    "# idx_list = np.arange(0, 60, 10)\n",
    "# idx_list = [0, 5, 6, 7, 8, 9, 10, 11, 12, 13, 14, 15, 16]\n",
    "fields=['Coordinates', 'Velocities', 'Masses', 'Acceleration']\n",
    "for idx in tqdm(idx_list):\n",
    "    sn0 = read_snap(idx, 0, lvl='lvl4', parttype=None, fields=None)\n",
    "    sn0_list.append(sn0)\n",
    "    \n",
    "    try:\n",
    "        sn1 = read_snap(idx, 1, lvl='lvl4-Paulfix', parttype=None, fields=None)\n",
    "        sn1_list.append(sn1)\n",
    "    except:\n",
    "        pass\n",
    "\n",
    "    try:\n",
    "        sn1G = read_snap(idx, 1, lvl='lvl4-GFM', parttype=None, fields=None)\n",
    "        sn1G_list.append(sn1G)\n",
    "    except:\n",
    "        pass\n",
    "    \n",
    "    try:\n",
    "        sn1Gnw = read_snap(idx, 1, lvl='lvl4-GFM-nowinds', parttype=None, fields=None)\n",
    "        sn1Gnw_list.append(sn1Gnw)\n",
    "    except:\n",
    "        pass\n",
    "    \n",
    "    try:\n",
    "        sn1GnwCOM = read_snap(idx, 1, lvl='lvl4-GFM-nowinds-COM', parttype=None, fields=None)\n",
    "        sn1GnwCOM_list.append(sn1GnwCOM)\n",
    "    except:\n",
    "        pass"
   ]
  },
  {
   "cell_type": "code",
   "execution_count": 6,
   "metadata": {
    "collapsed": true
   },
   "outputs": [],
   "source": [
    "from numba import njit\n",
    "@njit\n",
    "def my_mult(mass, vel):\n",
    "    out = np.zeros((len(mass), 3))\n",
    "    for i in range(len(mass)):\n",
    "        out[i][0] = mass[i] * vel[i][0] \n",
    "        out[i][1] = mass[i] * vel[i][1]\n",
    "        out[i][2] = mass[i] * vel[i][2]\n",
    "    return out\n",
    "\n",
    "def compute_angmom(sn, center=np.array([200., 200., 200.])):\n",
    "    angmom = []\n",
    "    for i in range(6):\n",
    "        if sn.NumPart_Total[i] > 0:\n",
    "            part = getattr(sn, 'part'+str(i))\n",
    "            pos = part.pos.value - center\n",
    "            vel = part.vel.value\n",
    "            \n",
    "            if sn.MassTable[i] > 0.0:\n",
    "                mass = sn.MassTable[i]\n",
    "                mom = mass * vel\n",
    "            else:\n",
    "                mass = part.mass.value\n",
    "                mom = my_mult(mass, vel)\n",
    "            \n",
    "#             ang = np.cross(pos, mom)\n",
    "#             print(i)\n",
    "#             print(np.shape(mom))\n",
    "            angz = np.sum(pos[:,0]*mom[:,1] - pos[:,1]*mom[:,0])\n",
    "#             ang = np.sum(ang, axis=0)\n",
    "#             print(np.shape(ang))\n",
    "            ang = np.array([0., 0., angz])\n",
    "            angmom.append(ang.tolist())\n",
    "        else:\n",
    "            ang = np.array([0., 0., 0.])\n",
    "            angmom.append(ang.tolist())\n",
    "    return np.array(angmom)\n",
    "\n",
    "def compute_angmom_from_track(sn, axis=2):\n",
    "    if sn.NumPart_Total[4] > 0.0:\n",
    "        angmom_SNe = np.sum(sn.part4.Cum_FeedbackAngMomentumInjectedVec[:,axis])\n",
    "        angmom_AGB = np.sum(sn.part4.Cum_FeedbackAngMomentumAGBVec[:,axis])\n",
    "        angmom_Rad = np.sum(sn.part4.Cum_RadAngMomentumRealInjectedVec[:,axis])\n",
    "    else:\n",
    "        angmom_SNe = 0.0\n",
    "        angmom_AGB = 0.0\n",
    "        angmom_Rad = 0.0\n",
    "    \n",
    "    return angmom_SNe, angmom_AGB, angmom_Rad"
   ]
  },
  {
   "cell_type": "code",
   "execution_count": 7,
   "metadata": {},
   "outputs": [
    {
     "data": {
      "application/vnd.jupyter.widget-view+json": {
       "model_id": "fb81abfe983a4877a383290fa7d33870",
       "version_major": 2,
       "version_minor": 0
      },
      "text/plain": [
       "A Jupyter Widget"
      ]
     },
     "metadata": {},
     "output_type": "display_data"
    },
    {
     "name": "stdout",
     "output_type": "stream",
     "text": [
      "\n"
     ]
    }
   ],
   "source": [
    "angmom0_list = []\n",
    "angmom1_list= []\n",
    "angmom1_track_list = []\n",
    "angmom1G_list = []\n",
    "angmom1Gnw_list = []\n",
    "angmom1GnwCOM_list = []\n",
    "for i,idx in enumerate(tqdm(idx_list)):\n",
    "    angmom0_list.append(compute_angmom(sn0_list[i], center=np.array([0, 0, 0])))\n",
    "    try:\n",
    "        angmom1_list.append(compute_angmom(sn1_list[i], center=np.array([200., 200., 200.])))\n",
    "        angmom1_track_list.append(compute_angmom_from_track(sn1_list[i]))\n",
    "    except:\n",
    "        pass\n",
    "    \n",
    "    try:\n",
    "        angmom1G_list.append(compute_angmom(sn1G_list[i], center=np.array([200., 200., 200.])))\n",
    "    except:\n",
    "        pass\n",
    "\n",
    "    try:\n",
    "        angmom1Gnw_list.append(compute_angmom(sn1Gnw_list[i], center=np.array([200., 200., 200.])))\n",
    "    except:\n",
    "        pass\n",
    "\n",
    "    try:\n",
    "        angmom1GnwCOM_list.append(compute_angmom(sn1GnwCOM_list[i], center=np.array([200., 200., 200.])))\n",
    "    except:\n",
    "        pass\n",
    "\n",
    "\n",
    "angmom0_list = np.array(angmom0_list)\n",
    "angmom1_list = np.array(angmom1_list)\n",
    "angmom1_track_list = np.array(angmom1_track_list)\n",
    "angmom1G_list = np.array(angmom1G_list)\n",
    "angmom1Gnw_list = np.array(angmom1Gnw_list)\n",
    "angmom1GnwCOM_list = np.array(angmom1GnwCOM_list)"
   ]
  },
  {
   "cell_type": "code",
   "execution_count": 8,
   "metadata": {},
   "outputs": [
    {
     "name": "stdout",
     "output_type": "stream",
     "text": [
      "[0.         0.29073007 1.27253008 3.83399196 4.82562944 6.83980983\n",
      " 6.89512972 7.07530472 7.35497026 7.75849562 8.24042919 8.34932554\n",
      " 8.25009427 8.56681161 8.88317401 9.35676343]\n",
      "[ 0.         -3.6373709  -5.88562715 -6.8374247  -7.17121788 -7.5997525\n",
      " -6.99895332 -6.81328559 -6.72530841 -7.01952974 -6.9883616  -5.4293243\n",
      " -4.75168855 -3.01189589 -1.48277296 -0.70940303]\n",
      "[  0.          -7.87719254 -15.96405328 -21.79576609 -30.02522556\n",
      " -37.68214909 -43.13533958 -48.9981379  -55.19722707 -61.53778822\n",
      " -68.06999767 -73.18747651 -80.0689507  -86.7286373  -91.82425849\n",
      " -95.80969816]\n",
      "[  0.           1.83111879   6.04671444   4.64046434   1.97693125\n",
      "  -0.99271101  -4.18507315  -7.7739353  -11.04212294 -14.352403\n",
      " -17.57468165 -19.8799282  -22.56816328 -25.20508484 -27.74186262\n",
      " -29.98585455]\n",
      "[  0.           1.87940844   6.01190988   4.5233671    1.40201954\n",
      "  -1.19910387  -4.36000328  -7.8243803  -10.81281049 -13.76844975\n",
      " -16.82604841 -19.56100101 -22.29050444 -24.83239507 -27.80869692\n",
      " -30.73966433]\n"
     ]
    }
   ],
   "source": [
    "def print_tot_change(a):\n",
    "    print(np.sum(a[:,:,2], axis=1) - np.sum(a[:,:,2], axis=1)[0])\n",
    "\n",
    "print_tot_change(angmom0_list)\n",
    "print_tot_change(angmom1_list)\n",
    "print_tot_change(angmom1G_list)\n",
    "print_tot_change(angmom1Gnw_list)\n",
    "print_tot_change(angmom1GnwCOM_list)"
   ]
  },
  {
   "cell_type": "code",
   "execution_count": 9,
   "metadata": {},
   "outputs": [
    {
     "data": {
      "application/vnd.jupyter.widget-view+json": {
       "model_id": "3d6c3b403d084c5ea09425a0e4386ca7",
       "version_major": 2,
       "version_minor": 0
      },
      "text/plain": [
       "A Jupyter Widget"
      ]
     },
     "metadata": {},
     "output_type": "display_data"
    },
    {
     "name": "stdout",
     "output_type": "stream",
     "text": [
      "\n"
     ]
    }
   ],
   "source": [
    "time0_list = []\n",
    "time1_list = []\n",
    "time1G_list = []\n",
    "time1Gnw_list = []\n",
    "time1GnwCOM_list = []\n",
    "# time6i_list = []\n",
    "for i,idx in enumerate(tqdm(idx_list)):\n",
    "    time0_list.append(sn0_list[i].Time)\n",
    "    try:\n",
    "        time1_list.append(sn1_list[i].Time)\n",
    "    except:\n",
    "        pass\n",
    "    \n",
    "    try:\n",
    "        time1G_list.append(sn1G_list[i].Time)\n",
    "    except:\n",
    "        pass\n",
    "    \n",
    "    try:\n",
    "        time1Gnw_list.append(sn1Gnw_list[i].Time)\n",
    "    except:\n",
    "        pass\n",
    "    \n",
    "    try:\n",
    "        time1GnwCOM_list.append(sn1GnwCOM_list[i].Time)\n",
    "    except:\n",
    "        pass\n",
    "\n",
    "\n",
    "time0_list = np.array(time0_list)\n",
    "time1_list = np.array(time1_list)\n",
    "time1G_list = np.array(time1G_list)\n",
    "time1Gnw_list = np.array(time1Gnw_list)\n",
    "time1GnwCOM_list = np.array(time1GnwCOM_list)\n",
    "# time6i_list = np.array(time6i_list)"
   ]
  },
  {
   "cell_type": "code",
   "execution_count": 10,
   "metadata": {},
   "outputs": [
    {
     "data": {
      "image/png": "[encoded data removed]",
      "text/plain": [
       "<Figure size 432x288 with 1 Axes>"
      ]
     },
     "metadata": {},
     "output_type": "display_data"
    }
   ],
   "source": [
    "plt.plot(time0_list, angmom0_list[:,1,2] - angmom0_list[:,1,2][0], label='halo')\n",
    "plt.plot(time0_list, angmom0_list[:,2,2] - angmom0_list[:,2,2][0], label='disk')\n",
    "plt.plot(time0_list, angmom0_list[:,3,2] - angmom0_list[:,3,2][0], label='bulge')\n",
    "plt.plot(time0_list, np.sum(angmom0_list[:,:,2], axis=1) - np.sum(angmom0_list[:,:,2], axis=1)[0], label='total', c='k')\n",
    "plt.legend(frameon=False)\n",
    "plt.xlabel('T [~Gyr]')\n",
    "plt.ylabel('change in ang mom [1E10 Msun kpc km/s]')\n",
    "plt.title('Nbody')\n",
    "plt.show()"
   ]
  },
  {
   "cell_type": "code",
   "execution_count": 13,
   "metadata": {},
   "outputs": [
    {
     "data": {
      "image/png": "[encoded data removed]",
      "text/plain": [
       "<Figure size 432x288 with 1 Axes>"
      ]
     },
     "metadata": {},
     "output_type": "display_data"
    }
   ],
   "source": [
    "plt.plot(time1_list, angmom1_list[:,0,2] - angmom1_list[:,0,2][0], label='gas')\n",
    "plt.plot(time1_list, angmom1_list[:,1,2] - angmom1_list[:,1,2][0], label='halo')\n",
    "plt.plot(time1_list, angmom1_list[:,2,2] - angmom1_list[:,2,2][0], label='disk')\n",
    "plt.plot(time1_list, angmom1_list[:,3,2] - angmom1_list[:,3,2][0], label='bulge')\n",
    "plt.plot(time1_list, angmom1_list[:,4,2] - angmom1_list[:,4,2][0], label='stars')\n",
    "plt.plot(time1_list, np.sum(angmom1_list[:,:,2], axis=1) - np.sum(angmom1_list[:,:,2], axis=1)[0], label='total', c='k')\n",
    "\n",
    "# plt.plot(time1_list, angmom1_track_list[:,0], ls='dashed', label='SNe')\n",
    "# plt.plot(time1_list, angmom1_track_list[:,1], ls='dashed', label='AGB')\n",
    "# plt.plot(time1_list, angmom1_track_list[:,2], ls='dashed', label='Rad')\n",
    "# plt.plot(time1_list, np.sum(angmom1_track_list, axis=1), ls='dashed', label='total', c='k')\n",
    "\n",
    "\n",
    "\n",
    "plt.legend(frameon=False)\n",
    "plt.xlabel('T [~Gyr]')\n",
    "plt.ylabel('change in ang mom [1E10 Msun kpc km/s]')\n",
    "plt.title('SMUGGLE (with rebalancing)')\n",
    "plt.show()"
   ]
  },
  {
   "cell_type": "code",
   "execution_count": null,
   "metadata": {},
   "outputs": [],
   "source": [
    "# SMUGGLE\n",
    "plt.plot(time1_list, np.sum(angmom1_list[:,:,2], axis=1) - np.sum(angmom1_list[:,:,2], axis=1)[0], label='SMUGGLE', c='b')\n",
    "\n",
    "plt.plot(time1_list, np.sum(angmom1_track_list, axis=1), ls='dashed', label='SMUGGLE (from stars)', c='b')\n",
    "\n",
    "\n",
    "# GFM\n",
    "plt.plot(time1G_list, np.sum(angmom1G_list[:,:,2], axis=1) - np.sum(angmom1G_list[:,:,2], axis=1)[0], label='GFM', c='r')\n",
    "plt.plot(time1Gnw_list, np.sum(angmom1Gnw_list[:,:,2], axis=1) - np.sum(angmom1Gnw_list[:,:,2], axis=1)[0], label='GFM (no winds)', c='g')\n",
    "plt.plot(time1GnwCOM_list, np.sum(angmom1GnwCOM_list[:,:,2], axis=1) - np.sum(angmom1GnwCOM_list[:,:,2], axis=1)[0], label='GFM (no winds, COM)', c='g', ls='dashed')\n",
    "\n",
    "plt.legend(frameon=False)\n",
    "plt.xlabel('T [~Gyr]')\n",
    "plt.ylabel('change in ang mom [1E10 Msun kpc km/s]')\n",
    "plt.axhline(0, c='k')\n",
    "plt.title('SMUGGLE vs GFM')\n",
    "plt.show()"
   ]
  },
  {
   "cell_type": "code",
   "execution_count": 19,
   "metadata": {},
   "outputs": [
    {
     "name": "stderr",
     "output_type": "stream",
     "text": [
      "/n/helmod/apps/centos7/Core/Anaconda3/5.0.1-fasrc02/x/lib/python3.6/site-packages/ipykernel_launcher.py:1: RuntimeWarning: invalid value encountered in true_divide\n",
      "  \"\"\"Entry point for launching an IPython kernel.\n"
     ]
    },
    {
     "data": {
      "text/plain": [
       "array([       nan, 1.1567753 , 1.08955612, 1.06932651, 1.06446346,\n",
       "       1.06732817, 1.0655725 , 1.06604123, 1.07137353])"
      ]
     },
     "execution_count": 19,
     "metadata": {},
     "output_type": "execute_result"
    }
   ],
   "source": [
    "np.sum(angmom1_track_list, axis=1)/(np.sum(angmom1_list[:,:,2], axis=1) - np.sum(angmom1_list[:,:,2], axis=1)[0])"
   ]
  },
  {
   "cell_type": "markdown",
   "metadata": {},
   "source": [
    "## Angular momentum by component 2\n",
    "Splitting the disk into two components, `R<4kpc` and `R>4kpc`"
   ]
  },
  {
   "cell_type": "code",
   "execution_count": 3,
   "metadata": {
    "collapsed": true
   },
   "outputs": [],
   "source": [
    "# from numba import njit\n",
    "@njit\n",
    "def my_mult(mass, vel):\n",
    "    out = np.zeros((len(mass), 3))\n",
    "    for i in range(len(mass)):\n",
    "        out[i][0] = mass[i] * vel[i][0] \n",
    "        out[i][1] = mass[i] * vel[i][1]\n",
    "        out[i][2] = mass[i] * vel[i][2]\n",
    "    return out\n",
    "\n",
    "def compute_angmom_split(sn, center=np.array([200., 200., 200.]), Rcut=4):\n",
    "    angmom = np.zeros((6, 3))\n",
    "    for i in range(5):\n",
    "        if sn.NumPart_Total[i] > 0:\n",
    "            part = getattr(sn, 'part'+str(i))\n",
    "            pos = part.pos.value - center\n",
    "            vel = part.vel.value\n",
    "            \n",
    "            if i==2:\n",
    "                Rmag = np.linalg.norm(pos, axis=1)\n",
    "                key_less = Rmag < Rcut\n",
    "                key_more = Rmag > Rcut\n",
    "            \n",
    "            if sn.MassTable[i] > 0.0:\n",
    "                mass = sn.MassTable[i]\n",
    "                mom = mass * vel\n",
    "            else:\n",
    "                mass = part.mass.value\n",
    "                mom = my_mult(mass, vel)\n",
    "            \n",
    "#             ang = np.cross(pos, mom)\n",
    "#             print(i)\n",
    "#             print(np.shape(mom))\n",
    "            if i==2:\n",
    "                angz = pos[:,0]*mom[:,1] - pos[:,1]*mom[:,0]\n",
    "                angz_in = np.sum(angz[key_less])\n",
    "                angz_out = np.sum(angz[key_more])\n",
    "                \n",
    "                ang_in = np.array([0., 0., angz_in])\n",
    "                ang_out = np.array([0., 0., angz_out])\n",
    "                \n",
    "                angmom[2,:] = ang_in\n",
    "                angmom[5,:] = ang_out\n",
    "            else:\n",
    "                angz = np.sum(pos[:,0]*mom[:,1] - pos[:,1]*mom[:,0])\n",
    "                ang = np.array([0., 0., angz])\n",
    "            \n",
    "                angmom[i,:] = ang\n",
    "        else:\n",
    "            ang = np.array([0., 0., 0.])\n",
    "            angmom[i,:] = ang\n",
    "    return np.array(angmom)\n",
    "\n",
    "def compute_angmom_from_track(sn, axis=2):\n",
    "    if sn.NumPart_Total[4] > 0.0:\n",
    "        angmom_SNe = np.sum(sn.part4.Cum_FeedbackAngMomentumInjectedVec[:,axis])\n",
    "        angmom_AGB = np.sum(sn.part4.Cum_FeedbackAngMomentumAGBVec[:,axis])\n",
    "        angmom_Rad = np.sum(sn.part4.Cum_RadAngMomentumRealInjectedVec[:,axis])\n",
    "    else:\n",
    "        angmom_SNe = 0.0\n",
    "        angmom_AGB = 0.0\n",
    "        angmom_Rad = 0.0\n",
    "    \n",
    "    return angmom_SNe, angmom_AGB, angmom_Rad"
   ]
  },
  {
   "cell_type": "code",
   "execution_count": 4,
   "metadata": {},
   "outputs": [
    {
     "data": {
      "application/vnd.jupyter.widget-view+json": {
       "model_id": "93c4a3903f164932889a1940fe6df90c",
       "version_major": 2,
       "version_minor": 0
      },
      "text/plain": [
       "A Jupyter Widget"
      ]
     },
     "metadata": {},
     "output_type": "display_data"
    },
    {
     "name": "stdout",
     "output_type": "stream",
     "text": [
      "\n"
     ]
    }
   ],
   "source": [
    "sn0_list_l3 = []\n",
    "sn1_list_l3 = []\n",
    "# sn1G_list = []\n",
    "idx_list = np.arange(0, 801, 50)\n",
    "# idx_list = np.arange(0, 120, 10)\n",
    "fields=['Coordinates', 'Velocities', 'Masses', 'Acceleration']\n",
    "for idx in tqdm(idx_list):\n",
    "    sn0 = read_snap(idx, 0, lvl='lvl3', parttype=None, fields=None)\n",
    "    sn0_list_l3.append(sn0)\n",
    "    \n",
    "    try:\n",
    "        sn1 = read_snap(idx, 1, lvl='lvl3-Paulfix', parttype=None, fields=None)\n",
    "        sn1_list_l3.append(sn1)\n",
    "    except:\n",
    "        pass\n",
    "\n",
    "#     try:\n",
    "#         sn1G = read_snap(idx, 1, lvl='lvl4-GFM', parttype=None, fields=None)\n",
    "#         sn1G_list.append(sn1G)\n",
    "#     except:\n",
    "#         pass"
   ]
  },
  {
   "cell_type": "code",
   "execution_count": 5,
   "metadata": {},
   "outputs": [
    {
     "data": {
      "application/vnd.jupyter.widget-view+json": {
       "model_id": "a9a0970649f04395a430daa714e9308c",
       "version_major": 2,
       "version_minor": 0
      },
      "text/plain": [
       "A Jupyter Widget"
      ]
     },
     "metadata": {},
     "output_type": "display_data"
    },
    {
     "name": "stdout",
     "output_type": "stream",
     "text": [
      "\n"
     ]
    }
   ],
   "source": [
    "angmom0_split_list = []\n",
    "angmom1_split_list= []\n",
    "# angmom1_split_track_list = []\n",
    "# angmom1G_split_list = []\n",
    "for i,idx in enumerate(tqdm(idx_list)):\n",
    "    angmom0_split_list.append(compute_angmom_split(sn0_list_l3[i], center=np.array([0, 0, 0])))\n",
    "    try:\n",
    "        angmom1_split_list.append(compute_angmom_split(sn1_list_l3[i], center=np.array([200., 200., 200.])))\n",
    "#         angmom1_track_list.append(compute_angmom_from_track(sn1_list[i]))\n",
    "    except:\n",
    "        pass\n",
    "    \n",
    "#     try:\n",
    "#         angmom1G_split_list.append(compute_angmom(sn1G_list[i], center=np.array([200., 200., 200.])))\n",
    "#     except:\n",
    "#         pass\n",
    "\n",
    "angmom0_split_list = np.array(angmom0_split_list)\n",
    "angmom1_split_list = np.array(angmom1_split_list)\n",
    "# angmom1_track_list = np.array(angmom1_track_list)\n",
    "# angmom1G_split_list = np.array(angmom1G_split_list)"
   ]
  },
  {
   "cell_type": "code",
   "execution_count": 6,
   "metadata": {},
   "outputs": [
    {
     "data": {
      "application/vnd.jupyter.widget-view+json": {
       "model_id": "69ad12b2f250449dbf32e42793ad07d3",
       "version_major": 2,
       "version_minor": 0
      },
      "text/plain": [
       "A Jupyter Widget"
      ]
     },
     "metadata": {},
     "output_type": "display_data"
    },
    {
     "name": "stdout",
     "output_type": "stream",
     "text": [
      "\n"
     ]
    }
   ],
   "source": [
    "time0_list_l3 = []\n",
    "time1_list_l3 = []\n",
    "# time1G_list_l3 = []\n",
    "# time6i_list = []\n",
    "for i,idx in enumerate(tqdm(idx_list)):\n",
    "    time0_list_l3.append(sn0_list_l3[i].Time)\n",
    "    try:\n",
    "        time1_list_l3.append(sn1_list_l3[i].Time)\n",
    "#         time1G_list_l3.append(sn1G_list_l3[i].Time)\n",
    "    except:\n",
    "        pass\n",
    "time0_list_l3 = np.array(time0_list_l3)\n",
    "time1_list_l3 = np.array(time1_list_l3)\n",
    "# time1G_list_l3 = np.array(time1G_list_l3)\n",
    "# time6i_list = np.array(time6i_list)"
   ]
  },
  {
   "cell_type": "code",
   "execution_count": 7,
   "metadata": {},
   "outputs": [
    {
     "data": {
      "image/png": "[encoded data removed]",
      "text/plain": [
       "<Figure size 432x288 with 1 Axes>"
      ]
     },
     "metadata": {},
     "output_type": "display_data"
    }
   ],
   "source": [
    "plt.plot(time0_list_l3, angmom0_split_list[:,1,2] - angmom0_split_list[:,1,2][0], label='halo')\n",
    "plt.plot(time0_list_l3, angmom0_split_list[:,2,2] - angmom0_split_list[:,2,2][0], label='disk (R<4kpc)')\n",
    "plt.plot(time0_list_l3, angmom0_split_list[:,5,2] - angmom0_split_list[:,5,2][0], label='disk (R>4kpc)')\n",
    "plt.plot(time0_list_l3, angmom0_split_list[:,3,2] - angmom0_split_list[:,3,2][0], label='bulge')\n",
    "plt.plot(time0_list_l3, np.sum(angmom0_split_list[:,:,2], axis=1) - np.sum(angmom0_split_list[:,:,2], axis=1)[0], label='total', c='k')\n",
    "plt.legend(frameon=False)\n",
    "plt.xlabel('T [~Gyr]')\n",
    "plt.ylabel('change in ang mom [1E10 Msun kpc km/s]')\n",
    "plt.title('Nbody')\n",
    "plt.show()"
   ]
  },
  {
   "cell_type": "code",
   "execution_count": 9,
   "metadata": {},
   "outputs": [
    {
     "data": {
      "image/png": "[encoded data removed]",
      "text/plain": [
       "<Figure size 432x288 with 1 Axes>"
      ]
     },
     "metadata": {},
     "output_type": "display_data"
    }
   ],
   "source": [
    "plt.plot(time1_list_l3, angmom1_split_list[:,0,2] - angmom1_split_list[:,0,2][0], label='gas')\n",
    "plt.plot(time1_list_l3, angmom1_split_list[:,1,2] - angmom1_split_list[:,1,2][0], label='halo')\n",
    "plt.plot(time1_list_l3, angmom1_split_list[:,2,2] - angmom1_split_list[:,2,2][0], label='disk (R<4kpc)')\n",
    "plt.plot(time1_list_l3, angmom1_split_list[:,5,2] - angmom1_split_list[:,5,2][0], label='disk (R>4kpc)')\n",
    "plt.plot(time1_list_l3, angmom1_split_list[:,3,2] - angmom1_split_list[:,3,2][0], label='bulge')\n",
    "plt.plot(time1_list_l3, angmom1_split_list[:,4,2] - angmom1_split_list[:,4,2][0], label='stars')\n",
    "plt.plot(time1_list_l3, np.sum(angmom1_split_list[:,:,2], axis=1) - np.sum(angmom1_split_list[:,:,2], axis=1)[0], label='total', c='k')\n",
    "\n",
    "plt.legend(frameon=False)\n",
    "plt.xlabel('T [~Gyr]')\n",
    "plt.ylabel('change in ang mom [1E10 Msun kpc km/s]')\n",
    "plt.title('SMUGGLE (with rebalancing)')\n",
    "plt.show()"
   ]
  },
  {
   "cell_type": "code",
   "execution_count": null,
   "metadata": {
    "collapsed": true
   },
   "outputs": [],
   "source": []
  }
 ],
 "metadata": {
  "kernelspec": {
   "display_name": "Python 3",
   "language": "python",
   "name": "python3"
  },
  "language_info": {
   "codemirror_mode": {
    "name": "ipython",
    "version": 3
   },
   "file_extension": ".py",
   "mimetype": "text/x-python",
   "name": "python",
   "nbconvert_exporter": "python",
   "pygments_lexer": "ipython3",
   "version": "3.6.3"
  }
 },
 "nbformat": 4,
 "nbformat_minor": 2
}
