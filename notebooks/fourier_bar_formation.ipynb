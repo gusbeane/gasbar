{
 "cells": [
  {
   "cell_type": "markdown",
   "metadata": {},
   "source": [
    "## Fourier Modes, Bar Formation, Gas Flows\n",
    "\n",
    "The purpose of this notebook is to investigate why some simulations seem to form bars and others don't. The primary method of seeing how \"barry\" a simulation is will be through the investigation of Fourier modes, which are simple to calculate and seem to be relatively stable. The question is - is the formation or non-formation of the bar related to how much radial gas flow happens to occur at the early stages of the bar forming?"
   ]
  },
  {
   "cell_type": "code",
   "execution_count": 12,
   "metadata": {
    "collapsed": true
   },
   "outputs": [],
   "source": [
    "import numpy as np\n",
    "import arepo\n",
    "import matplotlib.pyplot as plt\n",
    "from tqdm import tqdm\n",
    "import astropy.units as u\n",
    "from numba import njit\n",
    "import time"
   ]
  },
  {
   "cell_type": "code",
   "execution_count": 2,
   "metadata": {
    "collapsed": true
   },
   "outputs": [],
   "source": [
    "sim = ['fRpoly-Rcore1.0', 'fRpoly2-Rcore1.0']\n",
    "\n",
    "def read_snap(idx, sim_idx, lvl='lvl3', parttype=[0], fields=['Coordinates', 'Masses', 'Velocities'],\n",
    "              basepath = '/n/holyscratch01/hernquist_lab/abeane/starbar_runs/runs/'):\n",
    "    fname = basepath + sim[sim_idx] + '/' + lvl + '/output'\n",
    "    return arepo.Snapshot(fname, idx, parttype=parttype, fields=fields, combineFiles=True)"
   ]
  },
  {
   "cell_type": "markdown",
   "metadata": {},
   "source": [
    "### Center of Mass\n",
    "\n",
    "First I want to look and see just how much the center of mass of the system shifts throughout the course of the sim. To do this, I will compute the center of mass using a standard iterative technique for sim 0."
   ]
  },
  {
   "cell_type": "code",
   "execution_count": 60,
   "metadata": {
    "collapsed": true
   },
   "outputs": [],
   "source": [
    "def find_com(snap, Rinit=20, Rmin=0.2, Rfac=0.8, components=[0, 1, 2, 3, 4], com_init=np.array([200, 200, 200])):\n",
    "    pos = np.array([]).reshape(0, 3)\n",
    "    mass = np.array([])\n",
    "    \n",
    "    for i in components:\n",
    "        if snap.NumPart_Total[i] > 0:\n",
    "            part = getattr(snap, 'part'+str(i))\n",
    "            pos = np.concatenate((pos, part.pos))\n",
    "            if snap.MassTable[i] > 0:\n",
    "                mass = np.concatenate((mass, np.full(snap.NumPart_Total[i], snap.MassTable[i])))\n",
    "            else:\n",
    "                mass = np.concatenate((mass, part.mass))\n",
    "    \n",
    "    Rtest = Rinit\n",
    "    com = com_init\n",
    "    while Rtest > Rmin:\n",
    "        pos_minus_com = np.subtract(pos, com)\n",
    "        key = np.where(np.linalg.norm(pos_minus_com, axis=1) < Rtest)[0]\n",
    "        com = np.average(pos[key], weights=mass[key], axis=0)\n",
    "        Rtest *= Rfac\n",
    "    \n",
    "    return com\n",
    "    "
   ]
  },
  {
   "cell_type": "code",
   "execution_count": 59,
   "metadata": {},
   "outputs": [
    {
     "name": "stdout",
     "output_type": "stream",
     "text": [
      "CPU times: user 350 ms, sys: 302 ms, total: 652 ms\n",
      "Wall time: 664 ms\n"
     ]
    }
   ],
   "source": [
    "%%time\n",
    "snap = read_snap(0, 0, parttype=[0, 1, 2, 3, 4, 5], fields=['Coordinates', 'Masses'])"
   ]
  },
  {
   "cell_type": "code",
   "execution_count": 65,
   "metadata": {},
   "outputs": [
    {
     "name": "stdout",
     "output_type": "stream",
     "text": [
      "CPU times: user 19.6 s, sys: 10.1 s, total: 29.7 s\n",
      "Wall time: 29.8 s\n"
     ]
    }
   ],
   "source": [
    "%%time\n",
    "com = find_com(snap)"
   ]
  },
  {
   "cell_type": "code",
   "execution_count": 62,
   "metadata": {},
   "outputs": [
    {
     "name": "stderr",
     "output_type": "stream",
     "text": [
      "\n",
      "\n",
      "  0%|          | 0/20 [00:00<?, ?it/s]\u001b[A\u001b[A\n",
      "\n",
      "  5%|▌         | 1/20 [00:30<09:31, 30.08s/it]\u001b[A\u001b[A\n",
      "\n",
      " 10%|█         | 2/20 [01:05<09:28, 31.58s/it]\u001b[A\u001b[A\n",
      "\n",
      " 15%|█▌        | 3/20 [01:34<08:47, 31.02s/it]\u001b[A\u001b[A\n",
      "\n",
      " 20%|██        | 4/20 [02:10<08:36, 32.31s/it]\u001b[A\u001b[A\n",
      "\n",
      " 25%|██▌       | 5/20 [02:45<08:16, 33.13s/it]\u001b[A\u001b[A\n",
      "\n",
      " 30%|███       | 6/20 [03:20<07:51, 33.65s/it]\u001b[A\u001b[A\n",
      "\n",
      " 35%|███▌      | 7/20 [03:54<07:22, 34.00s/it]\u001b[A\u001b[A\n",
      "\n",
      " 40%|████      | 8/20 [04:29<06:50, 34.18s/it]\u001b[A\u001b[A\n",
      "\n",
      " 45%|████▌     | 9/20 [05:04<06:18, 34.39s/it]\u001b[A\u001b[A\n",
      "\n",
      " 50%|█████     | 10/20 [05:39<05:45, 34.55s/it]\u001b[A\u001b[A\n",
      "\n",
      " 55%|█████▌    | 11/20 [06:17<05:20, 35.66s/it]\u001b[A\u001b[A\n",
      "\n",
      " 60%|██████    | 12/20 [06:58<04:58, 37.37s/it]\u001b[A\u001b[A\n",
      "\n",
      " 65%|██████▌   | 13/20 [07:49<04:50, 41.44s/it]\u001b[A\u001b[A\n",
      "\n",
      " 70%|███████   | 14/20 [08:46<04:35, 45.99s/it]\u001b[A\u001b[A\n",
      "\n",
      " 75%|███████▌  | 15/20 [09:35<03:55, 47.00s/it]\u001b[A\u001b[A\n",
      "\n",
      " 80%|████████  | 16/20 [10:31<03:17, 49.49s/it]\u001b[A\u001b[A\n",
      "\n",
      " 85%|████████▌ | 17/20 [11:28<02:35, 51.75s/it]\u001b[A\u001b[A\n",
      "\n",
      " 90%|█████████ | 18/20 [12:25<01:47, 53.52s/it]\u001b[A\u001b[A\n",
      "\n",
      " 95%|█████████▌| 19/20 [13:27<00:55, 55.89s/it]\u001b[A\u001b[A\n",
      "\n",
      "100%|██████████| 20/20 [14:31<00:00, 58.50s/it]\u001b[A\u001b[A"
     ]
    }
   ],
   "source": [
    "tlist = []\n",
    "com_list = []\n",
    "for i in tqdm(np.arange(0, 200, 10)):\n",
    "    snap = read_snap(i, 0, parttype=[0, 1, 2, 3, 4, 5], fields=['Coordinates', 'Masses'])\n",
    "    com = find_com(snap)\n",
    "    \n",
    "    tlist.append(snap.Time)\n",
    "    com_list.append(com)\n",
    "\n",
    "tlist = np.array(tlist)\n",
    "com_list = np.array(com_list)"
   ]
  },
  {
   "cell_type": "code",
   "execution_count": 63,
   "metadata": {},
   "outputs": [
    {
     "data": {
      "image/png": "[encoded data removed]",
      "text/plain": [
       "<Figure size 432x288 with 1 Axes>"
      ]
     },
     "metadata": {},
     "output_type": "display_data"
    }
   ],
   "source": [
    "plt.plot(tlist, com_list[:,0], label='x')\n",
    "plt.plot(tlist, com_list[:,1], label='y')\n",
    "plt.plot(tlist, com_list[:,2], label='z')\n",
    "\n",
    "plt.xlabel('t [Myr]')\n",
    "plt.ylabel('com component [kpc]')\n",
    "plt.legend(frameon=False)\n",
    "plt.show()"
   ]
  },
  {
   "cell_type": "code",
   "execution_count": 64,
   "metadata": {},
   "outputs": [
    {
     "data": {
      "image/png": "[encoded data removed]",
      "text/plain": [
       "<Figure size 432x288 with 1 Axes>"
      ]
     },
     "metadata": {},
     "output_type": "display_data"
    }
   ],
   "source": [
    "com_diff = com_list - np.array([200, 200, 200])\n",
    "com_diff_mag = np.linalg.norm(com_diff, axis=1)\n",
    "\n",
    "plt.plot(tlist, com_diff_mag)\n",
    "\n",
    "plt.xlabel('t [Myr]')\n",
    "plt.ylabel('com diff [kpc]')\n",
    "plt.show()"
   ]
  },
  {
   "cell_type": "markdown",
   "metadata": {},
   "source": [
    "### Fourier Components\n",
    "Center of mass seems to be relatively stable. Detailed analysis (to be done later) should take this into account, but for now we can accept a shift of ~300 pc.\n",
    "\n",
    "Now, we need to compute the fourier component of just the disk component."
   ]
  },
  {
   "cell_type": "code",
   "execution_count": 55,
   "metadata": {
    "collapsed": true
   },
   "outputs": [],
   "source": [
    "def fourier_component(pos, mass, m, Rmin, Rmax, nbins=20, logspace=True, amplitude=False):\n",
    "\n",
    "#     assert isinstance(m, int), \"m must be an integer!\"\n",
    "#     assert isinstance(float(Rmin), float), \"Rmin must be a float!\"\n",
    "#     assert isinstance(float(Rmax), float), \"Rmax must be a float!\"\n",
    "    t0 = time.time()\n",
    "\n",
    "    if logspace:\n",
    "        bins = np.logspace(np.log10(Rmin), np.log10(Rmax), nbins)\n",
    "    else:\n",
    "        bins = np.linspace(Rmin, Rmax, nbins)\n",
    "\n",
    "    # loop through types and concatenate positions and masses    \n",
    "    Rmag = np.linalg.norm(pos[:,:2], axis=1)\n",
    "\n",
    "    keys = np.logical_and(Rmag > Rmin, Rmag < Rmax)\n",
    "\n",
    "    # get output R list by averaging the value of R in each bin\n",
    "    digit = np.digitize(Rmag[keys], bins)\n",
    "#     R_list = np.zeros(len(bins)-1)\n",
    "#     for i in range(len(R_list)):\n",
    "#         R_list = np.mean(Rmag[keys][digit == i])\n",
    "    R_list = [Rmag[keys][digit == i].mean() for i in range(1, len(bins))]\n",
    "\n",
    "    # compute the Am term for each particle\n",
    "    phi_list = np.arctan2(pos[:,1], pos[:,0])\n",
    "    Am_i = mass*np.exp((1j)*m*phi_list)\n",
    "\n",
    "    if amplitude:\n",
    "        Am_list = [np.abs(np.sum(Am_i[keys][digit == i])) for i in range(1, len(bins))]\n",
    "        t1 = time.time()\n",
    "        print(m, t1-t0)\n",
    "        return np.array(R_list), np.array(Am_list)\n",
    "    else:\n",
    "        Am_list_real = [np.sum(np.real(Am_i[keys][digit == i])) for i in range(1, len(bins))]\n",
    "        Am_list_imag = [np.sum(np.imag(Am_i[keys][digit == i])) for i in range(1, len(bins))]\n",
    "        t1 = time.time()\n",
    "        print(m, t1-t0)\n",
    "        return np.array(R_list), np.array(Am_list_real), np.array(Am_list_imag)"
   ]
  },
  {
   "cell_type": "code",
   "execution_count": 62,
   "metadata": {},
   "outputs": [],
   "source": [
    "@njit\n",
    "def fourier_component_njit(pos, mass, m, Rmin, Rmax, nbins=20, logspace=True):\n",
    "    if logspace:\n",
    "        bins = np.linspace(np.log10(Rmin), np.log10(Rmax), nbins+1)\n",
    "        bins = np.power(10., bins)\n",
    "    else:\n",
    "        bins = np.linspace(Rmin, Rmax, nbins+1)\n",
    "    \n",
    "    Am_real = np.zeros(nbins)\n",
    "    Am_imag = np.zeros(nbins)\n",
    "    Rmag = np.zeros(nbins)\n",
    "    N_in_bin = np.zeros(nbins)\n",
    "    \n",
    "    Npart = len(pos)\n",
    "    for i in range(Npart):\n",
    "        R = np.sqrt(pos[i][0]*pos[i][0] + pos[i][1]*pos[i][1])\n",
    "        phi = np.arctan2(pos[i][1], pos[i][0])\n",
    "        \n",
    "        for j in range(nbins):\n",
    "            if R > bins[j] and R < bins[j+1]:\n",
    "                Am_real[j] += mass[j]*np.cos(m*phi)\n",
    "                Am_imag[j] += mass[j]*np.sin(m*phi)\n",
    "                Rmag[j] += R\n",
    "                N_in_bin[j] += 1\n",
    "    \n",
    "    \n",
    "    for j in range(nbins):\n",
    "        Rmag[j] /= N_in_bin[j]\n",
    "    \n",
    "    return Rmag, Am_real, Am_imag\n",
    "    "
   ]
  },
  {
   "cell_type": "code",
   "execution_count": 31,
   "metadata": {},
   "outputs": [
    {
     "data": {
      "text/plain": [
       "array([ 1.        ,  1.12201845,  1.25892541,  1.41253754,  1.58489319,\n",
       "        1.77827941,  1.99526231,  2.23872114,  2.51188643,  2.81838293,\n",
       "        3.16227766,  3.54813389,  3.98107171,  4.46683592,  5.01187234,\n",
       "        5.62341325,  6.30957344,  7.07945784,  7.94328235,  8.91250938,\n",
       "       10.        ])"
      ]
     },
     "execution_count": 31,
     "metadata": {},
     "output_type": "execute_result"
    }
   ],
   "source": [
    "bins = fourier_component(0, 0, 0, 1, 10, logspace=True)\n",
    "bins"
   ]
  },
  {
   "cell_type": "code",
   "execution_count": 64,
   "metadata": {
    "collapsed": true
   },
   "outputs": [],
   "source": [
    "def compute_fourier_components(snap, Rmin=0.0, Rmax=30.0, nbins=60, logspace=False, center=np.array([200, 200, 200])):\n",
    "    # try loading snapshot\n",
    "    t0 = time.time()\n",
    "    firstpart = True\n",
    "    for i, npart in enumerate(snap.NumPart_Total):\n",
    "        if i not in [2, 3, 4]:\n",
    "            continue\n",
    "\n",
    "        if npart == 0:\n",
    "            continue\n",
    "\n",
    "        part = getattr(snap, 'part'+str(i))\n",
    "\n",
    "        # compute the center of mass\n",
    "        this_mass = snap.MassTable[i].as_unit(arepo.u.msol).value\n",
    "        this_pos = part.pos.as_unit(arepo.u.kpc).value\n",
    "\n",
    "        if center is not None:\n",
    "            this_pos = np.subtract(this_pos, center)\n",
    "\n",
    "        # if mass is zero, then we need to load each individual mass\n",
    "        if this_mass == 0:\n",
    "            this_mass = part.mass.as_unit(arepo.u.msol).value\n",
    "        else:\n",
    "            this_mass = np.full(npart, this_mass)\n",
    "\n",
    "        # now concatenate if needed\n",
    "        if firstpart:\n",
    "            mass = np.copy(this_mass)\n",
    "            pos = np.copy(this_pos)\n",
    "            firstpart = False\n",
    "        else:\n",
    "            mass = np.concatenate((mass, this_mass))\n",
    "            pos = np.concatenate((pos, this_pos))\n",
    "    \n",
    "    Rlist, A0, _ = fourier_component_njit(pos, mass, 0, Rmin, Rmax, nbins=nbins, logspace=logspace)\n",
    "    \n",
    "    Rlist, A1r, A1i = fourier_component_njit(pos, mass, 1, Rmin, Rmax, nbins=nbins, logspace=logspace)\n",
    "    \n",
    "    Rlist, A2r, A2i = fourier_component_njit(pos, mass, 2, Rmin, Rmax, nbins=nbins, logspace=logspace)\n",
    "    \n",
    "    Rlist, A4r, A4i = fourier_component_njit(pos, mass, 4, Rmin, Rmax, nbins=nbins, logspace=logspace)\n",
    "\n",
    "#     Rlist, A3r, A3i = fourier_component(pos, mass, 3, Rmin, Rmax, \n",
    "#                                        nbins=nbins, logspace=logspace, amplitude=False)\n",
    "#     Rlist, A4r, A4i = fourier_component(pos, mass, 4, Rmin, Rmax, \n",
    "#                                        nbins=nbins, logspace=logspace, amplitude=False)\n",
    "#     Rlist, A5r, A5i = fourier_component(pos, mass, 5, Rmin, Rmax, \n",
    "#                                        nbins=nbins, logspace=logspace, amplitude=False)\n",
    "#     Rlist, A6r, A6i = fourier_component(pos, mass, 6, Rmin, Rmax, \n",
    "#                                        nbins=nbins, logspace=logspace, amplitude=False)\n",
    "#     Rlist, A7r, A7i = fourier_component(pos, mass, 7, Rmin, Rmax, \n",
    "#                                        nbins=nbins, logspace=logspace, amplitude=False)\n",
    "#     Rlist, A8r, A8i = fourier_component(pos, mass, 8, Rmin, Rmax, \n",
    "#                                        nbins=nbins, logspace=logspace, amplitude=False)\n",
    "#     Rlist, A9r, A9i = fourier_component(pos, mass, 9, Rmin, Rmax, \n",
    "#                                        nbins=nbins, logspace=logspace, amplitude=False)\n",
    "#     Rlist, A10r, A10i = fourier_component(pos, mass, 10, Rmin, Rmax, \n",
    "#                                        nbins=nbins, logspace=logspace, amplitude=False)\n",
    "    \n",
    "    t = snap.Time.as_unit(arepo.u.d).value * u.d\n",
    "    t = t.to_value(u.Myr)\n",
    "\n",
    "    out = {}\n",
    "    out['Rlist'] = Rlist\n",
    "    out['A0'] = A0\n",
    "    out['A1r'], out['A1i'] = A1r, A1i\n",
    "    out['A2r'], out['A2i'] = A2r, A2i\n",
    "#     out['A3r'], out['A3i'] = A3r, A3i\n",
    "    out['A4r'], out['A4i'] = A4r, A4i\n",
    "#     out['A5r'], out['A5i'] = A5r, A5i\n",
    "#     out['A6r'], out['A6i'] = A6r, A6i\n",
    "#     out['A7r'], out['A7i'] = A7r, A7i\n",
    "#     out['A8r'], out['A8i'] = A8r, A8i\n",
    "#     out['A9r'], out['A9i'] = A9r, A9i\n",
    "#     out['A10r'], out['A10i'] = A10r, A10i\n",
    "    out['time'] = t\n",
    "    \n",
    "    \n",
    "    return out"
   ]
  },
  {
   "cell_type": "code",
   "execution_count": 5,
   "metadata": {},
   "outputs": [
    {
     "name": "stdout",
     "output_type": "stream",
     "text": [
      "CPU times: user 266 ms, sys: 1.13 s, total: 1.4 s\n",
      "Wall time: 5.2 s\n"
     ]
    }
   ],
   "source": [
    "%%time\n",
    "snap = read_snap(0, 0, parttype=[2, 3, 4, 5], fields=['Coordinates', 'Masses'])"
   ]
  },
  {
   "cell_type": "code",
   "execution_count": 65,
   "metadata": {},
   "outputs": [
    {
     "name": "stdout",
     "output_type": "stream",
     "text": [
      "CPU times: user 3.71 s, sys: 111 ms, total: 3.82 s\n",
      "Wall time: 3.83 s\n"
     ]
    }
   ],
   "source": [
    "%%time\n",
    "out = compute_fourier_components(snap)"
   ]
  },
  {
   "cell_type": "code",
   "execution_count": 75,
   "metadata": {},
   "outputs": [
    {
     "name": "stderr",
     "output_type": "stream",
     "text": [
      " 18%|█▊        | 74/400 [07:00<36:39,  6.75s/it]"
     ]
    },
    {
     "ename": "KeyboardInterrupt",
     "evalue": "",
     "output_type": "error",
     "traceback": [
      "\u001b[0;31m---------------------------------------------------------------------------\u001b[0m",
      "\u001b[0;31mKeyboardInterrupt\u001b[0m                         Traceback (most recent call last)",
      "\u001b[0;32m<ipython-input-75-1a7d5a9d5a5d>\u001b[0m in \u001b[0;36m<module>\u001b[0;34m()\u001b[0m\n\u001b[1;32m      1\u001b[0m \u001b[0msnap_list\u001b[0m \u001b[0;34m=\u001b[0m \u001b[0;34m[\u001b[0m\u001b[0;34m]\u001b[0m\u001b[0;34m\u001b[0m\u001b[0m\n\u001b[1;32m      2\u001b[0m \u001b[0;32mfor\u001b[0m \u001b[0mi\u001b[0m \u001b[0;32min\u001b[0m \u001b[0mtqdm\u001b[0m\u001b[0;34m(\u001b[0m\u001b[0mnp\u001b[0m\u001b[0;34m.\u001b[0m\u001b[0marange\u001b[0m\u001b[0;34m(\u001b[0m\u001b[0;36m0\u001b[0m\u001b[0;34m,\u001b[0m \u001b[0;36m400\u001b[0m\u001b[0;34m)\u001b[0m\u001b[0;34m)\u001b[0m\u001b[0;34m:\u001b[0m\u001b[0;34m\u001b[0m\u001b[0m\n\u001b[0;32m----> 3\u001b[0;31m     \u001b[0msnap\u001b[0m \u001b[0;34m=\u001b[0m \u001b[0mread_snap\u001b[0m\u001b[0;34m(\u001b[0m\u001b[0mi\u001b[0m\u001b[0;34m,\u001b[0m \u001b[0;36m0\u001b[0m\u001b[0;34m,\u001b[0m \u001b[0mparttype\u001b[0m\u001b[0;34m=\u001b[0m\u001b[0;34m[\u001b[0m\u001b[0;36m2\u001b[0m\u001b[0;34m,\u001b[0m \u001b[0;36m3\u001b[0m\u001b[0;34m,\u001b[0m \u001b[0;36m4\u001b[0m\u001b[0;34m]\u001b[0m\u001b[0;34m,\u001b[0m \u001b[0mfields\u001b[0m\u001b[0;34m=\u001b[0m\u001b[0;34m[\u001b[0m\u001b[0;34m'Coordinates'\u001b[0m\u001b[0;34m,\u001b[0m \u001b[0;34m'Masses'\u001b[0m\u001b[0;34m]\u001b[0m\u001b[0;34m)\u001b[0m\u001b[0;34m\u001b[0m\u001b[0m\n\u001b[0m\u001b[1;32m      4\u001b[0m     \u001b[0msnap_list\u001b[0m\u001b[0;34m.\u001b[0m\u001b[0mappend\u001b[0m\u001b[0;34m(\u001b[0m\u001b[0msnap\u001b[0m\u001b[0;34m)\u001b[0m\u001b[0;34m\u001b[0m\u001b[0m\n",
      "\u001b[0;32m<ipython-input-2-4e99ff6a5dbc>\u001b[0m in \u001b[0;36mread_snap\u001b[0;34m(idx, sim_idx, lvl, parttype, fields, basepath)\u001b[0m\n\u001b[1;32m      4\u001b[0m               basepath = '/n/holyscratch01/hernquist_lab/abeane/starbar_runs/runs/'):\n\u001b[1;32m      5\u001b[0m     \u001b[0mfname\u001b[0m \u001b[0;34m=\u001b[0m \u001b[0mbasepath\u001b[0m \u001b[0;34m+\u001b[0m \u001b[0msim\u001b[0m\u001b[0;34m[\u001b[0m\u001b[0msim_idx\u001b[0m\u001b[0;34m]\u001b[0m \u001b[0;34m+\u001b[0m \u001b[0;34m'/'\u001b[0m \u001b[0;34m+\u001b[0m \u001b[0mlvl\u001b[0m \u001b[0;34m+\u001b[0m \u001b[0;34m'/output'\u001b[0m\u001b[0;34m\u001b[0m\u001b[0m\n\u001b[0;32m----> 6\u001b[0;31m     \u001b[0;32mreturn\u001b[0m \u001b[0marepo\u001b[0m\u001b[0;34m.\u001b[0m\u001b[0mSnapshot\u001b[0m\u001b[0;34m(\u001b[0m\u001b[0mfname\u001b[0m\u001b[0;34m,\u001b[0m \u001b[0midx\u001b[0m\u001b[0;34m,\u001b[0m \u001b[0mparttype\u001b[0m\u001b[0;34m=\u001b[0m\u001b[0mparttype\u001b[0m\u001b[0;34m,\u001b[0m \u001b[0mfields\u001b[0m\u001b[0;34m=\u001b[0m\u001b[0mfields\u001b[0m\u001b[0;34m,\u001b[0m \u001b[0mcombineFiles\u001b[0m\u001b[0;34m=\u001b[0m\u001b[0;32mTrue\u001b[0m\u001b[0;34m)\u001b[0m\u001b[0;34m\u001b[0m\u001b[0m\n\u001b[0m",
      "\u001b[0;32m~/.local/lib/python3.6/site-packages/gadget-0.1-py3.6-linux-x86_64.egg/gadget/loader.py\u001b[0m in \u001b[0;36m__init__\u001b[0;34m(self, filename, snapshot, filenum, format, fields, parttype, combineFiles, toDouble, onlyHeader, verbose, filter, sortID, physicalUnits, **param)\u001b[0m\n\u001b[1;32m    469\u001b[0m         \u001b[0mself\u001b[0m\u001b[0;34m.\u001b[0m\u001b[0m_filter\u001b[0m \u001b[0;34m=\u001b[0m \u001b[0mfilter\u001b[0m\u001b[0;34m\u001b[0m\u001b[0m\n\u001b[1;32m    470\u001b[0m \u001b[0;34m\u001b[0m\u001b[0m\n\u001b[0;32m--> 471\u001b[0;31m         \u001b[0mself\u001b[0m\u001b[0;34m.\u001b[0m\u001b[0m_backend\u001b[0m\u001b[0;34m.\u001b[0m\u001b[0mload\u001b[0m\u001b[0;34m(\u001b[0m\u001b[0mfilenum\u001b[0m\u001b[0;34m,\u001b[0m \u001b[0msnapshot\u001b[0m\u001b[0;34m)\u001b[0m\u001b[0;34m\u001b[0m\u001b[0m\n\u001b[0m\u001b[1;32m    472\u001b[0m \u001b[0;34m\u001b[0m\u001b[0m\n\u001b[1;32m    473\u001b[0m         \u001b[0mself\u001b[0m\u001b[0;34m.\u001b[0m\u001b[0m_initGroups\u001b[0m\u001b[0;34m(\u001b[0m\u001b[0;34m)\u001b[0m\u001b[0;34m\u001b[0m\u001b[0m\n",
      "\u001b[0;32m~/.local/lib/python3.6/site-packages/gadget-0.1-py3.6-linux-x86_64.egg/gadget/format3.py\u001b[0m in \u001b[0;36mload\u001b[0;34m(self, num_load, snapshot_load)\u001b[0m\n\u001b[1;32m    124\u001b[0m \u001b[0;34m\u001b[0m\u001b[0m\n\u001b[1;32m    125\u001b[0m         \u001b[0;32mif\u001b[0m \u001b[0;32mnot\u001b[0m \u001b[0mself\u001b[0m\u001b[0;34m.\u001b[0m\u001b[0msn\u001b[0m\u001b[0;34m.\u001b[0m\u001b[0m_onlyHeader\u001b[0m\u001b[0;34m:\u001b[0m\u001b[0;34m\u001b[0m\u001b[0m\n\u001b[0;32m--> 126\u001b[0;31m             \u001b[0mself\u001b[0m\u001b[0;34m.\u001b[0m\u001b[0mload_data\u001b[0m\u001b[0;34m(\u001b[0m\u001b[0mfilename\u001b[0m\u001b[0;34m,\u001b[0m\u001b[0mnum\u001b[0m\u001b[0;34m)\u001b[0m\u001b[0;34m\u001b[0m\u001b[0m\n\u001b[0m\u001b[1;32m    127\u001b[0m \u001b[0;34m\u001b[0m\u001b[0m\n\u001b[1;32m    128\u001b[0m         \u001b[0;32mif\u001b[0m \u001b[0mself\u001b[0m\u001b[0;34m.\u001b[0m\u001b[0msn\u001b[0m\u001b[0;34m.\u001b[0m\u001b[0m_combineFiles\u001b[0m\u001b[0;34m:\u001b[0m\u001b[0;34m\u001b[0m\u001b[0m\n",
      "\u001b[0;32m~/.local/lib/python3.6/site-packages/gadget-0.1-py3.6-linux-x86_64.egg/gadget/format3.py\u001b[0m in \u001b[0;36mload_data\u001b[0;34m(self, filename, num)\u001b[0m\n\u001b[1;32m    245\u001b[0m                 \u001b[0;32mraise\u001b[0m \u001b[0mException\u001b[0m\u001b[0;34m(\u001b[0m\u001b[0;34m\"could not open file %s\"\u001b[0m\u001b[0;34m%\u001b[0m\u001b[0mfilename\u001b[0m\u001b[0;34m)\u001b[0m\u001b[0;34m\u001b[0m\u001b[0m\n\u001b[1;32m    246\u001b[0m \u001b[0;34m\u001b[0m\u001b[0m\n\u001b[0;32m--> 247\u001b[0;31m             \u001b[0mself\u001b[0m\u001b[0;34m.\u001b[0m\u001b[0mload_header\u001b[0m\u001b[0;34m(\u001b[0m\u001b[0;34m)\u001b[0m\u001b[0;34m\u001b[0m\u001b[0m\n\u001b[0m\u001b[1;32m    248\u001b[0m \u001b[0;34m\u001b[0m\u001b[0m\n\u001b[1;32m    249\u001b[0m             \u001b[0;32mfor\u001b[0m \u001b[0mgr\u001b[0m \u001b[0;32min\u001b[0m \u001b[0mself\u001b[0m\u001b[0;34m.\u001b[0m\u001b[0msn\u001b[0m\u001b[0;34m.\u001b[0m\u001b[0m_parttype\u001b[0m\u001b[0;34m:\u001b[0m\u001b[0;34m\u001b[0m\u001b[0m\n",
      "\u001b[0;32m~/.local/lib/python3.6/site-packages/gadget-0.1-py3.6-linux-x86_64.egg/gadget/format3.py\u001b[0m in \u001b[0;36mload_header\u001b[0;34m(self)\u001b[0m\n\u001b[1;32m    141\u001b[0m         \u001b[0mself\u001b[0m\u001b[0;34m.\u001b[0m\u001b[0msn\u001b[0m\u001b[0;34m.\u001b[0m\u001b[0m_headerfields\u001b[0m \u001b[0;34m=\u001b[0m \u001b[0;34m[\u001b[0m\u001b[0;34m]\u001b[0m\u001b[0;34m\u001b[0m\u001b[0m\n\u001b[1;32m    142\u001b[0m \u001b[0;34m\u001b[0m\u001b[0m\n\u001b[0;32m--> 143\u001b[0;31m         \u001b[0;32mfor\u001b[0m \u001b[0mi\u001b[0m \u001b[0;32min\u001b[0m \u001b[0mfile\u001b[0m\u001b[0;34m[\u001b[0m\u001b[0;34m'/Header'\u001b[0m\u001b[0;34m]\u001b[0m\u001b[0;34m.\u001b[0m\u001b[0mattrs\u001b[0m\u001b[0;34m:\u001b[0m\u001b[0;34m\u001b[0m\u001b[0m\n\u001b[0m\u001b[1;32m    144\u001b[0m             \u001b[0mname\u001b[0m \u001b[0;34m=\u001b[0m \u001b[0mi\u001b[0m\u001b[0;34m.\u001b[0m\u001b[0mreplace\u001b[0m\u001b[0;34m(\u001b[0m\u001b[0;34m\" \"\u001b[0m \u001b[0;34m,\u001b[0m\u001b[0;34m\"\"\u001b[0m\u001b[0;34m)\u001b[0m\u001b[0;34m\u001b[0m\u001b[0m\n\u001b[1;32m    145\u001b[0m \u001b[0;34m\u001b[0m\u001b[0m\n",
      "\u001b[0;32mh5py/_objects.pyx\u001b[0m in \u001b[0;36mh5py._objects.with_phil.wrapper\u001b[0;34m()\u001b[0m\n",
      "\u001b[0;32mh5py/_objects.pyx\u001b[0m in \u001b[0;36mh5py._objects.with_phil.wrapper\u001b[0;34m()\u001b[0m\n",
      "\u001b[0;32m~/.local/lib/python3.6/site-packages/h5py/_hl/group.py\u001b[0m in \u001b[0;36m__getitem__\u001b[0;34m(self, name)\u001b[0m\n\u001b[1;32m    260\u001b[0m                 \u001b[0;32mraise\u001b[0m \u001b[0mValueError\u001b[0m\u001b[0;34m(\u001b[0m\u001b[0;34m\"Invalid HDF5 object reference\"\u001b[0m\u001b[0;34m)\u001b[0m\u001b[0;34m\u001b[0m\u001b[0m\n\u001b[1;32m    261\u001b[0m         \u001b[0;32melse\u001b[0m\u001b[0;34m:\u001b[0m\u001b[0;34m\u001b[0m\u001b[0m\n\u001b[0;32m--> 262\u001b[0;31m             \u001b[0moid\u001b[0m \u001b[0;34m=\u001b[0m \u001b[0mh5o\u001b[0m\u001b[0;34m.\u001b[0m\u001b[0mopen\u001b[0m\u001b[0;34m(\u001b[0m\u001b[0mself\u001b[0m\u001b[0;34m.\u001b[0m\u001b[0mid\u001b[0m\u001b[0;34m,\u001b[0m \u001b[0mself\u001b[0m\u001b[0;34m.\u001b[0m\u001b[0m_e\u001b[0m\u001b[0;34m(\u001b[0m\u001b[0mname\u001b[0m\u001b[0;34m)\u001b[0m\u001b[0;34m,\u001b[0m \u001b[0mlapl\u001b[0m\u001b[0;34m=\u001b[0m\u001b[0mself\u001b[0m\u001b[0;34m.\u001b[0m\u001b[0m_lapl\u001b[0m\u001b[0;34m)\u001b[0m\u001b[0;34m\u001b[0m\u001b[0m\n\u001b[0m\u001b[1;32m    263\u001b[0m \u001b[0;34m\u001b[0m\u001b[0m\n\u001b[1;32m    264\u001b[0m         \u001b[0motype\u001b[0m \u001b[0;34m=\u001b[0m \u001b[0mh5i\u001b[0m\u001b[0;34m.\u001b[0m\u001b[0mget_type\u001b[0m\u001b[0;34m(\u001b[0m\u001b[0moid\u001b[0m\u001b[0;34m)\u001b[0m\u001b[0;34m\u001b[0m\u001b[0m\n",
      "\u001b[0;32mh5py/_objects.pyx\u001b[0m in \u001b[0;36mh5py._objects.with_phil.wrapper\u001b[0;34m()\u001b[0m\n",
      "\u001b[0;32mh5py/_objects.pyx\u001b[0m in \u001b[0;36mh5py._objects.with_phil.wrapper\u001b[0;34m()\u001b[0m\n",
      "\u001b[0;32mh5py/h5o.pyx\u001b[0m in \u001b[0;36mh5py.h5o.open\u001b[0;34m()\u001b[0m\n",
      "\u001b[0;32mh5py/h5i.pyx\u001b[0m in \u001b[0;36mh5py.h5i.wrap_identifier\u001b[0;34m()\u001b[0m\n",
      "\u001b[0;32m/n/helmod/apps/centos7/Core/Anaconda3/5.0.1-fasrc02/x/lib/python3.6/importlib/_bootstrap.py\u001b[0m in \u001b[0;36mparent\u001b[0;34m(self)\u001b[0m\n",
      "\u001b[0;31mKeyboardInterrupt\u001b[0m: "
     ]
    }
   ],
   "source": [
    "snap_list = []\n",
    "for i in tqdm(np.arange(0, 400)):\n",
    "    snap = read_snap(i, 0, parttype=[2, 3, 4], fields=['Coordinates', 'Masses'])\n",
    "    snap_list.append(snap)"
   ]
  },
  {
   "cell_type": "code",
   "execution_count": 73,
   "metadata": {},
   "outputs": [
    {
     "name": "stderr",
     "output_type": "stream",
     "text": [
      "100%|██████████| 20/20 [03:05<00:00,  9.67s/it]\n"
     ]
    }
   ],
   "source": [
    "out_list = []\n",
    "for i in tqdm(np.arange(0, 200, 10)):\n",
    "    snap = read_snap(i, 0, parttype=[2, 3, 4], fields=['Coordinates', 'Masses'])\n",
    "    out_list.append(compute_fourier_components(snap))"
   ]
  },
  {
   "cell_type": "code",
   "execution_count": 74,
   "metadata": {},
   "outputs": [
    {
     "name": "stdout",
     "output_type": "stream",
     "text": [
      "[0.0, 49.1761121924671, 97.8747864024831, 147.05089859495018, 195.7495728049662, 244.44824701498214, 293.62435920744923, 342.3230334174652, 391.4991456099324, 440.1978198199483, 488.8964940299643, 538.0726062224314, 586.7712804324474, 635.9473926249145, 684.6460668349304, 733.3447410449464, 782.5208532374135, 831.2195274474295, 880.3956396398966, 929.0943138499126]\n"
     ]
    },
    {
     "data": {
      "image/png": "[encoded data removed]",
      "text/plain": [
       "<Figure size 432x288 with 1 Axes>"
      ]
     },
     "metadata": {},
     "output_type": "display_data"
    }
   ],
   "source": [
    "tlist = []\n",
    "A2list = []\n",
    "\n",
    "idx=4\n",
    "\n",
    "for out in out_list:\n",
    "    tlist.append(out['time'])\n",
    "    A2 = np.sqrt(out['A2r'][idx]*out['A2r'][idx] + out['A2i'][idx]*out['A2i'][idx])\n",
    "    A0 = out['A0'][idx]\n",
    "    A2list.append(A2/A0)\n",
    "print(tlist)\n",
    "    \n",
    "plt.plot(tlist, A2list)\n",
    "plt.show()"
   ]
  },
  {
   "cell_type": "code",
   "execution_count": null,
   "metadata": {
    "collapsed": true
   },
   "outputs": [],
   "source": []
  }
 ],
 "metadata": {
  "kernelspec": {
   "display_name": "Python 3",
   "language": "python",
   "name": "python3"
  },
  "language_info": {
   "codemirror_mode": {
    "name": "ipython",
    "version": 3
   },
   "file_extension": ".py",
   "mimetype": "text/x-python",
   "name": "python",
   "nbconvert_exporter": "python",
   "pygments_lexer": "ipython3",
   "version": "3.6.3"
  }
 },
 "nbformat": 4,
 "nbformat_minor": 2
}
