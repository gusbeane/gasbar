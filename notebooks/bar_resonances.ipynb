{
 "cells": [
  {
   "cell_type": "code",
   "execution_count": 4,
   "metadata": {},
   "outputs": [
    {
     "data": {
      "text/plain": [
       "'Length unit: 1 Kpc, velocity unit: 1 km/s, time unit: 977.793 Myr, mass unit: 1e+10 Msun, gravitational constant: 43009.2'"
      ]
     },
     "execution_count": 4,
     "metadata": {},
     "output_type": "execute_result"
    }
   ],
   "source": [
    "import agama\n",
    "import arepo\n",
    "import h5py as h5\n",
    "import numpy as np\n",
    "import matplotlib.pyplot as plt\n",
    "from tqdm import tqdm_notebook as tqdm\n",
    "\n",
    "from joblib import Parallel, delayed\n",
    "import matplotlib as mpl\n",
    "\n",
    "from numba import njit, prange\n",
    "\n",
    "agama.setUnits(mass=1E10, length=1, velocity=1)"
   ]
  },
  {
   "cell_type": "code",
   "execution_count": 5,
   "metadata": {
    "collapsed": true
   },
   "outputs": [],
   "source": [
    "@njit\n",
    "def my_mult(mass, vel):\n",
    "    out = np.zeros((len(mass), 3))\n",
    "    for i in range(len(mass)):\n",
    "        out[i][0] = mass[i] * vel[i][0] \n",
    "        out[i][1] = mass[i] * vel[i][1]\n",
    "        out[i][2] = mass[i] * vel[i][2]\n",
    "    return out"
   ]
  },
  {
   "cell_type": "code",
   "execution_count": 6,
   "metadata": {
    "collapsed": true
   },
   "outputs": [],
   "source": [
    "sim_list = ['Nbody', 'phantom-vacuum-Sg20-Rc3.5']\n",
    "\n",
    "basepath = '/n/holystore01/LABS/hernquist_lab/Users/abeane/starbar_runs/runs/'\n",
    "\n",
    "def read_snap(idx, sim_idx, lvl='lvl3', parttype=[0], fields=['Coordinates', 'Masses', 'Velocities', 'ParticleIDs'],\n",
    "              basepath = basepath):\n",
    "    fname = basepath + sim_list[sim_idx] + '/' + lvl + '/output'\n",
    "    return arepo.Snapshot(fname, idx, parttype=parttype, fields=fields, combineFiles=True)\n",
    "\n",
    "def read_sfr(sim_idx, lvl='lvl3', basepath = basepath):\n",
    "    fname = basepath + sim_list[sim_idx] + '/' + lvl + '/output/sfr.txt'\n",
    "    return np.genfromtxt(fname)\n",
    "\n",
    "def read_fourier(sim_idx, lvl='lvl3', basepath='/n/home01/abeane/starbar/plots/'):\n",
    "    sim = sim_list[sim_idx]\n",
    "    f = h5.File(basepath+'/fourier_component/data/fourier_'+sim+'-'+lvl+'.hdf5', mode='r')\n",
    "    return f"
   ]
  },
  {
   "cell_type": "code",
   "execution_count": 8,
   "metadata": {
    "collapsed": true
   },
   "outputs": [],
   "source": [
    "snap = np.arange(0, 1600, 20)"
   ]
  },
  {
   "cell_type": "code",
   "execution_count": 5,
   "metadata": {
    "collapsed": true
   },
   "outputs": [],
   "source": [
    "import glob\n",
    "def read_pattern_speed(freq_path, name, lvl, snap):\n",
    "    frq = h5.File(freq_path + '/freq_' + name + '-' + lvl + '/freq_' + name + '-' + lvl + '.' + \\\n",
    "             str(0)+'.hdf5', mode='r')\n",
    "    ans = np.array(frq['PatternSpeed'][snap])\n",
    "    frq.close()\n",
    "    return ans"
   ]
  },
  {
   "cell_type": "code",
   "execution_count": 6,
   "metadata": {
    "collapsed": true
   },
   "outputs": [],
   "source": [
    "freq_path = '/n/home01/abeane/starbar/plots/freq/data'\n",
    "\n",
    "ps_N = read_pattern_speed(freq_path, 'Nbody', 'lvl3', snap)\n",
    "ps_S = read_pattern_speed(freq_path, 'phantom-vacuum-Sg20-Rc3.5', 'lvl3', snap) "
   ]
  },
  {
   "cell_type": "code",
   "execution_count": 7,
   "metadata": {},
   "outputs": [
    {
     "name": "stdout",
     "output_type": "stream",
     "text": [
      "36.28619541264606 40.61218678609953\n"
     ]
    }
   ],
   "source": [
    "print(ps_N[25], ps_S[25])"
   ]
  },
  {
   "cell_type": "code",
   "execution_count": 2,
   "metadata": {
    "collapsed": true
   },
   "outputs": [],
   "source": [
    "import glob\n",
    "def read_chunk(freq_path, name, lvl, i, snap):\n",
    "    frq = h5.File(freq_path + '/freq_' + name + '-' + lvl + '/freq_' + name + '-' + lvl + '.' + \\\n",
    "             str(i)+'.hdf5', mode='r')\n",
    "    ans1 = np.array(frq['PartType1/Frequencies'][:,snap,:])\n",
    "    \n",
    "    ans2 = np.array(frq['PartType1/Resonances'][:,snap,:])\n",
    "    \n",
    "    ans3 = np.array(frq['PartType1/DeltaLz'][snap,:])\n",
    "    ans3 = np.swapaxes(ans3, 0, 1)\n",
    "#     ans2 = np.swapaxes(ans2, 0, 1)\n",
    "    \n",
    "    ans = np.concatenate((ans1, ans2, ans3[:,:,np.newaxis]), axis=-1)\n",
    "    frq.close()\n",
    "    return ans"
   ]
  },
  {
   "cell_type": "code",
   "execution_count": 5,
   "metadata": {
    "collapsed": true
   },
   "outputs": [],
   "source": [
    "freq_path = '/n/home01/abeane/starbar/plots/freq/data'\n",
    "name = 'Nbody'\n",
    "lvl = 'lvl4'\n",
    "i = 0\n",
    "snap = np.array([300, 400, 500, 600])\n",
    "\n",
    "ans = read_chunk(freq_path, name, lvl, i, snap)\n",
    "\n",
    "# print(np.shape(ans1), np.shape(ans2), np.shape(ans3.reshape((1601, 4, 1))))\n",
    "# print(np.shape(ans1), np.shape(ans2), np.shape(ans3))\n",
    "\n",
    "# ans = np.concatenate((ans1, ans2, ans3[:,:,np.newaxis]), axis=-1)"
   ]
  },
  {
   "cell_type": "code",
   "execution_count": 6,
   "metadata": {
    "collapsed": true
   },
   "outputs": [],
   "source": []
  },
  {
   "cell_type": "code",
   "execution_count": 10,
   "metadata": {},
   "outputs": [
    {
     "name": "stdout",
     "output_type": "stream",
     "text": [
      "1024\n"
     ]
    },
    {
     "data": {
      "application/vnd.jupyter.widget-view+json": {
       "model_id": "13602d264c324bb6bd9d8b3873cfe4d6",
       "version_major": 2,
       "version_minor": 0
      },
      "text/plain": [
       "A Jupyter Widget"
      ]
     },
     "metadata": {},
     "output_type": "display_data"
    }
   ],
   "source": [
    "freq_path = '/n/home01/abeane/starbar/plots/freq/data'\n",
    "\n",
    "name = 'phantom-vacuum-Sg20-Rc3.5'\n",
    "lvl='lvl4'\n",
    "\n",
    "nchunk = len(glob.glob(freq_path + '/freq_' + name + '-' + lvl + '/freq_*'))\n",
    "nproc = 48\n",
    "\n",
    "# Omega_S = np.array([]).reshape((0, 3))\n",
    "# snap = np.arange(0, 1600, 20)\n",
    "print(nchunk)\n",
    "# nchunk = 512\n",
    "\n",
    "out = Parallel(n_jobs=nproc) (delayed(read_chunk)(freq_path, name, lvl, i, snap) for i in tqdm(range(nchunk)))\n",
    "Omega_S3 = np.concatenate(out)"
   ]
  },
  {
   "cell_type": "code",
   "execution_count": 11,
   "metadata": {
    "collapsed": true
   },
   "outputs": [],
   "source": [
    "# np.save('data/Omega_S3.npy', Omega_S3)\n",
    "np.save('data/Omega_S4.npy', Omega_S3)"
   ]
  },
  {
   "cell_type": "code",
   "execution_count": 8,
   "metadata": {
    "collapsed": true
   },
   "outputs": [],
   "source": [
    "Omega_S3 = np.load('data/Omega_S3.npy')"
   ]
  },
  {
   "cell_type": "code",
   "execution_count": 9,
   "metadata": {},
   "outputs": [
    {
     "name": "stdout",
     "output_type": "stream",
     "text": [
      "512\n"
     ]
    },
    {
     "data": {
      "application/vnd.jupyter.widget-view+json": {
       "model_id": "f78f642ead2d457cb34c495fde92137c",
       "version_major": 2,
       "version_minor": 0
      },
      "text/plain": [
       "A Jupyter Widget"
      ]
     },
     "metadata": {},
     "output_type": "display_data"
    }
   ],
   "source": [
    "freq_path = '/n/home01/abeane/starbar/plots/freq/data'\n",
    "\n",
    "name = 'Nbody'\n",
    "lvl='lvl4'\n",
    "\n",
    "nchunk = len(glob.glob(freq_path + '/freq_' + name + '-' + lvl + '/freq_*'))\n",
    "nproc = 48\n",
    "\n",
    "# Omega_S = np.array([]).reshape((0, 3))\n",
    "# snap = np.arange(0, 1600, 50)\n",
    "print(nchunk)\n",
    "# nchunk = 512\n",
    "\n",
    "out = Parallel(n_jobs=nproc) (delayed(read_chunk)(freq_path, name, lvl, i, snap) for i in tqdm(range(nchunk)))\n",
    "Omega_N4 = np.concatenate(out)"
   ]
  },
  {
   "cell_type": "code",
   "execution_count": 10,
   "metadata": {
    "collapsed": true
   },
   "outputs": [],
   "source": [
    "np.save('data/Omega_N4.npy', Omega_N4)"
   ]
  },
  {
   "cell_type": "code",
   "execution_count": 9,
   "metadata": {
    "collapsed": true
   },
   "outputs": [],
   "source": [
    "# Omega_N3 = np.load('data/Omega_N3.npy')"
   ]
  },
  {
   "cell_type": "code",
   "execution_count": 10,
   "metadata": {
    "collapsed": true
   },
   "outputs": [],
   "source": [
    "@njit\n",
    "def RES_IDX(i, j, k, N):\n",
    "    return i*N*N + j*N + k\n",
    "\n",
    "@njit\n",
    "def RES_IDX_2D(i, j, N):\n",
    "    return i*N + j"
   ]
  },
  {
   "cell_type": "code",
   "execution_count": 11,
   "metadata": {
    "collapsed": true
   },
   "outputs": [],
   "source": [
    "@njit\n",
    "def count_res(res, lRmin=-7, lRmax=7, lphimin=-7, lphimax=7, lzmin=-7, lzmax=7):\n",
    "    lRlist = np.arange(lRmin, lRmax+1)\n",
    "    lphilist = np.arange(lphimin, lphimax+1)\n",
    "    lzlist = np.arange(lzmin, lzmax+1)\n",
    "    \n",
    "    Nres = len(lRlist)\n",
    "    \n",
    "    res_list = np.zeros((Nres**3, 3))\n",
    "    \n",
    "    for i in range(len(lRlist)):\n",
    "        for j in range(len(lphilist)):\n",
    "            for k in range(len(lzlist)):\n",
    "                res_list[RES_IDX(i, j, k, Nres)][0] = lRlist[i]\n",
    "                res_list[RES_IDX(i, j, k, Nres)][1] = lphilist[j]\n",
    "                res_list[RES_IDX(i, j, k, Nres)][2] = lzlist[k]\n",
    "    \n",
    "    Npart = res.shape[0]\n",
    "    Nsnap = res.shape[1]\n",
    "    print(Npart, Nsnap)\n",
    "    \n",
    "    N_in_res = np.zeros((Nsnap, Nres**3))\n",
    "    \n",
    "    for j in range(Nsnap):\n",
    "        for i in range(Npart):\n",
    "            if res[i][j][0] == np.nan:\n",
    "                continue\n",
    "            \n",
    "            # now check all reso\n",
    "\n",
    "            ii = int(res[i][j][0] - lRmin)\n",
    "            jj = int(res[i][j][1] - lphimin)\n",
    "            kk = int(res[i][j][2] - lzmin)\n",
    "            \n",
    "            if ((ii==0 and jj==0) and kk==0):\n",
    "                print(ii, jj, kk, i, j)\n",
    "    \n",
    "            N_in_res[j][RES_IDX(ii,jj,kk,Nres)] += 1\n",
    "    \n",
    "    return N_in_res, res_list"
   ]
  },
  {
   "cell_type": "code",
   "execution_count": 111,
   "metadata": {},
   "outputs": [
    {
     "name": "stdout",
     "output_type": "stream",
     "text": [
      "(3168480, 32, 3)\n",
      "3168480 32\n",
      "CPU times: user 7.14 s, sys: 10.5 ms, total: 7.15 s\n",
      "Wall time: 7.15 s\n"
     ]
    }
   ],
   "source": [
    "res = Omega_N4[:,:,3:]\n",
    "print(res.shape)\n",
    "%time N_in_res, res_list = count_res(res)"
   ]
  },
  {
   "cell_type": "code",
   "execution_count": 114,
   "metadata": {},
   "outputs": [
    {
     "data": {
      "text/plain": [
       "array([2.732074e+06, 4.401000e+03, 3.747000e+03, 2.964000e+03,\n",
       "       2.919000e+03, 2.807000e+03, 2.773000e+03, 2.650000e+03,\n",
       "       2.564000e+03, 2.475000e+03, 2.328000e+03, 2.277000e+03,\n",
       "       2.243000e+03, 2.154000e+03, 2.047000e+03, 2.046000e+03,\n",
       "       2.030000e+03, 2.015000e+03, 2.008000e+03, 1.932000e+03,\n",
       "       1.880000e+03, 1.879000e+03, 1.858000e+03, 1.811000e+03,\n",
       "       1.804000e+03, 1.801000e+03, 1.785000e+03, 1.782000e+03,\n",
       "       1.767000e+03, 1.702000e+03, 1.688000e+03, 1.680000e+03,\n",
       "       1.678000e+03, 1.674000e+03, 1.650000e+03, 1.635000e+03,\n",
       "       1.619000e+03, 1.612000e+03, 1.593000e+03, 1.573000e+03,\n",
       "       1.571000e+03, 1.568000e+03, 1.513000e+03, 1.462000e+03,\n",
       "       1.442000e+03, 1.432000e+03, 1.420000e+03, 1.417000e+03,\n",
       "       1.413000e+03, 1.402000e+03, 1.400000e+03, 1.399000e+03,\n",
       "       1.394000e+03, 1.387000e+03, 1.382000e+03, 1.370000e+03,\n",
       "       1.369000e+03, 1.368000e+03, 1.359000e+03, 1.356000e+03,\n",
       "       1.354000e+03, 1.348000e+03, 1.345000e+03, 1.345000e+03,\n",
       "       1.317000e+03, 1.315000e+03, 1.302000e+03, 1.295000e+03,\n",
       "       1.276000e+03, 1.254000e+03, 1.252000e+03, 1.251000e+03,\n",
       "       1.242000e+03, 1.238000e+03, 1.235000e+03, 1.232000e+03,\n",
       "       1.230000e+03, 1.230000e+03, 1.228000e+03, 1.228000e+03,\n",
       "       1.222000e+03, 1.216000e+03, 1.194000e+03, 1.184000e+03,\n",
       "       1.182000e+03, 1.181000e+03, 1.179000e+03, 1.174000e+03,\n",
       "       1.173000e+03, 1.168000e+03, 1.163000e+03, 1.159000e+03,\n",
       "       1.155000e+03, 1.155000e+03, 1.152000e+03, 1.149000e+03,\n",
       "       1.147000e+03, 1.137000e+03, 1.135000e+03, 1.134000e+03])"
      ]
     },
     "execution_count": 114,
     "metadata": {},
     "output_type": "execute_result"
    }
   ],
   "source": [
    "N_in_res[4][np.flip(np.argsort(N_in_res[4]))][:100]"
   ]
  },
  {
   "cell_type": "code",
   "execution_count": 12,
   "metadata": {
    "collapsed": true
   },
   "outputs": [],
   "source": [
    "@njit\n",
    "def compute_res_dLz(res, dLz, lRmin=-7, lRmax=7, lphimin=-7, lphimax=7, lzmin=-7, lzmax=7):\n",
    "    lRlist = np.arange(lRmin, lRmax+1)\n",
    "    lphilist = np.arange(lphimin, lphimax+1)\n",
    "    lzlist = np.arange(lzmin, lzmax+1)\n",
    "    \n",
    "    Nres = len(lRlist)\n",
    "    \n",
    "    res_list = np.zeros((Nres**3, 3))\n",
    "    \n",
    "    for i in range(len(lRlist)):\n",
    "        for j in range(len(lphilist)):\n",
    "            for k in range(len(lzlist)):\n",
    "                res_list[RES_IDX(i, j, k, Nres)][0] = lRlist[i]\n",
    "                res_list[RES_IDX(i, j, k, Nres)][1] = lphilist[j]\n",
    "                res_list[RES_IDX(i, j, k, Nres)][2] = lzlist[k]\n",
    "    \n",
    "    Npart = res.shape[0]\n",
    "#     Nsnap = res.shape[1]\n",
    "#     print(Npart, Nsnap)\n",
    "    \n",
    "    N_in_res = np.zeros(Nres**3)\n",
    "    dLz_in_res = np.zeros(Nres**3)\n",
    "    \n",
    "    for i in range(Npart):\n",
    "        if res[i][0] == np.nan:\n",
    "            continue\n",
    "\n",
    "        ii = int(res[i][0] - lRmin)\n",
    "        jj = int(res[i][1] - lphimin)\n",
    "        kk = int(res[i][2] - lzmin)\n",
    "            \n",
    "        if ((ii==0 and jj==0) and kk==0):\n",
    "            print(ii, jj, kk, i, j)\n",
    "    \n",
    "        N_in_res[RES_IDX(ii,jj,kk,Nres)] += 1\n",
    "        dLz_in_res[RES_IDX(ii,jj,kk,Nres)] += dLz[i]\n",
    "    \n",
    "    return N_in_res, dLz_in_res, res_list"
   ]
  },
  {
   "cell_type": "code",
   "execution_count": 13,
   "metadata": {
    "collapsed": true
   },
   "outputs": [],
   "source": [
    "@njit\n",
    "def compute_2D_res_dLz(res, dLz, lRmin=-7, lRmax=7, lphimin=-7, lphimax=7, lzmin=-7, lzmax=7):\n",
    "    lRlist = np.arange(lRmin, lRmax+1)\n",
    "    lphilist = np.arange(lphimin, lphimax+1)\n",
    "    \n",
    "    Nres = len(lRlist)\n",
    "    \n",
    "    res_list = np.zeros((Nres**2, 2))\n",
    "    \n",
    "    for i in range(len(lRlist)):\n",
    "        for j in range(len(lphilist)):\n",
    "            res_list[RES_IDX_2D(i, j, Nres)][0] = lRlist[i]\n",
    "            res_list[RES_IDX_2D(i, j, Nres)][1] = lphilist[j]\n",
    "    \n",
    "    Npart = res.shape[0]\n",
    "#     Nsnap = res.shape[1]\n",
    "#     print(Npart, Nsnap)\n",
    "    \n",
    "    N_in_res = np.zeros(Nres**2)\n",
    "    dLz_in_res = np.zeros(Nres**2)\n",
    "    \n",
    "    for i in range(Npart):\n",
    "        if res[i][0] == np.nan:\n",
    "            continue\n",
    "\n",
    "        for ii in range(len(lRlist)):\n",
    "            for jj in range(len(lphilist)):\n",
    "                if res[i][0] == lRlist[ii] and res[i][1] == lphilist[jj]:\n",
    "                    N_in_res[RES_IDX_2D(ii,jj,Nres)] += 1\n",
    "                    dLz_in_res[RES_IDX_2D(ii,jj,Nres)] += dLz[i]\n",
    "                    continue\n",
    "    \n",
    "    return N_in_res, dLz_in_res, res_list"
   ]
  },
  {
   "cell_type": "code",
   "execution_count": 61,
   "metadata": {
    "collapsed": true
   },
   "outputs": [],
   "source": []
  },
  {
   "cell_type": "code",
   "execution_count": 18,
   "metadata": {},
   "outputs": [
    {
     "data": {
      "text/plain": [
       "100"
      ]
     },
     "execution_count": 18,
     "metadata": {},
     "output_type": "execute_result"
    }
   ],
   "source": [
    "snap[5]"
   ]
  },
  {
   "cell_type": "code",
   "execution_count": 19,
   "metadata": {
    "collapsed": true
   },
   "outputs": [],
   "source": [
    "N_in_res, dLz_in_res, res_list = compute_res_dLz(Omega_S3[:,5,3:], Omega_S3[:,5,-1])"
   ]
  },
  {
   "cell_type": "code",
   "execution_count": 20,
   "metadata": {},
   "outputs": [
    {
     "name": "stderr",
     "output_type": "stream",
     "text": [
      "/n/helmod/apps/centos7/Core/Anaconda3/5.0.1-fasrc02/x/lib/python3.6/site-packages/ipykernel_launcher.py:1: RuntimeWarning: invalid value encountered in true_divide\n",
      "  \"\"\"Entry point for launching an IPython kernel.\n"
     ]
    }
   ],
   "source": [
    "k = dLz_in_res/N_in_res\n",
    "k[N_in_res==0.0] = 0.0\n",
    "key_sort = np.flip(np.argsort(np.abs(k)))"
   ]
  },
  {
   "cell_type": "code",
   "execution_count": 26,
   "metadata": {},
   "outputs": [
    {
     "data": {
      "text/plain": [
       "array([  1.,   1.,   1.,   1.,   1.,   1.,   2.,   1.,   1.,   1.,   1.,\n",
       "         1.,   1.,   2.,   8.,   5.,   7.,   3.,   1.,   2.,   1.,   1.,\n",
       "         1.,   1.,   1.,  10.,   1.,   6.,   2.,   1.,   3.,   1.,   1.,\n",
       "         1.,   1.,   1.,   2.,   1.,   2.,   6.,  11.,   2.,   4.,   1.,\n",
       "         1.,   5.,   1.,   2.,   1.,   4.,   3.,   7.,   3.,   3.,  13.,\n",
       "        16.,   2.,   3.,  30.,   2.,   2.,   3.,   7.,   2.,  12.,   3.,\n",
       "       144.,   3.,   3.,   2.,   5.,   1.,   1.,   7.,   4.,   3.,   1.,\n",
       "         9.,   3.,   5.,   4.,   3.,   1.,   1.,   9.,   1.,   3.,   2.,\n",
       "        13.,  25.,   2.,   4.,  16.,   1.,   6.,   3.,   2.,   1.,   4.,\n",
       "         5.])"
      ]
     },
     "execution_count": 26,
     "metadata": {},
     "output_type": "execute_result"
    }
   ],
   "source": [
    "N_in_res[key_sort][:100]"
   ]
  },
  {
   "cell_type": "code",
   "execution_count": 27,
   "metadata": {
    "collapsed": true
   },
   "outputs": [],
   "source": [
    "k = dLz_in_res\n",
    "# k[k==np.nan] = 0.0\n",
    "key_sort = np.flip(np.argsort(np.abs(k)))"
   ]
  },
  {
   "cell_type": "code",
   "execution_count": 28,
   "metadata": {},
   "outputs": [
    {
     "data": {
      "text/plain": [
       "array([ 0.24505602, -0.20335745,  0.20132917,  0.19237812,  0.17410069,\n",
       "        0.17290654,  0.17005922,  0.15794778,  0.15374181,  0.14943468,\n",
       "        0.14563878,  0.14550898,  0.14289699,  0.14119886, -0.14087545,\n",
       "        0.13309174, -0.13200568,  0.12662534,  0.12513431, -0.12508178])"
      ]
     },
     "execution_count": 28,
     "metadata": {},
     "output_type": "execute_result"
    }
   ],
   "source": [
    "k[key_sort][:20]"
   ]
  },
  {
   "cell_type": "code",
   "execution_count": 31,
   "metadata": {},
   "outputs": [
    {
     "data": {
      "text/plain": [
       "100"
      ]
     },
     "execution_count": 31,
     "metadata": {},
     "output_type": "execute_result"
    }
   ],
   "source": [
    "snap[5]"
   ]
  },
  {
   "cell_type": "code",
   "execution_count": 128,
   "metadata": {},
   "outputs": [
    {
     "name": "stdout",
     "output_type": "stream",
     "text": [
      "total dLz =  41.381\n",
      "total dLz from resonances =  40.447\n",
      "0.245 \t [-5.  7.  6.]\n",
      "-0.203 \t [0. 1. 1.]\n",
      "0.201 \t [ 3.  1. -2.]\n",
      "0.192 \t [-5.  6.  7.]\n",
      "0.174 \t [-5. -7.  6.]\n",
      "0.173 \t [ 7. -4. -7.]\n",
      "0.17 \t [ 1.  7. -7.]\n",
      "0.158 \t [ 4. -3.  0.]\n",
      "0.154 \t [ 1. -1.  0.]\n",
      "0.149 \t [ 0.  3. -1.]\n",
      "0.146 \t [ 6. -6.  0.]\n",
      "0.146 \t [ 1.  7. -6.]\n",
      "0.143 \t [ 2. -1.  1.]\n",
      "0.141 \t [ 0. -1.  1.]\n",
      "-0.141 \t [1. 2. 0.]\n",
      "0.133 \t [-1.  7. -2.]\n",
      "-0.132 \t [1. 7. 7.]\n",
      "0.127 \t [ 1. -7. -6.]\n",
      "0.125 \t [ 2.  6. -7.]\n",
      "-0.125 \t [0. 2. 0.]\n",
      "0.124 \t [ 7.  4. -7.]\n",
      "0.118 \t [ 1. -1. -1.]\n",
      "-0.118 \t [ 3. -1.  0.]\n",
      "0.116 \t [-6.  7.  7.]\n",
      "0.115 \t [-1. -4.  0.]\n",
      "0.114 \t [2. 0. 0.]\n",
      "0.114 \t [1. 1. 0.]\n",
      "-0.113 \t [ 2. -1.  0.]\n",
      "0.113 \t [ 0. -4. -1.]\n",
      "0.112 \t [ 1.  5. -3.]\n",
      "0.111 \t [ 1. -6.  7.]\n",
      "0.109 \t [ 1. -1.  2.]\n",
      "-0.109 \t [ 4. -4.  0.]\n",
      "0.108 \t [ 2.  1. -2.]\n",
      "-0.108 \t [ 4. -1. -2.]\n",
      "0.107 \t [0. 1. 2.]\n",
      "-0.106 \t [-2.  4.  1.]\n",
      "0.106 \t [-1.  6. -1.]\n",
      "0.105 \t [ 0. -3.  0.]\n",
      "0.105 \t [0. 2. 1.]\n"
     ]
    }
   ],
   "source": [
    "dLz = Omega_S3[:,5,-1]\n",
    "print('total dLz = ', np.sum(dLz).round(3))\n",
    "print('total dLz from resonances = ', np.sum(k).round(3))\n",
    "for i in range(40):\n",
    "    print(k[key_sort][i].round(3), '\\t', res_list[key_sort][i])"
   ]
  },
  {
   "cell_type": "code",
   "execution_count": 32,
   "metadata": {},
   "outputs": [
    {
     "data": {
      "image/png": "[encoded data removed]",
      "text/plain": [
       "<Figure size 432x288 with 1 Axes>"
      ]
     },
     "metadata": {},
     "output_type": "display_data"
    }
   ],
   "source": [
    "plt.hist(dLz_in_res, bins=100, range=(-0.2, 0.3))\n",
    "plt.yscale('log')\n",
    "plt.show()"
   ]
  },
  {
   "cell_type": "code",
   "execution_count": 146,
   "metadata": {
    "collapsed": true
   },
   "outputs": [],
   "source": [
    "def print_top_resonances(res, dLz, num=20):\n",
    "    N, d, r = compute_2D_res_dLz(res, dLz)\n",
    "    key_sort = np.flip(np.argsort(np.abs(d)))\n",
    "    \n",
    "    print(r.shape)\n",
    "    \n",
    "    print('total dLz=', np.sum(dLz).round(3))\n",
    "    print('total dLz from resonances=', np.sum(d).round(3))\n",
    "    \n",
    "    for i in range(num):\n",
    "        print(r[key_sort[i]], '\\t', d[key_sort[i]].round(3), N[key_sort[i]])\n",
    "    \n",
    "    for i in range(len(r)):\n",
    "        if r[i][0] == 0 and r[i][1] == 2:\n",
    "            print('CR: ', r[i], '\\t', d[i].round(3), N[i])"
   ]
  },
  {
   "cell_type": "code",
   "execution_count": 125,
   "metadata": {},
   "outputs": [
    {
     "data": {
      "text/plain": [
       "300"
      ]
     },
     "execution_count": 125,
     "metadata": {},
     "output_type": "execute_result"
    }
   ],
   "source": [
    "snap[15]"
   ]
  },
  {
   "cell_type": "code",
   "execution_count": 147,
   "metadata": {},
   "outputs": [
    {
     "name": "stdout",
     "output_type": "stream",
     "text": [
      "(225, 2)\n",
      "total dLz= 84.544\n",
      "total dLz from resonances= 77.386\n",
      "[0. 2.] \t 1.685 35837.0\n",
      "[0. 1.] \t 1.101 35090.0\n",
      "[-2.  5.] \t 1.061 28411.0\n",
      "[-1.  0.] \t 1.06 26778.0\n",
      "[1. 2.] \t 0.986 40941.0\n",
      "[ 2. -1.] \t 0.957 43671.0\n",
      "[-2.  0.] \t 0.939 19252.0\n",
      "[0. 3.] \t 0.882 36617.0\n",
      "[3. 2.] \t 0.818 45374.0\n",
      "[-1. -1.] \t 0.808 26489.0\n",
      "[-1.  1.] \t 0.8 28077.0\n",
      "[-1.  2.] \t 0.726 28196.0\n",
      "[4. 0.] \t 0.722 44586.0\n",
      "[1. 1.] \t 0.714 42162.0\n",
      "[2. 7.] \t 0.711 77832.0\n",
      "[-5. -7.] \t 0.634 37596.0\n",
      "[2. 3.] \t 0.622 41671.0\n",
      "[0. 4.] \t 0.621 33953.0\n",
      "[ 1. -6.] \t 0.614 33765.0\n",
      "[3. 3.] \t 0.608 45631.0\n",
      "CR:  [0. 2.] \t 1.685 35837.0\n"
     ]
    }
   ],
   "source": [
    "print_top_resonances(Omega_N3[:,25,3:], Omega_N3[:,25,-1])"
   ]
  },
  {
   "cell_type": "code",
   "execution_count": 148,
   "metadata": {},
   "outputs": [
    {
     "name": "stdout",
     "output_type": "stream",
     "text": [
      "(225, 2)\n",
      "total dLz= 24.856\n",
      "total dLz from resonances= 23.753\n",
      "[7. 7.] \t 0.335 134444.0\n",
      "[1. 7.] \t 0.283 48982.0\n",
      "[ 2. -7.] \t 0.274 67695.0\n",
      "[1. 3.] \t 0.262 39759.0\n",
      "[2. 3.] \t 0.256 41496.0\n",
      "[-4.  7.] \t 0.241 63924.0\n",
      "[ 2. -6.] \t 0.241 41201.0\n",
      "[ 0. -1.] \t 0.239 32994.0\n",
      "[2. 6.] \t 0.239 44913.0\n",
      "[-5.  7.] \t 0.238 40360.0\n",
      "[-1.  6.] \t 0.237 34527.0\n",
      "[3. 6.] \t 0.234 49054.0\n",
      "[5. 0.] \t 0.233 46090.0\n",
      "[6. 7.] \t 0.224 52846.0\n",
      "[-1.  7.] \t 0.217 51879.0\n",
      "[ 7. -4.] \t 0.215 45987.0\n",
      "[7. 4.] \t 0.215 42596.0\n",
      "[ 7. -6.] \t 0.207 42421.0\n",
      "[ 7. -7.] \t 0.201 161459.0\n",
      "[-1. -7.] \t 0.201 40409.0\n",
      "CR:  [0. 2.] \t -0.04 34518.0\n"
     ]
    }
   ],
   "source": [
    "print_top_resonances(Omega_S3[:,15,3:], Omega_S3[:,15,-1])"
   ]
  },
  {
   "cell_type": "code",
   "execution_count": 149,
   "metadata": {},
   "outputs": [
    {
     "name": "stdout",
     "output_type": "stream",
     "text": [
      "(225, 2)\n",
      "total dLz= 41.381\n",
      "total dLz from resonances= 40.447\n",
      "[1. 7.] \t 0.42 22996.0\n",
      "[ 1. -1.] \t 0.404 13095.0\n",
      "[-5.  7.] \t 0.399 20073.0\n",
      "[ 2. -7.] \t 0.392 24719.0\n",
      "[ 1. -7.] \t 0.384 21942.0\n",
      "[1. 5.] \t 0.376 15066.0\n",
      "[-5. -7.] \t 0.374 16422.0\n",
      "[ 0. -3.] \t 0.367 14249.0\n",
      "[2. 6.] \t 0.361 17280.0\n",
      "[2. 7.] \t 0.352 24611.0\n",
      "[1. 4.] \t 0.35 13573.0\n",
      "[ 1. -6.] \t 0.341 17131.0\n",
      "[3. 4.] \t 0.334 13250.0\n",
      "[2. 4.] \t 0.328 13665.0\n",
      "[5. 0.] \t 0.322 12222.0\n",
      "[ 2. -6.] \t 0.319 16793.0\n",
      "[-1. -1.] \t 0.317 13792.0\n",
      "[2. 5.] \t 0.316 14945.0\n",
      "[7. 7.] \t 0.307 17477.0\n",
      "[ 3. -3.] \t 0.306 13282.0\n",
      "CR:  [0. 2.] \t 0.075 13214.0\n"
     ]
    }
   ],
   "source": [
    "print_top_resonances(Omega_S3[:,5,3:], Omega_S3[:,5,-1])"
   ]
  },
  {
   "cell_type": "code",
   "execution_count": 34,
   "metadata": {},
   "outputs": [
    {
     "name": "stdout",
     "output_type": "stream",
     "text": [
      "0 0\n",
      "1 50\n",
      "2 100\n",
      "3 150\n",
      "4 200\n",
      "5 250\n",
      "6 300\n",
      "7 350\n",
      "8 400\n",
      "9 450\n",
      "10 500\n",
      "11 550\n",
      "12 600\n",
      "13 650\n",
      "14 700\n",
      "15 750\n",
      "16 800\n",
      "17 850\n",
      "18 900\n",
      "19 950\n"
     ]
    }
   ],
   "source": [
    "for i in range(20):\n",
    "    print(i, snap[i])"
   ]
  },
  {
   "cell_type": "code",
   "execution_count": 42,
   "metadata": {
    "collapsed": true
   },
   "outputs": [],
   "source": [
    "@njit\n",
    "def count_occ_single_res(res, dLz, lR, lphi, lz, lRmin=-5, lRmax=5, lphimin=-5, lphimax=5, lzmin=-5, lzmax=5):\n",
    "    lRlist = np.arange(lRmin, lRmax+1)\n",
    "    lphilist = np.arange(lphimin, lphimax+1)\n",
    "    lzlist = np.arange(lzmin, lzmax+1)\n",
    "    \n",
    "    Nres = len(lRlist)\n",
    "    \n",
    "    res_list = np.zeros((Nres**3, 3))\n",
    "    \n",
    "    for i in range(len(lRlist)):\n",
    "        for j in range(len(lphilist)):\n",
    "            for k in range(len(lzlist)):\n",
    "                res_list[RES_IDX(i, j, k, Nres)][0] = lRlist[i]\n",
    "                res_list[RES_IDX(i, j, k, Nres)][1] = lphilist[j]\n",
    "                res_list[RES_IDX(i, j, k, Nres)][2] = lzlist[k]\n",
    "    \n",
    "    \n",
    "    \n",
    "    Npart = res.shape[0]\n",
    "    Nsnap = res.shape[1]\n",
    "    print(Npart, Nsnap)\n",
    "    \n",
    "    N_in_res = np.zeros(Nsnap)\n",
    "    dLz_of_res = np.zeros(Nsnap)\n",
    "    \n",
    "    for j in range(Nsnap):\n",
    "        for i in range(Npart):\n",
    "            if res[i][j][0] == np.nan:\n",
    "                continue\n",
    "            \n",
    "            if res[i][j][0] == lR:\n",
    "                if res[i][j][1] == lphi:\n",
    "                    if res[i][j][2] == lz:\n",
    "                        N_in_res[j] += 1\n",
    "                        dLz_of_res[j] += dLz[i][j]\n",
    "    \n",
    "    return N_in_res, dLz_of_res"
   ]
  },
  {
   "cell_type": "code",
   "execution_count": 99,
   "metadata": {},
   "outputs": [
    {
     "name": "stdout",
     "output_type": "stream",
     "text": [
      "3168480 32\n"
     ]
    },
    {
     "data": {
      "image/png": "[encoded data removed]",
      "text/plain": [
       "<Figure size 432x288 with 1 Axes>"
      ]
     },
     "metadata": {},
     "output_type": "display_data"
    }
   ],
   "source": [
    "N, dLz = count_occ_single_res(Omega_N4[:,:,3:], Omega_N4[:,:,-1], 0, 1, 1)\n",
    "\n",
    "l = plt.plot(snap/200., N, label='Nbody')\n",
    "plt.plot(snap/200., dLz * 500, c=l[0].get_color(), ls='dashed')\n",
    "# plt.plot(snap/200., N_ln555, c=l[0].get_color(), ls='dashed')\n",
    "# l = plt.plot(snap/200., S_lp555, label='SMUGGLE')\n",
    "# plt.plot(snap/200., S_ln555, c=l[0].get_color(), ls='dashed')\n",
    "plt.legend(frameon=False)\n",
    "\n",
    "plt.show()"
   ]
  },
  {
   "cell_type": "code",
   "execution_count": 101,
   "metadata": {},
   "outputs": [
    {
     "name": "stdout",
     "output_type": "stream",
     "text": [
      "3168480 32\n"
     ]
    },
    {
     "data": {
      "image/png": "[encoded data removed]",
      "text/plain": [
       "<Figure size 432x288 with 1 Axes>"
      ]
     },
     "metadata": {},
     "output_type": "display_data"
    }
   ],
   "source": [
    "N, dLz = count_occ_single_res(Omega_N4[:,:,3:], Omega_N4[:,:,-1], -2, 5, 0)\n",
    "\n",
    "l = plt.plot(snap/200., N, label='Nbody')\n",
    "plt.plot(snap/200., dLz * 500, c=l[0].get_color(), ls='dashed')\n",
    "# plt.plot(snap/200., N_ln555, c=l[0].get_color(), ls='dashed')\n",
    "# l = plt.plot(snap/200., S_lp555, label='SMUGGLE')\n",
    "# plt.plot(snap/200., S_ln555, c=l[0].get_color(), ls='dashed')\n",
    "plt.legend(frameon=False)\n",
    "\n",
    "plt.show()"
   ]
  },
  {
   "cell_type": "code",
   "execution_count": 75,
   "metadata": {},
   "outputs": [
    {
     "name": "stdout",
     "output_type": "stream",
     "text": [
      "3168480 32\n",
      "3168480 32\n"
     ]
    }
   ],
   "source": [
    "N_CR = count_occ_single_res(Omega_N4[:,:,3:], 0, 2, 0)\n",
    "N_aCR = count_occ_single_res(Omega_N4[:,:,3:], 0, -2, 0)\n",
    "\n",
    "# S_CR = count_occ_single_res(Omega_S4[:,:,3:], 0, 2, 0)\n",
    "# S_aCR = count_occ_single_res(Omega_S4[:,:,3:], 0, -2, 0)\n"
   ]
  },
  {
   "cell_type": "code",
   "execution_count": 78,
   "metadata": {},
   "outputs": [
    {
     "data": {
      "image/png": "[encoded data removed]",
      "text/plain": [
       "<Figure size 432x288 with 1 Axes>"
      ]
     },
     "metadata": {},
     "output_type": "display_data"
    }
   ],
   "source": [
    "plt.plot(snap/200., N_CR)\n",
    "plt.plot(snap/200., N_aCR)\n",
    "\n",
    "plt.show()"
   ]
  },
  {
   "cell_type": "code",
   "execution_count": 77,
   "metadata": {},
   "outputs": [
    {
     "data": {
      "image/png": "[encoded data removed]",
      "text/plain": [
       "<Figure size 432x288 with 1 Axes>"
      ]
     },
     "metadata": {},
     "output_type": "display_data"
    }
   ],
   "source": [
    "plt.plot(snap/200., N_aCR)\n",
    "# plt.plot(snap/200., S_aCR)\n",
    "\n",
    "plt.show()"
   ]
  },
  {
   "cell_type": "code",
   "execution_count": 44,
   "metadata": {
    "collapsed": true
   },
   "outputs": [],
   "source": [
    "@njit\n",
    "def count_occ_lphi_pos_neg(res, lRmin=-5, lRmax=5, lphimin=-5, lphimax=5, lzmin=-5, lzmax=5):\n",
    "    lRlist = np.arange(lRmin, lRmax+1)\n",
    "    lphilist = np.arange(lphimin, lphimax+1)\n",
    "    lzlist = np.arange(lzmin, lzmax+1)\n",
    "    \n",
    "    Nres = len(lRlist)\n",
    "    \n",
    "    res_list = np.zeros((Nres**3, 3))\n",
    "    \n",
    "    for i in range(len(lRlist)):\n",
    "        for j in range(len(lphilist)):\n",
    "            for k in range(len(lzlist)):\n",
    "                res_list[RES_IDX(i, j, k, Nres)][0] = lRlist[i]\n",
    "                res_list[RES_IDX(i, j, k, Nres)][1] = lphilist[j]\n",
    "                res_list[RES_IDX(i, j, k, Nres)][2] = lzlist[k]\n",
    "    \n",
    "    \n",
    "    \n",
    "    Npart = res.shape[0]\n",
    "    Nsnap = res.shape[1]\n",
    "    print(Npart, Nsnap)\n",
    "    \n",
    "    N_in_res = np.zeros(Nsnap)\n",
    "    N_lphi_pos = np.zeros(Nsnap)\n",
    "    N_lphi_neg = np.zeros(Nsnap)\n",
    "    N_lphi_zero = np.zeros(Nsnap)\n",
    "    \n",
    "    for j in range(Nsnap):\n",
    "        for i in range(Npart):\n",
    "            if res[i][j][0] == np.nan:\n",
    "                continue\n",
    "            \n",
    "            if res[i][j][1] > 0.0:\n",
    "                N_lphi_pos[j] += 1\n",
    "                continue\n",
    "            if res[i][j][1] < 0.0:\n",
    "                N_lphi_neg[j] += 1\n",
    "                continue\n",
    "            N_lphi_zero[j] += 1\n",
    "    \n",
    "    return N_lphi_pos, N_lphi_neg, N_lphi_zero"
   ]
  },
  {
   "cell_type": "code",
   "execution_count": 45,
   "metadata": {},
   "outputs": [
    {
     "name": "stdout",
     "output_type": "stream",
     "text": [
      "25347840 80\n",
      "25347840 80\n"
     ]
    }
   ],
   "source": [
    "Np, Nn, Nz = count_occ_lphi_pos_neg(Omega_N3[:,:,3:])\n",
    "Sp, Sn, Sz = count_occ_lphi_pos_neg(Omega_S3[:,:,3:])"
   ]
  },
  {
   "cell_type": "code",
   "execution_count": 50,
   "metadata": {},
   "outputs": [
    {
     "data": {
      "image/png": "[encoded data removed]",
      "text/plain": [
       "<Figure size 432x288 with 1 Axes>"
      ]
     },
     "metadata": {},
     "output_type": "display_data"
    }
   ],
   "source": [
    "l = plt.plot(snap/200., Np/len(Omega_N3))\n",
    "plt.plot(snap/200., Nn/len(Omega_N3), c=l[0].get_color(), ls='dashed')\n",
    "# plt.plot(snap/200., Nz, c=l[0].get_color(), ls='dotted')\n",
    "\n",
    "l = plt.plot(snap/200., Sp/len(Omega_S3))\n",
    "plt.plot(snap/200., Sn/len(Omega_S3), c=l[0].get_color(), ls='dashed')\n",
    "\n",
    "plt.ylim(0.12, 0.16)\n",
    "\n",
    "plt.show()"
   ]
  },
  {
   "cell_type": "code",
   "execution_count": 51,
   "metadata": {},
   "outputs": [
    {
     "data": {
      "text/plain": [
       "array([      0.,       0.,       0.,       0.,       0.,       0.,\n",
       "             0.,       0., 1883655., 2178231., 2432494., 2678987.,\n",
       "       2914223., 3129195., 3306996., 3434751., 3533245., 3579789.,\n",
       "       3587505., 3587104., 3577213., 3581788., 3582773., 3565574.,\n",
       "       3566471., 3578177., 3574151., 3549242., 3552448., 3557804.,\n",
       "       3543921., 3531551., 3526038., 3526148., 3528731., 3516406.,\n",
       "       3499880., 3504885., 3506149., 3501487., 3487144., 3487772.,\n",
       "       3487760., 3476729., 3482981., 3468414., 3465303., 3458657.,\n",
       "       3452075., 3453936., 3462019., 3447895., 3446834., 3432260.,\n",
       "       3438301., 3438301., 3432872., 3427975., 3421795., 3420133.,\n",
       "       3417862., 3408486., 3398407., 3366198., 3307781., 3196426.,\n",
       "       3057235., 2879913., 2678276., 2451070., 2221063., 1971892.,\n",
       "       1704986., 1447230., 1165385.,  876681.,  609408.,  366905.,\n",
       "        175797.,   54892.])"
      ]
     },
     "execution_count": 51,
     "metadata": {},
     "output_type": "execute_result"
    }
   ],
   "source": [
    "Np"
   ]
  },
  {
   "cell_type": "code",
   "execution_count": 76,
   "metadata": {},
   "outputs": [
    {
     "data": {
      "text/plain": [
       "array([8951206., 8951206., 8951206., 8951206., 8951206., 8951206.,\n",
       "       8951206., 8951206., 8951206., 8951206., 8951206., 8951206.,\n",
       "       8951206., 8951206., 8951206., 8951206., 8951206., 8951206.,\n",
       "       8951206., 8951206., 8951206., 8951206., 8951206., 8951206.,\n",
       "       8951206., 8951206., 8951206., 8951206., 8951206., 8951206.,\n",
       "       8951206., 8951206.])"
      ]
     },
     "execution_count": 76,
     "metadata": {},
     "output_type": "execute_result"
    }
   ],
   "source": [
    "Nn"
   ]
  },
  {
   "cell_type": "code",
   "execution_count": 54,
   "metadata": {},
   "outputs": [
    {
     "ename": "KeyboardInterrupt",
     "evalue": "",
     "output_type": "error",
     "traceback": [
      "\u001b[0;31m---------------------------------------------------------------------------\u001b[0m",
      "\u001b[0;31mKeyboardInterrupt\u001b[0m                         Traceback (most recent call last)",
      "\u001b[0;32m<ipython-input-54-da7fde3fcfc2>\u001b[0m in \u001b[0;36m<module>\u001b[0;34m()\u001b[0m\n\u001b[1;32m      2\u001b[0m \u001b[0mNtot_in_res_S\u001b[0m \u001b[0;34m=\u001b[0m \u001b[0;34m[\u001b[0m\u001b[0;34m]\u001b[0m\u001b[0;34m\u001b[0m\u001b[0m\n\u001b[1;32m      3\u001b[0m \u001b[0;32mfor\u001b[0m \u001b[0mi\u001b[0m \u001b[0;32min\u001b[0m \u001b[0mrange\u001b[0m\u001b[0;34m(\u001b[0m\u001b[0mlen\u001b[0m\u001b[0;34m(\u001b[0m\u001b[0msnap\u001b[0m\u001b[0;34m)\u001b[0m\u001b[0;34m)\u001b[0m\u001b[0;34m:\u001b[0m\u001b[0;34m\u001b[0m\u001b[0m\n\u001b[0;32m----> 4\u001b[0;31m     \u001b[0mN\u001b[0m \u001b[0;34m=\u001b[0m \u001b[0mlen\u001b[0m\u001b[0;34m(\u001b[0m\u001b[0mnp\u001b[0m\u001b[0;34m.\u001b[0m\u001b[0mwhere\u001b[0m\u001b[0;34m(\u001b[0m\u001b[0mnp\u001b[0m\u001b[0;34m.\u001b[0m\u001b[0mlogical_not\u001b[0m\u001b[0;34m(\u001b[0m\u001b[0mnp\u001b[0m\u001b[0;34m.\u001b[0m\u001b[0misnan\u001b[0m\u001b[0;34m(\u001b[0m\u001b[0mOmega_N3\u001b[0m\u001b[0;34m[\u001b[0m\u001b[0;34m:\u001b[0m\u001b[0;34m,\u001b[0m\u001b[0mi\u001b[0m\u001b[0;34m,\u001b[0m\u001b[0;36m3\u001b[0m\u001b[0;34m]\u001b[0m\u001b[0;34m)\u001b[0m\u001b[0;34m)\u001b[0m\u001b[0;34m)\u001b[0m\u001b[0;34m[\u001b[0m\u001b[0;36m0\u001b[0m\u001b[0;34m]\u001b[0m\u001b[0;34m)\u001b[0m\u001b[0;34m\u001b[0m\u001b[0m\n\u001b[0m\u001b[1;32m      5\u001b[0m     \u001b[0mNtot_in_res_N\u001b[0m\u001b[0;34m.\u001b[0m\u001b[0mappend\u001b[0m\u001b[0;34m(\u001b[0m\u001b[0mN\u001b[0m\u001b[0;34m)\u001b[0m\u001b[0;34m\u001b[0m\u001b[0m\n\u001b[1;32m      6\u001b[0m \u001b[0;34m\u001b[0m\u001b[0m\n",
      "\u001b[0;31mKeyboardInterrupt\u001b[0m: "
     ]
    }
   ],
   "source": [
    "Ntot_in_res_N = []\n",
    "Ntot_in_res_S = []\n",
    "for i in range(len(snap)):\n",
    "    N = len(np.where(np.logical_not(np.isnan(Omega_N3[:,i,3])))[0])\n",
    "    Ntot_in_res_N.append(N)\n",
    "    \n",
    "    N = len(np.where(np.logical_not(np.isnan(Omega_S3[:,i,3])))[0])\n",
    "    Ntot_in_res_S.append(N)"
   ]
  },
  {
   "cell_type": "code",
   "execution_count": null,
   "metadata": {
    "collapsed": true
   },
   "outputs": [],
   "source": [
    "plt.plot(snap/200., Ntot_in_res_N)\n",
    "plt.plot(snap/200., Ntot_in_res_S)\n",
    "plt.show()"
   ]
  },
  {
   "cell_type": "code",
   "execution_count": 58,
   "metadata": {},
   "outputs": [
    {
     "name": "stdout",
     "output_type": "stream",
     "text": [
      "96.43735750980541\n",
      "0.0\n"
     ]
    },
    {
     "data": {
      "image/png": "[encoded data removed]",
      "text/plain": [
       "<Figure size 432x288 with 1 Axes>"
      ]
     },
     "metadata": {},
     "output_type": "display_data"
    }
   ],
   "source": [
    "from scipy.stats import norm\n",
    "\n",
    "dLz = Omega_N3[:,10,-1]\n",
    "\n",
    "print(np.sum(dLz))\n",
    "print(np.sum(dLz[np.logical_and(np.abs(dLz)>0.005, np.abs(dLz)<0.01)]))\n",
    "plt.hist(dLz, bins=np.linspace(-0.01, 0.01, 1000))\n",
    "\n",
    "# mu, std = norm.fit(dLz)\n",
    "# x = np.linspace(-0.05, 0.05, 10000)\n",
    "# y = norm.pdf(x, 0, std)\n",
    "# plt.plot(x, y)\n",
    "\n",
    "plt.ylim(0, 10000)\n",
    "plt.xlim(-0.0025, 0.0025)\n",
    "\n",
    "plt.show()"
   ]
  },
  {
   "cell_type": "code",
   "execution_count": 117,
   "metadata": {},
   "outputs": [
    {
     "name": "stdout",
     "output_type": "stream",
     "text": [
      "400\n",
      "77.8208995925516\n",
      "3.070119568079631e-06 0.00012516319511591043\n",
      "-2.942465700965912\n",
      "2.951846071147684\n",
      "77.81151922236985\n"
     ]
    },
    {
     "data": {
      "image/png": "[encoded data removed]",
      "text/plain": [
       "<Figure size 432x288 with 1 Axes>"
      ]
     },
     "metadata": {},
     "output_type": "display_data"
    }
   ],
   "source": [
    "from scipy.stats import norm\n",
    "\n",
    "this_snap = 20\n",
    "print(snap[this_snap])\n",
    "\n",
    "Omega = Omega_N3\n",
    "dLz = Omega[:,this_snap,-1]\n",
    "\n",
    "in_res = np.logical_not(np.isnan(Omega[:,this_snap,0]))\n",
    "not_in_res = np.isnan(Omega[:,this_snap,0])\n",
    "\n",
    "print(np.sum(dLz))\n",
    "\n",
    "\n",
    "mu, std = norm.fit(dLz)\n",
    "print(mu, std)\n",
    "print(np.sum(dLz[np.logical_and(np.abs(dLz)>std, np.abs(dLz)<3.*std)]))\n",
    "print(np.sum(dLz[np.abs(dLz) < std]))\n",
    "print(np.sum(dLz[np.abs(dLz) > 3.*std]))\n",
    "\n",
    "plt.hist(dLz[in_res]/std, bins=np.linspace(-20, 20, 1000))\n",
    "plt.hist(dLz[not_in_res]/std, bins=np.linspace(-20, 20, 1000))\n",
    "\n",
    "# x = np.linspace(-0.05, 0.05, 10000)\n",
    "# y = norm.pdf(x, 0, std)\n",
    "# plt.plot(x, y)\n",
    "\n",
    "# plt.ylim(0, 100000)\n",
    "# plt.xlim(-0.0025, 0.0025)\n",
    "plt.yscale('log')\n",
    "\n",
    "plt.show()"
   ]
  },
  {
   "cell_type": "code",
   "execution_count": 116,
   "metadata": {},
   "outputs": [
    {
     "name": "stdout",
     "output_type": "stream",
     "text": [
      "200\n",
      "21.777629684772915\n",
      "8.591512998651134e-07 9.626505317139963e-05\n",
      "12.16366212805694\n",
      "2.735999905016051\n",
      "6.877967651699975\n"
     ]
    },
    {
     "data": {
      "image/png": "[encoded data removed]",
      "text/plain": [
       "<Figure size 432x288 with 1 Axes>"
      ]
     },
     "metadata": {},
     "output_type": "display_data"
    }
   ],
   "source": [
    "from scipy.stats import norm\n",
    "\n",
    "this_snap = 10\n",
    "print(snap[this_snap])\n",
    "\n",
    "Omega = Omega_S3\n",
    "dLz = Omega[:,this_snap,-1]\n",
    "\n",
    "in_res = np.logical_not(np.isnan(Omega[:,this_snap,0]))\n",
    "not_in_res = np.isnan(Omega[:,this_snap,0])\n",
    "\n",
    "print(np.sum(dLz))\n",
    "\n",
    "\n",
    "mu, std = norm.fit(dLz)\n",
    "print(mu, std)\n",
    "print(np.sum(dLz[np.logical_and(np.abs(dLz)>std, np.abs(dLz)<3.*std)]))\n",
    "print(np.sum(dLz[np.abs(dLz) < std]))\n",
    "print(np.sum(dLz[np.abs(dLz) > 3.*std]))\n",
    "\n",
    "plt.hist(dLz[in_res]/std, bins=np.linspace(-20, 20, 1000))\n",
    "plt.hist(dLz[not_in_res]/std, bins=np.linspace(-20, 20, 1000))\n",
    "\n",
    "# x = np.linspace(-0.05, 0.05, 10000)\n",
    "# y = norm.pdf(x, 0, std)\n",
    "# plt.plot(x, y)\n",
    "\n",
    "# plt.ylim(0, 100000)\n",
    "# plt.xlim(-0.0025, 0.0025)\n",
    "plt.yscale('log')\n",
    "\n",
    "plt.show()"
   ]
  },
  {
   "cell_type": "code",
   "execution_count": 115,
   "metadata": {},
   "outputs": [
    {
     "name": "stdout",
     "output_type": "stream",
     "text": [
      "500\n",
      "36.28619541264606\n",
      "3736\n",
      "num hi tol =  347\n",
      "[-0.0006755   0.00055361         nan         nan         nan  0.00071647\n",
      "         nan -0.00086545         nan         nan]\n"
     ]
    },
    {
     "data": {
      "image/png": "[encoded data removed]",
      "text/plain": [
       "<Figure size 432x288 with 1 Axes>"
      ]
     },
     "metadata": {},
     "output_type": "display_data"
    }
   ],
   "source": [
    "from scipy.stats import norm\n",
    "\n",
    "this_snap = 25\n",
    "print(snap[this_snap])\n",
    "\n",
    "Omega = Omega_N3\n",
    "Op = ps_N[this_snap]\n",
    "dLz = Omega[:,this_snap,-1]\n",
    "\n",
    "print(Op)\n",
    "\n",
    "lR = -1\n",
    "lphi = 2\n",
    "lz = 5\n",
    "\n",
    "Rbool = Omega[:,10,3] == lR\n",
    "phibool = Omega[:,10,4] == lphi\n",
    "zbool = Omega[:,10,5] == lz\n",
    "\n",
    "at_res = np.logical_and(np.logical_and(Rbool, phibool), zbool)\n",
    "print(len(np.where(at_res)[0]))\n",
    "\n",
    "tol = (Omega[:,this_snap,0]*Omega[:,this_snap,3] + \\\n",
    "       Omega[:,this_snap,1]*Omega[:,this_snap,4] + \\\n",
    "       Omega[:,this_snap,2]*Omega[:,this_snap,5])/(2.*Op) - 1.0\n",
    "\n",
    "hi_tol = np.logical_and(at_res, np.abs(tol) < 0.0001)\n",
    "print('num hi tol = ', len(np.where(hi_tol)[0]))\n",
    "\n",
    "print(tol[:10])\n",
    "\n",
    "# print(np.sum(dLz))\n",
    "# print(np.sum(dLz[np.logical_and(np.abs(dLz)>0.005, np.abs(dLz)<0.01)]))\n",
    "plt.hist(dLz[at_res], bins=np.linspace(-0.003, 0.003, 80))\n",
    "plt.hist(dLz[hi_tol], bins=np.linspace(-0.003, 0.003, 80))\n",
    "\n",
    "mu, std = norm.fit(dLz)\n",
    "x = np.linspace(-0.05, 0.05, 10000)\n",
    "y = norm.pdf(x, 0, std)\n",
    "# plt.plot(x, y)\n",
    "\n",
    "plt.ylim(0, 300)\n",
    "plt.xlim(-0.003, 0.003)\n",
    "\n",
    "plt.show()"
   ]
  },
  {
   "cell_type": "code",
   "execution_count": 115,
   "metadata": {
    "collapsed": true
   },
   "outputs": [],
   "source": [
    "from scipy.stats import norm\n"
   ]
  },
  {
   "cell_type": "code",
   "execution_count": 87,
   "metadata": {},
   "outputs": [
    {
     "name": "stdout",
     "output_type": "stream",
     "text": [
      "8.591512998651134e-07 9.626505317139963e-05\n"
     ]
    }
   ],
   "source": [
    "print(mu, std)"
   ]
  },
  {
   "cell_type": "code",
   "execution_count": 16,
   "metadata": {
    "collapsed": true
   },
   "outputs": [],
   "source": [
    "@njit\n",
    "def un_asymmetrize(dLz):\n",
    "    dLz_pos = dLz[dLz >= 0]\n",
    "    dLz_neg = dLz[dLz < 0]\n",
    "    \n",
    "    dLz_pos = np.sort(dLz_pos)\n",
    "    dLz_neg = -np.sort(-dLz_neg)\n",
    "    \n",
    "    tot_dLz = 0.0\n",
    "    Npos = dLz_pos.shape[0]\n",
    "    Nneg = dLz_neg.shape[0]\n",
    "    \n",
    "    i = j = 0\n",
    "    while i < Npos and j < Nneg:\n",
    "        if tot_dLz >= 0:\n",
    "            tot_dLz += dLz_neg[j]\n",
    "            j += 1\n",
    "        else:\n",
    "            tot_dLz += dLz_pos[i]\n",
    "            i += 1\n",
    "    \n",
    "    if i==Npos:\n",
    "        # this resonance is negative\n",
    "        return dLz_neg[j:]\n",
    "    else:\n",
    "        return dLz_pos[i:]\n",
    "    "
   ]
  },
  {
   "cell_type": "code",
   "execution_count": 149,
   "metadata": {},
   "outputs": [
    {
     "name": "stdout",
     "output_type": "stream",
     "text": [
      "500\n",
      "35837\n",
      "1748\n",
      "1.6853175053226184\n",
      "0.0023846327906701078\n"
     ]
    },
    {
     "data": {
      "image/png": "[encoded data removed]",
      "text/plain": [
       "<Figure size 432x288 with 1 Axes>"
      ]
     },
     "metadata": {},
     "output_type": "display_data"
    }
   ],
   "source": [
    "from sklearn.mixture import GaussianMixture\n",
    "from scipy.stats import norm\n",
    "\n",
    "this_snap = 25\n",
    "\n",
    "Omega = Omega_N3\n",
    "dLz = Omega[:,this_snap,-1]\n",
    "\n",
    "lR = 0\n",
    "lphi = 2\n",
    "lz = 0\n",
    "\n",
    "xrng = (-0.0015, 0.0015)\n",
    "\n",
    "print(snap[this_snap])\n",
    "Rbool = Omega[:,this_snap,3] == lR\n",
    "phibool = Omega[:,this_snap,4] == lphi\n",
    "# zbool = Omega[:,this_snap,5] == lz\n",
    "# totbool = np.logical_and(np.logical_and(Rbool, phibool), zbool)\n",
    "totbool = np.logical_and(Rbool, phibool)\n",
    "\n",
    "print(len(np.where(totbool)[0]))\n",
    "\n",
    "# model = GaussianMixture(10).fit(dLz[totbool].reshape((-1, 1)))\n",
    "# x = np.linspace(xrng[0], xrng[1], 10000)\n",
    "# resp = model.predict_proba(x.reshape((-1, 1)))\n",
    "\n",
    "# mu, std = norm.fit(dLz[totbool])\n",
    "\n",
    "p = resp.cumsum(1).T\n",
    "# plt.fill_between(x, 0, p[0], color='gray', alpha=0.3)\n",
    "# plt.fill_between(x, p[0], p[1], color='gray', alpha=0.5)\n",
    "# plt.fill_between(x, p[1], 1, color='gray', alpha=0.7)\n",
    "\n",
    "plt.hist(dLz[totbool], bins=np.linspace(xrng[0], xrng[1], 256), alpha=0.5)\n",
    "\n",
    "t = un_asymmetrize(dLz[totbool])\n",
    "print(len(t))\n",
    "plt.hist(t, bins=np.linspace(xrng[0], xrng[1], 256), alpha=0.8)\n",
    "\n",
    "plt.axvline(mu + 1.5*std)\n",
    "plt.axvline(mu - 1.5*std)\n",
    "print(np.sum(dLz[totbool]))\n",
    "print(np.max(dLz[totbool]))\n",
    "plt.show()"
   ]
  },
  {
   "cell_type": "code",
   "execution_count": 143,
   "metadata": {},
   "outputs": [
    {
     "name": "stdout",
     "output_type": "stream",
     "text": [
      "500\n",
      "35837\n",
      "-0.6524766714770792\n",
      "0.0023846327906701078\n"
     ]
    },
    {
     "data": {
      "image/png": "[encoded data removed]",
      "text/plain": [
       "<Figure size 432x288 with 1 Axes>"
      ]
     },
     "metadata": {},
     "output_type": "display_data"
    }
   ],
   "source": [
    "from sklearn.mixture import GaussianMixture\n",
    "from scipy.stats import norm\n",
    "from sklearn.cluster import KMeans\n",
    "\n",
    "this_snap = 25\n",
    "\n",
    "Omega = Omega_N3\n",
    "dLz = Omega[:,this_snap,-1]\n",
    "\n",
    "lR = 0\n",
    "lphi = 2\n",
    "lz = 0\n",
    "\n",
    "xrng = (-0.0015, 0.0015)\n",
    "\n",
    "print(snap[this_snap])\n",
    "Rbool = Omega[:,this_snap,3] == lR\n",
    "phibool = Omega[:,this_snap,4] == lphi\n",
    "# zbool = Omega[:,this_snap,5] == lz\n",
    "# totbool = np.logical_and(np.logical_and(Rbool, phibool), zbool)\n",
    "totbool = np.logical_and(Rbool, phibool)\n",
    "\n",
    "print(len(np.where(totbool)[0]))\n",
    "\n",
    "ans = KMeans(2).fit(dLz[totbool].reshape(-1, 1))\n",
    "\n",
    "mu, std = norm.fit(dLz)\n",
    "\n",
    "p = resp.cumsum(1).T\n",
    "# plt.fill_between(x, 0, p[0], color='gray', alpha=0.3)\n",
    "# plt.fill_between(x, p[0], p[1], color='gray', alpha=0.5)\n",
    "# plt.fill_between(x, p[1], 1, color='gray', alpha=0.7)\n",
    "\n",
    "\n",
    "plt.hist(dLz[totbool], bins=np.linspace(xrng[0], xrng[1], 256), alpha=0.5)\n",
    "plt.hist(dLz[totbool][ans.labels_==0], bins=np.linspace(xrng[0], xrng[1], 256), alpha=0.5)\n",
    "plt.hist(dLz[totbool][ans.labels_==1], bins=np.linspace(xrng[0], xrng[1], 256), alpha=0.5)\n",
    "# plt.axvline(mu + 3.*std)\n",
    "# plt.axvline(mu - 3.*std)\n",
    "plt.axvline(ans.cluster_centers_[0])\n",
    "plt.axvline(ans.cluster_centers_[1])\n",
    "print(np.sum(dLz[totbool][ans.labels_==0]))\n",
    "print(np.max(dLz[totbool][ans.labels_==1]))\n",
    "plt.show()"
   ]
  },
  {
   "cell_type": "code",
   "execution_count": 138,
   "metadata": {},
   "outputs": [
    {
     "data": {
      "text/plain": [
       "array([0, 1, 0, ..., 0, 1, 0], dtype=int32)"
      ]
     },
     "execution_count": 138,
     "metadata": {},
     "output_type": "execute_result"
    }
   ],
   "source": [
    "ans.labels_"
   ]
  },
  {
   "cell_type": "code",
   "execution_count": 97,
   "metadata": {},
   "outputs": [
    {
     "name": "stdout",
     "output_type": "stream",
     "text": [
      "0\n",
      "1\n",
      "2\n"
     ]
    },
    {
     "data": {
      "image/png": "[encoded data removed]",
      "text/plain": [
       "<Figure size 432x288 with 1 Axes>"
      ]
     },
     "metadata": {},
     "output_type": "display_data"
    }
   ],
   "source": [
    "Omega = Omega_N3\n",
    "\n",
    "print(0)\n",
    "in_res = np.logical_not(np.isnan(Omega[:,:,3]))\n",
    "in_res_pro = np.logical_and(in_res, Omega[:,:,1] > 0)\n",
    "print(1)\n",
    "in_res_ret = np.logical_and(in_res, Omega[:,:,1] < 0)\n",
    "print(2)\n",
    "\n",
    "dLz_pro = []\n",
    "dLz_ret = []\n",
    "for i in range(len(snap)):\n",
    "    dLz_pro.append(np.sum(Omega[:,i,-1][in_res_pro[:,i]]))\n",
    "    dLz_ret.append(np.sum(Omega[:,i,-1][in_res_ret[:,i]]))\n",
    "\n",
    "dLz_pro = np.array(dLz_pro)\n",
    "dLz_ret = np.array(dLz_ret)\n",
    "\n",
    "# dLz_pro = np.sum(Omega[:,:,-1][in_res_pro], axis=0)\n",
    "# print(3)\n",
    "# dLz_ret = np.sum(Omega[:,:,-1][in_res_ret], axis=0)\n",
    "\n",
    "plt.plot(snap/200., dLz_pro, label='prograde')\n",
    "plt.plot(snap/200., dLz_ret, label='retrograde')\n",
    "plt.show()"
   ]
  },
  {
   "cell_type": "code",
   "execution_count": 98,
   "metadata": {},
   "outputs": [
    {
     "name": "stdout",
     "output_type": "stream",
     "text": [
      "0\n",
      "1\n",
      "2\n"
     ]
    },
    {
     "data": {
      "image/png": "[encoded data removed]",
      "text/plain": [
       "<Figure size 432x288 with 1 Axes>"
      ]
     },
     "metadata": {},
     "output_type": "display_data"
    }
   ],
   "source": [
    "Omega = Omega_S3\n",
    "\n",
    "print(0)\n",
    "in_res = np.logical_not(np.isnan(Omega[:,:,3]))\n",
    "in_res_pro = np.logical_and(in_res, Omega[:,:,1] > 0)\n",
    "print(1)\n",
    "in_res_ret = np.logical_and(in_res, Omega[:,:,1] < 0)\n",
    "print(2)\n",
    "\n",
    "dLz_pro = []\n",
    "dLz_ret = []\n",
    "for i in range(len(snap)):\n",
    "    dLz_pro.append(np.sum(Omega[:,i,-1][in_res_pro[:,i]]))\n",
    "    dLz_ret.append(np.sum(Omega[:,i,-1][in_res_ret[:,i]]))\n",
    "\n",
    "dLz_pro = np.array(dLz_pro)\n",
    "dLz_ret = np.array(dLz_ret)\n",
    "\n",
    "# dLz_pro = np.sum(Omega[:,:,-1][in_res_pro], axis=0)\n",
    "# print(3)\n",
    "# dLz_ret = np.sum(Omega[:,:,-1][in_res_ret], axis=0)\n",
    "\n",
    "plt.plot(snap/200., dLz_pro, label='prograde')\n",
    "plt.plot(snap/200., dLz_ret, label='retrograde')\n",
    "plt.show()"
   ]
  },
  {
   "cell_type": "code",
   "execution_count": 2,
   "metadata": {
    "collapsed": true
   },
   "outputs": [],
   "source": [
    "ps = h5.File('/n/home01/abeane/starbar/plots/phase_space/data/Nbody-lvl4/phase_space_Nbody-lvl4.0.hdf5', mode='r')"
   ]
  },
  {
   "cell_type": "code",
   "execution_count": 3,
   "metadata": {
    "collapsed": true
   },
   "outputs": [],
   "source": [
    "ps_pos = ps['PartType1/Coordinates'][:]\n",
    "ps_vel = ps['PartType1/Velocities'][:]\n",
    "# ps_Lz = sn0.MassTable[1].value * np.cross(ps_pos, ps_vel)[:,:,2]"
   ]
  },
  {
   "cell_type": "code",
   "execution_count": 22,
   "metadata": {},
   "outputs": [
    {
     "name": "stdout",
     "output_type": "stream",
     "text": [
      "(1601, 6189)\n"
     ]
    },
    {
     "data": {
      "application/vnd.jupyter.widget-view+json": {
       "model_id": "e3d8ea2c505444b896cdb130e3a62334",
       "version_major": 2,
       "version_minor": 0
      },
      "text/plain": [
       "A Jupyter Widget"
      ]
     },
     "metadata": {},
     "output_type": "display_data"
    },
    {
     "name": "stdout",
     "output_type": "stream",
     "text": [
      "200 400\n",
      "0 200\n",
      "201 401\n",
      "1 201\n",
      "202 402\n",
      "2 202\n",
      "203 403\n",
      "3 203\n",
      "204 404\n",
      "4 204\n",
      "205 405\n",
      "5 205\n",
      "206 406\n",
      "6 206\n",
      "207 407\n",
      "7 207\n",
      "208 408\n",
      "8 208\n",
      "209 409\n",
      "9 209\n",
      "210 410\n",
      "10 210\n",
      "211 411\n",
      "11 211\n",
      "212 412\n",
      "12 212\n",
      "213 413\n",
      "13 213\n",
      "214 414\n",
      "14 214\n",
      "215 415\n",
      "15 215\n",
      "216 416\n",
      "16 216\n",
      "217 417\n",
      "17 217\n",
      "218 418\n",
      "18 218\n",
      "219 419\n",
      "19 219\n",
      "220 420\n",
      "20 220\n",
      "221 421\n",
      "21 221\n",
      "222 422\n",
      "22 222\n",
      "223 423\n",
      "23 223\n",
      "224 424\n",
      "24 224\n",
      "225 425\n",
      "25 225\n",
      "226 426\n",
      "26 226\n",
      "227 427\n",
      "27 227\n",
      "228 428\n",
      "28 228\n",
      "229 429\n",
      "29 229\n",
      "230 430\n",
      "30 230\n",
      "231 431\n",
      "31 231\n",
      "232 432\n",
      "32 232\n",
      "233 433\n",
      "33 233\n",
      "234 434\n",
      "34 234\n",
      "235 435\n",
      "35 235\n",
      "236 436\n",
      "36 236\n",
      "237 437\n",
      "37 237\n",
      "238 438\n",
      "38 238\n",
      "239 439\n",
      "39 239\n",
      "240 440\n",
      "40 240\n",
      "241 441\n",
      "41 241\n",
      "242 442\n",
      "42 242\n",
      "243 443\n",
      "43 243\n",
      "244 444\n",
      "44 244\n",
      "245 445\n",
      "45 245\n",
      "246 446\n",
      "46 246\n",
      "247 447\n",
      "47 247\n",
      "248 448\n",
      "48 248\n",
      "249 449\n",
      "49 249\n",
      "250 450\n",
      "50 250\n",
      "251 451\n",
      "51 251\n",
      "252 452\n",
      "52 252\n",
      "253 453\n",
      "53 253\n",
      "254 454\n",
      "54 254\n",
      "255 455\n",
      "55 255\n",
      "256 456\n",
      "56 256\n",
      "257 457\n",
      "57 257\n",
      "258 458\n",
      "58 258\n",
      "259 459\n",
      "59 259\n",
      "260 460\n",
      "60 260\n",
      "261 461\n",
      "61 261\n",
      "262 462\n",
      "62 262\n",
      "263 463\n",
      "63 263\n",
      "264 464\n",
      "64 264\n",
      "265 465\n",
      "65 265\n",
      "266 466\n",
      "66 266\n",
      "267 467\n",
      "67 267\n",
      "268 468\n",
      "68 268\n",
      "269 469\n",
      "69 269\n",
      "270 470\n",
      "70 270\n",
      "271 471\n",
      "71 271\n",
      "272 472\n",
      "72 272\n",
      "273 473\n",
      "73 273\n",
      "274 474\n",
      "74 274\n",
      "275 475\n",
      "75 275\n",
      "276 476\n",
      "76 276\n",
      "277 477\n",
      "77 277\n",
      "278 478\n",
      "78 278\n",
      "279 479\n",
      "79 279\n",
      "280 480\n",
      "80 280\n",
      "281 481\n",
      "81 281\n",
      "282 482\n",
      "82 282\n",
      "283 483\n",
      "83 283\n",
      "284 484\n",
      "84 284\n",
      "285 485\n",
      "85 285\n",
      "286 486\n",
      "86 286\n",
      "287 487\n",
      "87 287\n",
      "288 488\n",
      "88 288\n",
      "289 489\n",
      "89 289\n",
      "290 490\n",
      "90 290\n",
      "291 491\n",
      "91 291\n",
      "292 492\n",
      "92 292\n",
      "293 493\n",
      "93 293\n",
      "294 494\n",
      "94 294\n",
      "295 495\n",
      "95 295\n",
      "296 496\n",
      "96 296\n",
      "297 497\n",
      "97 297\n",
      "298 498\n",
      "98 298\n",
      "299 499\n",
      "99 299\n",
      "300 500\n",
      "100 300\n",
      "301 501\n",
      "101 301\n",
      "302 502\n",
      "102 302\n",
      "303 503\n",
      "103 303\n",
      "304 504\n",
      "104 304\n",
      "305 505\n",
      "105 305\n",
      "306 506\n",
      "106 306\n",
      "307 507\n",
      "107 307\n",
      "308 508\n",
      "108 308\n",
      "309 509\n",
      "109 309\n",
      "310 510\n",
      "110 310\n",
      "311 511\n",
      "111 311\n",
      "312 512\n",
      "112 312\n",
      "313 513\n",
      "113 313\n",
      "314 514\n",
      "114 314\n",
      "315 515\n",
      "115 315\n",
      "316 516\n",
      "116 316\n",
      "317 517\n",
      "117 317\n",
      "318 518\n",
      "118 318\n",
      "319 519\n",
      "119 319\n",
      "320 520\n",
      "120 320\n",
      "321 521\n",
      "121 321\n",
      "322 522\n",
      "122 322\n",
      "323 523\n",
      "123 323\n",
      "324 524\n",
      "124 324\n",
      "325 525\n",
      "125 325\n",
      "326 526\n",
      "126 326\n",
      "327 527\n",
      "127 327\n",
      "328 528\n",
      "128 328\n",
      "329 529\n",
      "129 329\n",
      "330 530\n",
      "130 330\n",
      "331 531\n",
      "131 331\n",
      "332 532\n",
      "132 332\n",
      "333 533\n",
      "133 333\n",
      "334 534\n",
      "134 334\n",
      "335 535\n",
      "135 335\n",
      "336 536\n",
      "136 336\n",
      "337 537\n",
      "137 337\n",
      "338 538\n",
      "138 338\n",
      "339 539\n",
      "139 339\n",
      "340 540\n",
      "140 340\n",
      "341 541\n",
      "141 341\n",
      "342 542\n",
      "142 342\n",
      "343 543\n",
      "143 343\n",
      "344 544\n",
      "144 344\n",
      "345 545\n",
      "145 345\n",
      "346 546\n",
      "146 346\n",
      "347 547\n",
      "147 347\n",
      "348 548\n",
      "148 348\n",
      "349 549\n",
      "149 349\n",
      "350 550\n",
      "150 350\n",
      "351 551\n",
      "151 351\n",
      "352 552\n",
      "152 352\n",
      "353 553\n",
      "153 353\n",
      "354 554\n",
      "154 354\n",
      "355 555\n",
      "155 355\n",
      "356 556\n",
      "156 356\n",
      "357 557\n",
      "157 357\n",
      "358 558\n",
      "158 358\n",
      "359 559\n",
      "159 359\n",
      "360 560\n",
      "160 360\n",
      "361 561\n",
      "161 361\n",
      "362 562\n",
      "162 362\n",
      "363 563\n",
      "163 363\n",
      "364 564\n",
      "164 364\n",
      "365 565\n",
      "165 365\n",
      "366 566\n",
      "166 366\n",
      "367 567\n",
      "167 367\n",
      "368 568\n",
      "168 368\n",
      "369 569\n",
      "169 369\n",
      "370 570\n",
      "170 370\n",
      "371 571\n",
      "171 371\n",
      "372 572\n",
      "172 372\n",
      "373 573\n",
      "173 373\n",
      "374 574\n",
      "174 374\n",
      "375 575\n",
      "175 375\n",
      "376 576\n",
      "176 376\n",
      "377 577\n",
      "177 377\n",
      "378 578\n",
      "178 378\n",
      "379 579\n",
      "179 379\n",
      "380 580\n",
      "180 380\n",
      "381 581\n",
      "181 381\n",
      "382 582\n",
      "182 382\n",
      "383 583\n",
      "183 383\n",
      "384 584\n",
      "184 384\n",
      "385 585\n",
      "185 385\n",
      "386 586\n",
      "186 386\n",
      "387 587\n",
      "187 387\n",
      "388 588\n",
      "188 388\n",
      "389 589\n",
      "189 389\n",
      "390 590\n",
      "190 390\n",
      "391 591\n",
      "191 391\n",
      "392 592\n",
      "192 392\n",
      "393 593\n",
      "193 393\n",
      "394 594\n",
      "194 394\n",
      "395 595\n",
      "195 395\n",
      "396 596\n",
      "196 396\n",
      "397 597\n",
      "197 397\n",
      "398 598\n",
      "198 398\n",
      "399 599\n",
      "199 399\n",
      "400 600\n",
      "200 400\n",
      "401 601\n",
      "201 401\n",
      "402 602\n",
      "202 402\n",
      "403 603\n",
      "203 403\n",
      "404 604\n",
      "204 404\n",
      "405 605\n",
      "205 405\n",
      "406 606\n",
      "206 406\n",
      "407 607\n",
      "207 407\n",
      "408 608\n",
      "208 408\n",
      "409 609\n",
      "209 409\n",
      "410 610\n",
      "210 410\n",
      "411 611\n",
      "211 411\n",
      "412 612\n",
      "212 412\n",
      "413 613\n",
      "213 413\n",
      "414 614\n",
      "214 414\n",
      "415 615\n",
      "215 415\n",
      "416 616\n",
      "216 416\n",
      "417 617\n",
      "217 417\n",
      "418 618\n",
      "218 418\n",
      "419 619\n",
      "219 419\n",
      "420 620\n",
      "220 420\n",
      "421 621\n",
      "221 421\n",
      "422 622\n",
      "222 422\n",
      "423 623\n",
      "223 423\n",
      "424 624\n",
      "224 424\n",
      "425 625\n",
      "225 425\n",
      "426 626\n",
      "226 426\n",
      "427 627\n",
      "227 427\n",
      "428 628\n",
      "228 428\n",
      "429 629\n",
      "229 429\n",
      "430 630\n",
      "230 430\n",
      "431 631\n",
      "231 431\n",
      "432 632\n",
      "232 432\n",
      "433 633\n",
      "233 433\n",
      "434 634\n",
      "234 434\n",
      "435 635\n",
      "235 435\n",
      "436 636\n",
      "236 436\n",
      "437 637\n",
      "237 437\n",
      "438 638\n",
      "238 438\n",
      "439 639\n",
      "239 439\n",
      "440 640\n",
      "240 440\n",
      "441 641\n",
      "241 441\n",
      "442 642\n",
      "242 442\n",
      "443 643\n",
      "243 443\n",
      "444 644\n",
      "244 444\n",
      "445 645\n",
      "245 445\n",
      "446 646\n",
      "246 446\n",
      "447 647\n",
      "247 447\n",
      "448 648\n",
      "248 448\n",
      "449 649\n",
      "249 449\n",
      "450 650\n",
      "250 450\n",
      "451 651\n",
      "251 451\n",
      "452 652\n",
      "252 452\n",
      "453 653\n",
      "253 453\n",
      "454 654\n",
      "254 454\n",
      "455 655\n",
      "255 455\n",
      "456 656\n",
      "256 456\n",
      "457 657\n",
      "257 457\n",
      "458 658\n",
      "258 458\n",
      "459 659\n",
      "259 459\n",
      "460 660\n",
      "260 460\n",
      "461 661\n",
      "261 461\n",
      "462 662\n",
      "262 462\n",
      "463 663\n",
      "263 463\n",
      "464 664\n",
      "264 464\n",
      "465 665\n",
      "265 465\n",
      "466 666\n",
      "266 466\n",
      "467 667\n",
      "267 467\n",
      "468 668\n",
      "268 468\n",
      "469 669\n",
      "269 469\n",
      "470 670\n",
      "270 470\n",
      "471 671\n",
      "271 471\n",
      "472 672\n",
      "272 472\n",
      "473 673\n",
      "273 473\n",
      "474 674\n",
      "274 474\n",
      "475 675\n",
      "275 475\n",
      "476 676\n",
      "276 476\n",
      "477 677\n",
      "277 477\n",
      "478 678\n",
      "278 478\n",
      "479 679\n",
      "279 479\n",
      "480 680\n",
      "280 480\n",
      "481 681\n",
      "281 481\n",
      "482 682\n",
      "282 482\n",
      "483 683\n",
      "283 483\n",
      "484 684\n",
      "284 484\n",
      "485 685\n",
      "285 485\n",
      "486 686\n",
      "286 486\n",
      "487 687\n",
      "287 487\n",
      "488 688\n",
      "288 488\n",
      "489 689\n",
      "289 489\n",
      "490 690\n",
      "290 490\n",
      "491 691\n",
      "291 491\n",
      "492 692\n",
      "292 492\n",
      "493 693\n",
      "293 493\n",
      "494 694\n",
      "294 494\n",
      "495 695\n",
      "295 495\n",
      "496 696\n",
      "296 496\n",
      "497 697\n",
      "297 497\n",
      "498 698\n",
      "298 498\n",
      "499 699\n",
      "299 499\n",
      "500 700\n",
      "300 500\n",
      "501 701\n",
      "301 501\n",
      "502 702\n",
      "302 502\n",
      "503 703\n",
      "303 503\n",
      "504 704\n",
      "304 504\n",
      "505 705\n",
      "305 505\n",
      "506 706\n",
      "306 506\n",
      "507 707\n",
      "307 507\n",
      "508 708\n",
      "308 508\n",
      "509 709\n",
      "309 509\n",
      "510 710\n",
      "310 510\n",
      "511 711\n",
      "311 511\n",
      "512 712\n",
      "312 512\n",
      "513 713\n",
      "313 513\n",
      "514 714\n",
      "314 514\n",
      "515 715\n",
      "315 515\n",
      "516 716\n",
      "316 516\n",
      "517 717\n",
      "317 517\n",
      "518 718\n",
      "318 518\n",
      "519 719\n",
      "319 519\n",
      "520 720\n",
      "320 520\n",
      "521 721\n",
      "321 521\n",
      "522 722\n",
      "322 522\n",
      "523 723\n",
      "323 523\n",
      "524 724\n",
      "324 524\n",
      "525 725\n",
      "325 525\n",
      "526 726\n",
      "326 526\n",
      "527 727\n",
      "327 527\n",
      "528 728\n",
      "328 528\n",
      "529 729\n",
      "329 529\n",
      "530 730\n",
      "330 530\n",
      "531 731\n",
      "331 531\n",
      "532 732\n",
      "332 532\n",
      "533 733\n",
      "333 533\n",
      "534 734\n",
      "334 534\n",
      "535 735\n",
      "335 535\n",
      "536 736\n",
      "336 536\n",
      "537 737\n",
      "337 537\n",
      "538 738\n",
      "338 538\n",
      "539 739\n",
      "339 539\n",
      "540 740\n",
      "340 540\n",
      "541 741\n",
      "341 541\n",
      "542 742\n",
      "342 542\n",
      "543 743\n",
      "343 543\n",
      "544 744\n",
      "344 544\n",
      "545 745\n",
      "345 545\n",
      "546 746\n",
      "346 546\n",
      "547 747\n",
      "347 547\n",
      "548 748\n",
      "348 548\n",
      "549 749\n",
      "349 549\n",
      "550 750\n",
      "350 550\n",
      "551 751\n",
      "351 551\n",
      "552 752\n",
      "352 552\n",
      "553 753\n",
      "353 553\n",
      "554 754\n",
      "354 554\n",
      "555 755\n",
      "355 555\n",
      "556 756\n",
      "356 556\n",
      "557 757\n",
      "357 557\n",
      "558 758\n",
      "358 558\n",
      "559 759\n",
      "359 559\n",
      "560 760\n",
      "360 560\n",
      "561 761\n",
      "361 561\n",
      "562 762\n",
      "362 562\n",
      "563 763\n",
      "363 563\n",
      "564 764\n",
      "364 564\n",
      "565 765\n",
      "365 565\n",
      "566 766\n",
      "366 566\n",
      "567 767\n",
      "367 567\n",
      "568 768\n",
      "368 568\n",
      "569 769\n",
      "369 569\n",
      "570 770\n",
      "370 570\n",
      "571 771\n",
      "371 571\n",
      "572 772\n",
      "372 572\n",
      "573 773\n",
      "373 573\n",
      "574 774\n",
      "374 574\n",
      "575 775\n",
      "375 575\n",
      "576 776\n",
      "376 576\n",
      "577 777\n",
      "377 577\n",
      "578 778\n",
      "378 578\n",
      "579 779\n",
      "379 579\n",
      "580 780\n",
      "380 580\n",
      "581 781\n",
      "381 581\n",
      "582 782\n",
      "382 582\n",
      "583 783\n",
      "383 583\n",
      "584 784\n",
      "384 584\n",
      "585 785\n",
      "385 585\n",
      "586 786\n",
      "386 586\n",
      "587 787\n",
      "387 587\n",
      "588 788\n",
      "388 588\n",
      "589 789\n",
      "389 589\n",
      "590 790\n",
      "390 590\n",
      "591 791\n",
      "391 591\n",
      "592 792\n",
      "392 592\n",
      "593 793\n",
      "393 593\n",
      "594 794\n",
      "394 594\n",
      "595 795\n",
      "395 595\n",
      "596 796\n",
      "396 596\n",
      "597 797\n",
      "397 597\n",
      "598 798\n",
      "398 598\n",
      "599 799\n",
      "399 599\n",
      "600 800\n",
      "400 600\n",
      "601 801\n",
      "401 601\n",
      "602 802\n",
      "402 602\n",
      "603 803\n",
      "403 603\n",
      "604 804\n",
      "404 604\n",
      "605 805\n",
      "405 605\n",
      "606 806\n",
      "406 606\n",
      "607 807\n",
      "407 607\n",
      "608 808\n",
      "408 608\n",
      "609 809\n",
      "409 609\n",
      "610 810\n",
      "410 610\n",
      "611 811\n",
      "411 611\n",
      "612 812\n",
      "412 612\n",
      "613 813\n",
      "413 613\n",
      "614 814\n",
      "414 614\n",
      "615 815\n",
      "415 615\n",
      "616 816\n",
      "416 616\n",
      "617 817\n",
      "417 617\n",
      "618 818\n",
      "418 618\n",
      "619 819\n",
      "419 619\n",
      "620 820\n",
      "420 620\n",
      "621 821\n",
      "421 621\n",
      "622 822\n",
      "422 622\n",
      "623 823\n",
      "423 623\n",
      "624 824\n",
      "424 624\n",
      "625 825\n",
      "425 625\n",
      "626 826\n",
      "426 626\n",
      "627 827\n",
      "427 627\n",
      "628 828\n",
      "428 628\n",
      "629 829\n",
      "429 629\n",
      "630 830\n",
      "430 630\n",
      "631 831\n",
      "431 631\n",
      "632 832\n",
      "432 632\n",
      "633 833\n",
      "433 633\n",
      "634 834\n",
      "434 634\n",
      "635 835\n",
      "435 635\n",
      "636 836\n",
      "436 636\n",
      "637 837\n",
      "437 637\n",
      "638 838\n",
      "438 638\n",
      "639 839\n",
      "439 639\n",
      "640 840\n",
      "440 640\n",
      "641 841\n",
      "441 641\n",
      "642 842\n",
      "442 642\n",
      "643 843\n",
      "443 643\n",
      "644 844\n",
      "444 644\n",
      "645 845\n",
      "445 645\n",
      "646 846\n",
      "446 646\n",
      "647 847\n",
      "447 647\n",
      "648 848\n",
      "448 648\n",
      "649 849\n",
      "449 649\n",
      "650 850\n",
      "450 650\n",
      "651 851\n",
      "451 651\n",
      "652 852\n",
      "452 652\n",
      "653 853\n",
      "453 653\n",
      "654 854\n",
      "454 654\n",
      "655 855\n",
      "455 655\n",
      "656 856\n",
      "456 656\n",
      "657 857\n",
      "457 657\n",
      "658 858\n",
      "458 658\n",
      "659 859\n",
      "459 659\n",
      "660 860\n",
      "460 660\n",
      "661 861\n",
      "461 661\n",
      "662 862\n",
      "462 662\n",
      "663 863\n",
      "463 663\n",
      "664 864\n",
      "464 664\n",
      "665 865\n",
      "465 665\n",
      "666 866\n",
      "466 666\n",
      "667 867\n",
      "467 667\n",
      "668 868\n",
      "468 668\n",
      "669 869\n",
      "469 669\n",
      "670 870\n",
      "470 670\n",
      "671 871\n",
      "471 671\n",
      "672 872\n",
      "472 672\n",
      "673 873\n",
      "473 673\n",
      "674 874\n",
      "474 674\n",
      "675 875\n",
      "475 675\n",
      "676 876\n",
      "476 676\n",
      "677 877\n",
      "477 677\n",
      "678 878\n",
      "478 678\n",
      "679 879\n",
      "479 679\n",
      "680 880\n",
      "480 680\n",
      "681 881\n",
      "481 681\n",
      "682 882\n",
      "482 682\n",
      "683 883\n",
      "483 683\n",
      "684 884\n",
      "484 684\n",
      "685 885\n",
      "485 685\n",
      "686 886\n",
      "486 686\n",
      "687 887\n",
      "487 687\n",
      "688 888\n",
      "488 688\n",
      "689 889\n",
      "489 689\n",
      "690 890\n",
      "490 690\n",
      "691 891\n",
      "491 691\n",
      "692 892\n",
      "492 692\n",
      "693 893\n",
      "493 693\n",
      "694 894\n",
      "494 694\n",
      "695 895\n",
      "495 695\n",
      "696 896\n",
      "496 696\n",
      "697 897\n",
      "497 697\n",
      "698 898\n",
      "498 698\n",
      "699 899\n",
      "499 699\n",
      "700 900\n",
      "500 700\n",
      "701 901\n",
      "501 701\n",
      "702 902\n",
      "502 702\n",
      "703 903\n",
      "503 703\n",
      "704 904\n",
      "504 704\n",
      "705 905\n",
      "505 705\n",
      "706 906\n",
      "506 706\n",
      "707 907\n",
      "507 707\n",
      "708 908\n",
      "508 708\n",
      "709 909\n",
      "509 709\n",
      "710 910\n",
      "510 710\n",
      "711 911\n",
      "511 711\n",
      "712 912\n",
      "512 712\n",
      "713 913\n",
      "513 713\n",
      "714 914\n",
      "514 714\n",
      "715 915\n",
      "515 715\n",
      "716 916\n",
      "516 716\n",
      "717 917\n",
      "517 717\n",
      "718 918\n",
      "518 718\n",
      "719 919\n",
      "519 719\n",
      "720 920\n",
      "520 720\n",
      "721 921\n",
      "521 721\n",
      "722 922\n",
      "522 722\n",
      "723 923\n",
      "523 723\n",
      "724 924\n",
      "524 724\n",
      "725 925\n",
      "525 725\n",
      "726 926\n",
      "526 726\n",
      "727 927\n",
      "527 727\n",
      "728 928\n",
      "528 728\n",
      "729 929\n",
      "529 729\n",
      "730 930\n",
      "530 730\n",
      "731 931\n",
      "531 731\n",
      "732 932\n",
      "532 732\n",
      "733 933\n",
      "533 733\n",
      "734 934\n",
      "534 734\n",
      "735 935\n",
      "535 735\n",
      "736 936\n",
      "536 736\n",
      "737 937\n",
      "537 737\n",
      "738 938\n",
      "538 738\n",
      "739 939\n",
      "539 739\n",
      "740 940\n",
      "540 740\n",
      "741 941\n",
      "541 741\n"
     ]
    },
    {
     "name": "stdout",
     "output_type": "stream",
     "text": [
      "742 942\n",
      "542 742\n",
      "743 943\n",
      "543 743\n",
      "744 944\n",
      "544 744\n",
      "745 945\n",
      "545 745\n",
      "746 946\n",
      "546 746\n",
      "747 947\n",
      "547 747\n",
      "748 948\n",
      "548 748\n",
      "749 949\n",
      "549 749\n",
      "750 950\n",
      "550 750\n",
      "751 951\n",
      "551 751\n",
      "752 952\n",
      "552 752\n",
      "753 953\n",
      "553 753\n",
      "754 954\n",
      "554 754\n",
      "755 955\n",
      "555 755\n",
      "756 956\n",
      "556 756\n",
      "757 957\n",
      "557 757\n",
      "758 958\n",
      "558 758\n",
      "759 959\n",
      "559 759\n",
      "760 960\n",
      "560 760\n",
      "761 961\n",
      "561 761\n",
      "762 962\n",
      "562 762\n",
      "763 963\n",
      "563 763\n",
      "764 964\n",
      "564 764\n",
      "765 965\n",
      "565 765\n",
      "766 966\n",
      "566 766\n",
      "767 967\n",
      "567 767\n",
      "768 968\n",
      "568 768\n",
      "769 969\n",
      "569 769\n",
      "770 970\n",
      "570 770\n",
      "771 971\n",
      "571 771\n",
      "772 972\n",
      "572 772\n",
      "773 973\n",
      "573 773\n",
      "774 974\n",
      "574 774\n",
      "775 975\n",
      "575 775\n",
      "776 976\n",
      "576 776\n",
      "777 977\n",
      "577 777\n",
      "778 978\n",
      "578 778\n",
      "779 979\n",
      "579 779\n",
      "780 980\n",
      "580 780\n",
      "781 981\n",
      "581 781\n",
      "782 982\n",
      "582 782\n",
      "783 983\n",
      "583 783\n",
      "784 984\n",
      "584 784\n",
      "785 985\n",
      "585 785\n",
      "786 986\n",
      "586 786\n",
      "787 987\n",
      "587 787\n",
      "788 988\n",
      "588 788\n",
      "789 989\n",
      "589 789\n",
      "790 990\n",
      "590 790\n",
      "791 991\n",
      "591 791\n",
      "792 992\n",
      "592 792\n",
      "793 993\n",
      "593 793\n",
      "794 994\n",
      "594 794\n",
      "795 995\n",
      "595 795\n",
      "796 996\n",
      "596 796\n",
      "797 997\n",
      "597 797\n",
      "798 998\n",
      "598 798\n",
      "799 999\n",
      "599 799\n",
      "800 1000\n",
      "600 800\n",
      "801 1001\n",
      "601 801\n",
      "802 1002\n",
      "602 802\n",
      "803 1003\n",
      "603 803\n",
      "804 1004\n",
      "604 804\n",
      "805 1005\n",
      "605 805\n",
      "806 1006\n",
      "606 806\n",
      "807 1007\n",
      "607 807\n",
      "808 1008\n",
      "608 808\n",
      "809 1009\n",
      "609 809\n",
      "810 1010\n",
      "610 810\n",
      "811 1011\n",
      "611 811\n",
      "812 1012\n",
      "612 812\n",
      "813 1013\n",
      "613 813\n",
      "814 1014\n",
      "614 814\n",
      "815 1015\n",
      "615 815\n",
      "816 1016\n",
      "616 816\n",
      "817 1017\n",
      "617 817\n",
      "818 1018\n",
      "618 818\n",
      "819 1019\n",
      "619 819\n",
      "820 1020\n",
      "620 820\n",
      "821 1021\n",
      "621 821\n",
      "822 1022\n",
      "622 822\n",
      "823 1023\n",
      "623 823\n",
      "824 1024\n",
      "624 824\n",
      "825 1025\n",
      "625 825\n",
      "826 1026\n",
      "626 826\n",
      "827 1027\n",
      "627 827\n",
      "828 1028\n",
      "628 828\n",
      "829 1029\n",
      "629 829\n",
      "830 1030\n",
      "630 830\n",
      "831 1031\n",
      "631 831\n",
      "832 1032\n",
      "632 832\n",
      "833 1033\n",
      "633 833\n",
      "834 1034\n",
      "634 834\n",
      "835 1035\n",
      "635 835\n",
      "836 1036\n",
      "636 836\n",
      "837 1037\n",
      "637 837\n",
      "838 1038\n",
      "638 838\n",
      "839 1039\n",
      "639 839\n",
      "840 1040\n",
      "640 840\n",
      "841 1041\n",
      "641 841\n",
      "842 1042\n",
      "642 842\n",
      "843 1043\n",
      "643 843\n",
      "844 1044\n",
      "644 844\n",
      "845 1045\n",
      "645 845\n",
      "846 1046\n",
      "646 846\n",
      "847 1047\n",
      "647 847\n",
      "848 1048\n",
      "648 848\n",
      "849 1049\n",
      "649 849\n",
      "850 1050\n",
      "650 850\n",
      "851 1051\n",
      "651 851\n",
      "852 1052\n",
      "652 852\n",
      "853 1053\n",
      "653 853\n",
      "854 1054\n",
      "654 854\n",
      "855 1055\n",
      "655 855\n",
      "856 1056\n",
      "656 856\n",
      "857 1057\n",
      "657 857\n",
      "858 1058\n",
      "658 858\n",
      "859 1059\n",
      "659 859\n",
      "860 1060\n",
      "660 860\n",
      "861 1061\n",
      "661 861\n",
      "862 1062\n",
      "662 862\n",
      "863 1063\n",
      "663 863\n",
      "864 1064\n",
      "664 864\n",
      "865 1065\n",
      "665 865\n",
      "866 1066\n",
      "666 866\n",
      "867 1067\n",
      "667 867\n",
      "868 1068\n",
      "668 868\n",
      "869 1069\n",
      "669 869\n",
      "870 1070\n",
      "670 870\n",
      "871 1071\n",
      "671 871\n",
      "872 1072\n",
      "672 872\n",
      "873 1073\n",
      "673 873\n",
      "874 1074\n",
      "674 874\n",
      "875 1075\n",
      "675 875\n",
      "876 1076\n",
      "676 876\n",
      "877 1077\n",
      "677 877\n",
      "878 1078\n",
      "678 878\n",
      "879 1079\n",
      "679 879\n",
      "880 1080\n",
      "680 880\n",
      "881 1081\n",
      "681 881\n",
      "882 1082\n",
      "682 882\n",
      "883 1083\n",
      "683 883\n",
      "884 1084\n",
      "684 884\n",
      "885 1085\n",
      "685 885\n",
      "886 1086\n",
      "686 886\n",
      "887 1087\n",
      "687 887\n",
      "888 1088\n",
      "688 888\n",
      "889 1089\n",
      "689 889\n",
      "890 1090\n",
      "690 890\n",
      "891 1091\n",
      "691 891\n",
      "892 1092\n",
      "692 892\n",
      "893 1093\n",
      "693 893\n",
      "894 1094\n",
      "694 894\n",
      "895 1095\n",
      "695 895\n",
      "896 1096\n",
      "696 896\n",
      "897 1097\n",
      "697 897\n",
      "898 1098\n",
      "698 898\n",
      "899 1099\n",
      "699 899\n",
      "900 1100\n",
      "700 900\n",
      "901 1101\n",
      "701 901\n",
      "902 1102\n",
      "702 902\n",
      "903 1103\n",
      "703 903\n",
      "904 1104\n",
      "704 904\n",
      "905 1105\n",
      "705 905\n",
      "906 1106\n",
      "706 906\n",
      "907 1107\n",
      "707 907\n",
      "908 1108\n",
      "708 908\n",
      "909 1109\n",
      "709 909\n",
      "910 1110\n",
      "710 910\n",
      "911 1111\n",
      "711 911\n",
      "912 1112\n",
      "712 912\n",
      "913 1113\n",
      "713 913\n",
      "914 1114\n",
      "714 914\n",
      "915 1115\n",
      "715 915\n",
      "916 1116\n",
      "716 916\n",
      "917 1117\n",
      "717 917\n",
      "918 1118\n",
      "718 918\n",
      "919 1119\n",
      "719 919\n",
      "920 1120\n",
      "720 920\n",
      "921 1121\n",
      "721 921\n",
      "922 1122\n",
      "722 922\n",
      "923 1123\n",
      "723 923\n",
      "924 1124\n",
      "724 924\n",
      "925 1125\n",
      "725 925\n",
      "926 1126\n",
      "726 926\n",
      "927 1127\n",
      "727 927\n",
      "928 1128\n",
      "728 928\n",
      "929 1129\n",
      "729 929\n",
      "930 1130\n",
      "730 930\n",
      "931 1131\n",
      "731 931\n",
      "932 1132\n",
      "732 932\n",
      "933 1133\n",
      "733 933\n",
      "934 1134\n",
      "734 934\n",
      "935 1135\n",
      "735 935\n",
      "936 1136\n",
      "736 936\n",
      "937 1137\n",
      "737 937\n",
      "938 1138\n",
      "738 938\n",
      "939 1139\n",
      "739 939\n",
      "940 1140\n",
      "740 940\n",
      "941 1141\n",
      "741 941\n",
      "942 1142\n",
      "742 942\n",
      "943 1143\n",
      "743 943\n",
      "944 1144\n",
      "744 944\n",
      "945 1145\n",
      "745 945\n",
      "946 1146\n",
      "746 946\n",
      "947 1147\n",
      "747 947\n",
      "948 1148\n",
      "748 948\n",
      "949 1149\n",
      "749 949\n",
      "950 1150\n",
      "750 950\n",
      "951 1151\n",
      "751 951\n",
      "952 1152\n",
      "752 952\n",
      "953 1153\n",
      "753 953\n",
      "954 1154\n",
      "754 954\n",
      "955 1155\n",
      "755 955\n",
      "956 1156\n",
      "756 956\n",
      "957 1157\n",
      "757 957\n",
      "958 1158\n",
      "758 958\n",
      "959 1159\n",
      "759 959\n",
      "960 1160\n",
      "760 960\n",
      "961 1161\n",
      "761 961\n",
      "962 1162\n",
      "762 962\n",
      "963 1163\n",
      "763 963\n",
      "964 1164\n",
      "764 964\n",
      "965 1165\n",
      "765 965\n",
      "966 1166\n",
      "766 966\n",
      "967 1167\n",
      "767 967\n",
      "968 1168\n",
      "768 968\n",
      "969 1169\n",
      "769 969\n",
      "970 1170\n",
      "770 970\n",
      "971 1171\n",
      "771 971\n",
      "972 1172\n",
      "772 972\n",
      "973 1173\n",
      "773 973\n",
      "974 1174\n",
      "774 974\n",
      "975 1175\n",
      "775 975\n",
      "976 1176\n",
      "776 976\n",
      "977 1177\n",
      "777 977\n",
      "978 1178\n",
      "778 978\n",
      "979 1179\n",
      "779 979\n",
      "980 1180\n",
      "780 980\n",
      "981 1181\n",
      "781 981\n",
      "982 1182\n",
      "782 982\n",
      "983 1183\n",
      "783 983\n",
      "984 1184\n",
      "784 984\n",
      "985 1185\n",
      "785 985\n",
      "986 1186\n",
      "786 986\n",
      "987 1187\n",
      "787 987\n",
      "988 1188\n",
      "788 988\n",
      "989 1189\n",
      "789 989\n",
      "990 1190\n",
      "790 990\n",
      "991 1191\n",
      "791 991\n",
      "992 1192\n",
      "792 992\n",
      "993 1193\n",
      "793 993\n",
      "994 1194\n",
      "794 994\n",
      "995 1195\n",
      "795 995\n",
      "996 1196\n",
      "796 996\n",
      "997 1197\n",
      "797 997\n",
      "998 1198\n",
      "798 998\n",
      "999 1199\n",
      "799 999\n",
      "1000 1200\n",
      "800 1000\n",
      "1001 1201\n",
      "801 1001\n",
      "1002 1202\n",
      "802 1002\n",
      "1003 1203\n",
      "803 1003\n",
      "1004 1204\n",
      "804 1004\n",
      "1005 1205\n",
      "805 1005\n",
      "1006 1206\n",
      "806 1006\n",
      "1007 1207\n",
      "807 1007\n",
      "1008 1208\n",
      "808 1008\n",
      "1009 1209\n",
      "809 1009\n",
      "1010 1210\n",
      "810 1010\n",
      "1011 1211\n",
      "811 1011\n",
      "1012 1212\n",
      "812 1012\n",
      "1013 1213\n",
      "813 1013\n",
      "1014 1214\n",
      "814 1014\n",
      "1015 1215\n",
      "815 1015\n",
      "1016 1216\n",
      "816 1016\n",
      "1017 1217\n",
      "817 1017\n",
      "1018 1218\n",
      "818 1018\n",
      "1019 1219\n",
      "819 1019\n",
      "1020 1220\n",
      "820 1020\n",
      "1021 1221\n",
      "821 1021\n",
      "1022 1222\n",
      "822 1022\n",
      "1023 1223\n",
      "823 1023\n",
      "1024 1224\n",
      "824 1024\n",
      "1025 1225\n",
      "825 1025\n",
      "1026 1226\n",
      "826 1026\n",
      "1027 1227\n",
      "827 1027\n",
      "1028 1228\n",
      "828 1028\n",
      "1029 1229\n",
      "829 1029\n",
      "1030 1230\n",
      "830 1030\n",
      "1031 1231\n",
      "831 1031\n",
      "1032 1232\n",
      "832 1032\n",
      "1033 1233\n",
      "833 1033\n",
      "1034 1234\n",
      "834 1034\n",
      "1035 1235\n",
      "835 1035\n",
      "1036 1236\n",
      "836 1036\n",
      "1037 1237\n",
      "837 1037\n",
      "1038 1238\n",
      "838 1038\n",
      "1039 1239\n",
      "839 1039\n",
      "1040 1240\n",
      "840 1040\n",
      "1041 1241\n",
      "841 1041\n",
      "1042 1242\n",
      "842 1042\n",
      "1043 1243\n",
      "843 1043\n",
      "1044 1244\n",
      "844 1044\n",
      "1045 1245\n",
      "845 1045\n",
      "1046 1246\n",
      "846 1046\n",
      "1047 1247\n",
      "847 1047\n",
      "1048 1248\n",
      "848 1048\n",
      "1049 1249\n",
      "849 1049\n",
      "1050 1250\n",
      "850 1050\n",
      "1051 1251\n",
      "851 1051\n",
      "1052 1252\n",
      "852 1052\n",
      "1053 1253\n",
      "853 1053\n",
      "1054 1254\n",
      "854 1054\n",
      "1055 1255\n",
      "855 1055\n",
      "1056 1256\n",
      "856 1056\n",
      "1057 1257\n",
      "857 1057\n",
      "1058 1258\n",
      "858 1058\n",
      "1059 1259\n",
      "859 1059\n",
      "1060 1260\n",
      "860 1060\n",
      "1061 1261\n",
      "861 1061\n",
      "1062 1262\n",
      "862 1062\n",
      "1063 1263\n",
      "863 1063\n",
      "1064 1264\n",
      "864 1064\n",
      "1065 1265\n",
      "865 1065\n",
      "1066 1266\n",
      "866 1066\n",
      "1067 1267\n",
      "867 1067\n",
      "1068 1268\n",
      "868 1068\n",
      "1069 1269\n",
      "869 1069\n",
      "1070 1270\n",
      "870 1070\n",
      "1071 1271\n",
      "871 1071\n",
      "1072 1272\n",
      "872 1072\n",
      "1073 1273\n",
      "873 1073\n",
      "1074 1274\n",
      "874 1074\n",
      "1075 1275\n",
      "875 1075\n",
      "1076 1276\n",
      "876 1076\n",
      "1077 1277\n",
      "877 1077\n",
      "1078 1278\n",
      "878 1078\n",
      "1079 1279\n",
      "879 1079\n",
      "1080 1280\n",
      "880 1080\n",
      "1081 1281\n",
      "881 1081\n",
      "1082 1282\n",
      "882 1082\n",
      "1083 1283\n",
      "883 1083\n",
      "1084 1284\n",
      "884 1084\n",
      "1085 1285\n",
      "885 1085\n",
      "1086 1286\n",
      "886 1086\n",
      "1087 1287\n",
      "887 1087\n",
      "1088 1288\n",
      "888 1088\n",
      "1089 1289\n",
      "889 1089\n",
      "1090 1290\n",
      "890 1090\n",
      "1091 1291\n",
      "891 1091\n",
      "1092 1292\n",
      "892 1092\n",
      "1093 1293\n",
      "893 1093\n",
      "1094 1294\n",
      "894 1094\n",
      "1095 1295\n",
      "895 1095\n",
      "1096 1296\n",
      "896 1096\n",
      "1097 1297\n",
      "897 1097\n",
      "1098 1298\n",
      "898 1098\n",
      "1099 1299\n",
      "899 1099\n",
      "1100 1300\n",
      "900 1100\n",
      "1101 1301\n",
      "901 1101\n",
      "1102 1302\n",
      "902 1102\n",
      "1103 1303\n",
      "903 1103\n",
      "1104 1304\n",
      "904 1104\n",
      "1105 1305\n",
      "905 1105\n",
      "1106 1306\n",
      "906 1106\n",
      "1107 1307\n",
      "907 1107\n",
      "1108 1308\n",
      "908 1108\n",
      "1109 1309\n",
      "909 1109\n",
      "1110 1310\n",
      "910 1110\n",
      "1111 1311\n",
      "911 1111\n",
      "1112 1312\n",
      "912 1112\n",
      "1113 1313\n",
      "913 1113\n",
      "1114 1314\n",
      "914 1114\n",
      "1115 1315\n",
      "915 1115\n",
      "1116 1316\n",
      "916 1116\n",
      "1117 1317\n",
      "917 1117\n",
      "1118 1318\n",
      "918 1118\n",
      "1119 1319\n",
      "919 1119\n",
      "1120 1320\n",
      "920 1120\n",
      "1121 1321\n",
      "921 1121\n",
      "1122 1322\n",
      "922 1122\n",
      "1123 1323\n",
      "923 1123\n",
      "1124 1324\n",
      "924 1124\n",
      "1125 1325\n",
      "925 1125\n",
      "1126 1326\n",
      "926 1126\n",
      "1127 1327\n",
      "927 1127\n",
      "1128 1328\n",
      "928 1128\n",
      "1129 1329\n",
      "929 1129\n",
      "1130 1330\n",
      "930 1130\n",
      "1131 1331\n",
      "931 1131\n",
      "1132 1332\n",
      "932 1132\n",
      "1133 1333\n",
      "933 1133\n",
      "1134 1334\n",
      "934 1134\n",
      "1135 1335\n",
      "935 1135\n",
      "1136 1336\n",
      "936 1136\n",
      "1137 1337\n",
      "937 1137\n",
      "1138 1338\n",
      "938 1138\n",
      "1139 1339\n",
      "939 1139\n",
      "1140 1340\n",
      "940 1140\n",
      "1141 1341\n",
      "941 1141\n",
      "1142 1342\n",
      "942 1142\n",
      "1143 1343\n",
      "943 1143\n",
      "1144 1344\n",
      "944 1144\n",
      "1145 1345\n",
      "945 1145\n",
      "1146 1346\n",
      "946 1146\n",
      "1147 1347\n",
      "947 1147\n",
      "1148 1348\n",
      "948 1148\n",
      "1149 1349\n",
      "949 1149\n",
      "1150 1350\n",
      "950 1150\n",
      "1151 1351\n",
      "951 1151\n",
      "1152 1352\n",
      "952 1152\n",
      "1153 1353\n",
      "953 1153\n",
      "1154 1354\n",
      "954 1154\n",
      "1155 1355\n",
      "955 1155\n",
      "1156 1356\n",
      "956 1156\n",
      "1157 1357\n",
      "957 1157\n",
      "1158 1358\n",
      "958 1158\n",
      "1159 1359\n",
      "959 1159\n",
      "1160 1360\n",
      "960 1160\n",
      "1161 1361\n",
      "961 1161\n",
      "1162 1362\n",
      "962 1162\n",
      "1163 1363\n",
      "963 1163\n",
      "1164 1364\n",
      "964 1164\n",
      "1165 1365\n",
      "965 1165\n",
      "1166 1366\n",
      "966 1166\n",
      "1167 1367\n",
      "967 1167\n",
      "1168 1368\n",
      "968 1168\n",
      "1169 1369\n",
      "969 1169\n",
      "1170 1370\n",
      "970 1170\n",
      "1171 1371\n",
      "971 1171\n",
      "1172 1372\n",
      "972 1172\n",
      "1173 1373\n",
      "973 1173\n",
      "1174 1374\n",
      "974 1174\n",
      "1175 1375\n",
      "975 1175\n",
      "1176 1376\n",
      "976 1176\n",
      "1177 1377\n",
      "977 1177\n",
      "1178 1378\n",
      "978 1178\n",
      "1179 1379\n",
      "979 1179\n",
      "1180 1380\n",
      "980 1180\n",
      "1181 1381\n",
      "981 1181\n",
      "1182 1382\n",
      "982 1182\n",
      "1183 1383\n",
      "983 1183\n",
      "1184 1384\n",
      "984 1184\n",
      "1185 1385\n",
      "985 1185\n",
      "1186 1386\n",
      "986 1186\n",
      "1187 1387\n",
      "987 1187\n",
      "1188 1388\n",
      "988 1188\n",
      "1189 1389\n",
      "989 1189\n",
      "1190 1390\n",
      "990 1190\n",
      "1191 1391\n",
      "991 1191\n",
      "1192 1392\n",
      "992 1192\n",
      "1193 1393\n",
      "993 1193\n",
      "1194 1394\n",
      "994 1194\n",
      "1195 1395\n",
      "995 1195\n",
      "1196 1396\n",
      "996 1196\n",
      "1197 1397\n",
      "997 1197\n",
      "1198 1398\n",
      "998 1198\n",
      "1199 1399\n",
      "999 1199\n",
      "1200 1400\n",
      "1000 1200\n",
      "1201 1401\n",
      "1001 1201\n",
      "1202 1402\n",
      "1002 1202\n",
      "1203 1403\n",
      "1003 1203\n",
      "1204 1404\n",
      "1004 1204\n",
      "1205 1405\n",
      "1005 1205\n",
      "1206 1406\n",
      "1006 1206\n",
      "1207 1407\n",
      "1007 1207\n",
      "1208 1408\n",
      "1008 1208\n",
      "1209 1409\n",
      "1009 1209\n",
      "1210 1410\n",
      "1010 1210\n",
      "1211 1411\n",
      "1011 1211\n",
      "1212 1412\n",
      "1012 1212\n",
      "1213 1413\n",
      "1013 1213\n",
      "1214 1414\n",
      "1014 1214\n",
      "1215 1415\n",
      "1015 1215\n",
      "1216 1416\n",
      "1016 1216\n",
      "1217 1417\n",
      "1017 1217\n",
      "1218 1418\n",
      "1018 1218\n",
      "1219 1419\n",
      "1019 1219\n",
      "1220 1420\n",
      "1020 1220\n",
      "1221 1421\n",
      "1021 1221\n",
      "1222 1422\n",
      "1022 1222\n",
      "1223 1423\n",
      "1023 1223\n",
      "1224 1424\n",
      "1024 1224\n"
     ]
    },
    {
     "name": "stdout",
     "output_type": "stream",
     "text": [
      "1225 1425\n",
      "1025 1225\n",
      "1226 1426\n",
      "1026 1226\n",
      "1227 1427\n",
      "1027 1227\n",
      "1228 1428\n",
      "1028 1228\n",
      "1229 1429\n",
      "1029 1229\n",
      "1230 1430\n",
      "1030 1230\n",
      "1231 1431\n",
      "1031 1231\n",
      "1232 1432\n",
      "1032 1232\n",
      "1233 1433\n",
      "1033 1233\n",
      "1234 1434\n",
      "1034 1234\n",
      "1235 1435\n",
      "1035 1235\n",
      "1236 1436\n",
      "1036 1236\n",
      "1237 1437\n",
      "1037 1237\n",
      "1238 1438\n",
      "1038 1238\n",
      "1239 1439\n",
      "1039 1239\n",
      "1240 1440\n",
      "1040 1240\n",
      "1241 1441\n",
      "1041 1241\n",
      "1242 1442\n",
      "1042 1242\n",
      "1243 1443\n",
      "1043 1243\n",
      "1244 1444\n",
      "1044 1244\n",
      "1245 1445\n",
      "1045 1245\n",
      "1246 1446\n",
      "1046 1246\n",
      "1247 1447\n",
      "1047 1247\n",
      "1248 1448\n",
      "1048 1248\n",
      "1249 1449\n",
      "1049 1249\n",
      "1250 1450\n",
      "1050 1250\n",
      "1251 1451\n",
      "1051 1251\n",
      "1252 1452\n",
      "1052 1252\n",
      "1253 1453\n",
      "1053 1253\n",
      "1254 1454\n",
      "1054 1254\n",
      "1255 1455\n",
      "1055 1255\n",
      "1256 1456\n",
      "1056 1256\n",
      "1257 1457\n",
      "1057 1257\n",
      "1258 1458\n",
      "1058 1258\n",
      "1259 1459\n",
      "1059 1259\n",
      "1260 1460\n",
      "1060 1260\n",
      "1261 1461\n",
      "1061 1261\n",
      "1262 1462\n",
      "1062 1262\n",
      "1263 1463\n",
      "1063 1263\n",
      "1264 1464\n",
      "1064 1264\n",
      "1265 1465\n",
      "1065 1265\n",
      "1266 1466\n",
      "1066 1266\n",
      "1267 1467\n",
      "1067 1267\n",
      "1268 1468\n",
      "1068 1268\n",
      "1269 1469\n",
      "1069 1269\n",
      "1270 1470\n",
      "1070 1270\n",
      "1271 1471\n",
      "1071 1271\n",
      "1272 1472\n",
      "1072 1272\n",
      "1273 1473\n",
      "1073 1273\n",
      "1274 1474\n",
      "1074 1274\n",
      "1275 1475\n",
      "1075 1275\n",
      "1276 1476\n",
      "1076 1276\n",
      "1277 1477\n",
      "1077 1277\n",
      "1278 1478\n",
      "1078 1278\n",
      "1279 1479\n",
      "1079 1279\n",
      "1280 1480\n",
      "1080 1280\n",
      "1281 1481\n",
      "1081 1281\n",
      "1282 1482\n",
      "1082 1282\n",
      "1283 1483\n",
      "1083 1283\n",
      "1284 1484\n",
      "1084 1284\n",
      "1285 1485\n",
      "1085 1285\n",
      "1286 1486\n",
      "1086 1286\n",
      "1287 1487\n",
      "1087 1287\n",
      "1288 1488\n",
      "1088 1288\n",
      "1289 1489\n",
      "1089 1289\n",
      "1290 1490\n",
      "1090 1290\n",
      "1291 1491\n",
      "1091 1291\n",
      "1292 1492\n",
      "1092 1292\n",
      "1293 1493\n",
      "1093 1293\n",
      "1294 1494\n",
      "1094 1294\n",
      "1295 1495\n",
      "1095 1295\n",
      "1296 1496\n",
      "1096 1296\n",
      "1297 1497\n",
      "1097 1297\n",
      "1298 1498\n",
      "1098 1298\n",
      "1299 1499\n",
      "1099 1299\n",
      "1300 1500\n",
      "1100 1300\n",
      "1301 1501\n",
      "1101 1301\n",
      "1302 1502\n",
      "1102 1302\n",
      "1303 1503\n",
      "1103 1303\n",
      "1304 1504\n",
      "1104 1304\n",
      "1305 1505\n",
      "1105 1305\n",
      "1306 1506\n",
      "1106 1306\n",
      "1307 1507\n",
      "1107 1307\n",
      "1308 1508\n",
      "1108 1308\n",
      "1309 1509\n",
      "1109 1309\n",
      "1310 1510\n",
      "1110 1310\n",
      "1311 1511\n",
      "1111 1311\n",
      "1312 1512\n",
      "1112 1312\n",
      "1313 1513\n",
      "1113 1313\n",
      "1314 1514\n",
      "1114 1314\n",
      "1315 1515\n",
      "1115 1315\n",
      "1316 1516\n",
      "1116 1316\n",
      "1317 1517\n",
      "1117 1317\n",
      "1318 1518\n",
      "1118 1318\n",
      "1319 1519\n",
      "1119 1319\n",
      "1320 1520\n",
      "1120 1320\n",
      "1321 1521\n",
      "1121 1321\n",
      "1322 1522\n",
      "1122 1322\n",
      "1323 1523\n",
      "1123 1323\n",
      "1324 1524\n",
      "1124 1324\n",
      "1325 1525\n",
      "1125 1325\n",
      "1326 1526\n",
      "1126 1326\n",
      "1327 1527\n",
      "1127 1327\n",
      "1328 1528\n",
      "1128 1328\n",
      "1329 1529\n",
      "1129 1329\n",
      "1330 1530\n",
      "1130 1330\n",
      "1331 1531\n",
      "1131 1331\n",
      "1332 1532\n",
      "1132 1332\n",
      "1333 1533\n",
      "1133 1333\n",
      "1334 1534\n",
      "1134 1334\n",
      "1335 1535\n",
      "1135 1335\n",
      "1336 1536\n",
      "1136 1336\n",
      "1337 1537\n",
      "1137 1337\n",
      "1338 1538\n",
      "1138 1338\n",
      "1339 1539\n",
      "1139 1339\n",
      "1340 1540\n",
      "1140 1340\n",
      "1341 1541\n",
      "1141 1341\n",
      "1342 1542\n",
      "1142 1342\n",
      "1343 1543\n",
      "1143 1343\n",
      "1344 1544\n",
      "1144 1344\n",
      "1345 1545\n",
      "1145 1345\n",
      "1346 1546\n",
      "1146 1346\n",
      "1347 1547\n",
      "1147 1347\n",
      "1348 1548\n",
      "1148 1348\n",
      "1349 1549\n",
      "1149 1349\n",
      "1350 1550\n",
      "1150 1350\n",
      "1351 1551\n",
      "1151 1351\n",
      "1352 1552\n",
      "1152 1352\n",
      "1353 1553\n",
      "1153 1353\n",
      "1354 1554\n",
      "1154 1354\n",
      "1355 1555\n",
      "1155 1355\n",
      "1356 1556\n",
      "1156 1356\n",
      "1357 1557\n",
      "1157 1357\n",
      "1358 1558\n",
      "1158 1358\n",
      "1359 1559\n",
      "1159 1359\n",
      "1360 1560\n",
      "1160 1360\n",
      "1361 1561\n",
      "1161 1361\n",
      "1362 1562\n",
      "1162 1362\n",
      "1363 1563\n",
      "1163 1363\n",
      "1364 1564\n",
      "1164 1364\n",
      "1365 1565\n",
      "1165 1365\n",
      "1366 1566\n",
      "1166 1366\n",
      "1367 1567\n",
      "1167 1367\n",
      "1368 1568\n",
      "1168 1368\n",
      "1369 1569\n",
      "1169 1369\n",
      "1370 1570\n",
      "1170 1370\n",
      "1371 1571\n",
      "1171 1371\n",
      "1372 1572\n",
      "1172 1372\n",
      "1373 1573\n",
      "1173 1373\n",
      "1374 1574\n",
      "1174 1374\n",
      "1375 1575\n",
      "1175 1375\n",
      "1376 1576\n",
      "1176 1376\n",
      "1377 1577\n",
      "1177 1377\n",
      "1378 1578\n",
      "1178 1378\n",
      "1379 1579\n",
      "1179 1379\n",
      "1380 1580\n",
      "1180 1380\n",
      "1381 1581\n",
      "1181 1381\n",
      "1382 1582\n",
      "1182 1382\n",
      "1383 1583\n",
      "1183 1383\n",
      "1384 1584\n",
      "1184 1384\n",
      "1385 1585\n",
      "1185 1385\n",
      "1386 1586\n",
      "1186 1386\n",
      "1387 1587\n",
      "1187 1387\n",
      "1388 1588\n",
      "1188 1388\n",
      "1389 1589\n",
      "1189 1389\n",
      "1390 1590\n",
      "1190 1390\n",
      "1391 1591\n",
      "1191 1391\n",
      "1392 1592\n",
      "1192 1392\n",
      "1393 1593\n",
      "1193 1393\n",
      "1394 1594\n",
      "1194 1394\n",
      "1395 1595\n",
      "1195 1395\n",
      "1396 1596\n",
      "1196 1396\n",
      "1397 1597\n",
      "1197 1397\n",
      "1398 1598\n",
      "1198 1398\n",
      "1399 1599\n",
      "1199 1399\n",
      "1400 1600\n",
      "1200 1400\n",
      "\n"
     ]
    }
   ],
   "source": [
    "half_width = 100\n",
    "delta = 200\n",
    "Lz = np.cross(ps_pos, ps_vel)[:,:,2]\n",
    "dLz = np.zeros(np.shape(Lz))\n",
    "Nsnap = Lz.shape[0]\n",
    "Npart = Lz.shape[1]\n",
    "print(Lz.shape)\n",
    "for i in tqdm(range(Nsnap)):\n",
    "    if i < half_width or i >= Nsnap - half_width - delta:\n",
    "        dLz[i] = np.full(Npart, np.nan)\n",
    "    else:\n",
    "        mean_Lz_1 = np.mean(Lz[i+delta-half_width:i+delta+half_width], axis=0)\n",
    "        mean_Lz_0 = np.mean(Lz[i-half_width:i+half_width], axis=0)\n",
    "        dLz[i] = mean_Lz_1 - mean_Lz_0\n",
    "    "
   ]
  },
  {
   "cell_type": "code",
   "execution_count": 4,
   "metadata": {
    "collapsed": true
   },
   "outputs": [],
   "source": [
    "@njit\n",
    "def loop_dLz(pos, vel, mass, half_width=100, delta=200):\n",
    "    Lz = pos[:,:,0] * vel[:,:,1] - pos[:,:,1] * vel[:,:,0]\n",
    "    Lz *= mass\n",
    "\n",
    "    Nsnap = Lz.shape[0]\n",
    "    Npart = Lz.shape[1]\n",
    "\n",
    "    dLz = np.zeros(Lz.shape)\n",
    "\n",
    "    for i in range(Nsnap):\n",
    "        if i <= half_width or i >= Nsnap - half_width - delta - 1:\n",
    "            dLz[i] = np.full(Npart, np.nan)\n",
    "        else:\n",
    "            for j in range(Npart):\n",
    "                mean_Lz_1 = np.mean(Lz[i+delta-half_width:i+delta+half_width][j])\n",
    "                mean_Lz_0 = np.mean(Lz[i-half_width:i+half_width][j])\n",
    "                dLz[i][j] = mean_Lz_1 - mean_Lz_0\n",
    "\n",
    "    return dLz\n"
   ]
  },
  {
   "cell_type": "code",
   "execution_count": null,
   "metadata": {
    "collapsed": true
   },
   "outputs": [],
   "source": [
    "dLz = loop_dLz(ps_pos, ps_vel, 1.0)"
   ]
  },
  {
   "cell_type": "code",
   "execution_count": 167,
   "metadata": {},
   "outputs": [
    {
     "data": {
      "text/plain": [
       "array([  273,   387,  1838,  5662,  8736, 12220, 16434, 23806, 26122,\n",
       "       30725, 34518, 40686, 47039, 56492, 56891, 58933, 63969, 69628,\n",
       "       74589, 84817])"
      ]
     },
     "execution_count": 167,
     "metadata": {},
     "output_type": "execute_result"
    }
   ],
   "source": [
    "np.where(totbool)[0][:20]"
   ]
  },
  {
   "cell_type": "code",
   "execution_count": 182,
   "metadata": {},
   "outputs": [
    {
     "data": {
      "image/png": "[encoded data removed]",
      "text/plain": [
       "<Figure size 432x288 with 1 Axes>"
      ]
     },
     "metadata": {},
     "output_type": "display_data"
    }
   ],
   "source": [
    "plt.plot(np.arange(len(ps_Lz[:,1021]))/200., ps_Lz[:,24])\n",
    "plt.show()"
   ]
  },
  {
   "cell_type": "code",
   "execution_count": 174,
   "metadata": {},
   "outputs": [
    {
     "data": {
      "text/plain": [
       "array([ 2,  3,  4,  6,  8,  9, 10, 11, 13, 14, 17, 18, 19, 20, 21, 22, 23,\n",
       "       24, 25, 26])"
      ]
     },
     "execution_count": 174,
     "metadata": {},
     "output_type": "execute_result"
    }
   ],
   "source": [
    "not_in_res = np.isnan(Omega_N4[:,10,3])\n",
    "np.where(not_in_res)[0][:20]"
   ]
  },
  {
   "cell_type": "code",
   "execution_count": 14,
   "metadata": {
    "collapsed": true
   },
   "outputs": [],
   "source": [
    "def compute_2D_res_occ_sigma(res, dLz, sigma=2., lRmin=-7, lRmax=7, lphimin=-7, lphimax=7, lzmin=-7, lzmax=7):\n",
    "    lRlist = np.arange(lRmin, lRmax+1)\n",
    "    lphilist = np.arange(lphimin, lphimax+1)\n",
    "    \n",
    "    Nres = len(lRlist)\n",
    "    \n",
    "    res_list = np.zeros((Nres**2, 2))\n",
    "    \n",
    "    for i in range(len(lRlist)):\n",
    "        for j in range(len(lphilist)):\n",
    "            res_list[RES_IDX_2D(i, j, Nres)][0] = lRlist[i]\n",
    "            res_list[RES_IDX_2D(i, j, Nres)][1] = lphilist[j]\n",
    "    \n",
    "    Npart = res.shape[0]\n",
    "    Nsnap = res.shape[1]\n",
    "#     print(Npart, Nsnap)\n",
    "    \n",
    "    N_in_res = np.zeros(Nres**2)\n",
    "    dLz_in_res = np.zeros(Nres**2)\n",
    "    dLz_of_cont = np.zeros(Nres**2)\n",
    "    \n",
    "#     for j in tqdm(range(Nsnap)):\n",
    "    for ii in tqdm(range(len(lRlist))):\n",
    "        for jj in range(len(lphilist)):\n",
    "            Rbool = res[:,0] == lRlist[ii]\n",
    "            phibool = res[:,1] == lphilist[jj]\n",
    "            totbool = np.logical_and(Rbool, phibool)\n",
    "                \n",
    "            N_in_res[RES_IDX_2D(ii, jj, Nres)] += len(un_asymmetrize(dLz[totbool]))\n",
    "#             dLz_in_res[RES_IDX_2D(ii, jj, Nres)] += np.sum(dLz[totbool][in_res])\n",
    "#             dLz_of_cont[RES_IDX_2D(ii, jj, Nres)] += np.sum(dLz[totbool][not_in_res])\n",
    "    \n",
    "    return N_in_res, dLz_in_res, dLz_of_cont, res_list"
   ]
  },
  {
   "cell_type": "code",
   "execution_count": null,
   "metadata": {
    "collapsed": true
   },
   "outputs": [],
   "source": []
  },
  {
   "cell_type": "code",
   "execution_count": 17,
   "metadata": {},
   "outputs": [
    {
     "name": "stdout",
     "output_type": "stream",
     "text": [
      "100\n"
     ]
    },
    {
     "data": {
      "application/vnd.jupyter.widget-view+json": {
       "model_id": "7d40efeb69f243359472313534b3aea8",
       "version_major": 2,
       "version_minor": 0
      },
      "text/plain": [
       "A Jupyter Widget"
      ]
     },
     "metadata": {},
     "output_type": "display_data"
    },
    {
     "name": "stdout",
     "output_type": "stream",
     "text": [
      "\n"
     ]
    }
   ],
   "source": [
    "print(snap[5])\n",
    "N_S3_5, dLz_res_S3_5, dLz_cont_S3_5, res_list = compute_2D_res_occ_sigma(Omega_S3[:,5,3:], Omega_S3[:,5,-1])"
   ]
  },
  {
   "cell_type": "code",
   "execution_count": 18,
   "metadata": {},
   "outputs": [
    {
     "name": "stdout",
     "output_type": "stream",
     "text": [
      "300\n"
     ]
    },
    {
     "data": {
      "application/vnd.jupyter.widget-view+json": {
       "model_id": "7666d43003774a28b8f6c128d5e59a14",
       "version_major": 2,
       "version_minor": 0
      },
      "text/plain": [
       "A Jupyter Widget"
      ]
     },
     "metadata": {},
     "output_type": "display_data"
    },
    {
     "name": "stdout",
     "output_type": "stream",
     "text": [
      "\n"
     ]
    }
   ],
   "source": [
    "print(snap[15])\n",
    "N_S3_15, dLz_res_S3_15, dLz_cont_S3_15, res_list = compute_2D_res_occ_sigma(Omega_S3[:,15,3:], Omega_S3[:,15,-1])"
   ]
  },
  {
   "cell_type": "code",
   "execution_count": 22,
   "metadata": {},
   "outputs": [
    {
     "name": "stdout",
     "output_type": "stream",
     "text": [
      "500\n"
     ]
    },
    {
     "data": {
      "application/vnd.jupyter.widget-view+json": {
       "model_id": "a3e7c12ca09b43618fdbcefa7f640882",
       "version_major": 2,
       "version_minor": 0
      },
      "text/plain": [
       "A Jupyter Widget"
      ]
     },
     "metadata": {},
     "output_type": "display_data"
    },
    {
     "name": "stdout",
     "output_type": "stream",
     "text": [
      "\n"
     ]
    }
   ],
   "source": [
    "print(snap[25])\n",
    "N_S3_25, dLz_res_S3_25, dLz_cont_S3_25, res_list = compute_2D_res_occ_sigma(Omega_S3[:,25,3:], Omega_S3[:,25,-1])"
   ]
  },
  {
   "cell_type": "code",
   "execution_count": 23,
   "metadata": {},
   "outputs": [
    {
     "name": "stdout",
     "output_type": "stream",
     "text": [
      "46159.0 33294.0 29141.0\n"
     ]
    }
   ],
   "source": [
    "print(np.sum(N_S3_5), np.sum(N_S3_15), np.sum(N_S3_25))"
   ]
  },
  {
   "cell_type": "code",
   "execution_count": 20,
   "metadata": {},
   "outputs": [
    {
     "name": "stdout",
     "output_type": "stream",
     "text": [
      "500\n"
     ]
    },
    {
     "data": {
      "application/vnd.jupyter.widget-view+json": {
       "model_id": "e46bd172da5940ffaa5d2eaa9201aab0",
       "version_major": 2,
       "version_minor": 0
      },
      "text/plain": [
       "A Jupyter Widget"
      ]
     },
     "metadata": {},
     "output_type": "display_data"
    },
    {
     "name": "stdout",
     "output_type": "stream",
     "text": [
      "\n"
     ]
    }
   ],
   "source": [
    "print(snap[25])\n",
    "N_N3_25, dLz_res_N3_25, dLz_cont_N3_25, res_list = compute_2D_res_occ_sigma(Omega_N3[:,25,3:], Omega_N3[:,25,-1])"
   ]
  },
  {
   "cell_type": "code",
   "execution_count": 29,
   "metadata": {},
   "outputs": [
    {
     "name": "stdout",
     "output_type": "stream",
     "text": [
      "[0. 2.] 1748.0\n",
      "[0. 1.] 1208.0\n",
      "[-1.  0.] 1059.0\n",
      "[1. 2.] 1019.0\n",
      "[-2.  5.] 1008.0\n",
      "[-2.  0.] 931.0\n",
      "[ 2. -1.] 903.0\n",
      "[0. 3.] 887.0\n",
      "[-1. -1.] 839.0\n",
      "[1. 1.] 809.0\n"
     ]
    }
   ],
   "source": [
    "k = np.flip(np.argsort(N_N3_25))\n",
    "for i in range(10):\n",
    "    print(res_list[k[i]], N_N3_25[k[i]])"
   ]
  },
  {
   "cell_type": "code",
   "execution_count": 31,
   "metadata": {},
   "outputs": [
    {
     "name": "stdout",
     "output_type": "stream",
     "text": [
      "[-5. -7.] 801.0\n",
      "[7. 7.] 599.0\n",
      "[-5.  7.] 562.0\n",
      "[-4.  7.] 555.0\n",
      "[-4. -7.] 485.0\n",
      "[-2. -7.] 469.0\n",
      "[-3. -7.] 444.0\n",
      "[ 1. -6.] 392.0\n",
      "[-5.  6.] 373.0\n",
      "[ 2. -1.] 356.0\n",
      "CR 158.0\n"
     ]
    }
   ],
   "source": [
    "k = np.flip(np.argsort(N_S3_25))\n",
    "for i in range(10):\n",
    "    print(res_list[k[i]], N_S3_25[k[i]])\n",
    "\n",
    "for i in range(len(k)):\n",
    "    if res_list[k[i]][0] == 0 and res_list[k[i]][1] == 2:\n",
    "        print('CR', N_S3_25[k[i]])"
   ]
  },
  {
   "cell_type": "code",
   "execution_count": 32,
   "metadata": {
    "collapsed": true
   },
   "outputs": [],
   "source": [
    "def compute_2D_res_occ_sigma_single_res(res, dLz, lR, lphi):\n",
    "    Npart = res.shape[0]\n",
    "    Nsnap = res.shape[1]\n",
    "    \n",
    "    N_in_res = np.zeros(Nsnap)\n",
    "    dLz_in_res = np.zeros(Nsnap)\n",
    "    \n",
    "#     for j in tqdm(range(Nsnap)):\n",
    "    for i in tqdm(range(Nsnap)):\n",
    "        Rbool = res[:,i,0] == lR\n",
    "        phibool = res[:,i,1] == lphi\n",
    "        totbool = np.logical_and(Rbool, phibool)\n",
    "                \n",
    "        N_in_res[i] += len(un_asymmetrize(dLz[totbool,i]))\n",
    "        dLz_in_res[i] += np.sum(dLz[totbool,i])\n",
    "    \n",
    "    return N_in_res, dLz_in_res"
   ]
  },
  {
   "cell_type": "code",
   "execution_count": 33,
   "metadata": {},
   "outputs": [
    {
     "data": {
      "application/vnd.jupyter.widget-view+json": {
       "model_id": "5b8899babfc54b90a6fc4da2070fcf96",
       "version_major": 2,
       "version_minor": 0
      },
      "text/plain": [
       "A Jupyter Widget"
      ]
     },
     "metadata": {},
     "output_type": "display_data"
    },
    {
     "name": "stdout",
     "output_type": "stream",
     "text": [
      "\n"
     ]
    }
   ],
   "source": [
    "N_N_CR, d_N_CR = compute_2D_res_occ_sigma_single_res(Omega_N3[:,:,3:], Omega_N3[:,:,-1], 0, 2)"
   ]
  },
  {
   "cell_type": "code",
   "execution_count": 34,
   "metadata": {},
   "outputs": [
    {
     "data": {
      "application/vnd.jupyter.widget-view+json": {
       "model_id": "7575194452cc44d79de5cda9886b711a",
       "version_major": 2,
       "version_minor": 0
      },
      "text/plain": [
       "A Jupyter Widget"
      ]
     },
     "metadata": {},
     "output_type": "display_data"
    },
    {
     "name": "stdout",
     "output_type": "stream",
     "text": [
      "\n"
     ]
    }
   ],
   "source": [
    "N_S_CR, d_S_CR = compute_2D_res_occ_sigma_single_res(Omega_S3[:,:,3:], Omega_S3[:,:,-1], 0, 2)"
   ]
  },
  {
   "cell_type": "code",
   "execution_count": 35,
   "metadata": {},
   "outputs": [
    {
     "data": {
      "image/png": "[encoded data removed]",
      "text/plain": [
       "<Figure size 432x288 with 1 Axes>"
      ]
     },
     "metadata": {},
     "output_type": "display_data"
    }
   ],
   "source": [
    "plt.plot(snap/200., N_N_CR)\n",
    "plt.plot(snap/200., N_S_CR)\n",
    "\n",
    "plt.show()"
   ]
  },
  {
   "cell_type": "code",
   "execution_count": 37,
   "metadata": {},
   "outputs": [
    {
     "data": {
      "application/vnd.jupyter.widget-view+json": {
       "model_id": "679d1e48bd044225a2605ad994c1a0c7",
       "version_major": 2,
       "version_minor": 0
      },
      "text/plain": [
       "A Jupyter Widget"
      ]
     },
     "metadata": {},
     "output_type": "display_data"
    },
    {
     "name": "stdout",
     "output_type": "stream",
     "text": [
      "\n"
     ]
    },
    {
     "data": {
      "application/vnd.jupyter.widget-view+json": {
       "model_id": "7f771a719b9e4d8cbb865db70bfee90d",
       "version_major": 2,
       "version_minor": 0
      },
      "text/plain": [
       "A Jupyter Widget"
      ]
     },
     "metadata": {},
     "output_type": "display_data"
    },
    {
     "name": "stdout",
     "output_type": "stream",
     "text": [
      "\n"
     ]
    }
   ],
   "source": [
    "N_N_OLR, d_N_OLR = compute_2D_res_occ_sigma_single_res(Omega_N3[:,:,3:], Omega_N3[:,:,-1], 1, 2)\n",
    "N_S_OLR, d_S_OLR = compute_2D_res_occ_sigma_single_res(Omega_S3[:,:,3:], Omega_S3[:,:,-1], 1, 2)"
   ]
  },
  {
   "cell_type": "code",
   "execution_count": 38,
   "metadata": {},
   "outputs": [
    {
     "data": {
      "application/vnd.jupyter.widget-view+json": {
       "model_id": "da68c42327894b91911e324786524697",
       "version_major": 2,
       "version_minor": 0
      },
      "text/plain": [
       "A Jupyter Widget"
      ]
     },
     "metadata": {},
     "output_type": "display_data"
    },
    {
     "name": "stdout",
     "output_type": "stream",
     "text": [
      "\n"
     ]
    },
    {
     "data": {
      "application/vnd.jupyter.widget-view+json": {
       "model_id": "d4958ae55af44c5d8fe94d381738e957",
       "version_major": 2,
       "version_minor": 0
      },
      "text/plain": [
       "A Jupyter Widget"
      ]
     },
     "metadata": {},
     "output_type": "display_data"
    },
    {
     "name": "stdout",
     "output_type": "stream",
     "text": [
      "\n"
     ]
    }
   ],
   "source": [
    "N_N_ILR, d_N_ILR = compute_2D_res_occ_sigma_single_res(Omega_N3[:,:,3:], Omega_N3[:,:,-1], -1, 2)\n",
    "N_S_ILR, d_S_ILR = compute_2D_res_occ_sigma_single_res(Omega_S3[:,:,3:], Omega_S3[:,:,-1], -1, 2)"
   ]
  },
  {
   "cell_type": "code",
   "execution_count": 39,
   "metadata": {},
   "outputs": [
    {
     "data": {
      "application/vnd.jupyter.widget-view+json": {
       "model_id": "a35f6c779500469796d2f99aceff868e",
       "version_major": 2,
       "version_minor": 0
      },
      "text/plain": [
       "A Jupyter Widget"
      ]
     },
     "metadata": {},
     "output_type": "display_data"
    },
    {
     "name": "stdout",
     "output_type": "stream",
     "text": [
      "\n"
     ]
    },
    {
     "data": {
      "application/vnd.jupyter.widget-view+json": {
       "model_id": "fd8e0e65e82f443e97806a4d99604262",
       "version_major": 2,
       "version_minor": 0
      },
      "text/plain": [
       "A Jupyter Widget"
      ]
     },
     "metadata": {},
     "output_type": "display_data"
    },
    {
     "name": "stdout",
     "output_type": "stream",
     "text": [
      "\n"
     ]
    }
   ],
   "source": [
    "N_N_25, d_N_25 = compute_2D_res_occ_sigma_single_res(Omega_N3[:,:,3:], Omega_N3[:,:,-1], -2, 5)\n",
    "N_S_25, d_S_25 = compute_2D_res_occ_sigma_single_res(Omega_S3[:,:,3:], Omega_S3[:,:,-1], -2, 5)"
   ]
  },
  {
   "cell_type": "code",
   "execution_count": 43,
   "metadata": {},
   "outputs": [
    {
     "data": {
      "application/vnd.jupyter.widget-view+json": {
       "model_id": "1b3a2e17596243e5bfd84ad726fd4b28",
       "version_major": 2,
       "version_minor": 0
      },
      "text/plain": [
       "A Jupyter Widget"
      ]
     },
     "metadata": {},
     "output_type": "display_data"
    },
    {
     "name": "stdout",
     "output_type": "stream",
     "text": [
      "\n"
     ]
    },
    {
     "data": {
      "application/vnd.jupyter.widget-view+json": {
       "model_id": "43d332bebe074daa973dddd5b18bba4c",
       "version_major": 2,
       "version_minor": 0
      },
      "text/plain": [
       "A Jupyter Widget"
      ]
     },
     "metadata": {},
     "output_type": "display_data"
    },
    {
     "name": "stdout",
     "output_type": "stream",
     "text": [
      "\n"
     ]
    }
   ],
   "source": [
    "N_N_77, d_N_77 = compute_2D_res_occ_sigma_single_res(Omega_N3[:,:,3:], Omega_N3[:,:,-1], 7, 7)\n",
    "N_S_77, d_S_77 = compute_2D_res_occ_sigma_single_res(Omega_S3[:,:,3:], Omega_S3[:,:,-1], 7, 7)"
   ]
  },
  {
   "cell_type": "code",
   "execution_count": 40,
   "metadata": {},
   "outputs": [
    {
     "data": {
      "image/png": "[encoded data removed]",
      "text/plain": [
       "<Figure size 432x288 with 1 Axes>"
      ]
     },
     "metadata": {},
     "output_type": "display_data"
    }
   ],
   "source": [
    "plt.plot(snap/200., N_N_OLR)\n",
    "plt.plot(snap/200., N_S_OLR)\n",
    "\n",
    "plt.show()"
   ]
  },
  {
   "cell_type": "code",
   "execution_count": 41,
   "metadata": {},
   "outputs": [
    {
     "data": {
      "image/png": "[encoded data removed]",
      "text/plain": [
       "<Figure size 432x288 with 1 Axes>"
      ]
     },
     "metadata": {},
     "output_type": "display_data"
    }
   ],
   "source": [
    "plt.plot(snap/200., N_N_ILR)\n",
    "plt.plot(snap/200., N_S_ILR)\n",
    "\n",
    "plt.show()"
   ]
  },
  {
   "cell_type": "code",
   "execution_count": 42,
   "metadata": {},
   "outputs": [
    {
     "data": {
      "image/png": "[encoded data removed]",
      "text/plain": [
       "<Figure size 432x288 with 1 Axes>"
      ]
     },
     "metadata": {},
     "output_type": "display_data"
    }
   ],
   "source": [
    "plt.plot(snap/200., N_N_25)\n",
    "plt.plot(snap/200., N_S_25)\n",
    "\n",
    "plt.show()"
   ]
  },
  {
   "cell_type": "code",
   "execution_count": 44,
   "metadata": {},
   "outputs": [
    {
     "data": {
      "image/png": "[encoded data removed]",
      "text/plain": [
       "<Figure size 432x288 with 1 Axes>"
      ]
     },
     "metadata": {},
     "output_type": "display_data"
    }
   ],
   "source": [
    "plt.plot(snap/200., N_N_77)\n",
    "plt.plot(snap/200., N_S_77)\n",
    "\n",
    "plt.show()"
   ]
  },
  {
   "cell_type": "code",
   "execution_count": null,
   "metadata": {
    "collapsed": true
   },
   "outputs": [],
   "source": [
    "print(1)"
   ]
  },
  {
   "cell_type": "code",
   "execution_count": null,
   "metadata": {
    "collapsed": true
   },
   "outputs": [],
   "source": []
  }
 ],
 "metadata": {
  "kernelspec": {
   "display_name": "Python 3",
   "language": "python",
   "name": "python3"
  },
  "language_info": {
   "codemirror_mode": {
    "name": "ipython",
    "version": 3
   },
   "file_extension": ".py",
   "mimetype": "text/x-python",
   "name": "python",
   "nbconvert_exporter": "python",
   "pygments_lexer": "ipython3",
   "version": "3.6.3"
  }
 },
 "nbformat": 4,
 "nbformat_minor": 2
}
