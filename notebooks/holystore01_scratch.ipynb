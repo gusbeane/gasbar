{
 "cells": [
  {
   "cell_type": "code",
   "execution_count": 2,
   "metadata": {
    "collapsed": true
   },
   "outputs": [],
   "source": [
    "import numpy as np\n",
    "import arepo\n",
    "import sys\n",
    "from tqdm import tqdm\n",
    "import astropy.units as u\n",
    "import h5py as h5\n",
    "import glob\n",
    "import os\n",
    "from numba import njit\n",
    "import re\n",
    "\n",
    "import matplotlib.pyplot as plt\n",
    "\n",
    "from sklearn.cluster import KMeans\n",
    "import cProfile"
   ]
  },
  {
   "cell_type": "code",
   "execution_count": 2,
   "metadata": {
    "collapsed": true
   },
   "outputs": [],
   "source": [
    "sim_list = ['Nbody', 'phantom-vacuum-Sg20-Rc3.5']\n",
    "\n",
    "basepath = '/n/holystore01/LABS/hernquist_lab/Users/abeane/starbar_runs/runs/'\n",
    "\n",
    "def read_snap(idx, sim_idx, lvl='lvl3', parttype=[0], fields=['Coordinates', 'Masses', 'Velocities'],\n",
    "              basepath = basepath):\n",
    "    fname = basepath + sim_list[sim_idx] + '/' + lvl + '/output'\n",
    "    return arepo.Snapshot(fname, idx, parttype=parttype, fields=fields, combineFiles=True)"
   ]
  },
  {
   "cell_type": "code",
   "execution_count": 6,
   "metadata": {
    "collapsed": true
   },
   "outputs": [],
   "source": [
    "@njit\n",
    "def sort_by_id(chunk_ids, tot_ids, pos, vel, acc):\n",
    "    # This goes through the chunk ids and matches up with total ids\n",
    "    # but this assumes chunk ids and total ids are already sorted, which greatly\n",
    "    # speeds things up.\n",
    "\n",
    "    # also properly handles missing ids (e.g. in the case of stars)\n",
    "\n",
    "    Nchunk = len(chunk_ids)\n",
    "    pos_chunk = np.zeros((Nchunk, 3))\n",
    "    vel_chunk = np.zeros((Nchunk, 3))\n",
    "    acc_chunk = np.zeros((Nchunk, 3))\n",
    "    \n",
    "    itot = 0\n",
    "    \n",
    "    for ichunk in range(Nchunk):\n",
    "        chk_id = chunk_ids[ichunk]\n",
    "        \n",
    "        while chk_id > tot_ids[itot]:\n",
    "            itot += 1\n",
    "        \n",
    "        if chk_id == tot_ids[itot]:\n",
    "            for j in range(3):\n",
    "                pos_chunk[ichunk][j] = pos[itot][j]\n",
    "                vel_chunk[ichunk][j] = vel[itot][j]\n",
    "                acc_chunk[ichunk][j] = acc[itot][j]\n",
    "        \n",
    "        else:\n",
    "            for j in range(3):\n",
    "                pos_chunk[ichunk][j] = np.nan\n",
    "                vel_chunk[ichunk][j] = np.nan\n",
    "                acc_chunk[ichunk][j] = np.nan\n",
    "        \n",
    "    return pos_chunk, vel_chunk, acc_chunk"
   ]
  },
  {
   "cell_type": "code",
   "execution_count": 27,
   "metadata": {
    "collapsed": true
   },
   "outputs": [],
   "source": [
    "def _run_thread(path, name, idx_list, snap_id, id_chunks_disk, id_chunks_bulge, id_chunks_star=None, data_dir='data/'):\n",
    "    \n",
    "    h5out_list = []\n",
    "\n",
    "    Nsnap = len(idx_list)\n",
    "    \n",
    "    # Create a temporary directory which will store each chunk of ids as a separate file.\n",
    "    prefix = data_dir + name + '/tmp' + str(snap_id)\n",
    "    if not os.path.isdir(prefix):\n",
    "        os.mkdir(prefix)\n",
    "    \n",
    "    if id_chunks_star is None:\n",
    "        has_stars = False\n",
    "        id_chunks_star = [None for i in range(len(id_chunks_disk))]\n",
    "    else:\n",
    "        has_stars = True\n",
    "\n",
    "    # Loop through each id chunk and create the file with temporary output.\n",
    "    for i,(id_chunk_disk_list, id_chunk_bulge_list, id_chunk_star_list) in enumerate(tqdm(zip(id_chunks_disk, id_chunks_bulge, id_chunks_star))):\n",
    "        Nids_disk = len(id_chunk_disk_list)\n",
    "        Nids_bulge = len(id_chunk_bulge_list)\n",
    "        if has_stars:\n",
    "            Nids_star = len(id_chunk_star_list)\n",
    "\n",
    "        fout = prefix + '/tmp' + str(i) + '.hdf5'\n",
    "        h5out = h5.File(fout, mode='w')\n",
    "\n",
    "        pos_disk = np.zeros((Nids_disk, Nsnap, 3))\n",
    "        pos_bulge = np.zeros((Nids_bulge, Nsnap, 3))\n",
    "        if has_stars:\n",
    "            pos_star = np.zeros((Nids_star, Nsnap, 3))\n",
    "        time = np.zeros(Nsnap)\n",
    "        \n",
    "        h5out.create_dataset(\"Time\", data=time)\n",
    "\n",
    "        h5out.create_dataset(\"PartType2/ParticleIDs\", data=id_chunk_disk_list)\n",
    "        h5out.create_dataset(\"PartType2/Coordinates\", data=pos_disk)\n",
    "        h5out.create_dataset(\"PartType2/Velocities\", data=pos_disk)\n",
    "        h5out.create_dataset(\"PartType2/Acceleration\", data=pos_disk)\n",
    "\n",
    "        h5out.create_dataset(\"PartType3/ParticleIDs\", data=id_chunk_bulge_list)\n",
    "        h5out.create_dataset(\"PartType3/Coordinates\", data=pos_bulge)\n",
    "        h5out.create_dataset(\"PartType3/Velocities\", data=pos_bulge)\n",
    "        h5out.create_dataset(\"PartType3/Acceleration\", data=pos_bulge)\n",
    "\n",
    "        if has_stars:\n",
    "            h5out.create_dataset(\"PartType4/ParticleIDs\", data=id_chunk_star_list)\n",
    "            h5out.create_dataset(\"PartType4/Coordinates\", data=pos_star)\n",
    "            h5out.create_dataset(\"PartType4/Velocities\", data=pos_star)\n",
    "            h5out.create_dataset(\"PartType4/Acceleration\", data=pos_star)\n",
    "\n",
    "        h5out_list.append(h5out)\n",
    "    \n",
    "    # Now loop through each index, read the snapshot, then loop through each\n",
    "    # id chunk and write to the relevant file.\n",
    "    for i,idx in enumerate(tqdm(idx_list)):\n",
    "        sn = read_snap(idx, 0, parttype=[2, 3, 4], \n",
    "                       fields=['Coordinates', 'Masses', 'Velocities', 'ParticleIDs', 'Acceleration'])\n",
    "        # Sort phase space properties by ID\n",
    "        key_disk = np.argsort(sn.part2.id)\n",
    "        pos_disk = sn.part2.pos.value[key_disk]\n",
    "        vel_disk = sn.part2.vel.value[key_disk]\n",
    "        acc_disk = sn.part2.acce[key_disk]\n",
    "        disk_ids_sorted = sn.part2.id[key_disk]\n",
    "\n",
    "        key_bulge = np.argsort(sn.part3.id)\n",
    "        pos_bulge = sn.part3.pos.value[key_bulge]\n",
    "        vel_bulge = sn.part3.vel.value[key_bulge]\n",
    "        acc_bulge = sn.part3.acce[key_bulge]\n",
    "        bulge_ids_sorted = sn.part3.id[key_bulge]\n",
    "\n",
    "        if has_stars and sn.NumPart_Total[4] > 0:\n",
    "            key_star = np.argsort(sn.part4.id)\n",
    "            pos_star = sn.part3.pos.value[key_star]\n",
    "            vel_star = sn.part3.vel.value[key_star]\n",
    "            acc_star = sn.part3.acce[key_star]\n",
    "\n",
    "            star_ids_sorted = sn.part4.id[key_star]\n",
    "\n",
    "        for j,(id_chunk_disk_list, id_chunk_bulge_list, id_chunk_star_list) in enumerate(zip(id_chunks_disk, id_chunks_bulge, id_chunks_star)):\n",
    "            h5out_list[j]['Time'][i] = sn.Time.value\n",
    "            \n",
    "            pos_chunk_disk, vel_chunk_disk, acc_chunk_disk = sort_by_id(id_chunk_disk_list, disk_ids_sorted, pos_disk, vel_disk, acc_disk)\n",
    "            h5out_list[j]['PartType2/Coordinates'][:,i,:] = pos_chunk_disk\n",
    "            h5out_list[j]['PartType2/Velocities'][:,i,:] = vel_chunk_disk\n",
    "            h5out_list[j]['PartType2/Acceleration'][:,i,:] = acc_chunk_disk\n",
    "            \n",
    "            pos_chunk_bulge, vel_chunk_bulge, acc_chunk_bulge = sort_by_id(id_chunk_bulge_list, bulge_ids_sorted, pos_bulge, vel_bulge, acc_bulge)\n",
    "            h5out_list[j]['PartType3/Coordinates'][:,i,:] = pos_chunk_bulge\n",
    "            h5out_list[j]['PartType3/Velocities'][:,i,:] = vel_chunk_bulge\n",
    "            h5out_list[j]['PartType3/Acceleration'][:,i,:] = acc_chunk_bulge\n",
    "\n",
    "            if has_stars:\n",
    "                if sn.NumPart_Total[4] > 0:\n",
    "                    pos_chunk_star, vel_chunk_star, acc_chunk_star = sort_by_id(id_chunk_star_list, star_ids_sorted, pos_star, vel_star, acc_star)\n",
    "                else:\n",
    "                    pos_chunk_star = vel_chunk_star = acc_chunk_star = np.full((len(id_chunk_star_list), 3), np.nan)\n",
    "                h5out_list[j]['PartType4/Coordinates'][:,i,:] = pos_chunk_star\n",
    "                h5out_list[j]['PartType4/Velocities'][:,i,:] = vel_chunk_star\n",
    "                h5out_list[j]['PartType4/Acceleration'][:,i,:] = acc_chunk_star\n",
    "\n",
    "    \n",
    "    # Close h5 files.\n",
    "    for i,_ in enumerate(id_chunks_disk):\n",
    "        h5out_list[i].close()\n",
    "    \n",
    "    return None"
   ]
  },
  {
   "cell_type": "code",
   "execution_count": 28,
   "metadata": {
    "collapsed": true
   },
   "outputs": [],
   "source": [
    "def get_id_indices_chunks(nsnap, path, nchunk, nproc):\n",
    "    indices = np.arange(nsnap)\n",
    "\n",
    "#     sn = read_snap(path, indices[-1], parttype=[2, 3, 4])\n",
    "    sn = read_snap(indices[-1], 0, parttype=[2, 3, 4], fields=['ParticleIDs'])\n",
    "    ids_disk = sn.part2.id\n",
    "    ids_disk = np.sort(ids_disk)\n",
    "\n",
    "    ids_bulge = sn.part3.id\n",
    "    ids_bulge = np.sort(ids_bulge)\n",
    "\n",
    "    if sn.NumPart_Total[4] > 0:\n",
    "        ids_star = sn.part4.id\n",
    "        ids_star = np.sort(ids_star)\n",
    "        id_chunks_star = np.array_split(ids_star, nchunk)\n",
    "    else:\n",
    "        id_chunks_star = None\n",
    "\n",
    "    id_chunks_disk = np.array_split(ids_disk, nchunk)\n",
    "    id_chunks_bulge = np.array_split(ids_bulge, nchunk)\n",
    "\n",
    "\n",
    "    indices_chunks = np.array_split(indices, 4*nproc)\n",
    "\n",
    "    return id_chunks_disk, id_chunks_bulge, id_chunks_star, indices_chunks"
   ]
  },
  {
   "cell_type": "code",
   "execution_count": 33,
   "metadata": {
    "collapsed": true
   },
   "outputs": [],
   "source": [
    "basepath = '/n/holystore01/LABS/hernquist_lab/Users/abeane/starbar_runs/runs/'\n",
    "name = 'Nbody-lvl3'\n",
    "path = basepath + 'Nbody/lvl3'\n",
    "data_dir = 'data/'\n",
    "\n",
    "# nsnap = len(glob.glob(path+'/output/snapdir*/*.0.hdf5'))\n",
    "nsnap=200\n",
    "nchunk = 64\n",
    "nproc = 12\n",
    "\n",
    "id_chunks_disk, id_chunks_bulge, id_chunks_star, indices_chunks = get_id_indices_chunks(nsnap, path, nchunk, nproc)\n",
    "\n",
    "if not os.path.isdir(data_dir+name):\n",
    "    os.mkdir(data_dir+name)"
   ]
  },
  {
   "cell_type": "code",
   "execution_count": 37,
   "metadata": {},
   "outputs": [
    {
     "name": "stderr",
     "output_type": "stream",
     "text": [
      "\n",
      "0it [00:00, ?it/s]\u001b[A\n",
      "3it [00:00, 22.45it/s]\u001b[A\n",
      "7it [00:00, 25.10it/s]\u001b[A\n",
      "10it [00:00, 23.86it/s]\u001b[A\n",
      "12it [00:00, 20.95it/s]\u001b[A\n",
      "15it [00:00, 20.72it/s]\u001b[A\n",
      "19it [00:00, 23.55it/s]\u001b[A\n",
      "23it [00:00, 26.23it/s]\u001b[A\n",
      "27it [00:01, 27.77it/s]\u001b[A\n",
      "31it [00:01, 29.66it/s]\u001b[A\n",
      "35it [00:01, 31.24it/s]\u001b[A\n",
      "39it [00:01, 32.46it/s]\u001b[A\n",
      "43it [00:01, 28.98it/s]\u001b[A\n",
      "47it [00:01, 27.49it/s]\u001b[A\n",
      "51it [00:01, 29.15it/s]\u001b[A\n",
      "55it [00:01, 27.83it/s]\u001b[A\n",
      "58it [00:02, 26.47it/s]\u001b[A\n",
      "62it [00:02, 28.62it/s]\u001b[A\n",
      "64it [00:02, 26.91it/s]\u001b[A\n",
      "  0%|          | 0/4 [00:00<?, ?it/s]\u001b[A\n",
      " 25%|██▌       | 1/4 [00:11<00:33, 11.14s/it]\u001b[A\n",
      " 50%|█████     | 2/4 [00:21<00:21, 10.94s/it]\u001b[A\n",
      " 75%|███████▌  | 3/4 [00:32<00:10, 10.94s/it]\u001b[A\n",
      "100%|██████████| 4/4 [00:43<00:00, 10.90s/it]\u001b[A"
     ]
    }
   ],
   "source": [
    "i = 24\n",
    "cProfile.run(\"_run_thread(path, name, indices_chunks[i], i, id_chunks_disk, id_chunks_bulge, id_chunks_star)\",\n",
    "             filename='prof.dat')"
   ]
  },
  {
   "cell_type": "code",
   "execution_count": 47,
   "metadata": {
    "collapsed": true
   },
   "outputs": [],
   "source": [
    "sn = read_snap(0, 0, parttype=[2, 3])"
   ]
  },
  {
   "cell_type": "code",
   "execution_count": 49,
   "metadata": {},
   "outputs": [
    {
     "data": {
      "text/plain": [
       "7518464"
      ]
     },
     "execution_count": 49,
     "metadata": {},
     "output_type": "execute_result"
    }
   ],
   "source": [
    "sn.NumPart_Total[2] + sn.NumPart_Total[3]"
   ]
  },
  {
   "cell_type": "code",
   "execution_count": 64,
   "metadata": {
    "collapsed": true
   },
   "outputs": [],
   "source": [
    "t = h5.File('/n/home01/abeane/starbar/plots/bar_orbits/data/bar_orbit_phantom-vacuum-Sg20-Rc3.5-lvl4/bar_orbit_phantom-vacuum-Sg20-Rc3.5-lvl4.50.hdf5')"
   ]
  },
  {
   "cell_type": "code",
   "execution_count": 65,
   "metadata": {},
   "outputs": [
    {
     "data": {
      "text/plain": [
       "47604429"
      ]
     },
     "execution_count": 65,
     "metadata": {},
     "output_type": "execute_result"
    }
   ],
   "source": [
    "t['id_list'][16000]"
   ]
  },
  {
   "cell_type": "code",
   "execution_count": 66,
   "metadata": {},
   "outputs": [
    {
     "data": {
      "text/plain": [
       "array([[1.01600000e+03, 8.02276871e-01, 8.27006903e-01, 2.82978373e+02,\n",
       "        3.94348727e-01, 6.60645161e+01],\n",
       "       [1.01900000e+03, 8.13126471e-01, 8.79868693e-01, 2.82942535e+02,\n",
       "        3.95466658e-01, 6.60645161e+01],\n",
       "       [1.02300000e+03, 8.77403635e-01, 7.54585575e-01, 2.82939149e+02,\n",
       "        3.74116267e-01, 6.60645161e+01],\n",
       "       ...,\n",
       "       [1.59300000e+03, 9.56763305e-01, 2.13942696e+01, 2.93763134e+02,\n",
       "        9.88629475e-02, 1.02400000e+02],\n",
       "       [1.59500000e+03, 9.56763305e-01, 2.13942696e+01, 2.93763134e+02,\n",
       "        9.88629475e-02, 1.02400000e+02],\n",
       "       [1.59900000e+03, 9.56763305e-01, 2.13942696e+01, 2.93763134e+02,\n",
       "        9.88629475e-02, 4.99512195e+01]])"
      ]
     },
     "execution_count": 66,
     "metadata": {},
     "output_type": "execute_result"
    }
   ],
   "source": [
    "t['bar_metrics']['47604429']"
   ]
  },
  {
   "cell_type": "code",
   "execution_count": 16,
   "metadata": {},
   "outputs": [],
   "source": [
    "t = h5.File('/n/home01/abeane/starbar/plots/phase_space/data/phantom-vacuum-Sg20-Rc3.5-lvl3-old/phase_space_phantom-vacuum-Sg20-Rc3.5-lvl3.3.hdf5', \n",
    "            mode='r')"
   ]
  },
  {
   "cell_type": "code",
   "execution_count": 23,
   "metadata": {},
   "outputs": [
    {
     "name": "stdout",
     "output_type": "stream",
     "text": [
      "[[[0. 0. 0.]\n",
      "  [0. 0. 0.]\n",
      "  [0. 0. 0.]\n",
      "  ...\n",
      "  [0. 0. 0.]\n",
      "  [0. 0. 0.]\n",
      "  [0. 0. 0.]]\n",
      "\n",
      " [[0. 0. 0.]\n",
      "  [0. 0. 0.]\n",
      "  [0. 0. 0.]\n",
      "  ...\n",
      "  [0. 0. 0.]\n",
      "  [0. 0. 0.]\n",
      "  [0. 0. 0.]]\n",
      "\n",
      " [[0. 0. 0.]\n",
      "  [0. 0. 0.]\n",
      "  [0. 0. 0.]\n",
      "  ...\n",
      "  [0. 0. 0.]\n",
      "  [0. 0. 0.]\n",
      "  [0. 0. 0.]]\n",
      "\n",
      " [[0. 0. 0.]\n",
      "  [0. 0. 0.]\n",
      "  [0. 0. 0.]\n",
      "  ...\n",
      "  [0. 0. 0.]\n",
      "  [0. 0. 0.]\n",
      "  [0. 0. 0.]]\n",
      "\n",
      " [[0. 0. 0.]\n",
      "  [0. 0. 0.]\n",
      "  [0. 0. 0.]\n",
      "  ...\n",
      "  [0. 0. 0.]\n",
      "  [0. 0. 0.]\n",
      "  [0. 0. 0.]]\n",
      "\n",
      " [[0. 0. 0.]\n",
      "  [0. 0. 0.]\n",
      "  [0. 0. 0.]\n",
      "  ...\n",
      "  [0. 0. 0.]\n",
      "  [0. 0. 0.]\n",
      "  [0. 0. 0.]]]\n"
     ]
    }
   ],
   "source": [
    "print(t['PartType4']['Velocities'][:6,:,:])"
   ]
  },
  {
   "cell_type": "code",
   "execution_count": 3,
   "metadata": {},
   "outputs": [
    {
     "name": "stderr",
     "output_type": "stream",
     "text": [
      "100%|██████████| 208/208 [09:38<00:00,  3.08s/it]\n"
     ]
    }
   ],
   "source": [
    "base = '/n/home01/abeane/starbar/plots/phase_space/data/phantom-vacuum-Sg20-Rc3.5-lvl3-old/'\n",
    "base = base + 'phase_space_phantom-vacuum-Sg20-Rc3.5-lvl3.'\n",
    "for i in tqdm(range(48, 256)):\n",
    "    fname = base + str(i) + '.hdf5'\n",
    "    t = h5.File(fname, mode='r+')\n",
    "    for key in ['Coordinates', 'Velocities', 'Acceleration']:\n",
    "        t['PartType4'][key][:6,:,:] = np.nan\n",
    "    t.close()"
   ]
  },
  {
   "cell_type": "code",
   "execution_count": null,
   "metadata": {
    "collapsed": true
   },
   "outputs": [],
   "source": []
  }
 ],
 "metadata": {
  "kernelspec": {
   "display_name": "Python 3",
   "language": "python",
   "name": "python3"
  },
  "language_info": {
   "codemirror_mode": {
    "name": "ipython",
    "version": 3
   },
   "file_extension": ".py",
   "mimetype": "text/x-python",
   "name": "python",
   "nbconvert_exporter": "python",
   "pygments_lexer": "ipython3",
   "version": "3.6.3"
  }
 },
 "nbformat": 4,
 "nbformat_minor": 2
}
