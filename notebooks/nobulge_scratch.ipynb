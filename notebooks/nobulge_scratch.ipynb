{
 "cells": [
  {
   "cell_type": "code",
   "execution_count": 1,
   "metadata": {
    "collapsed": true
   },
   "outputs": [],
   "source": [
    "import numpy as np\n",
    "import arepo\n",
    "import matplotlib.pyplot as plt\n",
    "from tqdm import tqdm_notebook as tqdm"
   ]
  },
  {
   "cell_type": "code",
   "execution_count": 22,
   "metadata": {
    "collapsed": true
   },
   "outputs": [],
   "source": [
    "sim_list = ['fRpoly-Rcore1.0', 'fR1.2-fg0.1-MB0.002-MD0.05-JD0.0521', 'fRpoly-Rcore1.0-MB0.004', 'fR1.2-fg0.1-noMB-MD0.05']\n",
    "\n",
    "def read_snap(idx, sim_idx, lvl='lvl3', parttype=[0], fields=['Coordinates', 'Masses', 'Velocities'],\n",
    "              basepath = '/n/holyscratch01/hernquist_lab/abeane/starbar_runs/runs/'):\n",
    "    fname = basepath + sim_list[sim_idx] + '/' + lvl + '/output'\n",
    "    return arepo.Snapshot(fname, idx, parttype=parttype, fields=fields, combineFiles=True)\n",
    "\n",
    "def read_sfr(sim_idx, lvl='lvl3', basepath = '/n/holyscratch01/hernquist_lab/abeane/starbar_runs/runs/'):\n",
    "    fname = basepath + sim_list[sim_idx] + '/' + lvl + '/output/sfr.txt'\n",
    "    return np.genfromtxt(fname)"
   ]
  },
  {
   "cell_type": "code",
   "execution_count": 35,
   "metadata": {
    "collapsed": true
   },
   "outputs": [],
   "source": [
    "snap_list = [read_snap(48, i, fields=['Coordinates', 'Masses', 'Velocities', 'VirialParameter', 'Density']) for i in [0, 1, 2, 3]]"
   ]
  },
  {
   "cell_type": "code",
   "execution_count": 36,
   "metadata": {
    "collapsed": true
   },
   "outputs": [],
   "source": [
    "center = np.array([200, 200, 200])\n",
    "rcut = 1.0\n",
    "\n",
    "key_list = []\n",
    "for snap in snap_list:\n",
    "    r = np.linalg.norm(snap.part0.pos - center, axis=1)\n",
    "    key = np.where(r < rcut)[0]\n",
    "    key_list.append(key)"
   ]
  },
  {
   "cell_type": "code",
   "execution_count": 38,
   "metadata": {},
   "outputs": [
    {
     "name": "stdout",
     "output_type": "stream",
     "text": [
      "0 0.53598887 0.17425933 0.012361895\n",
      "1 0.59261614 0.52403873 0.03288025\n",
      "2 0.5333857 0.17261437 0.010125414\n",
      "3 0.6327362 0.57148 0.038159467\n"
     ]
    }
   ],
   "source": [
    "sf_thresh = 0.301302 # 100 cm^-3\n",
    "\n",
    "for i in [0, 1, 2, 3]:\n",
    "    bool_virial = snap_list[i].part0.VirialParameter[key_list[i]] < 1\n",
    "    bool_sf = np.logical_and(bool_virial, snap_list[i].part0.Density[key_list[i]] > sf_thresh)\n",
    "    key_virial = np.where(bool_virial)[0]\n",
    "    key_sf = np.where(bool_sf)[0]\n",
    "    mass_virial = np.sum(snap_list[i].part0.Masses[key_list[i]][key_virial])\n",
    "    mass_sf = np.sum(snap_list[i].part0.Masses[key_list[i]][key_sf])\n",
    "    mass_tot = np.sum(snap_list[i].part0.Masses[key_list[i]])\n",
    "    print(i, mass_virial/mass_tot, mass_sf/mass_tot, mass_tot)"
   ]
  },
  {
   "cell_type": "code",
   "execution_count": 14,
   "metadata": {},
   "outputs": [
    {
     "data": {
      "image/png": "[encoded data removed]",
      "text/plain": [
       "<Figure size 432x288 with 1 Axes>"
      ]
     },
     "metadata": {},
     "output_type": "display_data"
    }
   ],
   "source": [
    "plt.hist(snap_list[0].part0.VirialParameter[key_list[0]], bins=np.linspace(0, 2, 100), alpha=0.5)\n",
    "plt.hist(snap_list[1].part0.VirialParameter[key_list[1]], bins=np.linspace(0, 2, 100), alpha=0.5)\n",
    "plt.xlim(0, 2)\n",
    "plt.show()"
   ]
  },
  {
   "cell_type": "code",
   "execution_count": null,
   "metadata": {
    "collapsed": true
   },
   "outputs": [],
   "source": []
  }
 ],
 "metadata": {
  "kernelspec": {
   "display_name": "Python 3",
   "language": "python",
   "name": "python3"
  },
  "language_info": {
   "codemirror_mode": {
    "name": "ipython",
    "version": 3
   },
   "file_extension": ".py",
   "mimetype": "text/x-python",
   "name": "python",
   "nbconvert_exporter": "python",
   "pygments_lexer": "ipython3",
   "version": "3.6.3"
  }
 },
 "nbformat": 4,
 "nbformat_minor": 2
}
