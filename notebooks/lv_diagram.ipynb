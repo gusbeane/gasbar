{
 "cells": [
  {
   "cell_type": "code",
   "execution_count": 1,
   "metadata": {},
   "outputs": [
    {
     "data": {
      "text/plain": [
       "'Length unit: 1 Kpc, velocity unit: 1 km/s, time unit: 977.793 Myr, mass unit: 1e+10 Msun, gravitational constant: 43009.2'"
      ]
     },
     "execution_count": 1,
     "metadata": {},
     "output_type": "execute_result"
    }
   ],
   "source": [
    "import agama\n",
    "import arepo\n",
    "import h5py as h5\n",
    "import numpy as np\n",
    "import matplotlib.pyplot as plt\n",
    "from tqdm import tqdm_notebook as tqdm\n",
    "import matplotlib as mpl\n",
    "\n",
    "from scipy.ndimage import gaussian_filter\n",
    "\n",
    "from numba import njit\n",
    "\n",
    "agama.setUnits(mass=1E10, length=1, velocity=1)"
   ]
  },
  {
   "cell_type": "code",
   "execution_count": 2,
   "metadata": {
    "collapsed": true
   },
   "outputs": [],
   "source": [
    "@njit\n",
    "def my_mult(mass, vel):\n",
    "    out = np.zeros((len(mass), 3))\n",
    "    for i in range(len(mass)):\n",
    "        out[i][0] = mass[i] * vel[i][0] \n",
    "        out[i][1] = mass[i] * vel[i][1]\n",
    "        out[i][2] = mass[i] * vel[i][2]\n",
    "    return out"
   ]
  },
  {
   "cell_type": "code",
   "execution_count": 3,
   "metadata": {
    "collapsed": true
   },
   "outputs": [],
   "source": [
    "sim_list = ['Nbody', 'phantom-vacuum-Sg20-Rc3.5']\n",
    "\n",
    "basepath = '/n/holystore01/LABS/hernquist_lab/Users/abeane/starbar_runs/runs/'\n",
    "\n",
    "def read_snap(idx, sim_idx, lvl='lvl3', parttype=[0], fields=['Coordinates', 'Masses', 'Velocities', 'ParticleIDs', 'Potential'],\n",
    "              basepath = basepath):\n",
    "    fname = basepath + sim_list[sim_idx] + '/' + lvl + '/output'\n",
    "    return arepo.Snapshot(fname, idx, parttype=parttype, fields=fields, combineFiles=True)\n",
    "\n",
    "def read_sfr(sim_idx, lvl='lvl3', basepath = basepath):\n",
    "    fname = basepath + sim_list[sim_idx] + '/' + lvl + '/output/sfr.txt'\n",
    "    return np.genfromtxt(fname)\n",
    "\n",
    "def read_fourier(sim_idx, lvl='lvl3', basepath='/n/home01/abeane/starbar/plots/'):\n",
    "    sim = sim_list[sim_idx]\n",
    "    f = h5.File(basepath+'/fourier_component/data/fourier_'+sim+'-'+lvl+'.hdf5', mode='r')\n",
    "    return f"
   ]
  },
  {
   "cell_type": "code",
   "execution_count": 127,
   "metadata": {},
   "outputs": [],
   "source": [
    "sn = read_snap(300, 1, 'lvl2', parttype=None, fields=None)"
   ]
  },
  {
   "cell_type": "code",
   "execution_count": 128,
   "metadata": {
    "collapsed": true
   },
   "outputs": [],
   "source": [
    "base = '/n/home01/abeane/starbar/plots/bar_prop/data/'\n",
    "\n",
    "bar_prop_N = h5.File(base + 'bar_prop_Nbody-lvl3.hdf5', mode='r')\n",
    "bar_prop_S = h5.File(base + 'bar_prop_phantom-vacuum-Sg20-Rc3.5-lvl3.hdf5', mode='r')"
   ]
  },
  {
   "cell_type": "code",
   "execution_count": 129,
   "metadata": {
    "collapsed": true
   },
   "outputs": [],
   "source": [
    "sun_angle = 20. * (np.pi / 180.)\n",
    "# bangle = bar_prop_S['bar_angle'][300] + sun_angle\n",
    "bangle = 22. * (np.pi / 180.) + sun_angle"
   ]
  },
  {
   "cell_type": "code",
   "execution_count": null,
   "metadata": {
    "collapsed": true
   },
   "outputs": [],
   "source": [
    "def rotate_pos(pos, ang):\n",
    "\n",
    "    Rmat = np.array([[np.cos(ang), -np.sin(ang), 0.0],\n",
    "                     [np.sin(ang),  np.cos(ang), 0.0],\n",
    "                     [0.0,         0.0,          1.0]])\n",
    "    \n",
    "    pos = np.swapaxes(pos, 0, 1)\n",
    "    pos = np.matmul(Rmat, pos)\n",
    "    pos = np.swapaxes(pos, 0, 1)\n",
    "    \n",
    "    return pos"
   ]
  },
  {
   "cell_type": "code",
   "execution_count": null,
   "metadata": {},
   "outputs": [],
   "source": [
    "nres = 512\n",
    "\n",
    "range_xy = [[-10, 10], [-10, 10]]\n",
    "center = np.array([200., 200., 200.])\n",
    "\n",
    "disk_pos = sn.part2.pos.value - center\n",
    "disk_pos = rotate_pos(disk_pos, -bangle)\n",
    "\n",
    "x = disk_pos[:,0]\n",
    "y = disk_pos[:,1]\n",
    "heatmap_xy, _, _ = np.histogram2d(x, y, bins=(nres, nres), range=range_xy)\n",
    "\n",
    "extent = [range_xy[0][0], range_xy[0][1], range_xy[1][0], range_xy[1][1]]\n",
    "\n",
    "fig, ax = plt.subplots(1, 1)\n",
    "\n",
    "ax.imshow(heatmap_xy.T, extent=extent, origin='lower', norm=mpl.colors.LogNorm())\n",
    "ax.set_aspect('equal')\n",
    "fig.tight_layout()\n",
    "\n",
    "plt.show()\n"
   ]
  },
  {
   "cell_type": "code",
   "execution_count": null,
   "metadata": {},
   "outputs": [],
   "source": [
    "nres = 512\n",
    "\n",
    "range_xy = [[-10, 10], [-10, 10]]\n",
    "center = np.array([200., 200., 200.])\n",
    "\n",
    "gas_pos = sn.part0.pos.value - center\n",
    "gas_pos = rotate_pos(gas_pos, -bangle)\n",
    "\n",
    "x = gas_pos[:,0]\n",
    "y = gas_pos[:,2]\n",
    "heatmap_xy, _, _ = np.histogram2d(x, y, bins=(nres, nres), range=range_xy, weights=sn.part0.MolecularHFrac*sn.part0.mass.value)\n",
    "\n",
    "extent = [range_xy[0][0], range_xy[0][1], range_xy[1][0], range_xy[1][1]]\n",
    "\n",
    "fig, ax = plt.subplots(1, 1)\n",
    "\n",
    "ax.imshow(heatmap_xy.T, extent=extent, origin='lower', norm=mpl.colors.LogNorm())\n",
    "ax.set_aspect('equal')\n",
    "fig.tight_layout()\n",
    "\n",
    "plt.show()\n"
   ]
  },
  {
   "cell_type": "code",
   "execution_count": null,
   "metadata": {
    "collapsed": true
   },
   "outputs": [],
   "source": [
    "import healpy as hp"
   ]
  },
  {
   "cell_type": "code",
   "execution_count": null,
   "metadata": {
    "collapsed": true
   },
   "outputs": [],
   "source": [
    "sun_pos = np.array([-8.2, 0.0, 0.0])"
   ]
  },
  {
   "cell_type": "code",
   "execution_count": null,
   "metadata": {
    "collapsed": true
   },
   "outputs": [],
   "source": [
    "gas_pos = sn.part0.pos.value - center\n",
    "gas_pos = rotate_pos(gas_pos, -bangle)\n",
    "\n",
    "drvec = gas_pos - sun_pos\n",
    "\n",
    "r = np.linalg.norm(drvec, axis=1)\n",
    "theta = np.arccos(drvec[:,2]/r)\n",
    "phi = np.arctan2(drvec[:,1], drvec[:,0])\n"
   ]
  },
  {
   "cell_type": "code",
   "execution_count": null,
   "metadata": {
    "collapsed": true
   },
   "outputs": [],
   "source": [
    "nside = 64\n",
    "\n",
    "pix = hp.pixelfunc.ang2pix(nside, theta, phi)"
   ]
  },
  {
   "cell_type": "code",
   "execution_count": null,
   "metadata": {
    "collapsed": true
   },
   "outputs": [],
   "source": [
    "nside = 16\n",
    "pix = hp.pixelfunc.ang2pix(nside, theta, phi)\n",
    "npix = hp.pixelfunc.nside2npix(nside)\n",
    "gas_plot = np.zeros(npix)\n",
    "gas_plot[pix] += sn.part0.MolecularHFrac*sn.part0.mass.value / r**2"
   ]
  },
  {
   "cell_type": "code",
   "execution_count": null,
   "metadata": {
    "collapsed": true
   },
   "outputs": [],
   "source": [
    "gas_plot[gas_plot==0] = np.min(gas_plot)"
   ]
  },
  {
   "cell_type": "code",
   "execution_count": null,
   "metadata": {},
   "outputs": [],
   "source": [
    "hp.mollview(gas_plot, norm='log', min=1E-09, max=1E-06)\n",
    "plt.show()"
   ]
  },
  {
   "cell_type": "code",
   "execution_count": null,
   "metadata": {
    "collapsed": true
   },
   "outputs": [],
   "source": [
    "npix = hp.pixelfunc.nside2npix(nside)\n",
    "gas_plot = np.zeros(npix)\n",
    "gas_plot[pix] += (1-sn.part0.MolecularHFrac)*sn.part0.mass.value / r**2"
   ]
  },
  {
   "cell_type": "code",
   "execution_count": null,
   "metadata": {
    "collapsed": true
   },
   "outputs": [],
   "source": [
    "gas_plot[gas_plot==0] = np.min(gas_plot)"
   ]
  },
  {
   "cell_type": "code",
   "execution_count": null,
   "metadata": {},
   "outputs": [],
   "source": [
    "hp.mollview(gas_plot, norm='log', min=1E-09, max=1E-06)\n",
    "plt.show()"
   ]
  },
  {
   "cell_type": "code",
   "execution_count": null,
   "metadata": {},
   "outputs": [],
   "source": [
    "disk_x = sn.part2.pos.value - center\n",
    "disk_v = sn.part2.vel.value\n",
    "\n",
    "disk_dr = disk_x - sun_pos\n",
    "disk_r = np.linalg.norm(disk_dr, axis=1)\n",
    "\n",
    "vLRS = np.mean(disk_v[disk_r < 0.2])\n",
    "print(vLSR)"
   ]
  },
  {
   "cell_type": "code",
   "execution_count": null,
   "metadata": {
    "collapsed": true
   },
   "outputs": [],
   "source": [
    "gas_x = sn.part0.pos.value - center\n",
    "gas_v = sn.part0.vel.value\n",
    "\n",
    "gas_dr = gas_x - sun_pos\n",
    "gas_r = np.linalg.norm(gas_dr, axis=1)\n",
    "gas_rhat = my_mult(1./gas_r, gas_dr)\n",
    "\n",
    "phi = np.arctan2(gas_dr[:,1], gas_dr[:,0])\n",
    "theta = np.arccos(gas_dr[:,2]/gas_r)\n",
    "\n",
    "gas_v = gas_v - vLSR\n",
    "\n",
    "gas_vr = gas_rhat[:,0] * gas_v[:,0] + gas_rhat[:,1] * gas_v[:,1] + gas_rhat[:,2] * gas_v[:,2]"
   ]
  },
  {
   "cell_type": "code",
   "execution_count": null,
   "metadata": {},
   "outputs": [],
   "source": [
    "gas_v = sn.part0.vel.value\n",
    "\n",
    "key = np.argmin(np.linalg.norm(gas_x, axis=1))\n",
    "print(gas_rhat[key])\n",
    "print(gas_vr[key])\n",
    "print(gas_v[key])"
   ]
  },
  {
   "cell_type": "code",
   "execution_count": null,
   "metadata": {},
   "outputs": [],
   "source": [
    "nres = 512\n",
    "\n",
    "range_xy = [[-180, 180], [-35, 35]]\n",
    "\n",
    "x = -phi * 180 / np.pi\n",
    "y = (theta - np.pi/2.) * 180/np.pi\n",
    "heatmap_xy, _, _ = np.histogram2d(x, y, bins=(nres, nres), range=range_xy, weights=sn.part0.mass.value)\n",
    "\n",
    "heatmap_xy[heatmap_xy==0.0] = np.min(heatmap_xy[heatmap_xy!=0.0])\n",
    "\n",
    "extent = [range_xy[0][0], range_xy[0][1], range_xy[1][0], range_xy[1][1]]\n",
    "\n",
    "fig, ax = plt.subplots(1, 1, figsize=(12, 3))\n",
    "\n",
    "ax.imshow(heatmap_xy.T, extent=extent, origin='lower', norm=mpl.colors.LogNorm())\n",
    "ax.set_aspect('equal')\n",
    "fig.tight_layout()\n",
    "\n",
    "ax.set(xlabel='l [deg]', ylabel='b [deg]')\n",
    "\n",
    "plt.show()\n"
   ]
  },
  {
   "cell_type": "code",
   "execution_count": null,
   "metadata": {},
   "outputs": [],
   "source": [
    "nres = 512\n",
    "\n",
    "range_xy = [[-180, 180], [-300, 300]]\n",
    "\n",
    "x = phi*180/np.pi\n",
    "y = gas_vr\n",
    "heatmap_xy, _, _ = np.histogram2d(x, y, bins=(nres, nres), range=range_xy)\n",
    "\n",
    "heatmap_xy[heatmap_xy==0.0] = np.min(heatmap_xy[heatmap_xy!=0.0])\n",
    "\n",
    "extent = [range_xy[0][0], range_xy[0][1], range_xy[1][0], range_xy[1][1]]\n",
    "\n",
    "fig, ax = plt.subplots(1, 1, figsize=(12, 3))\n",
    "\n",
    "ax.imshow(heatmap_xy.T, extent=extent, origin='lower', norm=mpl.colors.LogNorm())\n",
    "ax.set_aspect('auto')\n",
    "fig.tight_layout()\n",
    "\n",
    "ax.set(xlabel='l [deg]', ylabel='v_r [km/s]')\n",
    "\n",
    "plt.show()\n"
   ]
  },
  {
   "cell_type": "code",
   "execution_count": null,
   "metadata": {
    "collapsed": true
   },
   "outputs": [],
   "source": []
  }
 ],
 "metadata": {
  "kernelspec": {
   "display_name": "Python 3",
   "language": "python",
   "name": "python3"
  },
  "language_info": {
   "codemirror_mode": {
    "name": "ipython",
    "version": 3
   },
   "file_extension": ".py",
   "mimetype": "text/x-python",
   "name": "python",
   "nbconvert_exporter": "python",
   "pygments_lexer": "ipython3",
   "version": "3.6.3"
  }
 },
 "nbformat": 4,
 "nbformat_minor": 2
}
